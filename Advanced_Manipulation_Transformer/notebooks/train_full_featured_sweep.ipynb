{
 "cells": [
  {
   "cell_type": "markdown",
   "metadata": {},
   "source": [
    "# Advanced Manipulation Transformer - W&B Hyperparameter Sweep\n",
    "\n",
    "This notebook implements a Weights & Biases sweep for hyperparameter optimization, focusing on:\n",
    "- Augmentation parameters\n",
    "- Dropout\n",
    "- Learning rate scheduler\n",
    "- Loss weights\n",
    "- Diversity margin\n",
    "- Per-joint weighting\n",
    "- Fingertip weight\n",
    "- Learning rate\n",
    "\n",
    "Configuration:\n",
    "- 7 epochs per run\n",
    "- 20,000 training samples\n",
    "- 2,000 validation samples"
   ]
  },
  {
   "cell_type": "markdown",
   "metadata": {},
   "source": [
    "## 1. Environment Setup"
   ]
  },
  {
   "cell_type": "code",
   "execution_count": 1,
   "metadata": {},
   "outputs": [
    {
     "name": "stdout",
     "output_type": "stream",
     "text": [
      "PyTorch version: 2.5.0+cu124\n",
      "CUDA available: True\n",
      "GPU: NVIDIA H200\n",
      "GPU Memory: 139.7 GB\n"
     ]
    }
   ],
   "source": [
    "# Standard imports\n",
    "import os\n",
    "import sys\n",
    "import torch\n",
    "import torch.nn as nn\n",
    "import numpy as np\n",
    "import wandb\n",
    "from pathlib import Path\n",
    "from omegaconf import OmegaConf\n",
    "import warnings\n",
    "warnings.filterwarnings('ignore')\n",
    "\n",
    "# Set environment variables\n",
    "os.environ['DEX_YCB_DIR'] = '/home/n231/231nProjectV2/dex-ycb-toolkit/data'\n",
    "\n",
    "# Add project root to path\n",
    "project_root = Path('.').absolute().parent\n",
    "sys.path.insert(0, str(project_root))\n",
    "\n",
    "print(f\"PyTorch version: {torch.__version__}\")\n",
    "print(f\"CUDA available: {torch.cuda.is_available()}\")\n",
    "if torch.cuda.is_available():\n",
    "    print(f\"GPU: {torch.cuda.get_device_name(0)}\")\n",
    "    print(f\"GPU Memory: {torch.cuda.get_device_properties(0).total_memory / 1024**3:.1f} GB\")"
   ]
  },
  {
   "cell_type": "markdown",
   "metadata": {},
   "source": [
    "## 2. Define Sweep Configuration"
   ]
  },
  {
   "cell_type": "code",
   "execution_count": 2,
   "metadata": {},
   "outputs": [
    {
     "name": "stdout",
     "output_type": "stream",
     "text": [
      "Sweep configuration defined:\n",
      "Method: bayes\n",
      "Metric: val/hand_mpjpe (minimize)\n",
      "Number of parameters: 20\n"
     ]
    }
   ],
   "source": [
    "# Define sweep configuration\n",
    "sweep_config = {\n",
    "    'method': 'bayes',  # Bayesian optimization\n",
    "    'metric': {\n",
    "        'name': 'val/hand_mpjpe',\n",
    "        'goal': 'minimize'\n",
    "    },\n",
    "    'parameters': {\n",
    "        # Batch size\n",
    "        'batch_size': {\n",
    "            'values': [32,64,128,256]\n",
    "        },\n",
    "        \n",
    "        # Dropout\n",
    "        'dropout': {\n",
    "            'values': [0.1, 0.15, 0.2, 0.25, 0.3]\n",
    "        },\n",
    "        \n",
    "        # Scheduler type\n",
    "        'scheduler_type': {\n",
    "            'values': ['cosine', 'cosine_warmup', 'step', 'exponential']\n",
    "        },\n",
    "        \n",
    "        # Augmentation parameters\n",
    "        'aug_rotation_range': {\n",
    "            'distribution': 'uniform',\n",
    "            'min': 5.0,\n",
    "            'max': 15.0\n",
    "        },\n",
    "        'aug_scale_min': {\n",
    "            'distribution': 'uniform',\n",
    "            'min': 0.7,\n",
    "            'max': 0.9\n",
    "        },\n",
    "        'aug_scale_max': {\n",
    "            'distribution': 'uniform',\n",
    "            'min': 1.1,\n",
    "            'max': 1.3\n",
    "        },\n",
    "        'aug_translation_std': {\n",
    "            'distribution': 'uniform',\n",
    "            'min': 0.02,\n",
    "            'max': 0.1\n",
    "        },\n",
    "        'aug_color_jitter': {\n",
    "            'distribution': 'uniform',\n",
    "            'min': 0.1,\n",
    "            'max': 0.3\n",
    "        },\n",
    "        'aug_joint_noise_std': {\n",
    "            'distribution': 'uniform',\n",
    "            'min': 0.002,\n",
    "            'max': 0.01\n",
    "        },\n",
    "        \n",
    "        # Loss weights\n",
    "        'loss_weight_hand_coarse': {\n",
    "            'distribution': 'uniform',\n",
    "            'min': 0.8,\n",
    "            'max': 1.2\n",
    "        },\n",
    "        'loss_weight_hand_refined': {\n",
    "            'distribution': 'uniform',\n",
    "            'min': 1.0,\n",
    "            'max': 1.5\n",
    "        },\n",
    "        'loss_weight_object_position': {\n",
    "            'distribution': 'uniform',\n",
    "            'min': 0.8,\n",
    "            'max': 1.2\n",
    "        },\n",
    "        'loss_weight_object_rotation': {\n",
    "            'distribution': 'uniform',\n",
    "            'min': 0.3,\n",
    "            'max': 0.7\n",
    "        },\n",
    "        'loss_weight_contact': {\n",
    "            'distribution': 'uniform',\n",
    "            'min': 0.2,\n",
    "            'max': 0.5\n",
    "        },\n",
    "        'loss_weight_physics': {\n",
    "            'distribution': 'uniform',\n",
    "            'min': 0.05,\n",
    "            'max': 0.2\n",
    "        },\n",
    "        'loss_weight_diversity': {\n",
    "            'distribution': 'log_uniform_values',\n",
    "            'min': 0.005,\n",
    "            'max': 0.05\n",
    "        },\n",
    "        'loss_weight_reprojection': {\n",
    "            'distribution': 'uniform',\n",
    "            'min': 0.3,\n",
    "            'max': 0.7\n",
    "        },\n",
    "        \n",
    "        # Loss configuration\n",
    "        'diversity_margin': {\n",
    "            'distribution': 'uniform',\n",
    "            'min': 0.005,\n",
    "            'max': 0.02\n",
    "        },\n",
    "        'per_joint_weighting': {\n",
    "            'values': [True, False]\n",
    "        },\n",
    "        'fingertip_weight': {\n",
    "            'distribution': 'uniform',\n",
    "            'min': 1.2,\n",
    "            'max': 2.0\n",
    "        }\n",
    "    }\n",
    "}\n",
    "\n",
    "print(\"Sweep configuration defined:\")\n",
    "print(f\"Method: {sweep_config['method']}\")\n",
    "print(f\"Metric: {sweep_config['metric']['name']} ({sweep_config['metric']['goal']})\")\n",
    "print(f\"Number of parameters: {len(sweep_config['parameters'])}\")"
   ]
  },
  {
   "cell_type": "markdown",
   "metadata": {},
   "source": [
    "## 3. Define Training Function"
   ]
  },
  {
   "cell_type": "code",
   "execution_count": 3,
   "metadata": {},
   "outputs": [
    {
     "name": "stdout",
     "output_type": "stream",
     "text": [
      "Training function defined!\n"
     ]
    }
   ],
   "source": [
    "def train():\n",
    "    # Initialize wandb\n",
    "    run = wandb.init()\n",
    "    \n",
    "    # Load base configuration\n",
    "    config = OmegaConf.load('../configs/default_config.yaml')\n",
    "    \n",
    "    # Override with sweep parameters\n",
    "    # Learning rate, batch size, and dropout\n",
    "    config.training.batch_size = wandb.config.batch_size  # Now from sweep\n",
    "    config.model.dropout = wandb.config.dropout\n",
    "    \n",
    "    # Augmentation parameters\n",
    "    config.data.augmentation.rotation_range = wandb.config.aug_rotation_range\n",
    "    config.data.augmentation.scale_range = [\n",
    "        wandb.config.aug_scale_min,\n",
    "        wandb.config.aug_scale_max\n",
    "    ]\n",
    "    config.data.augmentation.translation_std = wandb.config.aug_translation_std\n",
    "    config.data.augmentation.color_jitter = wandb.config.aug_color_jitter\n",
    "    config.data.augmentation.joint_noise_std = wandb.config.aug_joint_noise_std\n",
    "    \n",
    "    # Loss weights\n",
    "    config.loss.loss_weights.hand_coarse = wandb.config.loss_weight_hand_coarse\n",
    "    config.loss.loss_weights.hand_refined = wandb.config.loss_weight_hand_refined\n",
    "    config.loss.loss_weights.object_position = wandb.config.loss_weight_object_position\n",
    "    config.loss.loss_weights.object_rotation = wandb.config.loss_weight_object_rotation\n",
    "    config.loss.loss_weights.contact = wandb.config.loss_weight_contact\n",
    "    config.loss.loss_weights.physics = wandb.config.loss_weight_physics\n",
    "    config.loss.loss_weights.diversity = wandb.config.loss_weight_diversity\n",
    "    config.loss.loss_weights.reprojection = wandb.config.loss_weight_reprojection\n",
    "    \n",
    "    # Loss configuration\n",
    "    config.loss.diversity_margin = wandb.config.diversity_margin\n",
    "    config.loss.per_joint_weighting = wandb.config.per_joint_weighting\n",
    "    config.loss.fingertip_weight = wandb.config.fingertip_weight\n",
    "    \n",
    "    # Fixed parameters for sweep\n",
    "    config.training.num_epochs = 7  # Fixed at 7 epochs\n",
    "    config.training.use_wandb = True\n",
    "    config.training.use_amp = True\n",
    "    config.training.use_bf16 = True\n",
    "    \n",
    "    # Device\n",
    "    device = torch.device('cuda' if torch.cuda.is_available() else 'cpu')\n",
    "    \n",
    "    # Import components\n",
    "    from models.unified_model import UnifiedManipulationTransformer\n",
    "    from training.losses import ComprehensiveLoss\n",
    "    from data.gpu_cached_dataset import create_gpu_cached_dataloaders\n",
    "    from solutions.mode_collapse import ModeCollapsePreventionModule\n",
    "    from optimizations.pytorch_native_optimization import PyTorchNativeOptimizer\n",
    "    \n",
    "    try:\n",
    "        # Create GPU-cached dataloaders with fixed sizes\n",
    "        print(f\"Creating dataloaders with 20k train, 2k val samples, batch_size={config.training.batch_size}...\")\n",
    "        gpu_config = {\n",
    "            'gpu_max_samples': 20000,      # Fixed at 20k\n",
    "            'gpu_max_samples_val': 2000,   # Fixed at 2k\n",
    "            'gpu_cache_path': './gpu_cache_sweep',\n",
    "            'batch_size': config.training.batch_size,  # Now using sweep parameter\n",
    "            'use_bfloat16': config.training.use_bf16,\n",
    "            'preload_dinov2': False\n",
    "        }\n",
    "        \n",
    "        train_loader, val_loader = create_gpu_cached_dataloaders(gpu_config)\n",
    "        print(f\"Dataloaders created: {len(train_loader)} train batches, {len(val_loader)} val batches\")\n",
    "        \n",
    "        # Create model\n",
    "        model = UnifiedManipulationTransformer(config.model)\n",
    "        \n",
    "        # Apply mode collapse prevention\n",
    "        mode_collapse_config = {\n",
    "            'noise_std': 0.01,\n",
    "            'drop_path_rate': 0.1,\n",
    "            'mixup_alpha': 0.2\n",
    "        }\n",
    "        model = ModeCollapsePreventionModule.wrap_model(model, mode_collapse_config)\n",
    "        \n",
    "        # Initialize weights\n",
    "        def init_weights(module):\n",
    "            if isinstance(module, (nn.Linear, nn.Conv2d)):\n",
    "                if hasattr(module, 'weight') and module.weight is not None:\n",
    "                    nn.init.xavier_uniform_(module.weight)\n",
    "                if hasattr(module, 'bias') and module.bias is not None:\n",
    "                    nn.init.constant_(module.bias, 0.01)\n",
    "        \n",
    "        for name, module in model.named_modules():\n",
    "            if 'dinov2' not in name or 'encoder.layer.' not in name:\n",
    "                init_weights(module)\n",
    "        \n",
    "        # Apply optimizations (DISABLE torch.compile to avoid errors)\n",
    "        native_optimizer = PyTorchNativeOptimizer()\n",
    "        model = native_optimizer.optimize_model(model, {'use_compile': False})\n",
    "        model = model.to(device)\n",
    "        \n",
    "        # Create optimizer with parameter groups\n",
    "        dinov2_params = []\n",
    "        encoder_params = []\n",
    "        decoder_params = []\n",
    "        other_params = []\n",
    "        \n",
    "        for name, param in model.named_parameters():\n",
    "            if not param.requires_grad:\n",
    "                continue\n",
    "            if 'dinov2' in name:\n",
    "                dinov2_params.append(param)\n",
    "            elif 'decoder' in name:\n",
    "                decoder_params.append(param)\n",
    "            elif 'encoder' in name:\n",
    "                encoder_params.append(param)\n",
    "            else:\n",
    "                other_params.append(param)\n",
    "        \n",
    "        param_groups = []\n",
    "        if dinov2_params:\n",
    "            param_groups.append({\n",
    "                'params': dinov2_params,\n",
    "                'lr': config.training.learning_rate * 0.01,\n",
    "                'name': 'dinov2'\n",
    "            })\n",
    "        if encoder_params:\n",
    "            param_groups.append({\n",
    "                'params': encoder_params,\n",
    "                'lr': config.training.learning_rate * 0.5,\n",
    "                'name': 'encoders'\n",
    "            })\n",
    "        if decoder_params:\n",
    "            param_groups.append({\n",
    "                'params': decoder_params,\n",
    "                'lr': config.training.learning_rate,\n",
    "                'name': 'decoders'\n",
    "            })\n",
    "        if other_params:\n",
    "            param_groups.append({\n",
    "                'params': other_params,\n",
    "                'lr': config.training.learning_rate,\n",
    "                'name': 'other'\n",
    "            })\n",
    "        \n",
    "        optimizer = torch.optim.AdamW(param_groups, weight_decay=0.01, fused=True)\n",
    "        \n",
    "        # Create scheduler based on sweep parameter\n",
    "        scheduler_type = wandb.config.scheduler_type\n",
    "        if scheduler_type == 'cosine':\n",
    "            scheduler = torch.optim.lr_scheduler.CosineAnnealingLR(\n",
    "                optimizer, T_max=config.training.num_epochs, eta_min=1e-6\n",
    "            )\n",
    "        elif scheduler_type == 'cosine_warmup':\n",
    "            scheduler = torch.optim.lr_scheduler.CosineAnnealingWarmRestarts(\n",
    "                optimizer, T_0=10, T_mult=2, eta_min=1e-6\n",
    "            )\n",
    "        elif scheduler_type == 'step':\n",
    "            scheduler = torch.optim.lr_scheduler.StepLR(\n",
    "                optimizer, step_size=3, gamma=0.5\n",
    "            )\n",
    "        elif scheduler_type == 'exponential':\n",
    "            scheduler = torch.optim.lr_scheduler.ExponentialLR(\n",
    "                optimizer, gamma=0.9\n",
    "            )\n",
    "        \n",
    "        # Loss function\n",
    "        criterion = ComprehensiveLoss(config.loss)\n",
    "        \n",
    "        # Training loop\n",
    "        best_val_mpjpe = float('inf')\n",
    "        \n",
    "        for epoch in range(config.training.num_epochs):\n",
    "            # Update loss epoch\n",
    "            criterion.set_epoch(epoch)\n",
    "            \n",
    "            # Train\n",
    "            model.train()\n",
    "            train_loss = 0\n",
    "            train_mpjpe = 0\n",
    "            train_samples = 0\n",
    "            \n",
    "            for batch_idx, batch in enumerate(train_loader):\n",
    "                # Convert BFloat16 images to Float32 for DINOv2\n",
    "                if batch['image'].dtype == torch.bfloat16:\n",
    "                    batch['image'] = batch['image'].float()\n",
    "                \n",
    "                optimizer.zero_grad()\n",
    "                \n",
    "                # Forward pass\n",
    "                with torch.amp.autocast('cuda', dtype=torch.bfloat16):\n",
    "                    outputs = model(batch)\n",
    "                    losses = criterion(outputs, batch)\n",
    "                    loss = losses['total'] if isinstance(losses, dict) else losses\n",
    "                \n",
    "                loss.backward()\n",
    "                torch.nn.utils.clip_grad_norm_(model.parameters(), 1.0)\n",
    "                optimizer.step()\n",
    "                \n",
    "                batch_size = batch['image'].shape[0]\n",
    "                train_loss += loss.item() * batch_size\n",
    "                train_samples += batch_size\n",
    "                \n",
    "                # Calculate MPJPE\n",
    "                if 'hand_joints' in outputs and 'hand_joints' in batch:\n",
    "                    with torch.no_grad():\n",
    "                        mpjpe = torch.norm(outputs['hand_joints'] - batch['hand_joints'], dim=-1).mean()\n",
    "                        train_mpjpe += mpjpe.item() * 1000 * batch_size\n",
    "                \n",
    "                # Log batch metrics\n",
    "                if batch_idx % 20 == 0:\n",
    "                    wandb.log({\n",
    "                        'train/batch_loss': loss.item(),\n",
    "                        'train/batch_mpjpe': mpjpe.item() * 1000 if 'hand_joints' in outputs else 0,\n",
    "                        'train/lr': optimizer.param_groups[0]['lr'],\n",
    "                        'system/gpu_memory_gb': torch.cuda.memory_allocated() / 1e9\n",
    "                    })\n",
    "            \n",
    "            # Average training metrics\n",
    "            train_loss /= train_samples\n",
    "            train_mpjpe /= train_samples\n",
    "            \n",
    "            # Validation\n",
    "            model.eval()\n",
    "            val_loss = 0\n",
    "            val_mpjpe = 0\n",
    "            val_samples = 0\n",
    "            \n",
    "            with torch.no_grad():\n",
    "                for batch in val_loader:\n",
    "                    if batch['image'].dtype == torch.bfloat16:\n",
    "                        batch['image'] = batch['image'].float()\n",
    "                    \n",
    "                    with torch.amp.autocast('cuda', dtype=torch.bfloat16):\n",
    "                        outputs = model(batch)\n",
    "                        losses = criterion(outputs, batch)\n",
    "                        loss = losses['total'] if isinstance(losses, dict) else losses\n",
    "                    \n",
    "                    batch_size = batch['image'].shape[0]\n",
    "                    val_samples += batch_size\n",
    "                    val_loss += loss.item() * batch_size\n",
    "                    \n",
    "                    if 'hand_joints' in outputs and 'hand_joints' in batch:\n",
    "                        mpjpe = torch.norm(outputs['hand_joints'] - batch['hand_joints'], dim=-1).mean()\n",
    "                        val_mpjpe += mpjpe.item() * 1000 * batch_size\n",
    "            \n",
    "            # Average validation metrics\n",
    "            val_loss /= val_samples\n",
    "            val_mpjpe /= val_samples\n",
    "            \n",
    "            # Update best\n",
    "            if val_mpjpe < best_val_mpjpe:\n",
    "                best_val_mpjpe = val_mpjpe\n",
    "            \n",
    "            # Update scheduler\n",
    "            scheduler.step()\n",
    "            \n",
    "            # Log epoch metrics\n",
    "            wandb.log({\n",
    "                'epoch': epoch,\n",
    "                'train/loss': train_loss,\n",
    "                'train/hand_mpjpe': train_mpjpe,\n",
    "                'val/loss': val_loss,\n",
    "                'val/hand_mpjpe': val_mpjpe,\n",
    "                'val/best_mpjpe': best_val_mpjpe\n",
    "            })\n",
    "            \n",
    "            print(f\"Epoch {epoch+1}/{config.training.num_epochs}: \"\n",
    "                  f\"train_loss={train_loss:.4f}, train_mpjpe={train_mpjpe:.2f}mm, \"\n",
    "                  f\"val_loss={val_loss:.4f}, val_mpjpe={val_mpjpe:.2f}mm\")\n",
    "        \n",
    "        # Log final metrics\n",
    "        wandb.log({\n",
    "            'final/best_val_mpjpe': best_val_mpjpe,\n",
    "            'final/epochs_trained': config.training.num_epochs\n",
    "        })\n",
    "        \n",
    "        # Clean up\n",
    "        torch.cuda.empty_cache()\n",
    "        \n",
    "    except Exception as e:\n",
    "        print(f\"Training failed: {e}\")\n",
    "        wandb.log({'error': str(e), 'val/hand_mpjpe': 1000.0})\n",
    "        raise\n",
    "\n",
    "print(\"Training function defined!\")"
   ]
  },
  {
   "cell_type": "markdown",
   "metadata": {},
   "source": [
    "## 4. Initialize and Run Sweep"
   ]
  },
  {
   "cell_type": "code",
   "execution_count": 4,
   "metadata": {},
   "outputs": [
    {
     "name": "stdout",
     "output_type": "stream",
     "text": [
      "Create sweep with ID: c189gpt8\n",
      "Sweep URL: https://wandb.ai/bryandong24-stanford-university/amt-hyperparameter-sweep/sweeps/c189gpt8\n",
      "Sweep initialized!\n",
      "Sweep ID: c189gpt8\n",
      "View at: https://wandb.ai/bryandong24-stanford-university/amt-hyperparameter-sweep/sweeps/c189gpt8\n"
     ]
    }
   ],
   "source": [
    "# Initialize sweep\n",
    "project_name = 'amt-hyperparameter-sweep'\n",
    "sweep_id = wandb.sweep(sweep_config, project=project_name)\n",
    "\n",
    "print(f\"Sweep initialized!\")\n",
    "print(f\"Sweep ID: {sweep_id}\")\n",
    "print(f\"View at: https://wandb.ai/{wandb.api.default_entity}/{project_name}/sweeps/{sweep_id}\")"
   ]
  },
  {
   "cell_type": "code",
   "execution_count": 5,
   "metadata": {},
   "outputs": [
    {
     "name": "stdout",
     "output_type": "stream",
     "text": [
      "Starting sweep agent to run 50 experiments...\n",
      "Each experiment will run for 7 epochs with 20k training samples\n",
      "This will take approximately 10-15 minutes per experiment\n"
     ]
    },
    {
     "name": "stderr",
     "output_type": "stream",
     "text": [
      "\u001b[34m\u001b[1mwandb\u001b[0m: Agent Starting Run: r6vq59sk with config:\n",
      "\u001b[34m\u001b[1mwandb\u001b[0m: \taug_color_jitter: 0.14188335226579915\n",
      "\u001b[34m\u001b[1mwandb\u001b[0m: \taug_joint_noise_std: 0.007085224723083008\n",
      "\u001b[34m\u001b[1mwandb\u001b[0m: \taug_rotation_range: 6.962783046595767\n",
      "\u001b[34m\u001b[1mwandb\u001b[0m: \taug_scale_max: 1.1099393612003243\n",
      "\u001b[34m\u001b[1mwandb\u001b[0m: \taug_scale_min: 0.7989127002318099\n",
      "\u001b[34m\u001b[1mwandb\u001b[0m: \taug_translation_std: 0.06213760246029974\n",
      "\u001b[34m\u001b[1mwandb\u001b[0m: \tbatch_size: 32\n",
      "\u001b[34m\u001b[1mwandb\u001b[0m: \tdiversity_margin: 0.019261430654951252\n",
      "\u001b[34m\u001b[1mwandb\u001b[0m: \tdropout: 0.15\n",
      "\u001b[34m\u001b[1mwandb\u001b[0m: \tfingertip_weight: 1.292593617054689\n",
      "\u001b[34m\u001b[1mwandb\u001b[0m: \tloss_weight_contact: 0.484657562364074\n",
      "\u001b[34m\u001b[1mwandb\u001b[0m: \tloss_weight_diversity: 0.032871346178819774\n",
      "\u001b[34m\u001b[1mwandb\u001b[0m: \tloss_weight_hand_coarse: 1.0946386135846584\n",
      "\u001b[34m\u001b[1mwandb\u001b[0m: \tloss_weight_hand_refined: 1.2476550127700048\n",
      "\u001b[34m\u001b[1mwandb\u001b[0m: \tloss_weight_object_position: 0.9881150050882892\n",
      "\u001b[34m\u001b[1mwandb\u001b[0m: \tloss_weight_object_rotation: 0.5889662368565898\n",
      "\u001b[34m\u001b[1mwandb\u001b[0m: \tloss_weight_physics: 0.10260366176205896\n",
      "\u001b[34m\u001b[1mwandb\u001b[0m: \tloss_weight_reprojection: 0.3649749315062255\n",
      "\u001b[34m\u001b[1mwandb\u001b[0m: \tper_joint_weighting: True\n",
      "\u001b[34m\u001b[1mwandb\u001b[0m: \tscheduler_type: cosine_warmup\n",
      "\u001b[34m\u001b[1mwandb\u001b[0m: Currently logged in as: \u001b[33mbryandong24\u001b[0m (\u001b[33mbryandong24-stanford-university\u001b[0m) to \u001b[32mhttps://api.wandb.ai\u001b[0m. Use \u001b[1m`wandb login --relogin`\u001b[0m to force relogin\n"
     ]
    },
    {
     "data": {
      "text/html": [
       "Tracking run with wandb version 0.19.11"
      ],
      "text/plain": [
       "<IPython.core.display.HTML object>"
      ]
     },
     "metadata": {},
     "output_type": "display_data"
    },
    {
     "data": {
      "text/html": [
       "Run data is saved locally in <code>/home/n231/231nProjectV2/Advanced_Manipulation_Transformer/notebooks/wandb/run-20250604_033737-r6vq59sk</code>"
      ],
      "text/plain": [
       "<IPython.core.display.HTML object>"
      ]
     },
     "metadata": {},
     "output_type": "display_data"
    },
    {
     "data": {
      "text/html": [
       "Syncing run <strong><a href='https://wandb.ai/bryandong24-stanford-university/amt-hyperparameter-sweep/runs/r6vq59sk' target=\"_blank\">trim-sweep-1</a></strong> to <a href='https://wandb.ai/bryandong24-stanford-university/amt-hyperparameter-sweep' target=\"_blank\">Weights & Biases</a> (<a href='https://wandb.me/developer-guide' target=\"_blank\">docs</a>)<br>Sweep page: <a href='https://wandb.ai/bryandong24-stanford-university/amt-hyperparameter-sweep/sweeps/c189gpt8' target=\"_blank\">https://wandb.ai/bryandong24-stanford-university/amt-hyperparameter-sweep/sweeps/c189gpt8</a>"
      ],
      "text/plain": [
       "<IPython.core.display.HTML object>"
      ]
     },
     "metadata": {},
     "output_type": "display_data"
    },
    {
     "data": {
      "text/html": [
       " View project at <a href='https://wandb.ai/bryandong24-stanford-university/amt-hyperparameter-sweep' target=\"_blank\">https://wandb.ai/bryandong24-stanford-university/amt-hyperparameter-sweep</a>"
      ],
      "text/plain": [
       "<IPython.core.display.HTML object>"
      ]
     },
     "metadata": {},
     "output_type": "display_data"
    },
    {
     "data": {
      "text/html": [
       " View sweep at <a href='https://wandb.ai/bryandong24-stanford-university/amt-hyperparameter-sweep/sweeps/c189gpt8' target=\"_blank\">https://wandb.ai/bryandong24-stanford-university/amt-hyperparameter-sweep/sweeps/c189gpt8</a>"
      ],
      "text/plain": [
       "<IPython.core.display.HTML object>"
      ]
     },
     "metadata": {},
     "output_type": "display_data"
    },
    {
     "data": {
      "text/html": [
       " View run at <a href='https://wandb.ai/bryandong24-stanford-university/amt-hyperparameter-sweep/runs/r6vq59sk' target=\"_blank\">https://wandb.ai/bryandong24-stanford-university/amt-hyperparameter-sweep/runs/r6vq59sk</a>"
      ],
      "text/plain": [
       "<IPython.core.display.HTML object>"
      ]
     },
     "metadata": {},
     "output_type": "display_data"
    },
    {
     "name": "stdout",
     "output_type": "stream",
     "text": [
      "Creating dataloaders with 20k train, 2k val samples, batch_size=32...\n",
      "Creating GPU-cached datasets...\n",
      "Target memory usage: 20.0 GB\n",
      "Estimated GPU memory usage: 20.0 GB\n",
      "Loading cached GPU dataset from ./gpu_cache_sweep/train_gpu_cache_20000.pt...\n",
      "Loading cache from ./gpu_cache_sweep/train_gpu_cache_20000.pt...\n",
      "✓ Loaded 20000 samples\n",
      "Estimated GPU memory usage: 2.0 GB\n",
      "Loading cached GPU dataset from ./gpu_cache_sweep/val_gpu_cache_2000.pt...\n",
      "Loading cache from ./gpu_cache_sweep/val_gpu_cache_2000.pt...\n",
      "✓ Loaded 2000 samples\n",
      "\n",
      "✓ GPU Datasets created:\n",
      "  Train: 20000 samples (6.6 GB)\n",
      "  Val: 2000 samples (6.6 GB)\n",
      "  Total GPU memory: 13.3 GB\n",
      "Dataloaders created: 625 train batches, 63 val batches\n",
      "Epoch 1/7: train_loss=0.7255, train_mpjpe=410.26mm, val_loss=0.4841, val_mpjpe=290.33mm\n",
      "Epoch 2/7: train_loss=0.5428, train_mpjpe=330.70mm, val_loss=0.4357, val_mpjpe=297.22mm\n",
      "Epoch 3/7: train_loss=0.5254, train_mpjpe=308.93mm, val_loss=0.4282, val_mpjpe=262.95mm\n",
      "Epoch 4/7: train_loss=0.5141, train_mpjpe=289.94mm, val_loss=0.4345, val_mpjpe=250.73mm\n",
      "Epoch 5/7: train_loss=0.5091, train_mpjpe=276.89mm, val_loss=0.4389, val_mpjpe=243.04mm\n",
      "Epoch 6/7: train_loss=0.5072, train_mpjpe=266.08mm, val_loss=0.4382, val_mpjpe=235.61mm\n",
      "Epoch 7/7: train_loss=0.5070, train_mpjpe=256.61mm, val_loss=0.4503, val_mpjpe=239.40mm\n"
     ]
    },
    {
     "data": {
      "text/html": [],
      "text/plain": [
       "<IPython.core.display.HTML object>"
      ]
     },
     "metadata": {},
     "output_type": "display_data"
    },
    {
     "data": {
      "text/html": [
       "<br>    <style><br>        .wandb-row {<br>            display: flex;<br>            flex-direction: row;<br>            flex-wrap: wrap;<br>            justify-content: flex-start;<br>            width: 100%;<br>        }<br>        .wandb-col {<br>            display: flex;<br>            flex-direction: column;<br>            flex-basis: 100%;<br>            flex: 1;<br>            padding: 10px;<br>        }<br>    </style><br><div class=\"wandb-row\"><div class=\"wandb-col\"><h3>Run history:</h3><br/><table class=\"wandb\"><tr><td>epoch</td><td>▁▂▃▅▆▇█</td></tr><tr><td>final/best_val_mpjpe</td><td>▁</td></tr><tr><td>final/epochs_trained</td><td>▁</td></tr><tr><td>system/gpu_memory_gb</td><td>▃▄█▂▃▂▄▃▂▃▄▄▂▃▂▅▅▄▂▂▅▁▄▅▅▄▃▃▄▄▅▂▅▂▃▃▄▂▂▂</td></tr><tr><td>train/batch_loss</td><td>█▃▄▃▃▂▃▃▃▃▃▃▃▂▃▂▃▂▂▂▂▄▂▁▂▂▂▃▁▃▃▃▂▂▂▁▂▃▂▂</td></tr><tr><td>train/batch_mpjpe</td><td>▄▅▇▇▅▆▇█▄▆▅▄▃▂▄▄▇▄▅▃▃▄▆▃▅▃▄▃▃▆▆▅▄▃▁▅▁▃▃▄</td></tr><tr><td>train/hand_mpjpe</td><td>█▄▃▃▂▁▁</td></tr><tr><td>train/loss</td><td>█▂▂▁▁▁▁</td></tr><tr><td>train/lr</td><td>███████████▇▇▇▇▆▆▆▆▆▄▄▄▄▄▄▄▄▄▄▃▃▃▃▃▃▃▃▁▁</td></tr><tr><td>val/best_mpjpe</td><td>██▄▃▂▁▁</td></tr><tr><td>val/hand_mpjpe</td><td>▇█▄▃▂▁▁</td></tr><tr><td>val/loss</td><td>█▂▁▂▂▂▄</td></tr></table><br/></div><div class=\"wandb-col\"><h3>Run summary:</h3><br/><table class=\"wandb\"><tr><td>epoch</td><td>6</td></tr><tr><td>final/best_val_mpjpe</td><td>235.61328</td></tr><tr><td>final/epochs_trained</td><td>7</td></tr><tr><td>system/gpu_memory_gb</td><td>11.10856</td></tr><tr><td>train/batch_loss</td><td>0.55943</td></tr><tr><td>train/batch_mpjpe</td><td>283.20312</td></tr><tr><td>train/hand_mpjpe</td><td>256.61328</td></tr><tr><td>train/loss</td><td>0.507</td></tr><tr><td>train/lr</td><td>0.0</td></tr><tr><td>val/best_mpjpe</td><td>235.61328</td></tr><tr><td>val/hand_mpjpe</td><td>239.40234</td></tr><tr><td>val/loss</td><td>0.45027</td></tr></table><br/></div></div>"
      ],
      "text/plain": [
       "<IPython.core.display.HTML object>"
      ]
     },
     "metadata": {},
     "output_type": "display_data"
    },
    {
     "data": {
      "text/html": [
       " View run <strong style=\"color:#cdcd00\">trim-sweep-1</strong> at: <a href='https://wandb.ai/bryandong24-stanford-university/amt-hyperparameter-sweep/runs/r6vq59sk' target=\"_blank\">https://wandb.ai/bryandong24-stanford-university/amt-hyperparameter-sweep/runs/r6vq59sk</a><br> View project at: <a href='https://wandb.ai/bryandong24-stanford-university/amt-hyperparameter-sweep' target=\"_blank\">https://wandb.ai/bryandong24-stanford-university/amt-hyperparameter-sweep</a><br>Synced 5 W&B file(s), 0 media file(s), 0 artifact file(s) and 0 other file(s)"
      ],
      "text/plain": [
       "<IPython.core.display.HTML object>"
      ]
     },
     "metadata": {},
     "output_type": "display_data"
    },
    {
     "data": {
      "text/html": [
       "Find logs at: <code>./wandb/run-20250604_033737-r6vq59sk/logs</code>"
      ],
      "text/plain": [
       "<IPython.core.display.HTML object>"
      ]
     },
     "metadata": {},
     "output_type": "display_data"
    },
    {
     "name": "stderr",
     "output_type": "stream",
     "text": [
      "\u001b[34m\u001b[1mwandb\u001b[0m: Agent Starting Run: omrwtk7b with config:\n",
      "\u001b[34m\u001b[1mwandb\u001b[0m: \taug_color_jitter: 0.1449052490130817\n",
      "\u001b[34m\u001b[1mwandb\u001b[0m: \taug_joint_noise_std: 0.00955584331846443\n",
      "\u001b[34m\u001b[1mwandb\u001b[0m: \taug_rotation_range: 10.212810064140603\n",
      "\u001b[34m\u001b[1mwandb\u001b[0m: \taug_scale_max: 1.144274821132957\n",
      "\u001b[34m\u001b[1mwandb\u001b[0m: \taug_scale_min: 0.753690783503748\n",
      "\u001b[34m\u001b[1mwandb\u001b[0m: \taug_translation_std: 0.05619827428649039\n",
      "\u001b[34m\u001b[1mwandb\u001b[0m: \tbatch_size: 256\n",
      "\u001b[34m\u001b[1mwandb\u001b[0m: \tdiversity_margin: 0.011567638693956196\n",
      "\u001b[34m\u001b[1mwandb\u001b[0m: \tdropout: 0.15\n",
      "\u001b[34m\u001b[1mwandb\u001b[0m: \tfingertip_weight: 1.2429025767362083\n",
      "\u001b[34m\u001b[1mwandb\u001b[0m: \tloss_weight_contact: 0.2643507025617057\n",
      "\u001b[34m\u001b[1mwandb\u001b[0m: \tloss_weight_diversity: 0.04584966556198141\n",
      "\u001b[34m\u001b[1mwandb\u001b[0m: \tloss_weight_hand_coarse: 1.1218596280914097\n",
      "\u001b[34m\u001b[1mwandb\u001b[0m: \tloss_weight_hand_refined: 1.121531279533072\n",
      "\u001b[34m\u001b[1mwandb\u001b[0m: \tloss_weight_object_position: 0.8259477838691784\n",
      "\u001b[34m\u001b[1mwandb\u001b[0m: \tloss_weight_object_rotation: 0.52568248511679\n",
      "\u001b[34m\u001b[1mwandb\u001b[0m: \tloss_weight_physics: 0.09871011681611892\n",
      "\u001b[34m\u001b[1mwandb\u001b[0m: \tloss_weight_reprojection: 0.6837470989989636\n",
      "\u001b[34m\u001b[1mwandb\u001b[0m: \tper_joint_weighting: False\n",
      "\u001b[34m\u001b[1mwandb\u001b[0m: \tscheduler_type: cosine\n"
     ]
    },
    {
     "data": {
      "text/html": [
       "Tracking run with wandb version 0.19.11"
      ],
      "text/plain": [
       "<IPython.core.display.HTML object>"
      ]
     },
     "metadata": {},
     "output_type": "display_data"
    },
    {
     "data": {
      "text/html": [
       "Run data is saved locally in <code>/home/n231/231nProjectV2/Advanced_Manipulation_Transformer/notebooks/wandb/run-20250604_034537-omrwtk7b</code>"
      ],
      "text/plain": [
       "<IPython.core.display.HTML object>"
      ]
     },
     "metadata": {},
     "output_type": "display_data"
    },
    {
     "data": {
      "text/html": [
       "Syncing run <strong><a href='https://wandb.ai/bryandong24-stanford-university/amt-hyperparameter-sweep/runs/omrwtk7b' target=\"_blank\">amber-sweep-2</a></strong> to <a href='https://wandb.ai/bryandong24-stanford-university/amt-hyperparameter-sweep' target=\"_blank\">Weights & Biases</a> (<a href='https://wandb.me/developer-guide' target=\"_blank\">docs</a>)<br>Sweep page: <a href='https://wandb.ai/bryandong24-stanford-university/amt-hyperparameter-sweep/sweeps/c189gpt8' target=\"_blank\">https://wandb.ai/bryandong24-stanford-university/amt-hyperparameter-sweep/sweeps/c189gpt8</a>"
      ],
      "text/plain": [
       "<IPython.core.display.HTML object>"
      ]
     },
     "metadata": {},
     "output_type": "display_data"
    },
    {
     "data": {
      "text/html": [
       " View project at <a href='https://wandb.ai/bryandong24-stanford-university/amt-hyperparameter-sweep' target=\"_blank\">https://wandb.ai/bryandong24-stanford-university/amt-hyperparameter-sweep</a>"
      ],
      "text/plain": [
       "<IPython.core.display.HTML object>"
      ]
     },
     "metadata": {},
     "output_type": "display_data"
    },
    {
     "data": {
      "text/html": [
       " View sweep at <a href='https://wandb.ai/bryandong24-stanford-university/amt-hyperparameter-sweep/sweeps/c189gpt8' target=\"_blank\">https://wandb.ai/bryandong24-stanford-university/amt-hyperparameter-sweep/sweeps/c189gpt8</a>"
      ],
      "text/plain": [
       "<IPython.core.display.HTML object>"
      ]
     },
     "metadata": {},
     "output_type": "display_data"
    },
    {
     "data": {
      "text/html": [
       " View run at <a href='https://wandb.ai/bryandong24-stanford-university/amt-hyperparameter-sweep/runs/omrwtk7b' target=\"_blank\">https://wandb.ai/bryandong24-stanford-university/amt-hyperparameter-sweep/runs/omrwtk7b</a>"
      ],
      "text/plain": [
       "<IPython.core.display.HTML object>"
      ]
     },
     "metadata": {},
     "output_type": "display_data"
    },
    {
     "name": "stdout",
     "output_type": "stream",
     "text": [
      "Creating dataloaders with 20k train, 2k val samples, batch_size=256...\n",
      "Creating GPU-cached datasets...\n",
      "Target memory usage: 20.0 GB\n",
      "Estimated GPU memory usage: 20.0 GB\n",
      "Loading cached GPU dataset from ./gpu_cache_sweep/train_gpu_cache_20000.pt...\n",
      "Loading cache from ./gpu_cache_sweep/train_gpu_cache_20000.pt...\n",
      "✓ Loaded 20000 samples\n",
      "Estimated GPU memory usage: 2.0 GB\n",
      "Loading cached GPU dataset from ./gpu_cache_sweep/val_gpu_cache_2000.pt...\n",
      "Loading cache from ./gpu_cache_sweep/val_gpu_cache_2000.pt...\n",
      "✓ Loaded 2000 samples\n",
      "\n",
      "✓ GPU Datasets created:\n",
      "  Train: 20000 samples (6.7 GB)\n",
      "  Val: 2000 samples (6.7 GB)\n",
      "  Total GPU memory: 13.4 GB\n",
      "Dataloaders created: 78 train batches, 8 val batches\n",
      "Epoch 1/7: train_loss=1.4568, train_mpjpe=639.50mm, val_loss=0.8670, val_mpjpe=329.67mm\n",
      "Epoch 2/7: train_loss=0.8038, train_mpjpe=395.01mm, val_loss=0.5237, val_mpjpe=311.38mm\n",
      "Epoch 3/7: train_loss=0.6267, train_mpjpe=362.03mm, val_loss=0.4503, val_mpjpe=298.67mm\n",
      "Epoch 4/7: train_loss=0.5973, train_mpjpe=332.38mm, val_loss=0.4938, val_mpjpe=289.95mm\n",
      "Epoch 5/7: train_loss=0.5862, train_mpjpe=309.62mm, val_loss=0.4625, val_mpjpe=268.90mm\n",
      "Epoch 6/7: train_loss=0.5825, train_mpjpe=291.49mm, val_loss=0.4579, val_mpjpe=248.34mm\n",
      "Epoch 7/7: train_loss=0.5845, train_mpjpe=280.47mm, val_loss=0.4704, val_mpjpe=248.56mm\n"
     ]
    },
    {
     "data": {
      "text/html": [],
      "text/plain": [
       "<IPython.core.display.HTML object>"
      ]
     },
     "metadata": {},
     "output_type": "display_data"
    },
    {
     "data": {
      "text/html": [
       "<br>    <style><br>        .wandb-row {<br>            display: flex;<br>            flex-direction: row;<br>            flex-wrap: wrap;<br>            justify-content: flex-start;<br>            width: 100%;<br>        }<br>        .wandb-col {<br>            display: flex;<br>            flex-direction: column;<br>            flex-basis: 100%;<br>            flex: 1;<br>            padding: 10px;<br>        }<br>    </style><br><div class=\"wandb-row\"><div class=\"wandb-col\"><h3>Run history:</h3><br/><table class=\"wandb\"><tr><td>epoch</td><td>▁▂▃▅▆▇█</td></tr><tr><td>final/best_val_mpjpe</td><td>▁</td></tr><tr><td>final/epochs_trained</td><td>▁</td></tr><tr><td>system/gpu_memory_gb</td><td>▅▅▄▆█▁▅▄▆▂▄▃▆█▅▄▄▆▃▃▆▁▇▅▆▅▂▃</td></tr><tr><td>train/batch_loss</td><td>█▃▂▂▂▂▂▂▁▁▁▁▁▁▁▁▁▁▁▁▁▁▁▁▁▁▁▁</td></tr><tr><td>train/batch_mpjpe</td><td>█▂▁▂▁▁▁▂▁▁▁▁▁▁▁▁▁▁▁▁▁▁▁▁▁▁▁▁</td></tr><tr><td>train/hand_mpjpe</td><td>█▃▃▂▂▁▁</td></tr><tr><td>train/loss</td><td>█▃▁▁▁▁▁</td></tr><tr><td>train/lr</td><td>████████▇▇▇▇▅▅▅▅▃▃▃▃▂▂▂▂▁▁▁▁</td></tr><tr><td>val/best_mpjpe</td><td>█▆▅▅▃▁▁</td></tr><tr><td>val/hand_mpjpe</td><td>█▆▅▅▃▁▁</td></tr><tr><td>val/loss</td><td>█▂▁▂▁▁▁</td></tr></table><br/></div><div class=\"wandb-col\"><h3>Run summary:</h3><br/><table class=\"wandb\"><tr><td>epoch</td><td>6</td></tr><tr><td>final/best_val_mpjpe</td><td>248.34375</td></tr><tr><td>final/epochs_trained</td><td>7</td></tr><tr><td>system/gpu_memory_gb</td><td>11.88024</td></tr><tr><td>train/batch_loss</td><td>0.56428</td></tr><tr><td>train/batch_mpjpe</td><td>265.625</td></tr><tr><td>train/hand_mpjpe</td><td>280.47376</td></tr><tr><td>train/loss</td><td>0.58452</td></tr><tr><td>train/lr</td><td>0.0</td></tr><tr><td>val/best_mpjpe</td><td>248.34375</td></tr><tr><td>val/hand_mpjpe</td><td>248.5625</td></tr><tr><td>val/loss</td><td>0.47037</td></tr></table><br/></div></div>"
      ],
      "text/plain": [
       "<IPython.core.display.HTML object>"
      ]
     },
     "metadata": {},
     "output_type": "display_data"
    },
    {
     "data": {
      "text/html": [
       " View run <strong style=\"color:#cdcd00\">amber-sweep-2</strong> at: <a href='https://wandb.ai/bryandong24-stanford-university/amt-hyperparameter-sweep/runs/omrwtk7b' target=\"_blank\">https://wandb.ai/bryandong24-stanford-university/amt-hyperparameter-sweep/runs/omrwtk7b</a><br> View project at: <a href='https://wandb.ai/bryandong24-stanford-university/amt-hyperparameter-sweep' target=\"_blank\">https://wandb.ai/bryandong24-stanford-university/amt-hyperparameter-sweep</a><br>Synced 5 W&B file(s), 0 media file(s), 0 artifact file(s) and 0 other file(s)"
      ],
      "text/plain": [
       "<IPython.core.display.HTML object>"
      ]
     },
     "metadata": {},
     "output_type": "display_data"
    },
    {
     "data": {
      "text/html": [
       "Find logs at: <code>./wandb/run-20250604_034537-omrwtk7b/logs</code>"
      ],
      "text/plain": [
       "<IPython.core.display.HTML object>"
      ]
     },
     "metadata": {},
     "output_type": "display_data"
    },
    {
     "name": "stderr",
     "output_type": "stream",
     "text": [
      "\u001b[34m\u001b[1mwandb\u001b[0m: Agent Starting Run: 0lpbvj2o with config:\n",
      "\u001b[34m\u001b[1mwandb\u001b[0m: \taug_color_jitter: 0.252811498362129\n",
      "\u001b[34m\u001b[1mwandb\u001b[0m: \taug_joint_noise_std: 0.005845042607027987\n",
      "\u001b[34m\u001b[1mwandb\u001b[0m: \taug_rotation_range: 8.196033817484096\n",
      "\u001b[34m\u001b[1mwandb\u001b[0m: \taug_scale_max: 1.17457148369831\n",
      "\u001b[34m\u001b[1mwandb\u001b[0m: \taug_scale_min: 0.8968418285007773\n",
      "\u001b[34m\u001b[1mwandb\u001b[0m: \taug_translation_std: 0.03871014363638063\n",
      "\u001b[34m\u001b[1mwandb\u001b[0m: \tbatch_size: 32\n",
      "\u001b[34m\u001b[1mwandb\u001b[0m: \tdiversity_margin: 0.018158201024824672\n",
      "\u001b[34m\u001b[1mwandb\u001b[0m: \tdropout: 0.3\n",
      "\u001b[34m\u001b[1mwandb\u001b[0m: \tfingertip_weight: 1.51136983309714\n",
      "\u001b[34m\u001b[1mwandb\u001b[0m: \tloss_weight_contact: 0.3702389758601501\n",
      "\u001b[34m\u001b[1mwandb\u001b[0m: \tloss_weight_diversity: 0.025457487190665744\n",
      "\u001b[34m\u001b[1mwandb\u001b[0m: \tloss_weight_hand_coarse: 1.1575365448892314\n",
      "\u001b[34m\u001b[1mwandb\u001b[0m: \tloss_weight_hand_refined: 1.3692677988047055\n",
      "\u001b[34m\u001b[1mwandb\u001b[0m: \tloss_weight_object_position: 1.153359724517229\n",
      "\u001b[34m\u001b[1mwandb\u001b[0m: \tloss_weight_object_rotation: 0.5737631208294376\n",
      "\u001b[34m\u001b[1mwandb\u001b[0m: \tloss_weight_physics: 0.18158911700618596\n",
      "\u001b[34m\u001b[1mwandb\u001b[0m: \tloss_weight_reprojection: 0.5173296475532774\n",
      "\u001b[34m\u001b[1mwandb\u001b[0m: \tper_joint_weighting: True\n",
      "\u001b[34m\u001b[1mwandb\u001b[0m: \tscheduler_type: exponential\n"
     ]
    },
    {
     "data": {
      "text/html": [
       "Tracking run with wandb version 0.19.11"
      ],
      "text/plain": [
       "<IPython.core.display.HTML object>"
      ]
     },
     "metadata": {},
     "output_type": "display_data"
    },
    {
     "data": {
      "text/html": [
       "Run data is saved locally in <code>/home/n231/231nProjectV2/Advanced_Manipulation_Transformer/notebooks/wandb/run-20250604_035005-0lpbvj2o</code>"
      ],
      "text/plain": [
       "<IPython.core.display.HTML object>"
      ]
     },
     "metadata": {},
     "output_type": "display_data"
    },
    {
     "data": {
      "text/html": [
       "Syncing run <strong><a href='https://wandb.ai/bryandong24-stanford-university/amt-hyperparameter-sweep/runs/0lpbvj2o' target=\"_blank\">logical-sweep-3</a></strong> to <a href='https://wandb.ai/bryandong24-stanford-university/amt-hyperparameter-sweep' target=\"_blank\">Weights & Biases</a> (<a href='https://wandb.me/developer-guide' target=\"_blank\">docs</a>)<br>Sweep page: <a href='https://wandb.ai/bryandong24-stanford-university/amt-hyperparameter-sweep/sweeps/c189gpt8' target=\"_blank\">https://wandb.ai/bryandong24-stanford-university/amt-hyperparameter-sweep/sweeps/c189gpt8</a>"
      ],
      "text/plain": [
       "<IPython.core.display.HTML object>"
      ]
     },
     "metadata": {},
     "output_type": "display_data"
    },
    {
     "data": {
      "text/html": [
       " View project at <a href='https://wandb.ai/bryandong24-stanford-university/amt-hyperparameter-sweep' target=\"_blank\">https://wandb.ai/bryandong24-stanford-university/amt-hyperparameter-sweep</a>"
      ],
      "text/plain": [
       "<IPython.core.display.HTML object>"
      ]
     },
     "metadata": {},
     "output_type": "display_data"
    },
    {
     "data": {
      "text/html": [
       " View sweep at <a href='https://wandb.ai/bryandong24-stanford-university/amt-hyperparameter-sweep/sweeps/c189gpt8' target=\"_blank\">https://wandb.ai/bryandong24-stanford-university/amt-hyperparameter-sweep/sweeps/c189gpt8</a>"
      ],
      "text/plain": [
       "<IPython.core.display.HTML object>"
      ]
     },
     "metadata": {},
     "output_type": "display_data"
    },
    {
     "data": {
      "text/html": [
       " View run at <a href='https://wandb.ai/bryandong24-stanford-university/amt-hyperparameter-sweep/runs/0lpbvj2o' target=\"_blank\">https://wandb.ai/bryandong24-stanford-university/amt-hyperparameter-sweep/runs/0lpbvj2o</a>"
      ],
      "text/plain": [
       "<IPython.core.display.HTML object>"
      ]
     },
     "metadata": {},
     "output_type": "display_data"
    },
    {
     "name": "stdout",
     "output_type": "stream",
     "text": [
      "Creating dataloaders with 20k train, 2k val samples, batch_size=32...\n",
      "Creating GPU-cached datasets...\n",
      "Target memory usage: 20.0 GB\n",
      "Estimated GPU memory usage: 20.0 GB\n",
      "Loading cached GPU dataset from ./gpu_cache_sweep/train_gpu_cache_20000.pt...\n",
      "Loading cache from ./gpu_cache_sweep/train_gpu_cache_20000.pt...\n",
      "✓ Loaded 20000 samples\n",
      "Estimated GPU memory usage: 2.0 GB\n",
      "Loading cached GPU dataset from ./gpu_cache_sweep/val_gpu_cache_2000.pt...\n",
      "Loading cache from ./gpu_cache_sweep/val_gpu_cache_2000.pt...\n",
      "✓ Loaded 2000 samples\n",
      "\n",
      "✓ GPU Datasets created:\n",
      "  Train: 20000 samples (6.7 GB)\n",
      "  Val: 2000 samples (6.7 GB)\n",
      "  Total GPU memory: 13.4 GB\n",
      "Dataloaders created: 625 train batches, 63 val batches\n",
      "Epoch 1/7: train_loss=0.8470, train_mpjpe=414.05mm, val_loss=0.4668, val_mpjpe=300.04mm\n",
      "Epoch 2/7: train_loss=0.6212, train_mpjpe=340.05mm, val_loss=0.4712, val_mpjpe=291.32mm\n",
      "Epoch 3/7: train_loss=0.5765, train_mpjpe=324.44mm, val_loss=0.4817, val_mpjpe=286.98mm\n",
      "Epoch 4/7: train_loss=0.5645, train_mpjpe=319.44mm, val_loss=0.4840, val_mpjpe=274.81mm\n",
      "Epoch 5/7: train_loss=0.5606, train_mpjpe=309.94mm, val_loss=0.4887, val_mpjpe=276.92mm\n",
      "Epoch 6/7: train_loss=0.5642, train_mpjpe=301.78mm, val_loss=0.4882, val_mpjpe=265.66mm\n",
      "Epoch 7/7: train_loss=0.5708, train_mpjpe=294.36mm, val_loss=0.4952, val_mpjpe=260.95mm\n"
     ]
    },
    {
     "data": {
      "text/html": [],
      "text/plain": [
       "<IPython.core.display.HTML object>"
      ]
     },
     "metadata": {},
     "output_type": "display_data"
    },
    {
     "data": {
      "text/html": [
       "<br>    <style><br>        .wandb-row {<br>            display: flex;<br>            flex-direction: row;<br>            flex-wrap: wrap;<br>            justify-content: flex-start;<br>            width: 100%;<br>        }<br>        .wandb-col {<br>            display: flex;<br>            flex-direction: column;<br>            flex-basis: 100%;<br>            flex: 1;<br>            padding: 10px;<br>        }<br>    </style><br><div class=\"wandb-row\"><div class=\"wandb-col\"><h3>Run history:</h3><br/><table class=\"wandb\"><tr><td>epoch</td><td>▁▂▃▅▆▇█</td></tr><tr><td>final/best_val_mpjpe</td><td>▁</td></tr><tr><td>final/epochs_trained</td><td>▁</td></tr><tr><td>system/gpu_memory_gb</td><td>█▂▆▅▃▃▄▂▃▃▄▃▂▂▃▃▇▄▄▄▃▄▄▄▄▅▆▅▄▁▂▇▅▃▂▄▃▃▆▅</td></tr><tr><td>train/batch_loss</td><td>█▄█▂▃▄▅▃▄▄▃▃▄▂▁▃▁▂▁▄▄▄▄▃▁▄▅▂▂▂▁▄▃▃▂▃▃▃▃▁</td></tr><tr><td>train/batch_mpjpe</td><td>▇▄▄▄▃▃█▅▃▃▄▂█▂▂▆▄▃▃▅▁▄▄▄▄▃▄▄▆▄▄▅▅▅▂▁▆▂▁▃</td></tr><tr><td>train/hand_mpjpe</td><td>█▄▃▂▂▁▁</td></tr><tr><td>train/loss</td><td>█▂▁▁▁▁▁</td></tr><tr><td>train/lr</td><td>██████▇▇▇▇▇▅▅▅▅▅▅▅▅▄▄▄▃▃▃▃▃▃▃▂▂▂▂▂▂▂▁▁▁▁</td></tr><tr><td>val/best_mpjpe</td><td>█▆▆▃▃▂▁</td></tr><tr><td>val/hand_mpjpe</td><td>█▆▆▃▄▂▁</td></tr><tr><td>val/loss</td><td>▁▂▅▅▆▆█</td></tr></table><br/></div><div class=\"wandb-col\"><h3>Run summary:</h3><br/><table class=\"wandb\"><tr><td>epoch</td><td>6</td></tr><tr><td>final/best_val_mpjpe</td><td>260.95312</td></tr><tr><td>final/epochs_trained</td><td>7</td></tr><tr><td>system/gpu_memory_gb</td><td>11.10862</td></tr><tr><td>train/batch_loss</td><td>0.36716</td></tr><tr><td>train/batch_mpjpe</td><td>182.61719</td></tr><tr><td>train/hand_mpjpe</td><td>294.36406</td></tr><tr><td>train/loss</td><td>0.57079</td></tr><tr><td>train/lr</td><td>1e-05</td></tr><tr><td>val/best_mpjpe</td><td>260.95312</td></tr><tr><td>val/hand_mpjpe</td><td>260.95312</td></tr><tr><td>val/loss</td><td>0.49521</td></tr></table><br/></div></div>"
      ],
      "text/plain": [
       "<IPython.core.display.HTML object>"
      ]
     },
     "metadata": {},
     "output_type": "display_data"
    },
    {
     "data": {
      "text/html": [
       " View run <strong style=\"color:#cdcd00\">logical-sweep-3</strong> at: <a href='https://wandb.ai/bryandong24-stanford-university/amt-hyperparameter-sweep/runs/0lpbvj2o' target=\"_blank\">https://wandb.ai/bryandong24-stanford-university/amt-hyperparameter-sweep/runs/0lpbvj2o</a><br> View project at: <a href='https://wandb.ai/bryandong24-stanford-university/amt-hyperparameter-sweep' target=\"_blank\">https://wandb.ai/bryandong24-stanford-university/amt-hyperparameter-sweep</a><br>Synced 5 W&B file(s), 0 media file(s), 0 artifact file(s) and 0 other file(s)"
      ],
      "text/plain": [
       "<IPython.core.display.HTML object>"
      ]
     },
     "metadata": {},
     "output_type": "display_data"
    },
    {
     "data": {
      "text/html": [
       "Find logs at: <code>./wandb/run-20250604_035005-0lpbvj2o/logs</code>"
      ],
      "text/plain": [
       "<IPython.core.display.HTML object>"
      ]
     },
     "metadata": {},
     "output_type": "display_data"
    },
    {
     "name": "stderr",
     "output_type": "stream",
     "text": [
      "\u001b[34m\u001b[1mwandb\u001b[0m: Sweep Agent: Waiting for job.\n",
      "\u001b[34m\u001b[1mwandb\u001b[0m: Job received.\n",
      "\u001b[34m\u001b[1mwandb\u001b[0m: Agent Starting Run: 9exx8uws with config:\n",
      "\u001b[34m\u001b[1mwandb\u001b[0m: \taug_color_jitter: 0.2879523577596116\n",
      "\u001b[34m\u001b[1mwandb\u001b[0m: \taug_joint_noise_std: 0.00822804822376846\n",
      "\u001b[34m\u001b[1mwandb\u001b[0m: \taug_rotation_range: 9.184097849199803\n",
      "\u001b[34m\u001b[1mwandb\u001b[0m: \taug_scale_max: 1.1072550495497968\n",
      "\u001b[34m\u001b[1mwandb\u001b[0m: \taug_scale_min: 0.7469491887998319\n",
      "\u001b[34m\u001b[1mwandb\u001b[0m: \taug_translation_std: 0.0371719964601423\n",
      "\u001b[34m\u001b[1mwandb\u001b[0m: \tbatch_size: 32\n",
      "\u001b[34m\u001b[1mwandb\u001b[0m: \tdiversity_margin: 0.018035098338995494\n",
      "\u001b[34m\u001b[1mwandb\u001b[0m: \tdropout: 0.15\n",
      "\u001b[34m\u001b[1mwandb\u001b[0m: \tfingertip_weight: 1.2428021098330106\n",
      "\u001b[34m\u001b[1mwandb\u001b[0m: \tloss_weight_contact: 0.39049442153868663\n",
      "\u001b[34m\u001b[1mwandb\u001b[0m: \tloss_weight_diversity: 0.023513173244279345\n",
      "\u001b[34m\u001b[1mwandb\u001b[0m: \tloss_weight_hand_coarse: 0.9395566648687508\n",
      "\u001b[34m\u001b[1mwandb\u001b[0m: \tloss_weight_hand_refined: 1.2196231347048188\n",
      "\u001b[34m\u001b[1mwandb\u001b[0m: \tloss_weight_object_position: 0.9265276541340236\n",
      "\u001b[34m\u001b[1mwandb\u001b[0m: \tloss_weight_object_rotation: 0.581969835465854\n",
      "\u001b[34m\u001b[1mwandb\u001b[0m: \tloss_weight_physics: 0.06306351996040216\n",
      "\u001b[34m\u001b[1mwandb\u001b[0m: \tloss_weight_reprojection: 0.3803133793341006\n",
      "\u001b[34m\u001b[1mwandb\u001b[0m: \tper_joint_weighting: True\n",
      "\u001b[34m\u001b[1mwandb\u001b[0m: \tscheduler_type: step\n"
     ]
    },
    {
     "data": {
      "text/html": [
       "Tracking run with wandb version 0.19.11"
      ],
      "text/plain": [
       "<IPython.core.display.HTML object>"
      ]
     },
     "metadata": {},
     "output_type": "display_data"
    },
    {
     "data": {
      "text/html": [
       "Run data is saved locally in <code>/home/n231/231nProjectV2/Advanced_Manipulation_Transformer/notebooks/wandb/run-20250604_035804-9exx8uws</code>"
      ],
      "text/plain": [
       "<IPython.core.display.HTML object>"
      ]
     },
     "metadata": {},
     "output_type": "display_data"
    },
    {
     "data": {
      "text/html": [
       "Syncing run <strong><a href='https://wandb.ai/bryandong24-stanford-university/amt-hyperparameter-sweep/runs/9exx8uws' target=\"_blank\">glamorous-sweep-4</a></strong> to <a href='https://wandb.ai/bryandong24-stanford-university/amt-hyperparameter-sweep' target=\"_blank\">Weights & Biases</a> (<a href='https://wandb.me/developer-guide' target=\"_blank\">docs</a>)<br>Sweep page: <a href='https://wandb.ai/bryandong24-stanford-university/amt-hyperparameter-sweep/sweeps/c189gpt8' target=\"_blank\">https://wandb.ai/bryandong24-stanford-university/amt-hyperparameter-sweep/sweeps/c189gpt8</a>"
      ],
      "text/plain": [
       "<IPython.core.display.HTML object>"
      ]
     },
     "metadata": {},
     "output_type": "display_data"
    },
    {
     "data": {
      "text/html": [
       " View project at <a href='https://wandb.ai/bryandong24-stanford-university/amt-hyperparameter-sweep' target=\"_blank\">https://wandb.ai/bryandong24-stanford-university/amt-hyperparameter-sweep</a>"
      ],
      "text/plain": [
       "<IPython.core.display.HTML object>"
      ]
     },
     "metadata": {},
     "output_type": "display_data"
    },
    {
     "data": {
      "text/html": [
       " View sweep at <a href='https://wandb.ai/bryandong24-stanford-university/amt-hyperparameter-sweep/sweeps/c189gpt8' target=\"_blank\">https://wandb.ai/bryandong24-stanford-university/amt-hyperparameter-sweep/sweeps/c189gpt8</a>"
      ],
      "text/plain": [
       "<IPython.core.display.HTML object>"
      ]
     },
     "metadata": {},
     "output_type": "display_data"
    },
    {
     "data": {
      "text/html": [
       " View run at <a href='https://wandb.ai/bryandong24-stanford-university/amt-hyperparameter-sweep/runs/9exx8uws' target=\"_blank\">https://wandb.ai/bryandong24-stanford-university/amt-hyperparameter-sweep/runs/9exx8uws</a>"
      ],
      "text/plain": [
       "<IPython.core.display.HTML object>"
      ]
     },
     "metadata": {},
     "output_type": "display_data"
    },
    {
     "name": "stdout",
     "output_type": "stream",
     "text": [
      "Creating dataloaders with 20k train, 2k val samples, batch_size=32...\n",
      "Creating GPU-cached datasets...\n",
      "Target memory usage: 20.0 GB\n",
      "Estimated GPU memory usage: 20.0 GB\n",
      "Loading cached GPU dataset from ./gpu_cache_sweep/train_gpu_cache_20000.pt...\n",
      "Loading cache from ./gpu_cache_sweep/train_gpu_cache_20000.pt...\n",
      "✓ Loaded 20000 samples\n",
      "Estimated GPU memory usage: 2.0 GB\n",
      "Loading cached GPU dataset from ./gpu_cache_sweep/val_gpu_cache_2000.pt...\n",
      "Loading cache from ./gpu_cache_sweep/val_gpu_cache_2000.pt...\n",
      "✓ Loaded 2000 samples\n",
      "\n",
      "✓ GPU Datasets created:\n",
      "  Train: 20000 samples (6.7 GB)\n",
      "  Val: 2000 samples (6.7 GB)\n",
      "  Total GPU memory: 13.4 GB\n",
      "Dataloaders created: 625 train batches, 63 val batches\n",
      "Epoch 1/7: train_loss=0.6883, train_mpjpe=426.75mm, val_loss=0.3855, val_mpjpe=284.64mm\n",
      "Epoch 2/7: train_loss=0.4810, train_mpjpe=327.85mm, val_loss=0.3936, val_mpjpe=309.80mm\n",
      "Epoch 3/7: train_loss=0.4645, train_mpjpe=305.17mm, val_loss=0.4035, val_mpjpe=297.37mm\n",
      "Epoch 4/7: train_loss=0.4484, train_mpjpe=278.16mm, val_loss=0.3837, val_mpjpe=248.34mm\n",
      "Epoch 5/7: train_loss=0.4471, train_mpjpe=270.29mm, val_loss=0.3849, val_mpjpe=248.86mm\n",
      "Epoch 6/7: train_loss=0.4469, train_mpjpe=265.62mm, val_loss=0.3813, val_mpjpe=239.50mm\n",
      "Epoch 7/7: train_loss=0.4406, train_mpjpe=252.56mm, val_loss=0.3890, val_mpjpe=245.52mm\n"
     ]
    },
    {
     "data": {
      "text/html": [],
      "text/plain": [
       "<IPython.core.display.HTML object>"
      ]
     },
     "metadata": {},
     "output_type": "display_data"
    },
    {
     "data": {
      "text/html": [
       "<br>    <style><br>        .wandb-row {<br>            display: flex;<br>            flex-direction: row;<br>            flex-wrap: wrap;<br>            justify-content: flex-start;<br>            width: 100%;<br>        }<br>        .wandb-col {<br>            display: flex;<br>            flex-direction: column;<br>            flex-basis: 100%;<br>            flex: 1;<br>            padding: 10px;<br>        }<br>    </style><br><div class=\"wandb-row\"><div class=\"wandb-col\"><h3>Run history:</h3><br/><table class=\"wandb\"><tr><td>epoch</td><td>▁▂▃▅▆▇█</td></tr><tr><td>final/best_val_mpjpe</td><td>▁</td></tr><tr><td>final/epochs_trained</td><td>▁</td></tr><tr><td>system/gpu_memory_gb</td><td>▆▃▅█▃▆▄▇▁▂▂▇▇▃▂▂▃▇▃▇▂▅▃▅▆▇▂▅▂▇█▁▅▂▆▇▃█▃▁</td></tr><tr><td>train/batch_loss</td><td>█▃▃▂▂▁▁▂▁▁▁▂▂▁▂▂▁▁▁▁▁▁▂▁▁▁▂▁▂▂▂▃▂▁▂▁▁▁▂▁</td></tr><tr><td>train/batch_mpjpe</td><td>█▅▃▅▅▅▄▄▃▆▃▄▅▅▅▅▅▅▂▃▃▂▆▅▆▄▃▁▅▄█▄▃▇▄▂▄▁█▃</td></tr><tr><td>train/hand_mpjpe</td><td>█▄▃▂▂▂▁</td></tr><tr><td>train/loss</td><td>█▂▂▁▁▁▁</td></tr><tr><td>train/lr</td><td>███████████████████▃▃▃▃▃▃▃▃▃▃▃▃▃▃▃▃▃▃▃▁▁</td></tr><tr><td>val/best_mpjpe</td><td>███▂▂▁▁</td></tr><tr><td>val/hand_mpjpe</td><td>▅█▇▂▂▁▂</td></tr><tr><td>val/loss</td><td>▂▅█▂▂▁▃</td></tr></table><br/></div><div class=\"wandb-col\"><h3>Run summary:</h3><br/><table class=\"wandb\"><tr><td>epoch</td><td>6</td></tr><tr><td>final/best_val_mpjpe</td><td>239.5</td></tr><tr><td>final/epochs_trained</td><td>7</td></tr><tr><td>system/gpu_memory_gb</td><td>11.10901</td></tr><tr><td>train/batch_loss</td><td>0.39636</td></tr><tr><td>train/batch_mpjpe</td><td>219.72656</td></tr><tr><td>train/hand_mpjpe</td><td>252.55703</td></tr><tr><td>train/loss</td><td>0.44059</td></tr><tr><td>train/lr</td><td>0.0</td></tr><tr><td>val/best_mpjpe</td><td>239.5</td></tr><tr><td>val/hand_mpjpe</td><td>245.51562</td></tr><tr><td>val/loss</td><td>0.38902</td></tr></table><br/></div></div>"
      ],
      "text/plain": [
       "<IPython.core.display.HTML object>"
      ]
     },
     "metadata": {},
     "output_type": "display_data"
    },
    {
     "data": {
      "text/html": [
       " View run <strong style=\"color:#cdcd00\">glamorous-sweep-4</strong> at: <a href='https://wandb.ai/bryandong24-stanford-university/amt-hyperparameter-sweep/runs/9exx8uws' target=\"_blank\">https://wandb.ai/bryandong24-stanford-university/amt-hyperparameter-sweep/runs/9exx8uws</a><br> View project at: <a href='https://wandb.ai/bryandong24-stanford-university/amt-hyperparameter-sweep' target=\"_blank\">https://wandb.ai/bryandong24-stanford-university/amt-hyperparameter-sweep</a><br>Synced 5 W&B file(s), 0 media file(s), 0 artifact file(s) and 0 other file(s)"
      ],
      "text/plain": [
       "<IPython.core.display.HTML object>"
      ]
     },
     "metadata": {},
     "output_type": "display_data"
    },
    {
     "data": {
      "text/html": [
       "Find logs at: <code>./wandb/run-20250604_035804-9exx8uws/logs</code>"
      ],
      "text/plain": [
       "<IPython.core.display.HTML object>"
      ]
     },
     "metadata": {},
     "output_type": "display_data"
    },
    {
     "name": "stderr",
     "output_type": "stream",
     "text": [
      "\u001b[34m\u001b[1mwandb\u001b[0m: Agent Starting Run: p4iyh200 with config:\n",
      "\u001b[34m\u001b[1mwandb\u001b[0m: \taug_color_jitter: 0.11504702066331096\n",
      "\u001b[34m\u001b[1mwandb\u001b[0m: \taug_joint_noise_std: 0.0055993287300841205\n",
      "\u001b[34m\u001b[1mwandb\u001b[0m: \taug_rotation_range: 6.581279785692407\n",
      "\u001b[34m\u001b[1mwandb\u001b[0m: \taug_scale_max: 1.1338416299628549\n",
      "\u001b[34m\u001b[1mwandb\u001b[0m: \taug_scale_min: 0.8147863005123761\n",
      "\u001b[34m\u001b[1mwandb\u001b[0m: \taug_translation_std: 0.03509650116087688\n",
      "\u001b[34m\u001b[1mwandb\u001b[0m: \tbatch_size: 32\n",
      "\u001b[34m\u001b[1mwandb\u001b[0m: \tdiversity_margin: 0.018037990236533658\n",
      "\u001b[34m\u001b[1mwandb\u001b[0m: \tdropout: 0.25\n",
      "\u001b[34m\u001b[1mwandb\u001b[0m: \tfingertip_weight: 1.393373742571331\n",
      "\u001b[34m\u001b[1mwandb\u001b[0m: \tloss_weight_contact: 0.4938622021416415\n",
      "\u001b[34m\u001b[1mwandb\u001b[0m: \tloss_weight_diversity: 0.020514720156270365\n",
      "\u001b[34m\u001b[1mwandb\u001b[0m: \tloss_weight_hand_coarse: 1.0821924501763671\n",
      "\u001b[34m\u001b[1mwandb\u001b[0m: \tloss_weight_hand_refined: 1.2280008482420786\n",
      "\u001b[34m\u001b[1mwandb\u001b[0m: \tloss_weight_object_position: 0.8692240333067693\n",
      "\u001b[34m\u001b[1mwandb\u001b[0m: \tloss_weight_object_rotation: 0.3994449744331716\n",
      "\u001b[34m\u001b[1mwandb\u001b[0m: \tloss_weight_physics: 0.07483408110465048\n",
      "\u001b[34m\u001b[1mwandb\u001b[0m: \tloss_weight_reprojection: 0.454658984997423\n",
      "\u001b[34m\u001b[1mwandb\u001b[0m: \tper_joint_weighting: True\n",
      "\u001b[34m\u001b[1mwandb\u001b[0m: \tscheduler_type: cosine_warmup\n"
     ]
    },
    {
     "data": {
      "text/html": [
       "Tracking run with wandb version 0.19.11"
      ],
      "text/plain": [
       "<IPython.core.display.HTML object>"
      ]
     },
     "metadata": {},
     "output_type": "display_data"
    },
    {
     "data": {
      "text/html": [
       "Run data is saved locally in <code>/home/n231/231nProjectV2/Advanced_Manipulation_Transformer/notebooks/wandb/run-20250604_040555-p4iyh200</code>"
      ],
      "text/plain": [
       "<IPython.core.display.HTML object>"
      ]
     },
     "metadata": {},
     "output_type": "display_data"
    },
    {
     "data": {
      "text/html": [
       "Syncing run <strong><a href='https://wandb.ai/bryandong24-stanford-university/amt-hyperparameter-sweep/runs/p4iyh200' target=\"_blank\">jumping-sweep-5</a></strong> to <a href='https://wandb.ai/bryandong24-stanford-university/amt-hyperparameter-sweep' target=\"_blank\">Weights & Biases</a> (<a href='https://wandb.me/developer-guide' target=\"_blank\">docs</a>)<br>Sweep page: <a href='https://wandb.ai/bryandong24-stanford-university/amt-hyperparameter-sweep/sweeps/c189gpt8' target=\"_blank\">https://wandb.ai/bryandong24-stanford-university/amt-hyperparameter-sweep/sweeps/c189gpt8</a>"
      ],
      "text/plain": [
       "<IPython.core.display.HTML object>"
      ]
     },
     "metadata": {},
     "output_type": "display_data"
    },
    {
     "data": {
      "text/html": [
       " View project at <a href='https://wandb.ai/bryandong24-stanford-university/amt-hyperparameter-sweep' target=\"_blank\">https://wandb.ai/bryandong24-stanford-university/amt-hyperparameter-sweep</a>"
      ],
      "text/plain": [
       "<IPython.core.display.HTML object>"
      ]
     },
     "metadata": {},
     "output_type": "display_data"
    },
    {
     "data": {
      "text/html": [
       " View sweep at <a href='https://wandb.ai/bryandong24-stanford-university/amt-hyperparameter-sweep/sweeps/c189gpt8' target=\"_blank\">https://wandb.ai/bryandong24-stanford-university/amt-hyperparameter-sweep/sweeps/c189gpt8</a>"
      ],
      "text/plain": [
       "<IPython.core.display.HTML object>"
      ]
     },
     "metadata": {},
     "output_type": "display_data"
    },
    {
     "data": {
      "text/html": [
       " View run at <a href='https://wandb.ai/bryandong24-stanford-university/amt-hyperparameter-sweep/runs/p4iyh200' target=\"_blank\">https://wandb.ai/bryandong24-stanford-university/amt-hyperparameter-sweep/runs/p4iyh200</a>"
      ],
      "text/plain": [
       "<IPython.core.display.HTML object>"
      ]
     },
     "metadata": {},
     "output_type": "display_data"
    },
    {
     "name": "stdout",
     "output_type": "stream",
     "text": [
      "Creating dataloaders with 20k train, 2k val samples, batch_size=32...\n",
      "Creating GPU-cached datasets...\n",
      "Target memory usage: 20.0 GB\n",
      "Estimated GPU memory usage: 20.0 GB\n",
      "Loading cached GPU dataset from ./gpu_cache_sweep/train_gpu_cache_20000.pt...\n",
      "Loading cache from ./gpu_cache_sweep/train_gpu_cache_20000.pt...\n",
      "✓ Loaded 20000 samples\n",
      "Estimated GPU memory usage: 2.0 GB\n",
      "Loading cached GPU dataset from ./gpu_cache_sweep/val_gpu_cache_2000.pt...\n",
      "Loading cache from ./gpu_cache_sweep/val_gpu_cache_2000.pt...\n",
      "✓ Loaded 2000 samples\n",
      "\n",
      "✓ GPU Datasets created:\n",
      "  Train: 20000 samples (6.7 GB)\n",
      "  Val: 2000 samples (6.7 GB)\n",
      "  Total GPU memory: 13.4 GB\n",
      "Dataloaders created: 625 train batches, 63 val batches\n",
      "Epoch 1/7: train_loss=0.7925, train_mpjpe=436.02mm, val_loss=0.5006, val_mpjpe=299.58mm\n",
      "Epoch 2/7: train_loss=0.5616, train_mpjpe=335.28mm, val_loss=0.4232, val_mpjpe=267.74mm\n",
      "Epoch 3/7: train_loss=0.5266, train_mpjpe=312.84mm, val_loss=0.4227, val_mpjpe=246.97mm\n",
      "Epoch 4/7: train_loss=0.5106, train_mpjpe=300.57mm, val_loss=0.4269, val_mpjpe=254.62mm\n",
      "Epoch 5/7: train_loss=0.5023, train_mpjpe=286.37mm, val_loss=0.4307, val_mpjpe=252.96mm\n",
      "Epoch 6/7: train_loss=0.4995, train_mpjpe=273.72mm, val_loss=0.4285, val_mpjpe=243.52mm\n",
      "Epoch 7/7: train_loss=0.4955, train_mpjpe=263.48mm, val_loss=0.4331, val_mpjpe=243.14mm\n"
     ]
    },
    {
     "data": {
      "text/html": [],
      "text/plain": [
       "<IPython.core.display.HTML object>"
      ]
     },
     "metadata": {},
     "output_type": "display_data"
    },
    {
     "data": {
      "text/html": [
       "<br>    <style><br>        .wandb-row {<br>            display: flex;<br>            flex-direction: row;<br>            flex-wrap: wrap;<br>            justify-content: flex-start;<br>            width: 100%;<br>        }<br>        .wandb-col {<br>            display: flex;<br>            flex-direction: column;<br>            flex-basis: 100%;<br>            flex: 1;<br>            padding: 10px;<br>        }<br>    </style><br><div class=\"wandb-row\"><div class=\"wandb-col\"><h3>Run history:</h3><br/><table class=\"wandb\"><tr><td>epoch</td><td>▁▂▃▅▆▇█</td></tr><tr><td>final/best_val_mpjpe</td><td>▁</td></tr><tr><td>final/epochs_trained</td><td>▁</td></tr><tr><td>system/gpu_memory_gb</td><td>█▅▅▄▄▁▄▄▆▅▄▆▃▄▂▅▃▆▅▆▄▇▃▅▅▄▆▃▅▃▆▂▆▇▃▄▂▃▃▂</td></tr><tr><td>train/batch_loss</td><td>█▃▄▃▄▃▃▄▂▄▂▃▃▄▃▁▁▃▂▃▃▂▃▃▃▄▂▂▃▂▁▂▄▃▄▂▁▂▁▁</td></tr><tr><td>train/batch_mpjpe</td><td>▆▄█▃▃▄▂▂▄▅▅▄▂▅▄▂▂▃▄▅▄▅▄▂▄▂▃▂▂▄▂▄▁▂▂▂▃▂▂▂</td></tr><tr><td>train/hand_mpjpe</td><td>█▄▃▃▂▁▁</td></tr><tr><td>train/loss</td><td>█▃▂▁▁▁▁</td></tr><tr><td>train/lr</td><td>██████████▇▇▇▇▇▇▆▆▆▆▄▄▄▄▄▄▄▃▃▃▃▃▃▁▁▁▁▁▁▁</td></tr><tr><td>val/best_mpjpe</td><td>█▄▁▁▁▁▁</td></tr><tr><td>val/hand_mpjpe</td><td>█▄▁▂▂▁▁</td></tr><tr><td>val/loss</td><td>█▁▁▁▂▂▂</td></tr></table><br/></div><div class=\"wandb-col\"><h3>Run summary:</h3><br/><table class=\"wandb\"><tr><td>epoch</td><td>6</td></tr><tr><td>final/best_val_mpjpe</td><td>243.14453</td></tr><tr><td>final/epochs_trained</td><td>7</td></tr><tr><td>system/gpu_memory_gb</td><td>11.10901</td></tr><tr><td>train/batch_loss</td><td>0.6636</td></tr><tr><td>train/batch_mpjpe</td><td>382.8125</td></tr><tr><td>train/hand_mpjpe</td><td>263.48359</td></tr><tr><td>train/loss</td><td>0.49553</td></tr><tr><td>train/lr</td><td>0.0</td></tr><tr><td>val/best_mpjpe</td><td>243.14453</td></tr><tr><td>val/hand_mpjpe</td><td>243.14453</td></tr><tr><td>val/loss</td><td>0.43307</td></tr></table><br/></div></div>"
      ],
      "text/plain": [
       "<IPython.core.display.HTML object>"
      ]
     },
     "metadata": {},
     "output_type": "display_data"
    },
    {
     "data": {
      "text/html": [
       " View run <strong style=\"color:#cdcd00\">jumping-sweep-5</strong> at: <a href='https://wandb.ai/bryandong24-stanford-university/amt-hyperparameter-sweep/runs/p4iyh200' target=\"_blank\">https://wandb.ai/bryandong24-stanford-university/amt-hyperparameter-sweep/runs/p4iyh200</a><br> View project at: <a href='https://wandb.ai/bryandong24-stanford-university/amt-hyperparameter-sweep' target=\"_blank\">https://wandb.ai/bryandong24-stanford-university/amt-hyperparameter-sweep</a><br>Synced 5 W&B file(s), 0 media file(s), 0 artifact file(s) and 0 other file(s)"
      ],
      "text/plain": [
       "<IPython.core.display.HTML object>"
      ]
     },
     "metadata": {},
     "output_type": "display_data"
    },
    {
     "data": {
      "text/html": [
       "Find logs at: <code>./wandb/run-20250604_040555-p4iyh200/logs</code>"
      ],
      "text/plain": [
       "<IPython.core.display.HTML object>"
      ]
     },
     "metadata": {},
     "output_type": "display_data"
    },
    {
     "name": "stderr",
     "output_type": "stream",
     "text": [
      "\u001b[34m\u001b[1mwandb\u001b[0m: Agent Starting Run: 9o38oquc with config:\n",
      "\u001b[34m\u001b[1mwandb\u001b[0m: \taug_color_jitter: 0.1584341730348125\n",
      "\u001b[34m\u001b[1mwandb\u001b[0m: \taug_joint_noise_std: 0.006910442178796531\n",
      "\u001b[34m\u001b[1mwandb\u001b[0m: \taug_rotation_range: 6.982160669467106\n",
      "\u001b[34m\u001b[1mwandb\u001b[0m: \taug_scale_max: 1.1609287808135182\n",
      "\u001b[34m\u001b[1mwandb\u001b[0m: \taug_scale_min: 0.72773704312087\n",
      "\u001b[34m\u001b[1mwandb\u001b[0m: \taug_translation_std: 0.052429586398857406\n",
      "\u001b[34m\u001b[1mwandb\u001b[0m: \tbatch_size: 64\n",
      "\u001b[34m\u001b[1mwandb\u001b[0m: \tdiversity_margin: 0.01508840259845217\n",
      "\u001b[34m\u001b[1mwandb\u001b[0m: \tdropout: 0.15\n",
      "\u001b[34m\u001b[1mwandb\u001b[0m: \tfingertip_weight: 1.498680936573361\n",
      "\u001b[34m\u001b[1mwandb\u001b[0m: \tloss_weight_contact: 0.27676710750374195\n",
      "\u001b[34m\u001b[1mwandb\u001b[0m: \tloss_weight_diversity: 0.02951772808898696\n",
      "\u001b[34m\u001b[1mwandb\u001b[0m: \tloss_weight_hand_coarse: 1.0300350549224233\n",
      "\u001b[34m\u001b[1mwandb\u001b[0m: \tloss_weight_hand_refined: 1.1149836753026394\n",
      "\u001b[34m\u001b[1mwandb\u001b[0m: \tloss_weight_object_position: 0.9534985594568716\n",
      "\u001b[34m\u001b[1mwandb\u001b[0m: \tloss_weight_object_rotation: 0.6298907353482276\n",
      "\u001b[34m\u001b[1mwandb\u001b[0m: \tloss_weight_physics: 0.10122354654178634\n",
      "\u001b[34m\u001b[1mwandb\u001b[0m: \tloss_weight_reprojection: 0.3811656571690656\n",
      "\u001b[34m\u001b[1mwandb\u001b[0m: \tper_joint_weighting: True\n",
      "\u001b[34m\u001b[1mwandb\u001b[0m: \tscheduler_type: cosine\n"
     ]
    },
    {
     "data": {
      "text/html": [
       "Tracking run with wandb version 0.19.11"
      ],
      "text/plain": [
       "<IPython.core.display.HTML object>"
      ]
     },
     "metadata": {},
     "output_type": "display_data"
    },
    {
     "data": {
      "text/html": [
       "Run data is saved locally in <code>/home/n231/231nProjectV2/Advanced_Manipulation_Transformer/notebooks/wandb/run-20250604_041355-9o38oquc</code>"
      ],
      "text/plain": [
       "<IPython.core.display.HTML object>"
      ]
     },
     "metadata": {},
     "output_type": "display_data"
    },
    {
     "data": {
      "text/html": [
       "Syncing run <strong><a href='https://wandb.ai/bryandong24-stanford-university/amt-hyperparameter-sweep/runs/9o38oquc' target=\"_blank\">absurd-sweep-6</a></strong> to <a href='https://wandb.ai/bryandong24-stanford-university/amt-hyperparameter-sweep' target=\"_blank\">Weights & Biases</a> (<a href='https://wandb.me/developer-guide' target=\"_blank\">docs</a>)<br>Sweep page: <a href='https://wandb.ai/bryandong24-stanford-university/amt-hyperparameter-sweep/sweeps/c189gpt8' target=\"_blank\">https://wandb.ai/bryandong24-stanford-university/amt-hyperparameter-sweep/sweeps/c189gpt8</a>"
      ],
      "text/plain": [
       "<IPython.core.display.HTML object>"
      ]
     },
     "metadata": {},
     "output_type": "display_data"
    },
    {
     "data": {
      "text/html": [
       " View project at <a href='https://wandb.ai/bryandong24-stanford-university/amt-hyperparameter-sweep' target=\"_blank\">https://wandb.ai/bryandong24-stanford-university/amt-hyperparameter-sweep</a>"
      ],
      "text/plain": [
       "<IPython.core.display.HTML object>"
      ]
     },
     "metadata": {},
     "output_type": "display_data"
    },
    {
     "data": {
      "text/html": [
       " View sweep at <a href='https://wandb.ai/bryandong24-stanford-university/amt-hyperparameter-sweep/sweeps/c189gpt8' target=\"_blank\">https://wandb.ai/bryandong24-stanford-university/amt-hyperparameter-sweep/sweeps/c189gpt8</a>"
      ],
      "text/plain": [
       "<IPython.core.display.HTML object>"
      ]
     },
     "metadata": {},
     "output_type": "display_data"
    },
    {
     "data": {
      "text/html": [
       " View run at <a href='https://wandb.ai/bryandong24-stanford-university/amt-hyperparameter-sweep/runs/9o38oquc' target=\"_blank\">https://wandb.ai/bryandong24-stanford-university/amt-hyperparameter-sweep/runs/9o38oquc</a>"
      ],
      "text/plain": [
       "<IPython.core.display.HTML object>"
      ]
     },
     "metadata": {},
     "output_type": "display_data"
    },
    {
     "name": "stdout",
     "output_type": "stream",
     "text": [
      "Creating dataloaders with 20k train, 2k val samples, batch_size=64...\n",
      "Creating GPU-cached datasets...\n",
      "Target memory usage: 20.0 GB\n",
      "Estimated GPU memory usage: 20.0 GB\n",
      "Loading cached GPU dataset from ./gpu_cache_sweep/train_gpu_cache_20000.pt...\n",
      "Loading cache from ./gpu_cache_sweep/train_gpu_cache_20000.pt...\n",
      "✓ Loaded 20000 samples\n",
      "Estimated GPU memory usage: 2.0 GB\n",
      "Loading cached GPU dataset from ./gpu_cache_sweep/val_gpu_cache_2000.pt...\n",
      "Loading cache from ./gpu_cache_sweep/val_gpu_cache_2000.pt...\n",
      "✓ Loaded 2000 samples\n",
      "\n",
      "✓ GPU Datasets created:\n",
      "  Train: 20000 samples (6.7 GB)\n",
      "  Val: 2000 samples (6.7 GB)\n",
      "  Total GPU memory: 13.4 GB\n",
      "Dataloaders created: 312 train batches, 32 val batches\n",
      "Epoch 1/7: train_loss=0.9481, train_mpjpe=498.75mm, val_loss=0.4037, val_mpjpe=295.81mm\n",
      "Epoch 2/7: train_loss=0.5338, train_mpjpe=349.58mm, val_loss=0.4279, val_mpjpe=279.75mm\n",
      "Epoch 3/7: train_loss=0.5157, train_mpjpe=322.38mm, val_loss=0.4062, val_mpjpe=266.09mm\n",
      "Epoch 4/7: train_loss=0.5073, train_mpjpe=303.67mm, val_loss=0.4135, val_mpjpe=268.70mm\n",
      "Epoch 5/7: train_loss=0.5019, train_mpjpe=286.66mm, val_loss=0.4220, val_mpjpe=260.77mm\n",
      "Epoch 6/7: train_loss=0.5012, train_mpjpe=273.01mm, val_loss=0.4205, val_mpjpe=255.34mm\n",
      "Epoch 7/7: train_loss=0.5026, train_mpjpe=260.77mm, val_loss=0.4309, val_mpjpe=251.06mm\n"
     ]
    },
    {
     "data": {
      "text/html": [],
      "text/plain": [
       "<IPython.core.display.HTML object>"
      ]
     },
     "metadata": {},
     "output_type": "display_data"
    },
    {
     "data": {
      "text/html": [
       "<br>    <style><br>        .wandb-row {<br>            display: flex;<br>            flex-direction: row;<br>            flex-wrap: wrap;<br>            justify-content: flex-start;<br>            width: 100%;<br>        }<br>        .wandb-col {<br>            display: flex;<br>            flex-direction: column;<br>            flex-basis: 100%;<br>            flex: 1;<br>            padding: 10px;<br>        }<br>    </style><br><div class=\"wandb-row\"><div class=\"wandb-col\"><h3>Run history:</h3><br/><table class=\"wandb\"><tr><td>epoch</td><td>▁▂▃▅▆▇█</td></tr><tr><td>final/best_val_mpjpe</td><td>▁</td></tr><tr><td>final/epochs_trained</td><td>▁</td></tr><tr><td>system/gpu_memory_gb</td><td>▃▂▄▁▃▃▃▃▂▃▂▄▃▃▅▄▁▂▄▃▃▄▃▂▄▂▄▃▄▂▄▄▁▃▄▂▃▂█▄</td></tr><tr><td>train/batch_loss</td><td>█▃▂▂▃▂▂▁▁▁▁▁▁▁▁▁▁▁▁▁▁▁▁▁▁▁▁▁▁▁▁▁▁▁▁▁▁▁▁▁</td></tr><tr><td>train/batch_mpjpe</td><td>█▃▂▂▂▁▂▂▁▁▁▁▁▁▁▁▂▁▁▁▁▁▁▁▁▁▁▁▁▁▁▁▁▁▁▁▁▁▁▁</td></tr><tr><td>train/hand_mpjpe</td><td>█▄▃▂▂▁▁</td></tr><tr><td>train/loss</td><td>█▂▁▁▁▁▁</td></tr><tr><td>train/lr</td><td>██████████████▇▇▇▅▅▅▅▅▃▃▃▃▃▃▃▃▂▂▂▂▁▁▁▁▁▁</td></tr><tr><td>val/best_mpjpe</td><td>█▅▃▃▃▂▁</td></tr><tr><td>val/hand_mpjpe</td><td>█▅▃▄▃▂▁</td></tr><tr><td>val/loss</td><td>▁▇▂▄▆▅█</td></tr></table><br/></div><div class=\"wandb-col\"><h3>Run summary:</h3><br/><table class=\"wandb\"><tr><td>epoch</td><td>6</td></tr><tr><td>final/best_val_mpjpe</td><td>251.05859</td></tr><tr><td>final/epochs_trained</td><td>7</td></tr><tr><td>system/gpu_memory_gb</td><td>11.23127</td></tr><tr><td>train/batch_loss</td><td>0.54376</td></tr><tr><td>train/batch_mpjpe</td><td>273.4375</td></tr><tr><td>train/hand_mpjpe</td><td>260.76723</td></tr><tr><td>train/loss</td><td>0.50256</td></tr><tr><td>train/lr</td><td>0.0</td></tr><tr><td>val/best_mpjpe</td><td>251.05859</td></tr><tr><td>val/hand_mpjpe</td><td>251.05859</td></tr><tr><td>val/loss</td><td>0.4309</td></tr></table><br/></div></div>"
      ],
      "text/plain": [
       "<IPython.core.display.HTML object>"
      ]
     },
     "metadata": {},
     "output_type": "display_data"
    },
    {
     "data": {
      "text/html": [
       " View run <strong style=\"color:#cdcd00\">absurd-sweep-6</strong> at: <a href='https://wandb.ai/bryandong24-stanford-university/amt-hyperparameter-sweep/runs/9o38oquc' target=\"_blank\">https://wandb.ai/bryandong24-stanford-university/amt-hyperparameter-sweep/runs/9o38oquc</a><br> View project at: <a href='https://wandb.ai/bryandong24-stanford-university/amt-hyperparameter-sweep' target=\"_blank\">https://wandb.ai/bryandong24-stanford-university/amt-hyperparameter-sweep</a><br>Synced 5 W&B file(s), 0 media file(s), 0 artifact file(s) and 0 other file(s)"
      ],
      "text/plain": [
       "<IPython.core.display.HTML object>"
      ]
     },
     "metadata": {},
     "output_type": "display_data"
    },
    {
     "data": {
      "text/html": [
       "Find logs at: <code>./wandb/run-20250604_041355-9o38oquc/logs</code>"
      ],
      "text/plain": [
       "<IPython.core.display.HTML object>"
      ]
     },
     "metadata": {},
     "output_type": "display_data"
    },
    {
     "name": "stderr",
     "output_type": "stream",
     "text": [
      "\u001b[34m\u001b[1mwandb\u001b[0m: Agent Starting Run: c43kl579 with config:\n",
      "\u001b[34m\u001b[1mwandb\u001b[0m: \taug_color_jitter: 0.12672901733760675\n",
      "\u001b[34m\u001b[1mwandb\u001b[0m: \taug_joint_noise_std: 0.007193260637694643\n",
      "\u001b[34m\u001b[1mwandb\u001b[0m: \taug_rotation_range: 6.628984156972136\n",
      "\u001b[34m\u001b[1mwandb\u001b[0m: \taug_scale_max: 1.141491857908568\n",
      "\u001b[34m\u001b[1mwandb\u001b[0m: \taug_scale_min: 0.763721096146292\n",
      "\u001b[34m\u001b[1mwandb\u001b[0m: \taug_translation_std: 0.04420020041596818\n",
      "\u001b[34m\u001b[1mwandb\u001b[0m: \tbatch_size: 64\n",
      "\u001b[34m\u001b[1mwandb\u001b[0m: \tdiversity_margin: 0.015935998751044223\n",
      "\u001b[34m\u001b[1mwandb\u001b[0m: \tdropout: 0.15\n",
      "\u001b[34m\u001b[1mwandb\u001b[0m: \tfingertip_weight: 1.2928481824627232\n",
      "\u001b[34m\u001b[1mwandb\u001b[0m: \tloss_weight_contact: 0.3580475031070855\n",
      "\u001b[34m\u001b[1mwandb\u001b[0m: \tloss_weight_diversity: 0.024383808756130564\n",
      "\u001b[34m\u001b[1mwandb\u001b[0m: \tloss_weight_hand_coarse: 0.9875224109515356\n",
      "\u001b[34m\u001b[1mwandb\u001b[0m: \tloss_weight_hand_refined: 1.1678958910650228\n",
      "\u001b[34m\u001b[1mwandb\u001b[0m: \tloss_weight_object_position: 1.077452397643558\n",
      "\u001b[34m\u001b[1mwandb\u001b[0m: \tloss_weight_object_rotation: 0.49291371329188305\n",
      "\u001b[34m\u001b[1mwandb\u001b[0m: \tloss_weight_physics: 0.16178025438023036\n",
      "\u001b[34m\u001b[1mwandb\u001b[0m: \tloss_weight_reprojection: 0.3220367553222794\n",
      "\u001b[34m\u001b[1mwandb\u001b[0m: \tper_joint_weighting: True\n",
      "\u001b[34m\u001b[1mwandb\u001b[0m: \tscheduler_type: step\n"
     ]
    },
    {
     "data": {
      "text/html": [
       "Tracking run with wandb version 0.19.11"
      ],
      "text/plain": [
       "<IPython.core.display.HTML object>"
      ]
     },
     "metadata": {},
     "output_type": "display_data"
    },
    {
     "data": {
      "text/html": [
       "Run data is saved locally in <code>/home/n231/231nProjectV2/Advanced_Manipulation_Transformer/notebooks/wandb/run-20250604_041948-c43kl579</code>"
      ],
      "text/plain": [
       "<IPython.core.display.HTML object>"
      ]
     },
     "metadata": {},
     "output_type": "display_data"
    },
    {
     "data": {
      "text/html": [
       "Syncing run <strong><a href='https://wandb.ai/bryandong24-stanford-university/amt-hyperparameter-sweep/runs/c43kl579' target=\"_blank\">avid-sweep-7</a></strong> to <a href='https://wandb.ai/bryandong24-stanford-university/amt-hyperparameter-sweep' target=\"_blank\">Weights & Biases</a> (<a href='https://wandb.me/developer-guide' target=\"_blank\">docs</a>)<br>Sweep page: <a href='https://wandb.ai/bryandong24-stanford-university/amt-hyperparameter-sweep/sweeps/c189gpt8' target=\"_blank\">https://wandb.ai/bryandong24-stanford-university/amt-hyperparameter-sweep/sweeps/c189gpt8</a>"
      ],
      "text/plain": [
       "<IPython.core.display.HTML object>"
      ]
     },
     "metadata": {},
     "output_type": "display_data"
    },
    {
     "data": {
      "text/html": [
       " View project at <a href='https://wandb.ai/bryandong24-stanford-university/amt-hyperparameter-sweep' target=\"_blank\">https://wandb.ai/bryandong24-stanford-university/amt-hyperparameter-sweep</a>"
      ],
      "text/plain": [
       "<IPython.core.display.HTML object>"
      ]
     },
     "metadata": {},
     "output_type": "display_data"
    },
    {
     "data": {
      "text/html": [
       " View sweep at <a href='https://wandb.ai/bryandong24-stanford-university/amt-hyperparameter-sweep/sweeps/c189gpt8' target=\"_blank\">https://wandb.ai/bryandong24-stanford-university/amt-hyperparameter-sweep/sweeps/c189gpt8</a>"
      ],
      "text/plain": [
       "<IPython.core.display.HTML object>"
      ]
     },
     "metadata": {},
     "output_type": "display_data"
    },
    {
     "data": {
      "text/html": [
       " View run at <a href='https://wandb.ai/bryandong24-stanford-university/amt-hyperparameter-sweep/runs/c43kl579' target=\"_blank\">https://wandb.ai/bryandong24-stanford-university/amt-hyperparameter-sweep/runs/c43kl579</a>"
      ],
      "text/plain": [
       "<IPython.core.display.HTML object>"
      ]
     },
     "metadata": {},
     "output_type": "display_data"
    },
    {
     "name": "stdout",
     "output_type": "stream",
     "text": [
      "Creating dataloaders with 20k train, 2k val samples, batch_size=64...\n",
      "Creating GPU-cached datasets...\n",
      "Target memory usage: 20.0 GB\n",
      "Estimated GPU memory usage: 20.0 GB\n",
      "Loading cached GPU dataset from ./gpu_cache_sweep/train_gpu_cache_20000.pt...\n",
      "Loading cache from ./gpu_cache_sweep/train_gpu_cache_20000.pt...\n",
      "✓ Loaded 20000 samples\n",
      "Estimated GPU memory usage: 2.0 GB\n",
      "Loading cached GPU dataset from ./gpu_cache_sweep/val_gpu_cache_2000.pt...\n",
      "Loading cache from ./gpu_cache_sweep/val_gpu_cache_2000.pt...\n",
      "✓ Loaded 2000 samples\n",
      "\n",
      "✓ GPU Datasets created:\n",
      "  Train: 20000 samples (6.7 GB)\n",
      "  Val: 2000 samples (6.7 GB)\n",
      "  Total GPU memory: 13.4 GB\n",
      "Dataloaders created: 312 train batches, 32 val batches\n",
      "Epoch 1/7: train_loss=0.8764, train_mpjpe=473.25mm, val_loss=0.4148, val_mpjpe=352.02mm\n",
      "Epoch 2/7: train_loss=0.5310, train_mpjpe=345.65mm, val_loss=0.4052, val_mpjpe=298.38mm\n",
      "Epoch 3/7: train_loss=0.5156, train_mpjpe=326.75mm, val_loss=0.4075, val_mpjpe=277.28mm\n",
      "Epoch 4/7: train_loss=0.5029, train_mpjpe=300.95mm, val_loss=0.4096, val_mpjpe=260.34mm\n",
      "Epoch 5/7: train_loss=0.5012, train_mpjpe=288.15mm, val_loss=0.4148, val_mpjpe=264.88mm\n",
      "Epoch 6/7: train_loss=0.5035, train_mpjpe=276.37mm, val_loss=0.4360, val_mpjpe=267.64mm\n",
      "Epoch 7/7: train_loss=0.4988, train_mpjpe=264.27mm, val_loss=0.4406, val_mpjpe=268.61mm\n"
     ]
    },
    {
     "data": {
      "text/html": [],
      "text/plain": [
       "<IPython.core.display.HTML object>"
      ]
     },
     "metadata": {},
     "output_type": "display_data"
    },
    {
     "data": {
      "text/html": [
       "<br>    <style><br>        .wandb-row {<br>            display: flex;<br>            flex-direction: row;<br>            flex-wrap: wrap;<br>            justify-content: flex-start;<br>            width: 100%;<br>        }<br>        .wandb-col {<br>            display: flex;<br>            flex-direction: column;<br>            flex-basis: 100%;<br>            flex: 1;<br>            padding: 10px;<br>        }<br>    </style><br><div class=\"wandb-row\"><div class=\"wandb-col\"><h3>Run history:</h3><br/><table class=\"wandb\"><tr><td>epoch</td><td>▁▂▃▅▆▇█</td></tr><tr><td>final/best_val_mpjpe</td><td>▁</td></tr><tr><td>final/epochs_trained</td><td>▁</td></tr><tr><td>system/gpu_memory_gb</td><td>▆▃▄▂▃▅▂▆█▅▁█▆▇▂▆▅▄▆▄▇▂▃▁▅▄▆▃▇▂▆▄█▆▄▃▅▆▅▆</td></tr><tr><td>train/batch_loss</td><td>█▃▂▂▂▂▂▂▂▁▁▁▁▁▁▁▂▁▁▁▂▂▁▁▁▁▁▁▂▁▂▁▁▁▂▁▂▁▁▁</td></tr><tr><td>train/batch_mpjpe</td><td>█▂▂▂▂▂▂▂▂▂▁▁▁▁▁▂▁▁▁▁▁▁▁▁▁▁▁▁▂▁▁▂▁▁▁▁▁▁▁▁</td></tr><tr><td>train/hand_mpjpe</td><td>█▄▃▂▂▁▁</td></tr><tr><td>train/loss</td><td>█▂▁▁▁▁▁</td></tr><tr><td>train/lr</td><td>████████████████████▃▃▃▃▃▃▃▃▃▃▃▃▃▃▃▁▁▁▁▁</td></tr><tr><td>val/best_mpjpe</td><td>█▄▂▁▁▁▁</td></tr><tr><td>val/hand_mpjpe</td><td>█▄▂▁▁▂▂</td></tr><tr><td>val/loss</td><td>▃▁▁▂▃▇█</td></tr></table><br/></div><div class=\"wandb-col\"><h3>Run summary:</h3><br/><table class=\"wandb\"><tr><td>epoch</td><td>6</td></tr><tr><td>final/best_val_mpjpe</td><td>260.33594</td></tr><tr><td>final/epochs_trained</td><td>7</td></tr><tr><td>system/gpu_memory_gb</td><td>11.22616</td></tr><tr><td>train/batch_loss</td><td>0.77552</td></tr><tr><td>train/batch_mpjpe</td><td>449.21875</td></tr><tr><td>train/hand_mpjpe</td><td>264.27284</td></tr><tr><td>train/loss</td><td>0.49883</td></tr><tr><td>train/lr</td><td>0.0</td></tr><tr><td>val/best_mpjpe</td><td>260.33594</td></tr><tr><td>val/hand_mpjpe</td><td>268.60938</td></tr><tr><td>val/loss</td><td>0.4406</td></tr></table><br/></div></div>"
      ],
      "text/plain": [
       "<IPython.core.display.HTML object>"
      ]
     },
     "metadata": {},
     "output_type": "display_data"
    },
    {
     "data": {
      "text/html": [
       " View run <strong style=\"color:#cdcd00\">avid-sweep-7</strong> at: <a href='https://wandb.ai/bryandong24-stanford-university/amt-hyperparameter-sweep/runs/c43kl579' target=\"_blank\">https://wandb.ai/bryandong24-stanford-university/amt-hyperparameter-sweep/runs/c43kl579</a><br> View project at: <a href='https://wandb.ai/bryandong24-stanford-university/amt-hyperparameter-sweep' target=\"_blank\">https://wandb.ai/bryandong24-stanford-university/amt-hyperparameter-sweep</a><br>Synced 5 W&B file(s), 0 media file(s), 0 artifact file(s) and 0 other file(s)"
      ],
      "text/plain": [
       "<IPython.core.display.HTML object>"
      ]
     },
     "metadata": {},
     "output_type": "display_data"
    },
    {
     "data": {
      "text/html": [
       "Find logs at: <code>./wandb/run-20250604_041948-c43kl579/logs</code>"
      ],
      "text/plain": [
       "<IPython.core.display.HTML object>"
      ]
     },
     "metadata": {},
     "output_type": "display_data"
    },
    {
     "name": "stderr",
     "output_type": "stream",
     "text": [
      "\u001b[34m\u001b[1mwandb\u001b[0m: Agent Starting Run: ywmtov8c with config:\n",
      "\u001b[34m\u001b[1mwandb\u001b[0m: \taug_color_jitter: 0.28047913265426705\n",
      "\u001b[34m\u001b[1mwandb\u001b[0m: \taug_joint_noise_std: 0.007263167045264424\n",
      "\u001b[34m\u001b[1mwandb\u001b[0m: \taug_rotation_range: 13.475498999061012\n",
      "\u001b[34m\u001b[1mwandb\u001b[0m: \taug_scale_max: 1.2115018234169104\n",
      "\u001b[34m\u001b[1mwandb\u001b[0m: \taug_scale_min: 0.7873492589091858\n",
      "\u001b[34m\u001b[1mwandb\u001b[0m: \taug_translation_std: 0.06799656584039776\n",
      "\u001b[34m\u001b[1mwandb\u001b[0m: \tbatch_size: 32\n",
      "\u001b[34m\u001b[1mwandb\u001b[0m: \tdiversity_margin: 0.010347173954799886\n",
      "\u001b[34m\u001b[1mwandb\u001b[0m: \tdropout: 0.15\n",
      "\u001b[34m\u001b[1mwandb\u001b[0m: \tfingertip_weight: 1.783179023943586\n",
      "\u001b[34m\u001b[1mwandb\u001b[0m: \tloss_weight_contact: 0.3283685826044055\n",
      "\u001b[34m\u001b[1mwandb\u001b[0m: \tloss_weight_diversity: 0.021082225320516356\n",
      "\u001b[34m\u001b[1mwandb\u001b[0m: \tloss_weight_hand_coarse: 1.1937766693950151\n",
      "\u001b[34m\u001b[1mwandb\u001b[0m: \tloss_weight_hand_refined: 1.413722881577916\n",
      "\u001b[34m\u001b[1mwandb\u001b[0m: \tloss_weight_object_position: 0.9159041168037446\n",
      "\u001b[34m\u001b[1mwandb\u001b[0m: \tloss_weight_object_rotation: 0.32339852679670056\n",
      "\u001b[34m\u001b[1mwandb\u001b[0m: \tloss_weight_physics: 0.1465126416273206\n",
      "\u001b[34m\u001b[1mwandb\u001b[0m: \tloss_weight_reprojection: 0.4637933046533785\n",
      "\u001b[34m\u001b[1mwandb\u001b[0m: \tper_joint_weighting: False\n",
      "\u001b[34m\u001b[1mwandb\u001b[0m: \tscheduler_type: cosine_warmup\n"
     ]
    },
    {
     "data": {
      "text/html": [
       "Tracking run with wandb version 0.19.11"
      ],
      "text/plain": [
       "<IPython.core.display.HTML object>"
      ]
     },
     "metadata": {},
     "output_type": "display_data"
    },
    {
     "data": {
      "text/html": [
       "Run data is saved locally in <code>/home/n231/231nProjectV2/Advanced_Manipulation_Transformer/notebooks/wandb/run-20250604_042537-ywmtov8c</code>"
      ],
      "text/plain": [
       "<IPython.core.display.HTML object>"
      ]
     },
     "metadata": {},
     "output_type": "display_data"
    },
    {
     "data": {
      "text/html": [
       "Syncing run <strong><a href='https://wandb.ai/bryandong24-stanford-university/amt-hyperparameter-sweep/runs/ywmtov8c' target=\"_blank\">hearty-sweep-8</a></strong> to <a href='https://wandb.ai/bryandong24-stanford-university/amt-hyperparameter-sweep' target=\"_blank\">Weights & Biases</a> (<a href='https://wandb.me/developer-guide' target=\"_blank\">docs</a>)<br>Sweep page: <a href='https://wandb.ai/bryandong24-stanford-university/amt-hyperparameter-sweep/sweeps/c189gpt8' target=\"_blank\">https://wandb.ai/bryandong24-stanford-university/amt-hyperparameter-sweep/sweeps/c189gpt8</a>"
      ],
      "text/plain": [
       "<IPython.core.display.HTML object>"
      ]
     },
     "metadata": {},
     "output_type": "display_data"
    },
    {
     "data": {
      "text/html": [
       " View project at <a href='https://wandb.ai/bryandong24-stanford-university/amt-hyperparameter-sweep' target=\"_blank\">https://wandb.ai/bryandong24-stanford-university/amt-hyperparameter-sweep</a>"
      ],
      "text/plain": [
       "<IPython.core.display.HTML object>"
      ]
     },
     "metadata": {},
     "output_type": "display_data"
    },
    {
     "data": {
      "text/html": [
       " View sweep at <a href='https://wandb.ai/bryandong24-stanford-university/amt-hyperparameter-sweep/sweeps/c189gpt8' target=\"_blank\">https://wandb.ai/bryandong24-stanford-university/amt-hyperparameter-sweep/sweeps/c189gpt8</a>"
      ],
      "text/plain": [
       "<IPython.core.display.HTML object>"
      ]
     },
     "metadata": {},
     "output_type": "display_data"
    },
    {
     "data": {
      "text/html": [
       " View run at <a href='https://wandb.ai/bryandong24-stanford-university/amt-hyperparameter-sweep/runs/ywmtov8c' target=\"_blank\">https://wandb.ai/bryandong24-stanford-university/amt-hyperparameter-sweep/runs/ywmtov8c</a>"
      ],
      "text/plain": [
       "<IPython.core.display.HTML object>"
      ]
     },
     "metadata": {},
     "output_type": "display_data"
    },
    {
     "name": "stdout",
     "output_type": "stream",
     "text": [
      "Creating dataloaders with 20k train, 2k val samples, batch_size=32...\n",
      "Creating GPU-cached datasets...\n",
      "Target memory usage: 20.0 GB\n",
      "Estimated GPU memory usage: 20.0 GB\n",
      "Loading cached GPU dataset from ./gpu_cache_sweep/train_gpu_cache_20000.pt...\n",
      "Loading cache from ./gpu_cache_sweep/train_gpu_cache_20000.pt...\n",
      "✓ Loaded 20000 samples\n",
      "Estimated GPU memory usage: 2.0 GB\n",
      "Loading cached GPU dataset from ./gpu_cache_sweep/val_gpu_cache_2000.pt...\n",
      "Loading cache from ./gpu_cache_sweep/val_gpu_cache_2000.pt...\n",
      "✓ Loaded 2000 samples\n",
      "\n",
      "✓ GPU Datasets created:\n",
      "  Train: 20000 samples (6.7 GB)\n",
      "  Val: 2000 samples (6.7 GB)\n",
      "  Total GPU memory: 13.4 GB\n",
      "Dataloaders created: 625 train batches, 63 val batches\n",
      "Epoch 1/7: train_loss=0.8175, train_mpjpe=426.15mm, val_loss=0.4668, val_mpjpe=296.39mm\n",
      "Epoch 2/7: train_loss=0.5883, train_mpjpe=322.50mm, val_loss=0.4763, val_mpjpe=282.24mm\n",
      "Epoch 3/7: train_loss=0.5685, train_mpjpe=301.45mm, val_loss=0.4823, val_mpjpe=273.90mm\n",
      "Epoch 4/7: train_loss=0.5582, train_mpjpe=287.33mm, val_loss=0.4835, val_mpjpe=269.46mm\n",
      "Epoch 5/7: train_loss=0.5513, train_mpjpe=277.27mm, val_loss=0.4893, val_mpjpe=261.80mm\n",
      "Epoch 6/7: train_loss=0.5361, train_mpjpe=266.24mm, val_loss=0.4599, val_mpjpe=238.63mm\n",
      "Epoch 7/7: train_loss=0.5254, train_mpjpe=254.19mm, val_loss=0.4684, val_mpjpe=247.56mm\n"
     ]
    },
    {
     "data": {
      "text/html": [],
      "text/plain": [
       "<IPython.core.display.HTML object>"
      ]
     },
     "metadata": {},
     "output_type": "display_data"
    },
    {
     "data": {
      "text/html": [
       "<br>    <style><br>        .wandb-row {<br>            display: flex;<br>            flex-direction: row;<br>            flex-wrap: wrap;<br>            justify-content: flex-start;<br>            width: 100%;<br>        }<br>        .wandb-col {<br>            display: flex;<br>            flex-direction: column;<br>            flex-basis: 100%;<br>            flex: 1;<br>            padding: 10px;<br>        }<br>    </style><br><div class=\"wandb-row\"><div class=\"wandb-col\"><h3>Run history:</h3><br/><table class=\"wandb\"><tr><td>epoch</td><td>▁▂▃▅▆▇█</td></tr><tr><td>final/best_val_mpjpe</td><td>▁</td></tr><tr><td>final/epochs_trained</td><td>▁</td></tr><tr><td>system/gpu_memory_gb</td><td>▁▁▅▇▆▁██▅▇▆▄▃▇▅▆▆▄▄▃▅▆▇▃▇▄▇▃█▄▅▆▄▆▂▇▅▅▄▆</td></tr><tr><td>train/batch_loss</td><td>██▄▅▄▆▅▅▂▃▂▃▄▄▃▂▄▃▁▄▄▂▅▅▃▄▄▂▂▅▄▂▃▅▅▆▆▂▁▁</td></tr><tr><td>train/batch_mpjpe</td><td>▆▆▅▅▄▅▄▅▄▃▄▅▂▆▂▇▃▁▄▂▂▆▇▂▃█▄▆▄▁▅▅▄▃▅▅▆▂▁▂</td></tr><tr><td>train/hand_mpjpe</td><td>█▄▃▂▂▁▁</td></tr><tr><td>train/loss</td><td>█▃▂▂▂▁▁</td></tr><tr><td>train/lr</td><td>██████████▇▇▇▇▇▇▇▆▆▄▄▄▄▄▄▃▃▃▃▃▃▃▁▁▁▁▁▁▁▁</td></tr><tr><td>val/best_mpjpe</td><td>█▆▅▅▄▁▁</td></tr><tr><td>val/hand_mpjpe</td><td>█▆▅▅▄▁▂</td></tr><tr><td>val/loss</td><td>▃▅▆▇█▁▃</td></tr></table><br/></div><div class=\"wandb-col\"><h3>Run summary:</h3><br/><table class=\"wandb\"><tr><td>epoch</td><td>6</td></tr><tr><td>final/best_val_mpjpe</td><td>238.63477</td></tr><tr><td>final/epochs_trained</td><td>7</td></tr><tr><td>system/gpu_memory_gb</td><td>11.1121</td></tr><tr><td>train/batch_loss</td><td>0.39422</td></tr><tr><td>train/batch_mpjpe</td><td>193.35938</td></tr><tr><td>train/hand_mpjpe</td><td>254.19297</td></tr><tr><td>train/loss</td><td>0.52544</td></tr><tr><td>train/lr</td><td>0.0</td></tr><tr><td>val/best_mpjpe</td><td>238.63477</td></tr><tr><td>val/hand_mpjpe</td><td>247.5625</td></tr><tr><td>val/loss</td><td>0.46835</td></tr></table><br/></div></div>"
      ],
      "text/plain": [
       "<IPython.core.display.HTML object>"
      ]
     },
     "metadata": {},
     "output_type": "display_data"
    },
    {
     "data": {
      "text/html": [
       " View run <strong style=\"color:#cdcd00\">hearty-sweep-8</strong> at: <a href='https://wandb.ai/bryandong24-stanford-university/amt-hyperparameter-sweep/runs/ywmtov8c' target=\"_blank\">https://wandb.ai/bryandong24-stanford-university/amt-hyperparameter-sweep/runs/ywmtov8c</a><br> View project at: <a href='https://wandb.ai/bryandong24-stanford-university/amt-hyperparameter-sweep' target=\"_blank\">https://wandb.ai/bryandong24-stanford-university/amt-hyperparameter-sweep</a><br>Synced 5 W&B file(s), 0 media file(s), 0 artifact file(s) and 0 other file(s)"
      ],
      "text/plain": [
       "<IPython.core.display.HTML object>"
      ]
     },
     "metadata": {},
     "output_type": "display_data"
    },
    {
     "data": {
      "text/html": [
       "Find logs at: <code>./wandb/run-20250604_042537-ywmtov8c/logs</code>"
      ],
      "text/plain": [
       "<IPython.core.display.HTML object>"
      ]
     },
     "metadata": {},
     "output_type": "display_data"
    },
    {
     "name": "stderr",
     "output_type": "stream",
     "text": [
      "\u001b[34m\u001b[1mwandb\u001b[0m: Sweep Agent: Waiting for job.\n",
      "\u001b[34m\u001b[1mwandb\u001b[0m: Job received.\n",
      "\u001b[34m\u001b[1mwandb\u001b[0m: Agent Starting Run: btqc5o50 with config:\n",
      "\u001b[34m\u001b[1mwandb\u001b[0m: \taug_color_jitter: 0.20310943636888357\n",
      "\u001b[34m\u001b[1mwandb\u001b[0m: \taug_joint_noise_std: 0.009530080013215113\n",
      "\u001b[34m\u001b[1mwandb\u001b[0m: \taug_rotation_range: 8.694687715007143\n",
      "\u001b[34m\u001b[1mwandb\u001b[0m: \taug_scale_max: 1.1247154511130395\n",
      "\u001b[34m\u001b[1mwandb\u001b[0m: \taug_scale_min: 0.7570057832923671\n",
      "\u001b[34m\u001b[1mwandb\u001b[0m: \taug_translation_std: 0.04496491425723996\n",
      "\u001b[34m\u001b[1mwandb\u001b[0m: \tbatch_size: 32\n",
      "\u001b[34m\u001b[1mwandb\u001b[0m: \tdiversity_margin: 0.00857742615313547\n",
      "\u001b[34m\u001b[1mwandb\u001b[0m: \tdropout: 0.1\n",
      "\u001b[34m\u001b[1mwandb\u001b[0m: \tfingertip_weight: 1.3019368741495183\n",
      "\u001b[34m\u001b[1mwandb\u001b[0m: \tloss_weight_contact: 0.4156766877642591\n",
      "\u001b[34m\u001b[1mwandb\u001b[0m: \tloss_weight_diversity: 0.008101565117471843\n",
      "\u001b[34m\u001b[1mwandb\u001b[0m: \tloss_weight_hand_coarse: 0.9875216759498652\n",
      "\u001b[34m\u001b[1mwandb\u001b[0m: \tloss_weight_hand_refined: 1.1492224929705637\n",
      "\u001b[34m\u001b[1mwandb\u001b[0m: \tloss_weight_object_position: 0.8535818079076642\n",
      "\u001b[34m\u001b[1mwandb\u001b[0m: \tloss_weight_object_rotation: 0.566843593226813\n",
      "\u001b[34m\u001b[1mwandb\u001b[0m: \tloss_weight_physics: 0.15398731090259948\n",
      "\u001b[34m\u001b[1mwandb\u001b[0m: \tloss_weight_reprojection: 0.35907058088628685\n",
      "\u001b[34m\u001b[1mwandb\u001b[0m: \tper_joint_weighting: False\n",
      "\u001b[34m\u001b[1mwandb\u001b[0m: \tscheduler_type: cosine\n"
     ]
    },
    {
     "data": {
      "text/html": [
       "Tracking run with wandb version 0.19.11"
      ],
      "text/plain": [
       "<IPython.core.display.HTML object>"
      ]
     },
     "metadata": {},
     "output_type": "display_data"
    },
    {
     "data": {
      "text/html": [
       "Run data is saved locally in <code>/home/n231/231nProjectV2/Advanced_Manipulation_Transformer/notebooks/wandb/run-20250604_043358-btqc5o50</code>"
      ],
      "text/plain": [
       "<IPython.core.display.HTML object>"
      ]
     },
     "metadata": {},
     "output_type": "display_data"
    },
    {
     "data": {
      "text/html": [
       "Syncing run <strong><a href='https://wandb.ai/bryandong24-stanford-university/amt-hyperparameter-sweep/runs/btqc5o50' target=\"_blank\">faithful-sweep-9</a></strong> to <a href='https://wandb.ai/bryandong24-stanford-university/amt-hyperparameter-sweep' target=\"_blank\">Weights & Biases</a> (<a href='https://wandb.me/developer-guide' target=\"_blank\">docs</a>)<br>Sweep page: <a href='https://wandb.ai/bryandong24-stanford-university/amt-hyperparameter-sweep/sweeps/c189gpt8' target=\"_blank\">https://wandb.ai/bryandong24-stanford-university/amt-hyperparameter-sweep/sweeps/c189gpt8</a>"
      ],
      "text/plain": [
       "<IPython.core.display.HTML object>"
      ]
     },
     "metadata": {},
     "output_type": "display_data"
    },
    {
     "data": {
      "text/html": [
       " View project at <a href='https://wandb.ai/bryandong24-stanford-university/amt-hyperparameter-sweep' target=\"_blank\">https://wandb.ai/bryandong24-stanford-university/amt-hyperparameter-sweep</a>"
      ],
      "text/plain": [
       "<IPython.core.display.HTML object>"
      ]
     },
     "metadata": {},
     "output_type": "display_data"
    },
    {
     "data": {
      "text/html": [
       " View sweep at <a href='https://wandb.ai/bryandong24-stanford-university/amt-hyperparameter-sweep/sweeps/c189gpt8' target=\"_blank\">https://wandb.ai/bryandong24-stanford-university/amt-hyperparameter-sweep/sweeps/c189gpt8</a>"
      ],
      "text/plain": [
       "<IPython.core.display.HTML object>"
      ]
     },
     "metadata": {},
     "output_type": "display_data"
    },
    {
     "data": {
      "text/html": [
       " View run at <a href='https://wandb.ai/bryandong24-stanford-university/amt-hyperparameter-sweep/runs/btqc5o50' target=\"_blank\">https://wandb.ai/bryandong24-stanford-university/amt-hyperparameter-sweep/runs/btqc5o50</a>"
      ],
      "text/plain": [
       "<IPython.core.display.HTML object>"
      ]
     },
     "metadata": {},
     "output_type": "display_data"
    },
    {
     "name": "stdout",
     "output_type": "stream",
     "text": [
      "Creating dataloaders with 20k train, 2k val samples, batch_size=32...\n",
      "Creating GPU-cached datasets...\n",
      "Target memory usage: 20.0 GB\n",
      "Estimated GPU memory usage: 20.0 GB\n",
      "Loading cached GPU dataset from ./gpu_cache_sweep/train_gpu_cache_20000.pt...\n",
      "Loading cache from ./gpu_cache_sweep/train_gpu_cache_20000.pt...\n",
      "✓ Loaded 20000 samples\n",
      "Estimated GPU memory usage: 2.0 GB\n",
      "Loading cached GPU dataset from ./gpu_cache_sweep/val_gpu_cache_2000.pt...\n",
      "Loading cache from ./gpu_cache_sweep/val_gpu_cache_2000.pt...\n",
      "✓ Loaded 2000 samples\n",
      "\n",
      "✓ GPU Datasets created:\n",
      "  Train: 20000 samples (6.7 GB)\n",
      "  Val: 2000 samples (6.7 GB)\n",
      "  Total GPU memory: 13.4 GB\n",
      "Dataloaders created: 625 train batches, 63 val batches\n",
      "Epoch 1/7: train_loss=0.6490, train_mpjpe=418.97mm, val_loss=0.4061, val_mpjpe=287.55mm\n",
      "Epoch 2/7: train_loss=0.4789, train_mpjpe=320.12mm, val_loss=0.3889, val_mpjpe=255.45mm\n",
      "Epoch 3/7: train_loss=0.4663, train_mpjpe=294.87mm, val_loss=0.3992, val_mpjpe=257.46mm\n",
      "Epoch 4/7: train_loss=0.4571, train_mpjpe=277.16mm, val_loss=0.3856, val_mpjpe=246.76mm\n",
      "Epoch 5/7: train_loss=0.4490, train_mpjpe=264.26mm, val_loss=0.3829, val_mpjpe=244.49mm\n",
      "Epoch 6/7: train_loss=0.4407, train_mpjpe=249.24mm, val_loss=0.3900, val_mpjpe=242.46mm\n",
      "Epoch 7/7: train_loss=0.4382, train_mpjpe=237.85mm, val_loss=0.3988, val_mpjpe=243.30mm\n"
     ]
    },
    {
     "data": {
      "text/html": [],
      "text/plain": [
       "<IPython.core.display.HTML object>"
      ]
     },
     "metadata": {},
     "output_type": "display_data"
    },
    {
     "data": {
      "text/html": [
       "<br>    <style><br>        .wandb-row {<br>            display: flex;<br>            flex-direction: row;<br>            flex-wrap: wrap;<br>            justify-content: flex-start;<br>            width: 100%;<br>        }<br>        .wandb-col {<br>            display: flex;<br>            flex-direction: column;<br>            flex-basis: 100%;<br>            flex: 1;<br>            padding: 10px;<br>        }<br>    </style><br><div class=\"wandb-row\"><div class=\"wandb-col\"><h3>Run history:</h3><br/><table class=\"wandb\"><tr><td>epoch</td><td>▁▂▃▅▆▇█</td></tr><tr><td>final/best_val_mpjpe</td><td>▁</td></tr><tr><td>final/epochs_trained</td><td>▁</td></tr><tr><td>system/gpu_memory_gb</td><td>▃▅▇▂▇▇▃▆▆▅▄█▅▅▇▃▄▄▄▅▅▃▄▆▆▄▁▄▄▄▅▄▂▇▃▃▄▅▃▆</td></tr><tr><td>train/batch_loss</td><td>▅▅█▆▃▅▆▆▂▇▆▅█▅▄▄▃▃▃▂▄▃▅▄▃▃▂▆▅▆▁▄▃▃▂▅▆▃▃▁</td></tr><tr><td>train/batch_mpjpe</td><td>█▆▅▄▃▄▄▄▃▄▅▃▂▄▄▁▃▃▃▃▂▁▂▄▂▄▃▂▂▃▃▁▁▂▁▂▂▂▃▂</td></tr><tr><td>train/hand_mpjpe</td><td>█▄▃▃▂▁▁</td></tr><tr><td>train/loss</td><td>█▂▂▂▁▁▁</td></tr><tr><td>train/lr</td><td>██████████████▇▇▇▅▅▅▅▅▅▃▃▃▃▃▃▂▂▂▂▂▁▁▁▁▁▁</td></tr><tr><td>val/best_mpjpe</td><td>█▃▃▂▁▁▁</td></tr><tr><td>val/hand_mpjpe</td><td>█▃▃▂▁▁▁</td></tr><tr><td>val/loss</td><td>█▃▆▂▁▃▆</td></tr></table><br/></div><div class=\"wandb-col\"><h3>Run summary:</h3><br/><table class=\"wandb\"><tr><td>epoch</td><td>6</td></tr><tr><td>final/best_val_mpjpe</td><td>242.46094</td></tr><tr><td>final/epochs_trained</td><td>7</td></tr><tr><td>system/gpu_memory_gb</td><td>11.10738</td></tr><tr><td>train/batch_loss</td><td>0.2837</td></tr><tr><td>train/batch_mpjpe</td><td>137.69531</td></tr><tr><td>train/hand_mpjpe</td><td>237.85078</td></tr><tr><td>train/loss</td><td>0.43821</td></tr><tr><td>train/lr</td><td>0.0</td></tr><tr><td>val/best_mpjpe</td><td>242.46094</td></tr><tr><td>val/hand_mpjpe</td><td>243.30078</td></tr><tr><td>val/loss</td><td>0.39885</td></tr></table><br/></div></div>"
      ],
      "text/plain": [
       "<IPython.core.display.HTML object>"
      ]
     },
     "metadata": {},
     "output_type": "display_data"
    },
    {
     "data": {
      "text/html": [
       " View run <strong style=\"color:#cdcd00\">faithful-sweep-9</strong> at: <a href='https://wandb.ai/bryandong24-stanford-university/amt-hyperparameter-sweep/runs/btqc5o50' target=\"_blank\">https://wandb.ai/bryandong24-stanford-university/amt-hyperparameter-sweep/runs/btqc5o50</a><br> View project at: <a href='https://wandb.ai/bryandong24-stanford-university/amt-hyperparameter-sweep' target=\"_blank\">https://wandb.ai/bryandong24-stanford-university/amt-hyperparameter-sweep</a><br>Synced 5 W&B file(s), 0 media file(s), 0 artifact file(s) and 0 other file(s)"
      ],
      "text/plain": [
       "<IPython.core.display.HTML object>"
      ]
     },
     "metadata": {},
     "output_type": "display_data"
    },
    {
     "data": {
      "text/html": [
       "Find logs at: <code>./wandb/run-20250604_043358-btqc5o50/logs</code>"
      ],
      "text/plain": [
       "<IPython.core.display.HTML object>"
      ]
     },
     "metadata": {},
     "output_type": "display_data"
    },
    {
     "name": "stderr",
     "output_type": "stream",
     "text": [
      "\u001b[34m\u001b[1mwandb\u001b[0m: Agent Starting Run: ayajgmmc with config:\n",
      "\u001b[34m\u001b[1mwandb\u001b[0m: \taug_color_jitter: 0.1877549773583052\n",
      "\u001b[34m\u001b[1mwandb\u001b[0m: \taug_joint_noise_std: 0.004255004055472966\n",
      "\u001b[34m\u001b[1mwandb\u001b[0m: \taug_rotation_range: 12.726557831294022\n",
      "\u001b[34m\u001b[1mwandb\u001b[0m: \taug_scale_max: 1.2915200080096316\n",
      "\u001b[34m\u001b[1mwandb\u001b[0m: \taug_scale_min: 0.7692802696954715\n",
      "\u001b[34m\u001b[1mwandb\u001b[0m: \taug_translation_std: 0.04761983155352275\n",
      "\u001b[34m\u001b[1mwandb\u001b[0m: \tbatch_size: 128\n",
      "\u001b[34m\u001b[1mwandb\u001b[0m: \tdiversity_margin: 0.01371942007734536\n",
      "\u001b[34m\u001b[1mwandb\u001b[0m: \tdropout: 0.1\n",
      "\u001b[34m\u001b[1mwandb\u001b[0m: \tfingertip_weight: 1.349628756578812\n",
      "\u001b[34m\u001b[1mwandb\u001b[0m: \tloss_weight_contact: 0.4974510904525554\n",
      "\u001b[34m\u001b[1mwandb\u001b[0m: \tloss_weight_diversity: 0.012670324760531908\n",
      "\u001b[34m\u001b[1mwandb\u001b[0m: \tloss_weight_hand_coarse: 0.9276159673198444\n",
      "\u001b[34m\u001b[1mwandb\u001b[0m: \tloss_weight_hand_refined: 1.4288977652973198\n",
      "\u001b[34m\u001b[1mwandb\u001b[0m: \tloss_weight_object_position: 1.1883552021513903\n",
      "\u001b[34m\u001b[1mwandb\u001b[0m: \tloss_weight_object_rotation: 0.45100320938167265\n",
      "\u001b[34m\u001b[1mwandb\u001b[0m: \tloss_weight_physics: 0.1343961967346039\n",
      "\u001b[34m\u001b[1mwandb\u001b[0m: \tloss_weight_reprojection: 0.55091760030526\n",
      "\u001b[34m\u001b[1mwandb\u001b[0m: \tper_joint_weighting: True\n",
      "\u001b[34m\u001b[1mwandb\u001b[0m: \tscheduler_type: cosine_warmup\n"
     ]
    },
    {
     "data": {
      "text/html": [
       "Tracking run with wandb version 0.19.11"
      ],
      "text/plain": [
       "<IPython.core.display.HTML object>"
      ]
     },
     "metadata": {},
     "output_type": "display_data"
    },
    {
     "data": {
      "text/html": [
       "Run data is saved locally in <code>/home/n231/231nProjectV2/Advanced_Manipulation_Transformer/notebooks/wandb/run-20250604_044153-ayajgmmc</code>"
      ],
      "text/plain": [
       "<IPython.core.display.HTML object>"
      ]
     },
     "metadata": {},
     "output_type": "display_data"
    },
    {
     "data": {
      "text/html": [
       "Syncing run <strong><a href='https://wandb.ai/bryandong24-stanford-university/amt-hyperparameter-sweep/runs/ayajgmmc' target=\"_blank\">logical-sweep-10</a></strong> to <a href='https://wandb.ai/bryandong24-stanford-university/amt-hyperparameter-sweep' target=\"_blank\">Weights & Biases</a> (<a href='https://wandb.me/developer-guide' target=\"_blank\">docs</a>)<br>Sweep page: <a href='https://wandb.ai/bryandong24-stanford-university/amt-hyperparameter-sweep/sweeps/c189gpt8' target=\"_blank\">https://wandb.ai/bryandong24-stanford-university/amt-hyperparameter-sweep/sweeps/c189gpt8</a>"
      ],
      "text/plain": [
       "<IPython.core.display.HTML object>"
      ]
     },
     "metadata": {},
     "output_type": "display_data"
    },
    {
     "data": {
      "text/html": [
       " View project at <a href='https://wandb.ai/bryandong24-stanford-university/amt-hyperparameter-sweep' target=\"_blank\">https://wandb.ai/bryandong24-stanford-university/amt-hyperparameter-sweep</a>"
      ],
      "text/plain": [
       "<IPython.core.display.HTML object>"
      ]
     },
     "metadata": {},
     "output_type": "display_data"
    },
    {
     "data": {
      "text/html": [
       " View sweep at <a href='https://wandb.ai/bryandong24-stanford-university/amt-hyperparameter-sweep/sweeps/c189gpt8' target=\"_blank\">https://wandb.ai/bryandong24-stanford-university/amt-hyperparameter-sweep/sweeps/c189gpt8</a>"
      ],
      "text/plain": [
       "<IPython.core.display.HTML object>"
      ]
     },
     "metadata": {},
     "output_type": "display_data"
    },
    {
     "data": {
      "text/html": [
       " View run at <a href='https://wandb.ai/bryandong24-stanford-university/amt-hyperparameter-sweep/runs/ayajgmmc' target=\"_blank\">https://wandb.ai/bryandong24-stanford-university/amt-hyperparameter-sweep/runs/ayajgmmc</a>"
      ],
      "text/plain": [
       "<IPython.core.display.HTML object>"
      ]
     },
     "metadata": {},
     "output_type": "display_data"
    },
    {
     "name": "stdout",
     "output_type": "stream",
     "text": [
      "Creating dataloaders with 20k train, 2k val samples, batch_size=128...\n",
      "Creating GPU-cached datasets...\n",
      "Target memory usage: 20.0 GB\n",
      "Estimated GPU memory usage: 20.0 GB\n",
      "Loading cached GPU dataset from ./gpu_cache_sweep/train_gpu_cache_20000.pt...\n",
      "Loading cache from ./gpu_cache_sweep/train_gpu_cache_20000.pt...\n",
      "✓ Loaded 20000 samples\n",
      "Estimated GPU memory usage: 2.0 GB\n",
      "Loading cached GPU dataset from ./gpu_cache_sweep/val_gpu_cache_2000.pt...\n",
      "Loading cache from ./gpu_cache_sweep/val_gpu_cache_2000.pt...\n",
      "✓ Loaded 2000 samples\n",
      "\n",
      "✓ GPU Datasets created:\n",
      "  Train: 20000 samples (6.7 GB)\n",
      "  Val: 2000 samples (6.7 GB)\n",
      "  Total GPU memory: 13.4 GB\n",
      "Dataloaders created: 156 train batches, 16 val batches\n",
      "Epoch 1/7: train_loss=1.0253, train_mpjpe=544.08mm, val_loss=0.5027, val_mpjpe=338.99mm\n",
      "Epoch 2/7: train_loss=0.5432, train_mpjpe=350.85mm, val_loss=0.4372, val_mpjpe=320.11mm\n",
      "Epoch 3/7: train_loss=0.5154, train_mpjpe=324.71mm, val_loss=0.4358, val_mpjpe=282.61mm\n",
      "Epoch 4/7: train_loss=0.5067, train_mpjpe=298.72mm, val_loss=0.4089, val_mpjpe=255.45mm\n",
      "Epoch 5/7: train_loss=0.5012, train_mpjpe=279.77mm, val_loss=0.4164, val_mpjpe=253.70mm\n",
      "Epoch 6/7: train_loss=0.5010, train_mpjpe=267.30mm, val_loss=0.4206, val_mpjpe=245.73mm\n",
      "Epoch 7/7: train_loss=0.5015, train_mpjpe=254.36mm, val_loss=0.4372, val_mpjpe=247.53mm\n"
     ]
    },
    {
     "data": {
      "text/html": [],
      "text/plain": [
       "<IPython.core.display.HTML object>"
      ]
     },
     "metadata": {},
     "output_type": "display_data"
    },
    {
     "data": {
      "text/html": [
       "<br>    <style><br>        .wandb-row {<br>            display: flex;<br>            flex-direction: row;<br>            flex-wrap: wrap;<br>            justify-content: flex-start;<br>            width: 100%;<br>        }<br>        .wandb-col {<br>            display: flex;<br>            flex-direction: column;<br>            flex-basis: 100%;<br>            flex: 1;<br>            padding: 10px;<br>        }<br>    </style><br><div class=\"wandb-row\"><div class=\"wandb-col\"><h3>Run history:</h3><br/><table class=\"wandb\"><tr><td>epoch</td><td>▁▂▃▅▆▇█</td></tr><tr><td>final/best_val_mpjpe</td><td>▁</td></tr><tr><td>final/epochs_trained</td><td>▁</td></tr><tr><td>system/gpu_memory_gb</td><td>▂▇▆█▃▅▅▇▆▄▃▁▆▄▄▄▆▆▃▇▄▃▅▂▃▄▃▄▄▅▃▄▅▄▆▃▄▅▅▇</td></tr><tr><td>train/batch_loss</td><td>█▂▂▂▂▁▂▂▁▂▁▁▁▁▁▁▁▁▁▁▁▁▁▁▁▁▁▁▁▁▁▁▁▁▁▁▁▁▁▁</td></tr><tr><td>train/batch_mpjpe</td><td>█▂▂▂▁▂▁▁▂▁▁▁▁▁▁▁▁▁▁▁▁▁▁▁▁▁▁▁▁▁▁▁▁▁▁▁▁▁▁▁</td></tr><tr><td>train/hand_mpjpe</td><td>█▃▃▂▂▁▁</td></tr><tr><td>train/loss</td><td>█▂▁▁▁▁▁</td></tr><tr><td>train/lr</td><td>████████████▇▇▇▇▇▇▆▆▆▆▆▄▄▄▄▄▄▄▃▃▃▃▃▁▁▁▁▁</td></tr><tr><td>val/best_mpjpe</td><td>█▇▄▂▂▁▁</td></tr><tr><td>val/hand_mpjpe</td><td>█▇▄▂▂▁▁</td></tr><tr><td>val/loss</td><td>█▃▃▁▂▂▃</td></tr></table><br/></div><div class=\"wandb-col\"><h3>Run summary:</h3><br/><table class=\"wandb\"><tr><td>epoch</td><td>6</td></tr><tr><td>final/best_val_mpjpe</td><td>245.73438</td></tr><tr><td>final/epochs_trained</td><td>7</td></tr><tr><td>system/gpu_memory_gb</td><td>11.46606</td></tr><tr><td>train/batch_loss</td><td>0.52679</td></tr><tr><td>train/batch_mpjpe</td><td>265.625</td></tr><tr><td>train/hand_mpjpe</td><td>254.36323</td></tr><tr><td>train/loss</td><td>0.50152</td></tr><tr><td>train/lr</td><td>0.0</td></tr><tr><td>val/best_mpjpe</td><td>245.73438</td></tr><tr><td>val/hand_mpjpe</td><td>247.53125</td></tr><tr><td>val/loss</td><td>0.43721</td></tr></table><br/></div></div>"
      ],
      "text/plain": [
       "<IPython.core.display.HTML object>"
      ]
     },
     "metadata": {},
     "output_type": "display_data"
    },
    {
     "data": {
      "text/html": [
       " View run <strong style=\"color:#cdcd00\">logical-sweep-10</strong> at: <a href='https://wandb.ai/bryandong24-stanford-university/amt-hyperparameter-sweep/runs/ayajgmmc' target=\"_blank\">https://wandb.ai/bryandong24-stanford-university/amt-hyperparameter-sweep/runs/ayajgmmc</a><br> View project at: <a href='https://wandb.ai/bryandong24-stanford-university/amt-hyperparameter-sweep' target=\"_blank\">https://wandb.ai/bryandong24-stanford-university/amt-hyperparameter-sweep</a><br>Synced 5 W&B file(s), 0 media file(s), 0 artifact file(s) and 0 other file(s)"
      ],
      "text/plain": [
       "<IPython.core.display.HTML object>"
      ]
     },
     "metadata": {},
     "output_type": "display_data"
    },
    {
     "data": {
      "text/html": [
       "Find logs at: <code>./wandb/run-20250604_044153-ayajgmmc/logs</code>"
      ],
      "text/plain": [
       "<IPython.core.display.HTML object>"
      ]
     },
     "metadata": {},
     "output_type": "display_data"
    },
    {
     "name": "stderr",
     "output_type": "stream",
     "text": [
      "\u001b[34m\u001b[1mwandb\u001b[0m: Agent Starting Run: mvy5ofug with config:\n",
      "\u001b[34m\u001b[1mwandb\u001b[0m: \taug_color_jitter: 0.1574345004647183\n",
      "\u001b[34m\u001b[1mwandb\u001b[0m: \taug_joint_noise_std: 0.004807897503858896\n",
      "\u001b[34m\u001b[1mwandb\u001b[0m: \taug_rotation_range: 11.514959575073764\n",
      "\u001b[34m\u001b[1mwandb\u001b[0m: \taug_scale_max: 1.1913203512767343\n",
      "\u001b[34m\u001b[1mwandb\u001b[0m: \taug_scale_min: 0.8947288380517606\n",
      "\u001b[34m\u001b[1mwandb\u001b[0m: \taug_translation_std: 0.05896862338045847\n",
      "\u001b[34m\u001b[1mwandb\u001b[0m: \tbatch_size: 256\n",
      "\u001b[34m\u001b[1mwandb\u001b[0m: \tdiversity_margin: 0.01896999912033747\n",
      "\u001b[34m\u001b[1mwandb\u001b[0m: \tdropout: 0.15\n",
      "\u001b[34m\u001b[1mwandb\u001b[0m: \tfingertip_weight: 1.6123349913172371\n",
      "\u001b[34m\u001b[1mwandb\u001b[0m: \tloss_weight_contact: 0.3100556660910997\n",
      "\u001b[34m\u001b[1mwandb\u001b[0m: \tloss_weight_diversity: 0.026374818097572864\n",
      "\u001b[34m\u001b[1mwandb\u001b[0m: \tloss_weight_hand_coarse: 1.02316870798047\n",
      "\u001b[34m\u001b[1mwandb\u001b[0m: \tloss_weight_hand_refined: 1.1960275268693896\n",
      "\u001b[34m\u001b[1mwandb\u001b[0m: \tloss_weight_object_position: 0.868416682345561\n",
      "\u001b[34m\u001b[1mwandb\u001b[0m: \tloss_weight_object_rotation: 0.5014486182177844\n",
      "\u001b[34m\u001b[1mwandb\u001b[0m: \tloss_weight_physics: 0.13157367101301648\n",
      "\u001b[34m\u001b[1mwandb\u001b[0m: \tloss_weight_reprojection: 0.6544357557573561\n",
      "\u001b[34m\u001b[1mwandb\u001b[0m: \tper_joint_weighting: False\n",
      "\u001b[34m\u001b[1mwandb\u001b[0m: \tscheduler_type: step\n"
     ]
    },
    {
     "data": {
      "text/html": [
       "Tracking run with wandb version 0.19.11"
      ],
      "text/plain": [
       "<IPython.core.display.HTML object>"
      ]
     },
     "metadata": {},
     "output_type": "display_data"
    },
    {
     "data": {
      "text/html": [
       "Run data is saved locally in <code>/home/n231/231nProjectV2/Advanced_Manipulation_Transformer/notebooks/wandb/run-20250604_044652-mvy5ofug</code>"
      ],
      "text/plain": [
       "<IPython.core.display.HTML object>"
      ]
     },
     "metadata": {},
     "output_type": "display_data"
    },
    {
     "data": {
      "text/html": [
       "Syncing run <strong><a href='https://wandb.ai/bryandong24-stanford-university/amt-hyperparameter-sweep/runs/mvy5ofug' target=\"_blank\">devout-sweep-11</a></strong> to <a href='https://wandb.ai/bryandong24-stanford-university/amt-hyperparameter-sweep' target=\"_blank\">Weights & Biases</a> (<a href='https://wandb.me/developer-guide' target=\"_blank\">docs</a>)<br>Sweep page: <a href='https://wandb.ai/bryandong24-stanford-university/amt-hyperparameter-sweep/sweeps/c189gpt8' target=\"_blank\">https://wandb.ai/bryandong24-stanford-university/amt-hyperparameter-sweep/sweeps/c189gpt8</a>"
      ],
      "text/plain": [
       "<IPython.core.display.HTML object>"
      ]
     },
     "metadata": {},
     "output_type": "display_data"
    },
    {
     "data": {
      "text/html": [
       " View project at <a href='https://wandb.ai/bryandong24-stanford-university/amt-hyperparameter-sweep' target=\"_blank\">https://wandb.ai/bryandong24-stanford-university/amt-hyperparameter-sweep</a>"
      ],
      "text/plain": [
       "<IPython.core.display.HTML object>"
      ]
     },
     "metadata": {},
     "output_type": "display_data"
    },
    {
     "data": {
      "text/html": [
       " View sweep at <a href='https://wandb.ai/bryandong24-stanford-university/amt-hyperparameter-sweep/sweeps/c189gpt8' target=\"_blank\">https://wandb.ai/bryandong24-stanford-university/amt-hyperparameter-sweep/sweeps/c189gpt8</a>"
      ],
      "text/plain": [
       "<IPython.core.display.HTML object>"
      ]
     },
     "metadata": {},
     "output_type": "display_data"
    },
    {
     "data": {
      "text/html": [
       " View run at <a href='https://wandb.ai/bryandong24-stanford-university/amt-hyperparameter-sweep/runs/mvy5ofug' target=\"_blank\">https://wandb.ai/bryandong24-stanford-university/amt-hyperparameter-sweep/runs/mvy5ofug</a>"
      ],
      "text/plain": [
       "<IPython.core.display.HTML object>"
      ]
     },
     "metadata": {},
     "output_type": "display_data"
    },
    {
     "name": "stdout",
     "output_type": "stream",
     "text": [
      "Creating dataloaders with 20k train, 2k val samples, batch_size=256...\n",
      "Creating GPU-cached datasets...\n",
      "Target memory usage: 20.0 GB\n",
      "Estimated GPU memory usage: 20.0 GB\n",
      "Loading cached GPU dataset from ./gpu_cache_sweep/train_gpu_cache_20000.pt...\n",
      "Loading cache from ./gpu_cache_sweep/train_gpu_cache_20000.pt...\n",
      "✓ Loaded 20000 samples\n",
      "Estimated GPU memory usage: 2.0 GB\n",
      "Loading cached GPU dataset from ./gpu_cache_sweep/val_gpu_cache_2000.pt...\n",
      "Loading cache from ./gpu_cache_sweep/val_gpu_cache_2000.pt...\n",
      "✓ Loaded 2000 samples\n",
      "\n",
      "✓ GPU Datasets created:\n",
      "  Train: 20000 samples (6.7 GB)\n",
      "  Val: 2000 samples (6.7 GB)\n",
      "  Total GPU memory: 13.4 GB\n",
      "Dataloaders created: 78 train batches, 8 val batches\n",
      "Epoch 1/7: train_loss=1.2851, train_mpjpe=645.93mm, val_loss=0.7037, val_mpjpe=346.91mm\n",
      "Epoch 2/7: train_loss=0.7242, train_mpjpe=375.40mm, val_loss=0.4670, val_mpjpe=308.02mm\n",
      "Epoch 3/7: train_loss=0.6018, train_mpjpe=347.01mm, val_loss=0.4534, val_mpjpe=298.59mm\n",
      "Epoch 4/7: train_loss=0.5703, train_mpjpe=322.82mm, val_loss=0.4521, val_mpjpe=276.48mm\n",
      "Epoch 5/7: train_loss=0.5611, train_mpjpe=311.19mm, val_loss=0.4567, val_mpjpe=279.02mm\n",
      "Epoch 6/7: train_loss=0.5652, train_mpjpe=300.91mm, val_loss=0.4536, val_mpjpe=270.18mm\n",
      "Epoch 7/7: train_loss=0.5575, train_mpjpe=284.00mm, val_loss=0.4671, val_mpjpe=258.04mm\n"
     ]
    },
    {
     "data": {
      "text/html": [],
      "text/plain": [
       "<IPython.core.display.HTML object>"
      ]
     },
     "metadata": {},
     "output_type": "display_data"
    },
    {
     "data": {
      "text/html": [
       "<br>    <style><br>        .wandb-row {<br>            display: flex;<br>            flex-direction: row;<br>            flex-wrap: wrap;<br>            justify-content: flex-start;<br>            width: 100%;<br>        }<br>        .wandb-col {<br>            display: flex;<br>            flex-direction: column;<br>            flex-basis: 100%;<br>            flex: 1;<br>            padding: 10px;<br>        }<br>    </style><br><div class=\"wandb-row\"><div class=\"wandb-col\"><h3>Run history:</h3><br/><table class=\"wandb\"><tr><td>epoch</td><td>▁▂▃▅▆▇█</td></tr><tr><td>final/best_val_mpjpe</td><td>▁</td></tr><tr><td>final/epochs_trained</td><td>▁</td></tr><tr><td>system/gpu_memory_gb</td><td>█▇███▁▄▅▅▅▃▃▆▄▃▅▂█▃█▃▇▅▄▂▂▃▄</td></tr><tr><td>train/batch_loss</td><td>█▃▂▂▂▂▁▁▁▁▁▁▁▁▁▁▁▁▁▁▁▁▁▁▁▁▁▁</td></tr><tr><td>train/batch_mpjpe</td><td>█▂▂▂▁▁▁▁▁▁▁▁▁▁▁▁▁▁▁▁▁▁▁▁▁▁▁▁</td></tr><tr><td>train/hand_mpjpe</td><td>█▃▂▂▂▁▁</td></tr><tr><td>train/loss</td><td>█▃▁▁▁▁▁</td></tr><tr><td>train/lr</td><td>████████████▃▃▃▃▃▃▃▃▃▃▃▃▁▁▁▁</td></tr><tr><td>val/best_mpjpe</td><td>█▅▄▂▂▂▁</td></tr><tr><td>val/hand_mpjpe</td><td>█▅▄▂▃▂▁</td></tr><tr><td>val/loss</td><td>█▁▁▁▁▁▁</td></tr></table><br/></div><div class=\"wandb-col\"><h3>Run summary:</h3><br/><table class=\"wandb\"><tr><td>epoch</td><td>6</td></tr><tr><td>final/best_val_mpjpe</td><td>258.03906</td></tr><tr><td>final/epochs_trained</td><td>7</td></tr><tr><td>system/gpu_memory_gb</td><td>11.87957</td></tr><tr><td>train/batch_loss</td><td>0.57083</td></tr><tr><td>train/batch_mpjpe</td><td>289.0625</td></tr><tr><td>train/hand_mpjpe</td><td>284.00441</td></tr><tr><td>train/loss</td><td>0.55753</td></tr><tr><td>train/lr</td><td>0.0</td></tr><tr><td>val/best_mpjpe</td><td>258.03906</td></tr><tr><td>val/hand_mpjpe</td><td>258.03906</td></tr><tr><td>val/loss</td><td>0.46705</td></tr></table><br/></div></div>"
      ],
      "text/plain": [
       "<IPython.core.display.HTML object>"
      ]
     },
     "metadata": {},
     "output_type": "display_data"
    },
    {
     "data": {
      "text/html": [
       " View run <strong style=\"color:#cdcd00\">devout-sweep-11</strong> at: <a href='https://wandb.ai/bryandong24-stanford-university/amt-hyperparameter-sweep/runs/mvy5ofug' target=\"_blank\">https://wandb.ai/bryandong24-stanford-university/amt-hyperparameter-sweep/runs/mvy5ofug</a><br> View project at: <a href='https://wandb.ai/bryandong24-stanford-university/amt-hyperparameter-sweep' target=\"_blank\">https://wandb.ai/bryandong24-stanford-university/amt-hyperparameter-sweep</a><br>Synced 5 W&B file(s), 0 media file(s), 0 artifact file(s) and 0 other file(s)"
      ],
      "text/plain": [
       "<IPython.core.display.HTML object>"
      ]
     },
     "metadata": {},
     "output_type": "display_data"
    },
    {
     "data": {
      "text/html": [
       "Find logs at: <code>./wandb/run-20250604_044652-mvy5ofug/logs</code>"
      ],
      "text/plain": [
       "<IPython.core.display.HTML object>"
      ]
     },
     "metadata": {},
     "output_type": "display_data"
    },
    {
     "name": "stderr",
     "output_type": "stream",
     "text": [
      "\u001b[34m\u001b[1mwandb\u001b[0m: Agent Starting Run: ssef33l1 with config:\n",
      "\u001b[34m\u001b[1mwandb\u001b[0m: \taug_color_jitter: 0.1342150778160502\n",
      "\u001b[34m\u001b[1mwandb\u001b[0m: \taug_joint_noise_std: 0.002940157585021656\n",
      "\u001b[34m\u001b[1mwandb\u001b[0m: \taug_rotation_range: 5.928571892876024\n",
      "\u001b[34m\u001b[1mwandb\u001b[0m: \taug_scale_max: 1.1560131350919642\n",
      "\u001b[34m\u001b[1mwandb\u001b[0m: \taug_scale_min: 0.7986666051871159\n",
      "\u001b[34m\u001b[1mwandb\u001b[0m: \taug_translation_std: 0.06640508942305667\n",
      "\u001b[34m\u001b[1mwandb\u001b[0m: \tbatch_size: 256\n",
      "\u001b[34m\u001b[1mwandb\u001b[0m: \tdiversity_margin: 0.01042839972560866\n",
      "\u001b[34m\u001b[1mwandb\u001b[0m: \tdropout: 0.2\n",
      "\u001b[34m\u001b[1mwandb\u001b[0m: \tfingertip_weight: 1.4234744897955902\n",
      "\u001b[34m\u001b[1mwandb\u001b[0m: \tloss_weight_contact: 0.21008130398128108\n",
      "\u001b[34m\u001b[1mwandb\u001b[0m: \tloss_weight_diversity: 0.03962449199323792\n",
      "\u001b[34m\u001b[1mwandb\u001b[0m: \tloss_weight_hand_coarse: 1.0450898319524136\n",
      "\u001b[34m\u001b[1mwandb\u001b[0m: \tloss_weight_hand_refined: 1.3667141075194342\n",
      "\u001b[34m\u001b[1mwandb\u001b[0m: \tloss_weight_object_position: 1.1947227741041662\n",
      "\u001b[34m\u001b[1mwandb\u001b[0m: \tloss_weight_object_rotation: 0.41525867676285416\n",
      "\u001b[34m\u001b[1mwandb\u001b[0m: \tloss_weight_physics: 0.06152409480606691\n",
      "\u001b[34m\u001b[1mwandb\u001b[0m: \tloss_weight_reprojection: 0.5838977323011864\n",
      "\u001b[34m\u001b[1mwandb\u001b[0m: \tper_joint_weighting: True\n",
      "\u001b[34m\u001b[1mwandb\u001b[0m: \tscheduler_type: exponential\n"
     ]
    },
    {
     "data": {
      "text/html": [
       "Tracking run with wandb version 0.19.11"
      ],
      "text/plain": [
       "<IPython.core.display.HTML object>"
      ]
     },
     "metadata": {},
     "output_type": "display_data"
    },
    {
     "data": {
      "text/html": [
       "Run data is saved locally in <code>/home/n231/231nProjectV2/Advanced_Manipulation_Transformer/notebooks/wandb/run-20250604_045114-ssef33l1</code>"
      ],
      "text/plain": [
       "<IPython.core.display.HTML object>"
      ]
     },
     "metadata": {},
     "output_type": "display_data"
    },
    {
     "data": {
      "text/html": [
       "Syncing run <strong><a href='https://wandb.ai/bryandong24-stanford-university/amt-hyperparameter-sweep/runs/ssef33l1' target=\"_blank\">rose-sweep-12</a></strong> to <a href='https://wandb.ai/bryandong24-stanford-university/amt-hyperparameter-sweep' target=\"_blank\">Weights & Biases</a> (<a href='https://wandb.me/developer-guide' target=\"_blank\">docs</a>)<br>Sweep page: <a href='https://wandb.ai/bryandong24-stanford-university/amt-hyperparameter-sweep/sweeps/c189gpt8' target=\"_blank\">https://wandb.ai/bryandong24-stanford-university/amt-hyperparameter-sweep/sweeps/c189gpt8</a>"
      ],
      "text/plain": [
       "<IPython.core.display.HTML object>"
      ]
     },
     "metadata": {},
     "output_type": "display_data"
    },
    {
     "data": {
      "text/html": [
       " View project at <a href='https://wandb.ai/bryandong24-stanford-university/amt-hyperparameter-sweep' target=\"_blank\">https://wandb.ai/bryandong24-stanford-university/amt-hyperparameter-sweep</a>"
      ],
      "text/plain": [
       "<IPython.core.display.HTML object>"
      ]
     },
     "metadata": {},
     "output_type": "display_data"
    },
    {
     "data": {
      "text/html": [
       " View sweep at <a href='https://wandb.ai/bryandong24-stanford-university/amt-hyperparameter-sweep/sweeps/c189gpt8' target=\"_blank\">https://wandb.ai/bryandong24-stanford-university/amt-hyperparameter-sweep/sweeps/c189gpt8</a>"
      ],
      "text/plain": [
       "<IPython.core.display.HTML object>"
      ]
     },
     "metadata": {},
     "output_type": "display_data"
    },
    {
     "data": {
      "text/html": [
       " View run at <a href='https://wandb.ai/bryandong24-stanford-university/amt-hyperparameter-sweep/runs/ssef33l1' target=\"_blank\">https://wandb.ai/bryandong24-stanford-university/amt-hyperparameter-sweep/runs/ssef33l1</a>"
      ],
      "text/plain": [
       "<IPython.core.display.HTML object>"
      ]
     },
     "metadata": {},
     "output_type": "display_data"
    },
    {
     "name": "stdout",
     "output_type": "stream",
     "text": [
      "Creating dataloaders with 20k train, 2k val samples, batch_size=256...\n",
      "Creating GPU-cached datasets...\n",
      "Target memory usage: 20.0 GB\n",
      "Estimated GPU memory usage: 20.0 GB\n",
      "Loading cached GPU dataset from ./gpu_cache_sweep/train_gpu_cache_20000.pt...\n",
      "Loading cache from ./gpu_cache_sweep/train_gpu_cache_20000.pt...\n",
      "✓ Loaded 20000 samples\n",
      "Estimated GPU memory usage: 2.0 GB\n",
      "Loading cached GPU dataset from ./gpu_cache_sweep/val_gpu_cache_2000.pt...\n",
      "Loading cache from ./gpu_cache_sweep/val_gpu_cache_2000.pt...\n",
      "✓ Loaded 2000 samples\n",
      "\n",
      "✓ GPU Datasets created:\n",
      "  Train: 20000 samples (6.7 GB)\n",
      "  Val: 2000 samples (6.7 GB)\n",
      "  Total GPU memory: 13.4 GB\n",
      "Dataloaders created: 78 train batches, 8 val batches\n",
      "Epoch 1/7: train_loss=1.4256, train_mpjpe=694.31mm, val_loss=0.8699, val_mpjpe=430.66mm\n",
      "Epoch 2/7: train_loss=0.8111, train_mpjpe=386.52mm, val_loss=0.5210, val_mpjpe=300.23mm\n",
      "Epoch 3/7: train_loss=0.6491, train_mpjpe=350.06mm, val_loss=0.5103, val_mpjpe=300.59mm\n",
      "Epoch 4/7: train_loss=0.6058, train_mpjpe=321.06mm, val_loss=0.4551, val_mpjpe=276.69mm\n",
      "Epoch 5/7: train_loss=0.5952, train_mpjpe=302.71mm, val_loss=0.4684, val_mpjpe=259.59mm\n",
      "Epoch 6/7: train_loss=0.5907, train_mpjpe=291.18mm, val_loss=0.4767, val_mpjpe=246.09mm\n",
      "Epoch 7/7: train_loss=0.5867, train_mpjpe=277.77mm, val_loss=0.4698, val_mpjpe=239.92mm\n"
     ]
    },
    {
     "data": {
      "text/html": [],
      "text/plain": [
       "<IPython.core.display.HTML object>"
      ]
     },
     "metadata": {},
     "output_type": "display_data"
    },
    {
     "data": {
      "text/html": [
       "<br>    <style><br>        .wandb-row {<br>            display: flex;<br>            flex-direction: row;<br>            flex-wrap: wrap;<br>            justify-content: flex-start;<br>            width: 100%;<br>        }<br>        .wandb-col {<br>            display: flex;<br>            flex-direction: column;<br>            flex-basis: 100%;<br>            flex: 1;<br>            padding: 10px;<br>        }<br>    </style><br><div class=\"wandb-row\"><div class=\"wandb-col\"><h3>Run history:</h3><br/><table class=\"wandb\"><tr><td>epoch</td><td>▁▂▃▅▆▇█</td></tr><tr><td>final/best_val_mpjpe</td><td>▁</td></tr><tr><td>final/epochs_trained</td><td>▁</td></tr><tr><td>system/gpu_memory_gb</td><td>█▇███▁▄▅▅▅▃▃▆▄▃▅▂█▃█▃▇▅▄▂▂▃▄</td></tr><tr><td>train/batch_loss</td><td>█▃▃▂▂▂▂▁▁▁▁▁▁▁▁▁▁▁▁▁▁▁▁▁▁▁▁▁</td></tr><tr><td>train/batch_mpjpe</td><td>█▃▃▂▁▁▁▁▁▁▁▁▁▁▁▁▁▁▁▁▁▁▁▁▁▁▁▁</td></tr><tr><td>train/hand_mpjpe</td><td>█▃▂▂▁▁▁</td></tr><tr><td>train/loss</td><td>█▃▂▁▁▁▁</td></tr><tr><td>train/lr</td><td>████▇▇▇▇▅▅▅▅▄▄▄▄▃▃▃▃▂▂▂▂▁▁▁▁</td></tr><tr><td>val/best_mpjpe</td><td>█▃▃▂▂▁▁</td></tr><tr><td>val/hand_mpjpe</td><td>█▃▃▂▂▁▁</td></tr><tr><td>val/loss</td><td>█▂▂▁▁▁▁</td></tr></table><br/></div><div class=\"wandb-col\"><h3>Run summary:</h3><br/><table class=\"wandb\"><tr><td>epoch</td><td>6</td></tr><tr><td>final/best_val_mpjpe</td><td>239.92188</td></tr><tr><td>final/epochs_trained</td><td>7</td></tr><tr><td>system/gpu_memory_gb</td><td>11.87957</td></tr><tr><td>train/batch_loss</td><td>0.52851</td></tr><tr><td>train/batch_mpjpe</td><td>236.32812</td></tr><tr><td>train/hand_mpjpe</td><td>277.76943</td></tr><tr><td>train/loss</td><td>0.58666</td></tr><tr><td>train/lr</td><td>1e-05</td></tr><tr><td>val/best_mpjpe</td><td>239.92188</td></tr><tr><td>val/hand_mpjpe</td><td>239.92188</td></tr><tr><td>val/loss</td><td>0.46981</td></tr></table><br/></div></div>"
      ],
      "text/plain": [
       "<IPython.core.display.HTML object>"
      ]
     },
     "metadata": {},
     "output_type": "display_data"
    },
    {
     "data": {
      "text/html": [
       " View run <strong style=\"color:#cdcd00\">rose-sweep-12</strong> at: <a href='https://wandb.ai/bryandong24-stanford-university/amt-hyperparameter-sweep/runs/ssef33l1' target=\"_blank\">https://wandb.ai/bryandong24-stanford-university/amt-hyperparameter-sweep/runs/ssef33l1</a><br> View project at: <a href='https://wandb.ai/bryandong24-stanford-university/amt-hyperparameter-sweep' target=\"_blank\">https://wandb.ai/bryandong24-stanford-university/amt-hyperparameter-sweep</a><br>Synced 5 W&B file(s), 0 media file(s), 0 artifact file(s) and 0 other file(s)"
      ],
      "text/plain": [
       "<IPython.core.display.HTML object>"
      ]
     },
     "metadata": {},
     "output_type": "display_data"
    },
    {
     "data": {
      "text/html": [
       "Find logs at: <code>./wandb/run-20250604_045114-ssef33l1/logs</code>"
      ],
      "text/plain": [
       "<IPython.core.display.HTML object>"
      ]
     },
     "metadata": {},
     "output_type": "display_data"
    },
    {
     "name": "stderr",
     "output_type": "stream",
     "text": [
      "\u001b[34m\u001b[1mwandb\u001b[0m: Agent Starting Run: 3dmrr3u6 with config:\n",
      "\u001b[34m\u001b[1mwandb\u001b[0m: \taug_color_jitter: 0.1037060385874024\n",
      "\u001b[34m\u001b[1mwandb\u001b[0m: \taug_joint_noise_std: 0.0071957051651789\n",
      "\u001b[34m\u001b[1mwandb\u001b[0m: \taug_rotation_range: 5.162602694339399\n",
      "\u001b[34m\u001b[1mwandb\u001b[0m: \taug_scale_max: 1.2697262123350748\n",
      "\u001b[34m\u001b[1mwandb\u001b[0m: \taug_scale_min: 0.8963119986047501\n",
      "\u001b[34m\u001b[1mwandb\u001b[0m: \taug_translation_std: 0.08792948927422924\n",
      "\u001b[34m\u001b[1mwandb\u001b[0m: \tbatch_size: 128\n",
      "\u001b[34m\u001b[1mwandb\u001b[0m: \tdiversity_margin: 0.017817668344071086\n",
      "\u001b[34m\u001b[1mwandb\u001b[0m: \tdropout: 0.2\n",
      "\u001b[34m\u001b[1mwandb\u001b[0m: \tfingertip_weight: 1.3237605093501572\n",
      "\u001b[34m\u001b[1mwandb\u001b[0m: \tloss_weight_contact: 0.4684896866249347\n",
      "\u001b[34m\u001b[1mwandb\u001b[0m: \tloss_weight_diversity: 0.03997040807630691\n",
      "\u001b[34m\u001b[1mwandb\u001b[0m: \tloss_weight_hand_coarse: 0.8293814991830881\n",
      "\u001b[34m\u001b[1mwandb\u001b[0m: \tloss_weight_hand_refined: 1.11585968578572\n",
      "\u001b[34m\u001b[1mwandb\u001b[0m: \tloss_weight_object_position: 0.8893006286749449\n",
      "\u001b[34m\u001b[1mwandb\u001b[0m: \tloss_weight_object_rotation: 0.44808259580496296\n",
      "\u001b[34m\u001b[1mwandb\u001b[0m: \tloss_weight_physics: 0.1296545806628827\n",
      "\u001b[34m\u001b[1mwandb\u001b[0m: \tloss_weight_reprojection: 0.3373697640056881\n",
      "\u001b[34m\u001b[1mwandb\u001b[0m: \tper_joint_weighting: True\n",
      "\u001b[34m\u001b[1mwandb\u001b[0m: \tscheduler_type: step\n"
     ]
    },
    {
     "data": {
      "text/html": [
       "Tracking run with wandb version 0.19.11"
      ],
      "text/plain": [
       "<IPython.core.display.HTML object>"
      ]
     },
     "metadata": {},
     "output_type": "display_data"
    },
    {
     "data": {
      "text/html": [
       "Run data is saved locally in <code>/home/n231/231nProjectV2/Advanced_Manipulation_Transformer/notebooks/wandb/run-20250604_045543-3dmrr3u6</code>"
      ],
      "text/plain": [
       "<IPython.core.display.HTML object>"
      ]
     },
     "metadata": {},
     "output_type": "display_data"
    },
    {
     "data": {
      "text/html": [
       "Syncing run <strong><a href='https://wandb.ai/bryandong24-stanford-university/amt-hyperparameter-sweep/runs/3dmrr3u6' target=\"_blank\">fearless-sweep-13</a></strong> to <a href='https://wandb.ai/bryandong24-stanford-university/amt-hyperparameter-sweep' target=\"_blank\">Weights & Biases</a> (<a href='https://wandb.me/developer-guide' target=\"_blank\">docs</a>)<br>Sweep page: <a href='https://wandb.ai/bryandong24-stanford-university/amt-hyperparameter-sweep/sweeps/c189gpt8' target=\"_blank\">https://wandb.ai/bryandong24-stanford-university/amt-hyperparameter-sweep/sweeps/c189gpt8</a>"
      ],
      "text/plain": [
       "<IPython.core.display.HTML object>"
      ]
     },
     "metadata": {},
     "output_type": "display_data"
    },
    {
     "data": {
      "text/html": [
       " View project at <a href='https://wandb.ai/bryandong24-stanford-university/amt-hyperparameter-sweep' target=\"_blank\">https://wandb.ai/bryandong24-stanford-university/amt-hyperparameter-sweep</a>"
      ],
      "text/plain": [
       "<IPython.core.display.HTML object>"
      ]
     },
     "metadata": {},
     "output_type": "display_data"
    },
    {
     "data": {
      "text/html": [
       " View sweep at <a href='https://wandb.ai/bryandong24-stanford-university/amt-hyperparameter-sweep/sweeps/c189gpt8' target=\"_blank\">https://wandb.ai/bryandong24-stanford-university/amt-hyperparameter-sweep/sweeps/c189gpt8</a>"
      ],
      "text/plain": [
       "<IPython.core.display.HTML object>"
      ]
     },
     "metadata": {},
     "output_type": "display_data"
    },
    {
     "data": {
      "text/html": [
       " View run at <a href='https://wandb.ai/bryandong24-stanford-university/amt-hyperparameter-sweep/runs/3dmrr3u6' target=\"_blank\">https://wandb.ai/bryandong24-stanford-university/amt-hyperparameter-sweep/runs/3dmrr3u6</a>"
      ],
      "text/plain": [
       "<IPython.core.display.HTML object>"
      ]
     },
     "metadata": {},
     "output_type": "display_data"
    },
    {
     "name": "stdout",
     "output_type": "stream",
     "text": [
      "Creating dataloaders with 20k train, 2k val samples, batch_size=128...\n",
      "Creating GPU-cached datasets...\n",
      "Target memory usage: 20.0 GB\n",
      "Estimated GPU memory usage: 20.0 GB\n",
      "Loading cached GPU dataset from ./gpu_cache_sweep/train_gpu_cache_20000.pt...\n",
      "Loading cache from ./gpu_cache_sweep/train_gpu_cache_20000.pt...\n",
      "✓ Loaded 20000 samples\n",
      "Estimated GPU memory usage: 2.0 GB\n",
      "Loading cached GPU dataset from ./gpu_cache_sweep/val_gpu_cache_2000.pt...\n",
      "Loading cache from ./gpu_cache_sweep/val_gpu_cache_2000.pt...\n",
      "✓ Loaded 2000 samples\n",
      "\n",
      "✓ GPU Datasets created:\n",
      "  Train: 20000 samples (6.7 GB)\n",
      "  Val: 2000 samples (6.7 GB)\n",
      "  Total GPU memory: 13.4 GB\n",
      "Dataloaders created: 156 train batches, 16 val batches\n",
      "Epoch 1/7: train_loss=1.0179, train_mpjpe=550.86mm, val_loss=0.5536, val_mpjpe=325.48mm\n",
      "Epoch 2/7: train_loss=0.5225, train_mpjpe=361.79mm, val_loss=0.3660, val_mpjpe=332.36mm\n",
      "Epoch 3/7: train_loss=0.4906, train_mpjpe=337.01mm, val_loss=0.3784, val_mpjpe=264.67mm\n",
      "Epoch 4/7: train_loss=0.4687, train_mpjpe=302.06mm, val_loss=0.3777, val_mpjpe=263.80mm\n",
      "Epoch 5/7: train_loss=0.4659, train_mpjpe=288.36mm, val_loss=0.3930, val_mpjpe=276.83mm\n",
      "Epoch 6/7: train_loss=0.4666, train_mpjpe=275.76mm, val_loss=0.3856, val_mpjpe=253.10mm\n",
      "Epoch 7/7: train_loss=0.4637, train_mpjpe=261.54mm, val_loss=0.4002, val_mpjpe=253.44mm\n"
     ]
    },
    {
     "data": {
      "text/html": [],
      "text/plain": [
       "<IPython.core.display.HTML object>"
      ]
     },
     "metadata": {},
     "output_type": "display_data"
    },
    {
     "data": {
      "text/html": [
       "<br>    <style><br>        .wandb-row {<br>            display: flex;<br>            flex-direction: row;<br>            flex-wrap: wrap;<br>            justify-content: flex-start;<br>            width: 100%;<br>        }<br>        .wandb-col {<br>            display: flex;<br>            flex-direction: column;<br>            flex-basis: 100%;<br>            flex: 1;<br>            padding: 10px;<br>        }<br>    </style><br><div class=\"wandb-row\"><div class=\"wandb-col\"><h3>Run history:</h3><br/><table class=\"wandb\"><tr><td>epoch</td><td>▁▂▃▅▆▇█</td></tr><tr><td>final/best_val_mpjpe</td><td>▁</td></tr><tr><td>final/epochs_trained</td><td>▁</td></tr><tr><td>system/gpu_memory_gb</td><td>▂▂▄▇▅▃▃▅▅▃▁▁█▅▄▅▂▄▃▄▄▄▅▅▅▅▅▅▃▄▆▅▃▃▃▆▂▄▇▆</td></tr><tr><td>train/batch_loss</td><td>█▄▃▂▂▂▁▁▂▁▂▁▂▁▂▁▁▁▁▁▁▁▁▁▁▁▁▁▁▁▂▁▂▁▁▁▁▁▁▂</td></tr><tr><td>train/batch_mpjpe</td><td>█▂▂▂▂▂▂▂▁▁▂▂▂▂▁▂▁▁▁▁▁▁▁▂▁▁▁▁▁▁▁▁▁▁▁▁▁▁▁▁</td></tr><tr><td>train/hand_mpjpe</td><td>█▃▃▂▂▁▁</td></tr><tr><td>train/loss</td><td>█▂▁▁▁▁▁</td></tr><tr><td>train/lr</td><td>███████████████████▃▃▃▃▃▃▃▃▃▃▃▃▃▃▃▃▁▁▁▁▁</td></tr><tr><td>val/best_mpjpe</td><td>██▂▂▂▁▁</td></tr><tr><td>val/hand_mpjpe</td><td>▇█▂▂▃▁▁</td></tr><tr><td>val/loss</td><td>█▁▁▁▂▂▂</td></tr></table><br/></div><div class=\"wandb-col\"><h3>Run summary:</h3><br/><table class=\"wandb\"><tr><td>epoch</td><td>6</td></tr><tr><td>final/best_val_mpjpe</td><td>253.10156</td></tr><tr><td>final/epochs_trained</td><td>7</td></tr><tr><td>system/gpu_memory_gb</td><td>11.462</td></tr><tr><td>train/batch_loss</td><td>0.58985</td></tr><tr><td>train/batch_mpjpe</td><td>365.23438</td></tr><tr><td>train/hand_mpjpe</td><td>261.54347</td></tr><tr><td>train/loss</td><td>0.46371</td></tr><tr><td>train/lr</td><td>0.0</td></tr><tr><td>val/best_mpjpe</td><td>253.10156</td></tr><tr><td>val/hand_mpjpe</td><td>253.4375</td></tr><tr><td>val/loss</td><td>0.40023</td></tr></table><br/></div></div>"
      ],
      "text/plain": [
       "<IPython.core.display.HTML object>"
      ]
     },
     "metadata": {},
     "output_type": "display_data"
    },
    {
     "data": {
      "text/html": [
       " View run <strong style=\"color:#cdcd00\">fearless-sweep-13</strong> at: <a href='https://wandb.ai/bryandong24-stanford-university/amt-hyperparameter-sweep/runs/3dmrr3u6' target=\"_blank\">https://wandb.ai/bryandong24-stanford-university/amt-hyperparameter-sweep/runs/3dmrr3u6</a><br> View project at: <a href='https://wandb.ai/bryandong24-stanford-university/amt-hyperparameter-sweep' target=\"_blank\">https://wandb.ai/bryandong24-stanford-university/amt-hyperparameter-sweep</a><br>Synced 5 W&B file(s), 0 media file(s), 0 artifact file(s) and 0 other file(s)"
      ],
      "text/plain": [
       "<IPython.core.display.HTML object>"
      ]
     },
     "metadata": {},
     "output_type": "display_data"
    },
    {
     "data": {
      "text/html": [
       "Find logs at: <code>./wandb/run-20250604_045543-3dmrr3u6/logs</code>"
      ],
      "text/plain": [
       "<IPython.core.display.HTML object>"
      ]
     },
     "metadata": {},
     "output_type": "display_data"
    },
    {
     "name": "stderr",
     "output_type": "stream",
     "text": [
      "\u001b[34m\u001b[1mwandb\u001b[0m: Agent Starting Run: pblhrjle with config:\n",
      "\u001b[34m\u001b[1mwandb\u001b[0m: \taug_color_jitter: 0.1250635199814275\n",
      "\u001b[34m\u001b[1mwandb\u001b[0m: \taug_joint_noise_std: 0.00453455051278761\n",
      "\u001b[34m\u001b[1mwandb\u001b[0m: \taug_rotation_range: 7.438926791997208\n",
      "\u001b[34m\u001b[1mwandb\u001b[0m: \taug_scale_max: 1.2396150254054663\n",
      "\u001b[34m\u001b[1mwandb\u001b[0m: \taug_scale_min: 0.7409858104505066\n",
      "\u001b[34m\u001b[1mwandb\u001b[0m: \taug_translation_std: 0.06652892785539152\n",
      "\u001b[34m\u001b[1mwandb\u001b[0m: \tbatch_size: 128\n",
      "\u001b[34m\u001b[1mwandb\u001b[0m: \tdiversity_margin: 0.005972349258746254\n",
      "\u001b[34m\u001b[1mwandb\u001b[0m: \tdropout: 0.3\n",
      "\u001b[34m\u001b[1mwandb\u001b[0m: \tfingertip_weight: 1.2099339742716817\n",
      "\u001b[34m\u001b[1mwandb\u001b[0m: \tloss_weight_contact: 0.45219071791117665\n",
      "\u001b[34m\u001b[1mwandb\u001b[0m: \tloss_weight_diversity: 0.00519277328576154\n",
      "\u001b[34m\u001b[1mwandb\u001b[0m: \tloss_weight_hand_coarse: 1.0095001456355774\n",
      "\u001b[34m\u001b[1mwandb\u001b[0m: \tloss_weight_hand_refined: 1.314758370028681\n",
      "\u001b[34m\u001b[1mwandb\u001b[0m: \tloss_weight_object_position: 1.1655400525841215\n",
      "\u001b[34m\u001b[1mwandb\u001b[0m: \tloss_weight_object_rotation: 0.6842202711557879\n",
      "\u001b[34m\u001b[1mwandb\u001b[0m: \tloss_weight_physics: 0.05766427373234568\n",
      "\u001b[34m\u001b[1mwandb\u001b[0m: \tloss_weight_reprojection: 0.48192766985805974\n",
      "\u001b[34m\u001b[1mwandb\u001b[0m: \tper_joint_weighting: True\n",
      "\u001b[34m\u001b[1mwandb\u001b[0m: \tscheduler_type: step\n"
     ]
    },
    {
     "data": {
      "text/html": [
       "Tracking run with wandb version 0.19.11"
      ],
      "text/plain": [
       "<IPython.core.display.HTML object>"
      ]
     },
     "metadata": {},
     "output_type": "display_data"
    },
    {
     "data": {
      "text/html": [
       "Run data is saved locally in <code>/home/n231/231nProjectV2/Advanced_Manipulation_Transformer/notebooks/wandb/run-20250604_050042-pblhrjle</code>"
      ],
      "text/plain": [
       "<IPython.core.display.HTML object>"
      ]
     },
     "metadata": {},
     "output_type": "display_data"
    },
    {
     "data": {
      "text/html": [
       "Syncing run <strong><a href='https://wandb.ai/bryandong24-stanford-university/amt-hyperparameter-sweep/runs/pblhrjle' target=\"_blank\">hearty-sweep-14</a></strong> to <a href='https://wandb.ai/bryandong24-stanford-university/amt-hyperparameter-sweep' target=\"_blank\">Weights & Biases</a> (<a href='https://wandb.me/developer-guide' target=\"_blank\">docs</a>)<br>Sweep page: <a href='https://wandb.ai/bryandong24-stanford-university/amt-hyperparameter-sweep/sweeps/c189gpt8' target=\"_blank\">https://wandb.ai/bryandong24-stanford-university/amt-hyperparameter-sweep/sweeps/c189gpt8</a>"
      ],
      "text/plain": [
       "<IPython.core.display.HTML object>"
      ]
     },
     "metadata": {},
     "output_type": "display_data"
    },
    {
     "data": {
      "text/html": [
       " View project at <a href='https://wandb.ai/bryandong24-stanford-university/amt-hyperparameter-sweep' target=\"_blank\">https://wandb.ai/bryandong24-stanford-university/amt-hyperparameter-sweep</a>"
      ],
      "text/plain": [
       "<IPython.core.display.HTML object>"
      ]
     },
     "metadata": {},
     "output_type": "display_data"
    },
    {
     "data": {
      "text/html": [
       " View sweep at <a href='https://wandb.ai/bryandong24-stanford-university/amt-hyperparameter-sweep/sweeps/c189gpt8' target=\"_blank\">https://wandb.ai/bryandong24-stanford-university/amt-hyperparameter-sweep/sweeps/c189gpt8</a>"
      ],
      "text/plain": [
       "<IPython.core.display.HTML object>"
      ]
     },
     "metadata": {},
     "output_type": "display_data"
    },
    {
     "data": {
      "text/html": [
       " View run at <a href='https://wandb.ai/bryandong24-stanford-university/amt-hyperparameter-sweep/runs/pblhrjle' target=\"_blank\">https://wandb.ai/bryandong24-stanford-university/amt-hyperparameter-sweep/runs/pblhrjle</a>"
      ],
      "text/plain": [
       "<IPython.core.display.HTML object>"
      ]
     },
     "metadata": {},
     "output_type": "display_data"
    },
    {
     "name": "stdout",
     "output_type": "stream",
     "text": [
      "Creating dataloaders with 20k train, 2k val samples, batch_size=128...\n",
      "Creating GPU-cached datasets...\n",
      "Target memory usage: 20.0 GB\n",
      "Estimated GPU memory usage: 20.0 GB\n",
      "Loading cached GPU dataset from ./gpu_cache_sweep/train_gpu_cache_20000.pt...\n",
      "Loading cache from ./gpu_cache_sweep/train_gpu_cache_20000.pt...\n",
      "✓ Loaded 20000 samples\n",
      "Estimated GPU memory usage: 2.0 GB\n",
      "Loading cached GPU dataset from ./gpu_cache_sweep/val_gpu_cache_2000.pt...\n",
      "Loading cache from ./gpu_cache_sweep/val_gpu_cache_2000.pt...\n",
      "✓ Loaded 2000 samples\n",
      "\n",
      "✓ GPU Datasets created:\n",
      "  Train: 20000 samples (6.7 GB)\n",
      "  Val: 2000 samples (6.7 GB)\n",
      "  Total GPU memory: 13.4 GB\n",
      "Dataloaders created: 156 train batches, 16 val batches\n",
      "Epoch 1/7: train_loss=1.2279, train_mpjpe=531.31mm, val_loss=0.6049, val_mpjpe=326.66mm\n",
      "Epoch 2/7: train_loss=0.6653, train_mpjpe=357.77mm, val_loss=0.5551, val_mpjpe=300.42mm\n",
      "Epoch 3/7: train_loss=0.6187, train_mpjpe=333.30mm, val_loss=0.4381, val_mpjpe=285.07mm\n",
      "Epoch 4/7: train_loss=0.6048, train_mpjpe=320.14mm, val_loss=0.4840, val_mpjpe=274.45mm\n",
      "Epoch 5/7: train_loss=0.6009, train_mpjpe=305.04mm, val_loss=0.5149, val_mpjpe=258.27mm\n",
      "Epoch 6/7: train_loss=0.5960, train_mpjpe=287.75mm, val_loss=0.4862, val_mpjpe=256.88mm\n",
      "Epoch 7/7: train_loss=0.5890, train_mpjpe=272.73mm, val_loss=0.4866, val_mpjpe=252.59mm\n"
     ]
    },
    {
     "data": {
      "text/html": [],
      "text/plain": [
       "<IPython.core.display.HTML object>"
      ]
     },
     "metadata": {},
     "output_type": "display_data"
    },
    {
     "data": {
      "text/html": [
       "<br>    <style><br>        .wandb-row {<br>            display: flex;<br>            flex-direction: row;<br>            flex-wrap: wrap;<br>            justify-content: flex-start;<br>            width: 100%;<br>        }<br>        .wandb-col {<br>            display: flex;<br>            flex-direction: column;<br>            flex-basis: 100%;<br>            flex: 1;<br>            padding: 10px;<br>        }<br>    </style><br><div class=\"wandb-row\"><div class=\"wandb-col\"><h3>Run history:</h3><br/><table class=\"wandb\"><tr><td>epoch</td><td>▁▂▃▅▆▇█</td></tr><tr><td>final/best_val_mpjpe</td><td>▁</td></tr><tr><td>final/epochs_trained</td><td>▁</td></tr><tr><td>system/gpu_memory_gb</td><td>▃▄▄▆▂▂▃▄▅▂▂▅▃▄▆▃▄▄▂█▄▃▄▄▂▄▂▂▃▁▄▃▄▅▄▂▄▃▇▃</td></tr><tr><td>train/batch_loss</td><td>█▄▂▂▂▂▂▂▁▁▂▂▂▁▂▁▁▁▁▁▁▁▁▁▁▂▁▁▁▁▁▁▁▁▁▁▂▁▁▁</td></tr><tr><td>train/batch_mpjpe</td><td>█▂▂▂▂▁▁▁▁▁▁▂▁▁▁▁▁▁▁▁▁▁▁▁▁▁▁▁▁▁▁▁▁▁▁▁▁▁▁▁</td></tr><tr><td>train/hand_mpjpe</td><td>█▃▃▂▂▁▁</td></tr><tr><td>train/loss</td><td>█▂▁▁▁▁▁</td></tr><tr><td>train/lr</td><td>████████████████▃▃▃▃▃▃▃▃▃▃▃▃▃▃▃▃▃▃▁▁▁▁▁▁</td></tr><tr><td>val/best_mpjpe</td><td>█▆▄▃▂▁▁</td></tr><tr><td>val/hand_mpjpe</td><td>█▆▄▃▂▁▁</td></tr><tr><td>val/loss</td><td>█▆▁▃▄▃▃</td></tr></table><br/></div><div class=\"wandb-col\"><h3>Run summary:</h3><br/><table class=\"wandb\"><tr><td>epoch</td><td>6</td></tr><tr><td>final/best_val_mpjpe</td><td>252.59375</td></tr><tr><td>final/epochs_trained</td><td>7</td></tr><tr><td>system/gpu_memory_gb</td><td>11.45428</td></tr><tr><td>train/batch_loss</td><td>0.59696</td></tr><tr><td>train/batch_mpjpe</td><td>273.4375</td></tr><tr><td>train/hand_mpjpe</td><td>272.73012</td></tr><tr><td>train/loss</td><td>0.58897</td></tr><tr><td>train/lr</td><td>0.0</td></tr><tr><td>val/best_mpjpe</td><td>252.59375</td></tr><tr><td>val/hand_mpjpe</td><td>252.59375</td></tr><tr><td>val/loss</td><td>0.48663</td></tr></table><br/></div></div>"
      ],
      "text/plain": [
       "<IPython.core.display.HTML object>"
      ]
     },
     "metadata": {},
     "output_type": "display_data"
    },
    {
     "data": {
      "text/html": [
       " View run <strong style=\"color:#cdcd00\">hearty-sweep-14</strong> at: <a href='https://wandb.ai/bryandong24-stanford-university/amt-hyperparameter-sweep/runs/pblhrjle' target=\"_blank\">https://wandb.ai/bryandong24-stanford-university/amt-hyperparameter-sweep/runs/pblhrjle</a><br> View project at: <a href='https://wandb.ai/bryandong24-stanford-university/amt-hyperparameter-sweep' target=\"_blank\">https://wandb.ai/bryandong24-stanford-university/amt-hyperparameter-sweep</a><br>Synced 5 W&B file(s), 0 media file(s), 0 artifact file(s) and 0 other file(s)"
      ],
      "text/plain": [
       "<IPython.core.display.HTML object>"
      ]
     },
     "metadata": {},
     "output_type": "display_data"
    },
    {
     "data": {
      "text/html": [
       "Find logs at: <code>./wandb/run-20250604_050042-pblhrjle/logs</code>"
      ],
      "text/plain": [
       "<IPython.core.display.HTML object>"
      ]
     },
     "metadata": {},
     "output_type": "display_data"
    },
    {
     "name": "stderr",
     "output_type": "stream",
     "text": [
      "\u001b[34m\u001b[1mwandb\u001b[0m: Agent Starting Run: hzeuwcec with config:\n",
      "\u001b[34m\u001b[1mwandb\u001b[0m: \taug_color_jitter: 0.2243158419722358\n",
      "\u001b[34m\u001b[1mwandb\u001b[0m: \taug_joint_noise_std: 0.004702267567070829\n",
      "\u001b[34m\u001b[1mwandb\u001b[0m: \taug_rotation_range: 12.038978293738973\n",
      "\u001b[34m\u001b[1mwandb\u001b[0m: \taug_scale_max: 1.2581937225010833\n",
      "\u001b[34m\u001b[1mwandb\u001b[0m: \taug_scale_min: 0.7930900068073665\n",
      "\u001b[34m\u001b[1mwandb\u001b[0m: \taug_translation_std: 0.02100359041551222\n",
      "\u001b[34m\u001b[1mwandb\u001b[0m: \tbatch_size: 256\n",
      "\u001b[34m\u001b[1mwandb\u001b[0m: \tdiversity_margin: 0.0069266685342013225\n",
      "\u001b[34m\u001b[1mwandb\u001b[0m: \tdropout: 0.3\n",
      "\u001b[34m\u001b[1mwandb\u001b[0m: \tfingertip_weight: 1.861392215404659\n",
      "\u001b[34m\u001b[1mwandb\u001b[0m: \tloss_weight_contact: 0.4869461578493837\n",
      "\u001b[34m\u001b[1mwandb\u001b[0m: \tloss_weight_diversity: 0.04866880211674292\n",
      "\u001b[34m\u001b[1mwandb\u001b[0m: \tloss_weight_hand_coarse: 0.9400985225622004\n",
      "\u001b[34m\u001b[1mwandb\u001b[0m: \tloss_weight_hand_refined: 1.0763452875470878\n",
      "\u001b[34m\u001b[1mwandb\u001b[0m: \tloss_weight_object_position: 1.0477027184828662\n",
      "\u001b[34m\u001b[1mwandb\u001b[0m: \tloss_weight_object_rotation: 0.5119823254798943\n",
      "\u001b[34m\u001b[1mwandb\u001b[0m: \tloss_weight_physics: 0.09456322267970872\n",
      "\u001b[34m\u001b[1mwandb\u001b[0m: \tloss_weight_reprojection: 0.6995082476175166\n",
      "\u001b[34m\u001b[1mwandb\u001b[0m: \tper_joint_weighting: True\n",
      "\u001b[34m\u001b[1mwandb\u001b[0m: \tscheduler_type: exponential\n"
     ]
    },
    {
     "data": {
      "text/html": [
       "Tracking run with wandb version 0.19.11"
      ],
      "text/plain": [
       "<IPython.core.display.HTML object>"
      ]
     },
     "metadata": {},
     "output_type": "display_data"
    },
    {
     "data": {
      "text/html": [
       "Run data is saved locally in <code>/home/n231/231nProjectV2/Advanced_Manipulation_Transformer/notebooks/wandb/run-20250604_050540-hzeuwcec</code>"
      ],
      "text/plain": [
       "<IPython.core.display.HTML object>"
      ]
     },
     "metadata": {},
     "output_type": "display_data"
    },
    {
     "data": {
      "text/html": [
       "Syncing run <strong><a href='https://wandb.ai/bryandong24-stanford-university/amt-hyperparameter-sweep/runs/hzeuwcec' target=\"_blank\">rosy-sweep-15</a></strong> to <a href='https://wandb.ai/bryandong24-stanford-university/amt-hyperparameter-sweep' target=\"_blank\">Weights & Biases</a> (<a href='https://wandb.me/developer-guide' target=\"_blank\">docs</a>)<br>Sweep page: <a href='https://wandb.ai/bryandong24-stanford-university/amt-hyperparameter-sweep/sweeps/c189gpt8' target=\"_blank\">https://wandb.ai/bryandong24-stanford-university/amt-hyperparameter-sweep/sweeps/c189gpt8</a>"
      ],
      "text/plain": [
       "<IPython.core.display.HTML object>"
      ]
     },
     "metadata": {},
     "output_type": "display_data"
    },
    {
     "data": {
      "text/html": [
       " View project at <a href='https://wandb.ai/bryandong24-stanford-university/amt-hyperparameter-sweep' target=\"_blank\">https://wandb.ai/bryandong24-stanford-university/amt-hyperparameter-sweep</a>"
      ],
      "text/plain": [
       "<IPython.core.display.HTML object>"
      ]
     },
     "metadata": {},
     "output_type": "display_data"
    },
    {
     "data": {
      "text/html": [
       " View sweep at <a href='https://wandb.ai/bryandong24-stanford-university/amt-hyperparameter-sweep/sweeps/c189gpt8' target=\"_blank\">https://wandb.ai/bryandong24-stanford-university/amt-hyperparameter-sweep/sweeps/c189gpt8</a>"
      ],
      "text/plain": [
       "<IPython.core.display.HTML object>"
      ]
     },
     "metadata": {},
     "output_type": "display_data"
    },
    {
     "data": {
      "text/html": [
       " View run at <a href='https://wandb.ai/bryandong24-stanford-university/amt-hyperparameter-sweep/runs/hzeuwcec' target=\"_blank\">https://wandb.ai/bryandong24-stanford-university/amt-hyperparameter-sweep/runs/hzeuwcec</a>"
      ],
      "text/plain": [
       "<IPython.core.display.HTML object>"
      ]
     },
     "metadata": {},
     "output_type": "display_data"
    },
    {
     "name": "stdout",
     "output_type": "stream",
     "text": [
      "Creating dataloaders with 20k train, 2k val samples, batch_size=256...\n",
      "Creating GPU-cached datasets...\n",
      "Target memory usage: 20.0 GB\n",
      "Estimated GPU memory usage: 20.0 GB\n",
      "Loading cached GPU dataset from ./gpu_cache_sweep/train_gpu_cache_20000.pt...\n",
      "Loading cache from ./gpu_cache_sweep/train_gpu_cache_20000.pt...\n",
      "✓ Loaded 20000 samples\n",
      "Estimated GPU memory usage: 2.0 GB\n",
      "Loading cached GPU dataset from ./gpu_cache_sweep/val_gpu_cache_2000.pt...\n",
      "Loading cache from ./gpu_cache_sweep/val_gpu_cache_2000.pt...\n",
      "✓ Loaded 2000 samples\n",
      "\n",
      "✓ GPU Datasets created:\n",
      "  Train: 20000 samples (6.7 GB)\n",
      "  Val: 2000 samples (6.7 GB)\n",
      "  Total GPU memory: 13.4 GB\n",
      "Dataloaders created: 78 train batches, 8 val batches\n",
      "Epoch 1/7: train_loss=1.3922, train_mpjpe=701.80mm, val_loss=0.9627, val_mpjpe=529.44mm\n",
      "Epoch 2/7: train_loss=0.8020, train_mpjpe=411.26mm, val_loss=0.4986, val_mpjpe=322.61mm\n",
      "Epoch 3/7: train_loss=0.6130, train_mpjpe=356.37mm, val_loss=0.4492, val_mpjpe=299.70mm\n",
      "Epoch 4/7: train_loss=0.5898, train_mpjpe=339.12mm, val_loss=0.4549, val_mpjpe=292.40mm\n",
      "Epoch 5/7: train_loss=0.5879, train_mpjpe=330.00mm, val_loss=0.4771, val_mpjpe=290.45mm\n",
      "Epoch 6/7: train_loss=0.5828, train_mpjpe=321.84mm, val_loss=0.4593, val_mpjpe=279.34mm\n",
      "Epoch 7/7: train_loss=0.5848, train_mpjpe=314.78mm, val_loss=0.4423, val_mpjpe=275.45mm\n"
     ]
    },
    {
     "data": {
      "text/html": [],
      "text/plain": [
       "<IPython.core.display.HTML object>"
      ]
     },
     "metadata": {},
     "output_type": "display_data"
    },
    {
     "data": {
      "text/html": [
       "<br>    <style><br>        .wandb-row {<br>            display: flex;<br>            flex-direction: row;<br>            flex-wrap: wrap;<br>            justify-content: flex-start;<br>            width: 100%;<br>        }<br>        .wandb-col {<br>            display: flex;<br>            flex-direction: column;<br>            flex-basis: 100%;<br>            flex: 1;<br>            padding: 10px;<br>        }<br>    </style><br><div class=\"wandb-row\"><div class=\"wandb-col\"><h3>Run history:</h3><br/><table class=\"wandb\"><tr><td>epoch</td><td>▁▂▃▅▆▇█</td></tr><tr><td>final/best_val_mpjpe</td><td>▁</td></tr><tr><td>final/epochs_trained</td><td>▁</td></tr><tr><td>system/gpu_memory_gb</td><td>▄▆▇▆▄▅▃▆▄▃▂▃▅▃▂▃█▁▂▄▅▃▂▄▇▄▂▄</td></tr><tr><td>train/batch_loss</td><td>█▃▂▂▂▂▂▁▁▁▁▁▁▁▁▁▁▁▁▁▁▁▁▁▁▁▁▁</td></tr><tr><td>train/batch_mpjpe</td><td>█▂▂▁▂▂▁▁▁▁▁▁▁▁▁▁▁▁▁▁▁▁▁▁▁▁▁▁</td></tr><tr><td>train/hand_mpjpe</td><td>█▃▂▁▁▁▁</td></tr><tr><td>train/loss</td><td>█▃▁▁▁▁▁</td></tr><tr><td>train/lr</td><td>████▇▇▇▇▅▅▅▅▄▄▄▄▃▃▃▃▂▂▂▂▁▁▁▁</td></tr><tr><td>val/best_mpjpe</td><td>█▂▂▁▁▁▁</td></tr><tr><td>val/hand_mpjpe</td><td>█▂▂▁▁▁▁</td></tr><tr><td>val/loss</td><td>█▂▁▁▁▁▁</td></tr></table><br/></div><div class=\"wandb-col\"><h3>Run summary:</h3><br/><table class=\"wandb\"><tr><td>epoch</td><td>6</td></tr><tr><td>final/best_val_mpjpe</td><td>275.44531</td></tr><tr><td>final/epochs_trained</td><td>7</td></tr><tr><td>system/gpu_memory_gb</td><td>11.88403</td></tr><tr><td>train/batch_loss</td><td>0.59278</td></tr><tr><td>train/batch_mpjpe</td><td>310.54688</td></tr><tr><td>train/hand_mpjpe</td><td>314.77865</td></tr><tr><td>train/loss</td><td>0.58478</td></tr><tr><td>train/lr</td><td>1e-05</td></tr><tr><td>val/best_mpjpe</td><td>275.44531</td></tr><tr><td>val/hand_mpjpe</td><td>275.44531</td></tr><tr><td>val/loss</td><td>0.44232</td></tr></table><br/></div></div>"
      ],
      "text/plain": [
       "<IPython.core.display.HTML object>"
      ]
     },
     "metadata": {},
     "output_type": "display_data"
    },
    {
     "data": {
      "text/html": [
       " View run <strong style=\"color:#cdcd00\">rosy-sweep-15</strong> at: <a href='https://wandb.ai/bryandong24-stanford-university/amt-hyperparameter-sweep/runs/hzeuwcec' target=\"_blank\">https://wandb.ai/bryandong24-stanford-university/amt-hyperparameter-sweep/runs/hzeuwcec</a><br> View project at: <a href='https://wandb.ai/bryandong24-stanford-university/amt-hyperparameter-sweep' target=\"_blank\">https://wandb.ai/bryandong24-stanford-university/amt-hyperparameter-sweep</a><br>Synced 5 W&B file(s), 0 media file(s), 0 artifact file(s) and 0 other file(s)"
      ],
      "text/plain": [
       "<IPython.core.display.HTML object>"
      ]
     },
     "metadata": {},
     "output_type": "display_data"
    },
    {
     "data": {
      "text/html": [
       "Find logs at: <code>./wandb/run-20250604_050540-hzeuwcec/logs</code>"
      ],
      "text/plain": [
       "<IPython.core.display.HTML object>"
      ]
     },
     "metadata": {},
     "output_type": "display_data"
    },
    {
     "name": "stderr",
     "output_type": "stream",
     "text": [
      "\u001b[34m\u001b[1mwandb\u001b[0m: Agent Starting Run: ze2fldb7 with config:\n",
      "\u001b[34m\u001b[1mwandb\u001b[0m: \taug_color_jitter: 0.13869033859760888\n",
      "\u001b[34m\u001b[1mwandb\u001b[0m: \taug_joint_noise_std: 0.0070658325482116585\n",
      "\u001b[34m\u001b[1mwandb\u001b[0m: \taug_rotation_range: 7.400351206601652\n",
      "\u001b[34m\u001b[1mwandb\u001b[0m: \taug_scale_max: 1.144004991073824\n",
      "\u001b[34m\u001b[1mwandb\u001b[0m: \taug_scale_min: 0.8840870559114468\n",
      "\u001b[34m\u001b[1mwandb\u001b[0m: \taug_translation_std: 0.0538799922962865\n",
      "\u001b[34m\u001b[1mwandb\u001b[0m: \tbatch_size: 64\n",
      "\u001b[34m\u001b[1mwandb\u001b[0m: \tdiversity_margin: 0.014108643734790295\n",
      "\u001b[34m\u001b[1mwandb\u001b[0m: \tdropout: 0.15\n",
      "\u001b[34m\u001b[1mwandb\u001b[0m: \tfingertip_weight: 1.8744892764382568\n",
      "\u001b[34m\u001b[1mwandb\u001b[0m: \tloss_weight_contact: 0.4801413350017296\n",
      "\u001b[34m\u001b[1mwandb\u001b[0m: \tloss_weight_diversity: 0.009402799400532692\n",
      "\u001b[34m\u001b[1mwandb\u001b[0m: \tloss_weight_hand_coarse: 0.8844968902540621\n",
      "\u001b[34m\u001b[1mwandb\u001b[0m: \tloss_weight_hand_refined: 1.2503924254052825\n",
      "\u001b[34m\u001b[1mwandb\u001b[0m: \tloss_weight_object_position: 0.9029843565268668\n",
      "\u001b[34m\u001b[1mwandb\u001b[0m: \tloss_weight_object_rotation: 0.6718094406104496\n",
      "\u001b[34m\u001b[1mwandb\u001b[0m: \tloss_weight_physics: 0.18583158743291184\n",
      "\u001b[34m\u001b[1mwandb\u001b[0m: \tloss_weight_reprojection: 0.30422200644674424\n",
      "\u001b[34m\u001b[1mwandb\u001b[0m: \tper_joint_weighting: False\n",
      "\u001b[34m\u001b[1mwandb\u001b[0m: \tscheduler_type: step\n"
     ]
    },
    {
     "data": {
      "text/html": [
       "Tracking run with wandb version 0.19.11"
      ],
      "text/plain": [
       "<IPython.core.display.HTML object>"
      ]
     },
     "metadata": {},
     "output_type": "display_data"
    },
    {
     "data": {
      "text/html": [
       "Run data is saved locally in <code>/home/n231/231nProjectV2/Advanced_Manipulation_Transformer/notebooks/wandb/run-20250604_051009-ze2fldb7</code>"
      ],
      "text/plain": [
       "<IPython.core.display.HTML object>"
      ]
     },
     "metadata": {},
     "output_type": "display_data"
    },
    {
     "data": {
      "text/html": [
       "Syncing run <strong><a href='https://wandb.ai/bryandong24-stanford-university/amt-hyperparameter-sweep/runs/ze2fldb7' target=\"_blank\">fast-sweep-16</a></strong> to <a href='https://wandb.ai/bryandong24-stanford-university/amt-hyperparameter-sweep' target=\"_blank\">Weights & Biases</a> (<a href='https://wandb.me/developer-guide' target=\"_blank\">docs</a>)<br>Sweep page: <a href='https://wandb.ai/bryandong24-stanford-university/amt-hyperparameter-sweep/sweeps/c189gpt8' target=\"_blank\">https://wandb.ai/bryandong24-stanford-university/amt-hyperparameter-sweep/sweeps/c189gpt8</a>"
      ],
      "text/plain": [
       "<IPython.core.display.HTML object>"
      ]
     },
     "metadata": {},
     "output_type": "display_data"
    },
    {
     "data": {
      "text/html": [
       " View project at <a href='https://wandb.ai/bryandong24-stanford-university/amt-hyperparameter-sweep' target=\"_blank\">https://wandb.ai/bryandong24-stanford-university/amt-hyperparameter-sweep</a>"
      ],
      "text/plain": [
       "<IPython.core.display.HTML object>"
      ]
     },
     "metadata": {},
     "output_type": "display_data"
    },
    {
     "data": {
      "text/html": [
       " View sweep at <a href='https://wandb.ai/bryandong24-stanford-university/amt-hyperparameter-sweep/sweeps/c189gpt8' target=\"_blank\">https://wandb.ai/bryandong24-stanford-university/amt-hyperparameter-sweep/sweeps/c189gpt8</a>"
      ],
      "text/plain": [
       "<IPython.core.display.HTML object>"
      ]
     },
     "metadata": {},
     "output_type": "display_data"
    },
    {
     "data": {
      "text/html": [
       " View run at <a href='https://wandb.ai/bryandong24-stanford-university/amt-hyperparameter-sweep/runs/ze2fldb7' target=\"_blank\">https://wandb.ai/bryandong24-stanford-university/amt-hyperparameter-sweep/runs/ze2fldb7</a>"
      ],
      "text/plain": [
       "<IPython.core.display.HTML object>"
      ]
     },
     "metadata": {},
     "output_type": "display_data"
    },
    {
     "name": "stdout",
     "output_type": "stream",
     "text": [
      "Creating dataloaders with 20k train, 2k val samples, batch_size=64...\n",
      "Creating GPU-cached datasets...\n",
      "Target memory usage: 20.0 GB\n",
      "Estimated GPU memory usage: 20.0 GB\n",
      "Loading cached GPU dataset from ./gpu_cache_sweep/train_gpu_cache_20000.pt...\n",
      "Loading cache from ./gpu_cache_sweep/train_gpu_cache_20000.pt...\n",
      "✓ Loaded 20000 samples\n",
      "Estimated GPU memory usage: 2.0 GB\n",
      "Loading cached GPU dataset from ./gpu_cache_sweep/val_gpu_cache_2000.pt...\n",
      "Loading cache from ./gpu_cache_sweep/val_gpu_cache_2000.pt...\n",
      "✓ Loaded 2000 samples\n",
      "\n",
      "✓ GPU Datasets created:\n",
      "  Train: 20000 samples (6.7 GB)\n",
      "  Val: 2000 samples (6.7 GB)\n",
      "  Total GPU memory: 13.4 GB\n",
      "Dataloaders created: 312 train batches, 32 val batches\n",
      "Epoch 1/7: train_loss=0.7848, train_mpjpe=481.52mm, val_loss=0.4375, val_mpjpe=336.64mm\n",
      "Epoch 2/7: train_loss=0.4904, train_mpjpe=347.11mm, val_loss=0.3882, val_mpjpe=312.25mm\n",
      "Epoch 3/7: train_loss=0.4717, train_mpjpe=321.67mm, val_loss=0.3795, val_mpjpe=288.42mm\n",
      "Epoch 4/7: train_loss=0.4599, train_mpjpe=294.20mm, val_loss=0.3722, val_mpjpe=244.27mm\n",
      "Epoch 5/7: train_loss=0.4615, train_mpjpe=283.82mm, val_loss=0.3853, val_mpjpe=238.47mm\n",
      "Epoch 6/7: train_loss=0.4655, train_mpjpe=274.22mm, val_loss=0.3982, val_mpjpe=242.83mm\n",
      "Epoch 7/7: train_loss=0.4636, train_mpjpe=260.50mm, val_loss=0.4122, val_mpjpe=254.03mm\n"
     ]
    },
    {
     "data": {
      "text/html": [],
      "text/plain": [
       "<IPython.core.display.HTML object>"
      ]
     },
     "metadata": {},
     "output_type": "display_data"
    },
    {
     "data": {
      "text/html": [
       "<br>    <style><br>        .wandb-row {<br>            display: flex;<br>            flex-direction: row;<br>            flex-wrap: wrap;<br>            justify-content: flex-start;<br>            width: 100%;<br>        }<br>        .wandb-col {<br>            display: flex;<br>            flex-direction: column;<br>            flex-basis: 100%;<br>            flex: 1;<br>            padding: 10px;<br>        }<br>    </style><br><div class=\"wandb-row\"><div class=\"wandb-col\"><h3>Run history:</h3><br/><table class=\"wandb\"><tr><td>epoch</td><td>▁▂▃▅▆▇█</td></tr><tr><td>final/best_val_mpjpe</td><td>▁</td></tr><tr><td>final/epochs_trained</td><td>▁</td></tr><tr><td>system/gpu_memory_gb</td><td>▆▆▄▂▂▅▅█▃▅▇▅▄▄▄▄▆▃▇▄▆▁▃▆█▄▆▁▃▃▃▇▆▆▄▄▁▃█▇</td></tr><tr><td>train/batch_loss</td><td>▇▆▅▄▃▃▂▄▃▃█▄▄▃▃▄▄▂▃▅▃▅▃▂▂▃▅▃▃▂▂▂▂▅▃▄▁▆▁▃</td></tr><tr><td>train/batch_mpjpe</td><td>█▁▂▂▂▁▁▁▂▁▂▁▂▁▁▁▁▁▁▁▁▁▁▁▁▁▂▁▁▁▁▁▁▂▁▁▁▁▁▁</td></tr><tr><td>train/hand_mpjpe</td><td>█▄▃▂▂▁▁</td></tr><tr><td>train/loss</td><td>█▂▁▁▁▁▁</td></tr><tr><td>train/lr</td><td>█████████████████▃▃▃▃▃▃▃▃▃▃▃▃▃▃▃▃▃▃▃▁▁▁▁</td></tr><tr><td>val/best_mpjpe</td><td>█▆▅▁▁▁▁</td></tr><tr><td>val/hand_mpjpe</td><td>█▆▅▁▁▁▂</td></tr><tr><td>val/loss</td><td>█▃▂▁▂▄▅</td></tr></table><br/></div><div class=\"wandb-col\"><h3>Run summary:</h3><br/><table class=\"wandb\"><tr><td>epoch</td><td>6</td></tr><tr><td>final/best_val_mpjpe</td><td>238.46875</td></tr><tr><td>final/epochs_trained</td><td>7</td></tr><tr><td>system/gpu_memory_gb</td><td>11.23664</td></tr><tr><td>train/batch_loss</td><td>0.39733</td></tr><tr><td>train/batch_mpjpe</td><td>214.84375</td></tr><tr><td>train/hand_mpjpe</td><td>260.50431</td></tr><tr><td>train/loss</td><td>0.46359</td></tr><tr><td>train/lr</td><td>0.0</td></tr><tr><td>val/best_mpjpe</td><td>238.46875</td></tr><tr><td>val/hand_mpjpe</td><td>254.02734</td></tr><tr><td>val/loss</td><td>0.41223</td></tr></table><br/></div></div>"
      ],
      "text/plain": [
       "<IPython.core.display.HTML object>"
      ]
     },
     "metadata": {},
     "output_type": "display_data"
    },
    {
     "data": {
      "text/html": [
       " View run <strong style=\"color:#cdcd00\">fast-sweep-16</strong> at: <a href='https://wandb.ai/bryandong24-stanford-university/amt-hyperparameter-sweep/runs/ze2fldb7' target=\"_blank\">https://wandb.ai/bryandong24-stanford-university/amt-hyperparameter-sweep/runs/ze2fldb7</a><br> View project at: <a href='https://wandb.ai/bryandong24-stanford-university/amt-hyperparameter-sweep' target=\"_blank\">https://wandb.ai/bryandong24-stanford-university/amt-hyperparameter-sweep</a><br>Synced 5 W&B file(s), 0 media file(s), 0 artifact file(s) and 0 other file(s)"
      ],
      "text/plain": [
       "<IPython.core.display.HTML object>"
      ]
     },
     "metadata": {},
     "output_type": "display_data"
    },
    {
     "data": {
      "text/html": [
       "Find logs at: <code>./wandb/run-20250604_051009-ze2fldb7/logs</code>"
      ],
      "text/plain": [
       "<IPython.core.display.HTML object>"
      ]
     },
     "metadata": {},
     "output_type": "display_data"
    },
    {
     "name": "stderr",
     "output_type": "stream",
     "text": [
      "\u001b[34m\u001b[1mwandb\u001b[0m: Sweep Agent: Waiting for job.\n",
      "\u001b[34m\u001b[1mwandb\u001b[0m: Job received.\n",
      "\u001b[34m\u001b[1mwandb\u001b[0m: Agent Starting Run: gl7i4fq3 with config:\n",
      "\u001b[34m\u001b[1mwandb\u001b[0m: \taug_color_jitter: 0.24454528743473136\n",
      "\u001b[34m\u001b[1mwandb\u001b[0m: \taug_joint_noise_std: 0.007932944628698639\n",
      "\u001b[34m\u001b[1mwandb\u001b[0m: \taug_rotation_range: 5.71360886499428\n",
      "\u001b[34m\u001b[1mwandb\u001b[0m: \taug_scale_max: 1.2433753984755511\n",
      "\u001b[34m\u001b[1mwandb\u001b[0m: \taug_scale_min: 0.8396469272856542\n",
      "\u001b[34m\u001b[1mwandb\u001b[0m: \taug_translation_std: 0.02581771617624308\n",
      "\u001b[34m\u001b[1mwandb\u001b[0m: \tbatch_size: 32\n",
      "\u001b[34m\u001b[1mwandb\u001b[0m: \tdiversity_margin: 0.011440928918859512\n",
      "\u001b[34m\u001b[1mwandb\u001b[0m: \tdropout: 0.25\n",
      "\u001b[34m\u001b[1mwandb\u001b[0m: \tfingertip_weight: 1.5299005787552664\n",
      "\u001b[34m\u001b[1mwandb\u001b[0m: \tloss_weight_contact: 0.4583407817395416\n",
      "\u001b[34m\u001b[1mwandb\u001b[0m: \tloss_weight_diversity: 0.005209688871113964\n",
      "\u001b[34m\u001b[1mwandb\u001b[0m: \tloss_weight_hand_coarse: 0.8376674797727754\n",
      "\u001b[34m\u001b[1mwandb\u001b[0m: \tloss_weight_hand_refined: 1.4443432730678134\n",
      "\u001b[34m\u001b[1mwandb\u001b[0m: \tloss_weight_object_position: 1.1865868505031134\n",
      "\u001b[34m\u001b[1mwandb\u001b[0m: \tloss_weight_object_rotation: 0.386328073309788\n",
      "\u001b[34m\u001b[1mwandb\u001b[0m: \tloss_weight_physics: 0.059720698353751926\n",
      "\u001b[34m\u001b[1mwandb\u001b[0m: \tloss_weight_reprojection: 0.6675281096059253\n",
      "\u001b[34m\u001b[1mwandb\u001b[0m: \tper_joint_weighting: True\n",
      "\u001b[34m\u001b[1mwandb\u001b[0m: \tscheduler_type: cosine\n"
     ]
    },
    {
     "data": {
      "text/html": [
       "Tracking run with wandb version 0.19.11"
      ],
      "text/plain": [
       "<IPython.core.display.HTML object>"
      ]
     },
     "metadata": {},
     "output_type": "display_data"
    },
    {
     "data": {
      "text/html": [
       "Run data is saved locally in <code>/home/n231/231nProjectV2/Advanced_Manipulation_Transformer/notebooks/wandb/run-20250604_051607-gl7i4fq3</code>"
      ],
      "text/plain": [
       "<IPython.core.display.HTML object>"
      ]
     },
     "metadata": {},
     "output_type": "display_data"
    },
    {
     "data": {
      "text/html": [
       "Syncing run <strong><a href='https://wandb.ai/bryandong24-stanford-university/amt-hyperparameter-sweep/runs/gl7i4fq3' target=\"_blank\">hopeful-sweep-17</a></strong> to <a href='https://wandb.ai/bryandong24-stanford-university/amt-hyperparameter-sweep' target=\"_blank\">Weights & Biases</a> (<a href='https://wandb.me/developer-guide' target=\"_blank\">docs</a>)<br>Sweep page: <a href='https://wandb.ai/bryandong24-stanford-university/amt-hyperparameter-sweep/sweeps/c189gpt8' target=\"_blank\">https://wandb.ai/bryandong24-stanford-university/amt-hyperparameter-sweep/sweeps/c189gpt8</a>"
      ],
      "text/plain": [
       "<IPython.core.display.HTML object>"
      ]
     },
     "metadata": {},
     "output_type": "display_data"
    },
    {
     "data": {
      "text/html": [
       " View project at <a href='https://wandb.ai/bryandong24-stanford-university/amt-hyperparameter-sweep' target=\"_blank\">https://wandb.ai/bryandong24-stanford-university/amt-hyperparameter-sweep</a>"
      ],
      "text/plain": [
       "<IPython.core.display.HTML object>"
      ]
     },
     "metadata": {},
     "output_type": "display_data"
    },
    {
     "data": {
      "text/html": [
       " View sweep at <a href='https://wandb.ai/bryandong24-stanford-university/amt-hyperparameter-sweep/sweeps/c189gpt8' target=\"_blank\">https://wandb.ai/bryandong24-stanford-university/amt-hyperparameter-sweep/sweeps/c189gpt8</a>"
      ],
      "text/plain": [
       "<IPython.core.display.HTML object>"
      ]
     },
     "metadata": {},
     "output_type": "display_data"
    },
    {
     "data": {
      "text/html": [
       " View run at <a href='https://wandb.ai/bryandong24-stanford-university/amt-hyperparameter-sweep/runs/gl7i4fq3' target=\"_blank\">https://wandb.ai/bryandong24-stanford-university/amt-hyperparameter-sweep/runs/gl7i4fq3</a>"
      ],
      "text/plain": [
       "<IPython.core.display.HTML object>"
      ]
     },
     "metadata": {},
     "output_type": "display_data"
    },
    {
     "name": "stdout",
     "output_type": "stream",
     "text": [
      "Creating dataloaders with 20k train, 2k val samples, batch_size=32...\n",
      "Creating GPU-cached datasets...\n",
      "Target memory usage: 20.0 GB\n",
      "Estimated GPU memory usage: 20.0 GB\n",
      "Loading cached GPU dataset from ./gpu_cache_sweep/train_gpu_cache_20000.pt...\n",
      "Loading cache from ./gpu_cache_sweep/train_gpu_cache_20000.pt...\n",
      "✓ Loaded 20000 samples\n",
      "Estimated GPU memory usage: 2.0 GB\n",
      "Loading cached GPU dataset from ./gpu_cache_sweep/val_gpu_cache_2000.pt...\n",
      "Loading cache from ./gpu_cache_sweep/val_gpu_cache_2000.pt...\n",
      "✓ Loaded 2000 samples\n",
      "\n",
      "✓ GPU Datasets created:\n",
      "  Train: 20000 samples (6.7 GB)\n",
      "  Val: 2000 samples (6.7 GB)\n",
      "  Total GPU memory: 13.4 GB\n",
      "Dataloaders created: 625 train batches, 63 val batches\n",
      "Epoch 1/7: train_loss=0.6863, train_mpjpe=419.85mm, val_loss=0.4042, val_mpjpe=280.33mm\n",
      "Epoch 2/7: train_loss=0.4913, train_mpjpe=326.40mm, val_loss=0.3916, val_mpjpe=273.84mm\n",
      "Epoch 3/7: train_loss=0.4687, train_mpjpe=309.22mm, val_loss=0.3809, val_mpjpe=267.48mm\n",
      "Epoch 4/7: train_loss=0.4588, train_mpjpe=298.55mm, val_loss=0.3884, val_mpjpe=254.27mm\n",
      "Epoch 5/7: train_loss=0.4547, train_mpjpe=282.44mm, val_loss=0.3861, val_mpjpe=237.79mm\n",
      "Epoch 6/7: train_loss=0.4544, train_mpjpe=268.49mm, val_loss=0.3947, val_mpjpe=237.53mm\n",
      "Epoch 7/7: train_loss=0.4584, train_mpjpe=259.01mm, val_loss=0.4042, val_mpjpe=239.02mm\n"
     ]
    },
    {
     "data": {
      "text/html": [],
      "text/plain": [
       "<IPython.core.display.HTML object>"
      ]
     },
     "metadata": {},
     "output_type": "display_data"
    },
    {
     "data": {
      "text/html": [
       "<br>    <style><br>        .wandb-row {<br>            display: flex;<br>            flex-direction: row;<br>            flex-wrap: wrap;<br>            justify-content: flex-start;<br>            width: 100%;<br>        }<br>        .wandb-col {<br>            display: flex;<br>            flex-direction: column;<br>            flex-basis: 100%;<br>            flex: 1;<br>            padding: 10px;<br>        }<br>    </style><br><div class=\"wandb-row\"><div class=\"wandb-col\"><h3>Run history:</h3><br/><table class=\"wandb\"><tr><td>epoch</td><td>▁▂▃▅▆▇█</td></tr><tr><td>final/best_val_mpjpe</td><td>▁</td></tr><tr><td>final/epochs_trained</td><td>▁</td></tr><tr><td>system/gpu_memory_gb</td><td>▄▂▂▁▅▁▂▂▄▅▇▅▂▇▅▂▄▄▄█▂▂▅▇▄▃▄▆▃▂▃▄▄▄▄▄▃▅▄▃</td></tr><tr><td>train/batch_loss</td><td>█▅▄▃▃▂▃▃▂▂▂▂▂▂▃▂▃▂▂▃▂▁▂▄▁▂▂▂▁▃▃▁▁▃▁▂▂▂▂▂</td></tr><tr><td>train/batch_mpjpe</td><td>█▂▂▁▂▂▁▂▂▁▂▁▂▁▂▁▂▁▁▂▂▁▂▂▁▂▁▂▁▁▁▁▁▁▂▁▂▁▁▁</td></tr><tr><td>train/hand_mpjpe</td><td>█▄▃▃▂▁▁</td></tr><tr><td>train/loss</td><td>█▂▁▁▁▁▁</td></tr><tr><td>train/lr</td><td>██████████████▇▇▇▅▅▅▅▃▃▃▃▃▃▃▃▃▂▂▂▂▂▁▁▁▁▁</td></tr><tr><td>val/best_mpjpe</td><td>█▇▆▄▁▁▁</td></tr><tr><td>val/hand_mpjpe</td><td>█▇▆▄▁▁▁</td></tr><tr><td>val/loss</td><td>█▄▁▃▃▅█</td></tr></table><br/></div><div class=\"wandb-col\"><h3>Run summary:</h3><br/><table class=\"wandb\"><tr><td>epoch</td><td>6</td></tr><tr><td>final/best_val_mpjpe</td><td>237.52734</td></tr><tr><td>final/epochs_trained</td><td>7</td></tr><tr><td>system/gpu_memory_gb</td><td>11.10999</td></tr><tr><td>train/batch_loss</td><td>0.7433</td></tr><tr><td>train/batch_mpjpe</td><td>435.54688</td></tr><tr><td>train/hand_mpjpe</td><td>259.00781</td></tr><tr><td>train/loss</td><td>0.45839</td></tr><tr><td>train/lr</td><td>0.0</td></tr><tr><td>val/best_mpjpe</td><td>237.52734</td></tr><tr><td>val/hand_mpjpe</td><td>239.01953</td></tr><tr><td>val/loss</td><td>0.40422</td></tr></table><br/></div></div>"
      ],
      "text/plain": [
       "<IPython.core.display.HTML object>"
      ]
     },
     "metadata": {},
     "output_type": "display_data"
    },
    {
     "data": {
      "text/html": [
       " View run <strong style=\"color:#cdcd00\">hopeful-sweep-17</strong> at: <a href='https://wandb.ai/bryandong24-stanford-university/amt-hyperparameter-sweep/runs/gl7i4fq3' target=\"_blank\">https://wandb.ai/bryandong24-stanford-university/amt-hyperparameter-sweep/runs/gl7i4fq3</a><br> View project at: <a href='https://wandb.ai/bryandong24-stanford-university/amt-hyperparameter-sweep' target=\"_blank\">https://wandb.ai/bryandong24-stanford-university/amt-hyperparameter-sweep</a><br>Synced 5 W&B file(s), 0 media file(s), 0 artifact file(s) and 0 other file(s)"
      ],
      "text/plain": [
       "<IPython.core.display.HTML object>"
      ]
     },
     "metadata": {},
     "output_type": "display_data"
    },
    {
     "data": {
      "text/html": [
       "Find logs at: <code>./wandb/run-20250604_051607-gl7i4fq3/logs</code>"
      ],
      "text/plain": [
       "<IPython.core.display.HTML object>"
      ]
     },
     "metadata": {},
     "output_type": "display_data"
    },
    {
     "name": "stderr",
     "output_type": "stream",
     "text": [
      "\u001b[34m\u001b[1mwandb\u001b[0m: Agent Starting Run: cxxeez6j with config:\n",
      "\u001b[34m\u001b[1mwandb\u001b[0m: \taug_color_jitter: 0.2824843944613778\n",
      "\u001b[34m\u001b[1mwandb\u001b[0m: \taug_joint_noise_std: 0.009055449757848891\n",
      "\u001b[34m\u001b[1mwandb\u001b[0m: \taug_rotation_range: 8.853188678736426\n",
      "\u001b[34m\u001b[1mwandb\u001b[0m: \taug_scale_max: 1.259417043331454\n",
      "\u001b[34m\u001b[1mwandb\u001b[0m: \taug_scale_min: 0.735361340412327\n",
      "\u001b[34m\u001b[1mwandb\u001b[0m: \taug_translation_std: 0.06038959496669635\n",
      "\u001b[34m\u001b[1mwandb\u001b[0m: \tbatch_size: 256\n",
      "\u001b[34m\u001b[1mwandb\u001b[0m: \tdiversity_margin: 0.019489527690526524\n",
      "\u001b[34m\u001b[1mwandb\u001b[0m: \tdropout: 0.2\n",
      "\u001b[34m\u001b[1mwandb\u001b[0m: \tfingertip_weight: 1.4058040123558029\n",
      "\u001b[34m\u001b[1mwandb\u001b[0m: \tloss_weight_contact: 0.4546136542267654\n",
      "\u001b[34m\u001b[1mwandb\u001b[0m: \tloss_weight_diversity: 0.012132865766771916\n",
      "\u001b[34m\u001b[1mwandb\u001b[0m: \tloss_weight_hand_coarse: 0.978614373376284\n",
      "\u001b[34m\u001b[1mwandb\u001b[0m: \tloss_weight_hand_refined: 1.118668837799536\n",
      "\u001b[34m\u001b[1mwandb\u001b[0m: \tloss_weight_object_position: 0.8019546337530047\n",
      "\u001b[34m\u001b[1mwandb\u001b[0m: \tloss_weight_object_rotation: 0.5731658090961085\n",
      "\u001b[34m\u001b[1mwandb\u001b[0m: \tloss_weight_physics: 0.12975943122892014\n",
      "\u001b[34m\u001b[1mwandb\u001b[0m: \tloss_weight_reprojection: 0.6288707074627253\n",
      "\u001b[34m\u001b[1mwandb\u001b[0m: \tper_joint_weighting: True\n",
      "\u001b[34m\u001b[1mwandb\u001b[0m: \tscheduler_type: step\n"
     ]
    },
    {
     "data": {
      "text/html": [
       "Tracking run with wandb version 0.19.11"
      ],
      "text/plain": [
       "<IPython.core.display.HTML object>"
      ]
     },
     "metadata": {},
     "output_type": "display_data"
    },
    {
     "data": {
      "text/html": [
       "Run data is saved locally in <code>/home/n231/231nProjectV2/Advanced_Manipulation_Transformer/notebooks/wandb/run-20250604_052359-cxxeez6j</code>"
      ],
      "text/plain": [
       "<IPython.core.display.HTML object>"
      ]
     },
     "metadata": {},
     "output_type": "display_data"
    },
    {
     "data": {
      "text/html": [
       "Syncing run <strong><a href='https://wandb.ai/bryandong24-stanford-university/amt-hyperparameter-sweep/runs/cxxeez6j' target=\"_blank\">silvery-sweep-18</a></strong> to <a href='https://wandb.ai/bryandong24-stanford-university/amt-hyperparameter-sweep' target=\"_blank\">Weights & Biases</a> (<a href='https://wandb.me/developer-guide' target=\"_blank\">docs</a>)<br>Sweep page: <a href='https://wandb.ai/bryandong24-stanford-university/amt-hyperparameter-sweep/sweeps/c189gpt8' target=\"_blank\">https://wandb.ai/bryandong24-stanford-university/amt-hyperparameter-sweep/sweeps/c189gpt8</a>"
      ],
      "text/plain": [
       "<IPython.core.display.HTML object>"
      ]
     },
     "metadata": {},
     "output_type": "display_data"
    },
    {
     "data": {
      "text/html": [
       " View project at <a href='https://wandb.ai/bryandong24-stanford-university/amt-hyperparameter-sweep' target=\"_blank\">https://wandb.ai/bryandong24-stanford-university/amt-hyperparameter-sweep</a>"
      ],
      "text/plain": [
       "<IPython.core.display.HTML object>"
      ]
     },
     "metadata": {},
     "output_type": "display_data"
    },
    {
     "data": {
      "text/html": [
       " View sweep at <a href='https://wandb.ai/bryandong24-stanford-university/amt-hyperparameter-sweep/sweeps/c189gpt8' target=\"_blank\">https://wandb.ai/bryandong24-stanford-university/amt-hyperparameter-sweep/sweeps/c189gpt8</a>"
      ],
      "text/plain": [
       "<IPython.core.display.HTML object>"
      ]
     },
     "metadata": {},
     "output_type": "display_data"
    },
    {
     "data": {
      "text/html": [
       " View run at <a href='https://wandb.ai/bryandong24-stanford-university/amt-hyperparameter-sweep/runs/cxxeez6j' target=\"_blank\">https://wandb.ai/bryandong24-stanford-university/amt-hyperparameter-sweep/runs/cxxeez6j</a>"
      ],
      "text/plain": [
       "<IPython.core.display.HTML object>"
      ]
     },
     "metadata": {},
     "output_type": "display_data"
    },
    {
     "name": "stdout",
     "output_type": "stream",
     "text": [
      "Creating dataloaders with 20k train, 2k val samples, batch_size=256...\n",
      "Creating GPU-cached datasets...\n",
      "Target memory usage: 20.0 GB\n",
      "Estimated GPU memory usage: 20.0 GB\n",
      "Loading cached GPU dataset from ./gpu_cache_sweep/train_gpu_cache_20000.pt...\n",
      "Loading cache from ./gpu_cache_sweep/train_gpu_cache_20000.pt...\n",
      "✓ Loaded 20000 samples\n",
      "Estimated GPU memory usage: 2.0 GB\n",
      "Loading cached GPU dataset from ./gpu_cache_sweep/val_gpu_cache_2000.pt...\n",
      "Loading cache from ./gpu_cache_sweep/val_gpu_cache_2000.pt...\n",
      "✓ Loaded 2000 samples\n",
      "\n",
      "✓ GPU Datasets created:\n",
      "  Train: 20000 samples (6.7 GB)\n",
      "  Val: 2000 samples (6.7 GB)\n",
      "  Total GPU memory: 13.4 GB\n",
      "Dataloaders created: 78 train batches, 8 val batches\n",
      "Epoch 1/7: train_loss=1.3333, train_mpjpe=651.02mm, val_loss=0.8474, val_mpjpe=319.27mm\n",
      "Epoch 2/7: train_loss=0.8087, train_mpjpe=389.62mm, val_loss=0.5105, val_mpjpe=317.05mm\n",
      "Epoch 3/7: train_loss=0.6216, train_mpjpe=379.91mm, val_loss=0.4313, val_mpjpe=314.50mm\n",
      "Epoch 4/7: train_loss=0.5678, train_mpjpe=341.87mm, val_loss=0.4269, val_mpjpe=295.45mm\n",
      "Epoch 5/7: train_loss=0.5700, train_mpjpe=337.46mm, val_loss=0.4425, val_mpjpe=289.54mm\n",
      "Epoch 6/7: train_loss=0.5796, train_mpjpe=336.69mm, val_loss=0.4421, val_mpjpe=295.49mm\n",
      "Epoch 7/7: train_loss=0.5699, train_mpjpe=322.87mm, val_loss=0.4416, val_mpjpe=275.92mm\n"
     ]
    },
    {
     "data": {
      "text/html": [],
      "text/plain": [
       "<IPython.core.display.HTML object>"
      ]
     },
     "metadata": {},
     "output_type": "display_data"
    },
    {
     "data": {
      "text/html": [
       "<br>    <style><br>        .wandb-row {<br>            display: flex;<br>            flex-direction: row;<br>            flex-wrap: wrap;<br>            justify-content: flex-start;<br>            width: 100%;<br>        }<br>        .wandb-col {<br>            display: flex;<br>            flex-direction: column;<br>            flex-basis: 100%;<br>            flex: 1;<br>            padding: 10px;<br>        }<br>    </style><br><div class=\"wandb-row\"><div class=\"wandb-col\"><h3>Run history:</h3><br/><table class=\"wandb\"><tr><td>epoch</td><td>▁▂▃▅▆▇█</td></tr><tr><td>final/best_val_mpjpe</td><td>▁</td></tr><tr><td>final/epochs_trained</td><td>▁</td></tr><tr><td>system/gpu_memory_gb</td><td>▆▇█▇▆▇▃▅▄▂▅▄▅▅▁▂▃▄▃▅▅▄▄▆▆▄▄▄</td></tr><tr><td>train/batch_loss</td><td>█▃▂▂▂▂▂▂▁▁▁▁▁▁▁▁▁▁▁▁▁▁▁▁▁▁▁▁</td></tr><tr><td>train/batch_mpjpe</td><td>█▂▂▁▁▁▁▁▁▁▁▁▁▁▁▁▁▁▁▁▁▁▁▁▁▁▁▁</td></tr><tr><td>train/hand_mpjpe</td><td>█▂▂▁▁▁▁</td></tr><tr><td>train/loss</td><td>█▃▁▁▁▁▁</td></tr><tr><td>train/lr</td><td>████████████▃▃▃▃▃▃▃▃▃▃▃▃▁▁▁▁</td></tr><tr><td>val/best_mpjpe</td><td>██▇▄▃▃▁</td></tr><tr><td>val/hand_mpjpe</td><td>██▇▄▃▄▁</td></tr><tr><td>val/loss</td><td>█▂▁▁▁▁▁</td></tr></table><br/></div><div class=\"wandb-col\"><h3>Run summary:</h3><br/><table class=\"wandb\"><tr><td>epoch</td><td>6</td></tr><tr><td>final/best_val_mpjpe</td><td>275.92188</td></tr><tr><td>final/epochs_trained</td><td>7</td></tr><tr><td>system/gpu_memory_gb</td><td>11.88008</td></tr><tr><td>train/batch_loss</td><td>0.63139</td></tr><tr><td>train/batch_mpjpe</td><td>361.32812</td></tr><tr><td>train/hand_mpjpe</td><td>322.86659</td></tr><tr><td>train/loss</td><td>0.56989</td></tr><tr><td>train/lr</td><td>0.0</td></tr><tr><td>val/best_mpjpe</td><td>275.92188</td></tr><tr><td>val/hand_mpjpe</td><td>275.92188</td></tr><tr><td>val/loss</td><td>0.44158</td></tr></table><br/></div></div>"
      ],
      "text/plain": [
       "<IPython.core.display.HTML object>"
      ]
     },
     "metadata": {},
     "output_type": "display_data"
    },
    {
     "data": {
      "text/html": [
       " View run <strong style=\"color:#cdcd00\">silvery-sweep-18</strong> at: <a href='https://wandb.ai/bryandong24-stanford-university/amt-hyperparameter-sweep/runs/cxxeez6j' target=\"_blank\">https://wandb.ai/bryandong24-stanford-university/amt-hyperparameter-sweep/runs/cxxeez6j</a><br> View project at: <a href='https://wandb.ai/bryandong24-stanford-university/amt-hyperparameter-sweep' target=\"_blank\">https://wandb.ai/bryandong24-stanford-university/amt-hyperparameter-sweep</a><br>Synced 5 W&B file(s), 0 media file(s), 0 artifact file(s) and 0 other file(s)"
      ],
      "text/plain": [
       "<IPython.core.display.HTML object>"
      ]
     },
     "metadata": {},
     "output_type": "display_data"
    },
    {
     "data": {
      "text/html": [
       "Find logs at: <code>./wandb/run-20250604_052359-cxxeez6j/logs</code>"
      ],
      "text/plain": [
       "<IPython.core.display.HTML object>"
      ]
     },
     "metadata": {},
     "output_type": "display_data"
    },
    {
     "name": "stderr",
     "output_type": "stream",
     "text": [
      "\u001b[34m\u001b[1mwandb\u001b[0m: Agent Starting Run: 1d03bb2p with config:\n",
      "\u001b[34m\u001b[1mwandb\u001b[0m: \taug_color_jitter: 0.20141267506489152\n",
      "\u001b[34m\u001b[1mwandb\u001b[0m: \taug_joint_noise_std: 0.002680439626393179\n",
      "\u001b[34m\u001b[1mwandb\u001b[0m: \taug_rotation_range: 10.015607581636342\n",
      "\u001b[34m\u001b[1mwandb\u001b[0m: \taug_scale_max: 1.1126150383543536\n",
      "\u001b[34m\u001b[1mwandb\u001b[0m: \taug_scale_min: 0.8798647438953972\n",
      "\u001b[34m\u001b[1mwandb\u001b[0m: \taug_translation_std: 0.06942049003610154\n",
      "\u001b[34m\u001b[1mwandb\u001b[0m: \tbatch_size: 256\n",
      "\u001b[34m\u001b[1mwandb\u001b[0m: \tdiversity_margin: 0.013418223036450422\n",
      "\u001b[34m\u001b[1mwandb\u001b[0m: \tdropout: 0.15\n",
      "\u001b[34m\u001b[1mwandb\u001b[0m: \tfingertip_weight: 1.944121609066864\n",
      "\u001b[34m\u001b[1mwandb\u001b[0m: \tloss_weight_contact: 0.35924868013857925\n",
      "\u001b[34m\u001b[1mwandb\u001b[0m: \tloss_weight_diversity: 0.007986228687405865\n",
      "\u001b[34m\u001b[1mwandb\u001b[0m: \tloss_weight_hand_coarse: 0.833789507603387\n",
      "\u001b[34m\u001b[1mwandb\u001b[0m: \tloss_weight_hand_refined: 1.0307574078126738\n",
      "\u001b[34m\u001b[1mwandb\u001b[0m: \tloss_weight_object_position: 0.9998394916436452\n",
      "\u001b[34m\u001b[1mwandb\u001b[0m: \tloss_weight_object_rotation: 0.35011009002677973\n",
      "\u001b[34m\u001b[1mwandb\u001b[0m: \tloss_weight_physics: 0.16867140877018613\n",
      "\u001b[34m\u001b[1mwandb\u001b[0m: \tloss_weight_reprojection: 0.6146398363308616\n",
      "\u001b[34m\u001b[1mwandb\u001b[0m: \tper_joint_weighting: True\n",
      "\u001b[34m\u001b[1mwandb\u001b[0m: \tscheduler_type: cosine_warmup\n"
     ]
    },
    {
     "data": {
      "text/html": [
       "Tracking run with wandb version 0.19.11"
      ],
      "text/plain": [
       "<IPython.core.display.HTML object>"
      ]
     },
     "metadata": {},
     "output_type": "display_data"
    },
    {
     "data": {
      "text/html": [
       "Run data is saved locally in <code>/home/n231/231nProjectV2/Advanced_Manipulation_Transformer/notebooks/wandb/run-20250604_052821-1d03bb2p</code>"
      ],
      "text/plain": [
       "<IPython.core.display.HTML object>"
      ]
     },
     "metadata": {},
     "output_type": "display_data"
    },
    {
     "data": {
      "text/html": [
       "Syncing run <strong><a href='https://wandb.ai/bryandong24-stanford-university/amt-hyperparameter-sweep/runs/1d03bb2p' target=\"_blank\">toasty-sweep-19</a></strong> to <a href='https://wandb.ai/bryandong24-stanford-university/amt-hyperparameter-sweep' target=\"_blank\">Weights & Biases</a> (<a href='https://wandb.me/developer-guide' target=\"_blank\">docs</a>)<br>Sweep page: <a href='https://wandb.ai/bryandong24-stanford-university/amt-hyperparameter-sweep/sweeps/c189gpt8' target=\"_blank\">https://wandb.ai/bryandong24-stanford-university/amt-hyperparameter-sweep/sweeps/c189gpt8</a>"
      ],
      "text/plain": [
       "<IPython.core.display.HTML object>"
      ]
     },
     "metadata": {},
     "output_type": "display_data"
    },
    {
     "data": {
      "text/html": [
       " View project at <a href='https://wandb.ai/bryandong24-stanford-university/amt-hyperparameter-sweep' target=\"_blank\">https://wandb.ai/bryandong24-stanford-university/amt-hyperparameter-sweep</a>"
      ],
      "text/plain": [
       "<IPython.core.display.HTML object>"
      ]
     },
     "metadata": {},
     "output_type": "display_data"
    },
    {
     "data": {
      "text/html": [
       " View sweep at <a href='https://wandb.ai/bryandong24-stanford-university/amt-hyperparameter-sweep/sweeps/c189gpt8' target=\"_blank\">https://wandb.ai/bryandong24-stanford-university/amt-hyperparameter-sweep/sweeps/c189gpt8</a>"
      ],
      "text/plain": [
       "<IPython.core.display.HTML object>"
      ]
     },
     "metadata": {},
     "output_type": "display_data"
    },
    {
     "data": {
      "text/html": [
       " View run at <a href='https://wandb.ai/bryandong24-stanford-university/amt-hyperparameter-sweep/runs/1d03bb2p' target=\"_blank\">https://wandb.ai/bryandong24-stanford-university/amt-hyperparameter-sweep/runs/1d03bb2p</a>"
      ],
      "text/plain": [
       "<IPython.core.display.HTML object>"
      ]
     },
     "metadata": {},
     "output_type": "display_data"
    },
    {
     "name": "stdout",
     "output_type": "stream",
     "text": [
      "Creating dataloaders with 20k train, 2k val samples, batch_size=256...\n",
      "Creating GPU-cached datasets...\n",
      "Target memory usage: 20.0 GB\n",
      "Estimated GPU memory usage: 20.0 GB\n",
      "Loading cached GPU dataset from ./gpu_cache_sweep/train_gpu_cache_20000.pt...\n",
      "Loading cache from ./gpu_cache_sweep/train_gpu_cache_20000.pt...\n",
      "✓ Loaded 20000 samples\n",
      "Estimated GPU memory usage: 2.0 GB\n",
      "Loading cached GPU dataset from ./gpu_cache_sweep/val_gpu_cache_2000.pt...\n",
      "Loading cache from ./gpu_cache_sweep/val_gpu_cache_2000.pt...\n",
      "✓ Loaded 2000 samples\n",
      "\n",
      "✓ GPU Datasets created:\n",
      "  Train: 20000 samples (6.7 GB)\n",
      "  Val: 2000 samples (6.7 GB)\n",
      "  Total GPU memory: 13.4 GB\n",
      "Dataloaders created: 78 train batches, 8 val batches\n",
      "Epoch 1/7: train_loss=1.1323, train_mpjpe=656.83mm, val_loss=0.6413, val_mpjpe=342.05mm\n",
      "Epoch 2/7: train_loss=0.6321, train_mpjpe=387.60mm, val_loss=0.4206, val_mpjpe=307.62mm\n",
      "Epoch 3/7: train_loss=0.5023, train_mpjpe=354.52mm, val_loss=0.3747, val_mpjpe=310.55mm\n",
      "Epoch 4/7: train_loss=0.4767, train_mpjpe=341.80mm, val_loss=0.3780, val_mpjpe=283.91mm\n",
      "Epoch 5/7: train_loss=0.4695, train_mpjpe=327.75mm, val_loss=0.3655, val_mpjpe=275.56mm\n",
      "Epoch 6/7: train_loss=0.4692, train_mpjpe=317.73mm, val_loss=0.3699, val_mpjpe=259.99mm\n",
      "Epoch 7/7: train_loss=0.4692, train_mpjpe=306.04mm, val_loss=0.3908, val_mpjpe=267.75mm\n"
     ]
    },
    {
     "data": {
      "text/html": [],
      "text/plain": [
       "<IPython.core.display.HTML object>"
      ]
     },
     "metadata": {},
     "output_type": "display_data"
    },
    {
     "data": {
      "text/html": [
       "<br>    <style><br>        .wandb-row {<br>            display: flex;<br>            flex-direction: row;<br>            flex-wrap: wrap;<br>            justify-content: flex-start;<br>            width: 100%;<br>        }<br>        .wandb-col {<br>            display: flex;<br>            flex-direction: column;<br>            flex-basis: 100%;<br>            flex: 1;<br>            padding: 10px;<br>        }<br>    </style><br><div class=\"wandb-row\"><div class=\"wandb-col\"><h3>Run history:</h3><br/><table class=\"wandb\"><tr><td>epoch</td><td>▁▂▃▅▆▇█</td></tr><tr><td>final/best_val_mpjpe</td><td>▁</td></tr><tr><td>final/epochs_trained</td><td>▁</td></tr><tr><td>system/gpu_memory_gb</td><td>▆█▇▆▆▂▃▄▄▁▃▄▃▄▅▄▅▄▇▆█▄▃▂▆▄▄▅</td></tr><tr><td>train/batch_loss</td><td>█▃▂▂▂▂▂▁▁▁▁▁▁▁▁▁▁▁▁▁▁▁▁▁▁▁▁▁</td></tr><tr><td>train/batch_mpjpe</td><td>█▂▂▂▁▂▁▁▁▁▁▁▁▁▁▁▁▁▁▁▁▁▁▁▁▁▁▁</td></tr><tr><td>train/hand_mpjpe</td><td>█▃▂▂▁▁▁</td></tr><tr><td>train/loss</td><td>█▃▁▁▁▁▁</td></tr><tr><td>train/lr</td><td>████████▇▇▇▇▆▆▆▆▄▄▄▄▃▃▃▃▁▁▁▁</td></tr><tr><td>val/best_mpjpe</td><td>█▅▅▃▂▁▁</td></tr><tr><td>val/hand_mpjpe</td><td>█▅▅▃▂▁▂</td></tr><tr><td>val/loss</td><td>█▂▁▁▁▁▂</td></tr></table><br/></div><div class=\"wandb-col\"><h3>Run summary:</h3><br/><table class=\"wandb\"><tr><td>epoch</td><td>6</td></tr><tr><td>final/best_val_mpjpe</td><td>259.99219</td></tr><tr><td>final/epochs_trained</td><td>7</td></tr><tr><td>system/gpu_memory_gb</td><td>11.88491</td></tr><tr><td>train/batch_loss</td><td>0.49902</td></tr><tr><td>train/batch_mpjpe</td><td>333.98438</td></tr><tr><td>train/hand_mpjpe</td><td>306.03966</td></tr><tr><td>train/loss</td><td>0.46917</td></tr><tr><td>train/lr</td><td>0.0</td></tr><tr><td>val/best_mpjpe</td><td>259.99219</td></tr><tr><td>val/hand_mpjpe</td><td>267.75</td></tr><tr><td>val/loss</td><td>0.39077</td></tr></table><br/></div></div>"
      ],
      "text/plain": [
       "<IPython.core.display.HTML object>"
      ]
     },
     "metadata": {},
     "output_type": "display_data"
    },
    {
     "data": {
      "text/html": [
       " View run <strong style=\"color:#cdcd00\">toasty-sweep-19</strong> at: <a href='https://wandb.ai/bryandong24-stanford-university/amt-hyperparameter-sweep/runs/1d03bb2p' target=\"_blank\">https://wandb.ai/bryandong24-stanford-university/amt-hyperparameter-sweep/runs/1d03bb2p</a><br> View project at: <a href='https://wandb.ai/bryandong24-stanford-university/amt-hyperparameter-sweep' target=\"_blank\">https://wandb.ai/bryandong24-stanford-university/amt-hyperparameter-sweep</a><br>Synced 5 W&B file(s), 0 media file(s), 0 artifact file(s) and 0 other file(s)"
      ],
      "text/plain": [
       "<IPython.core.display.HTML object>"
      ]
     },
     "metadata": {},
     "output_type": "display_data"
    },
    {
     "data": {
      "text/html": [
       "Find logs at: <code>./wandb/run-20250604_052821-1d03bb2p/logs</code>"
      ],
      "text/plain": [
       "<IPython.core.display.HTML object>"
      ]
     },
     "metadata": {},
     "output_type": "display_data"
    },
    {
     "name": "stderr",
     "output_type": "stream",
     "text": [
      "\u001b[34m\u001b[1mwandb\u001b[0m: Agent Starting Run: 12uzgf5n with config:\n",
      "\u001b[34m\u001b[1mwandb\u001b[0m: \taug_color_jitter: 0.2638112686691605\n",
      "\u001b[34m\u001b[1mwandb\u001b[0m: \taug_joint_noise_std: 0.007238275406785554\n",
      "\u001b[34m\u001b[1mwandb\u001b[0m: \taug_rotation_range: 8.278427654568652\n",
      "\u001b[34m\u001b[1mwandb\u001b[0m: \taug_scale_max: 1.1183825617501586\n",
      "\u001b[34m\u001b[1mwandb\u001b[0m: \taug_scale_min: 0.7249008715183684\n",
      "\u001b[34m\u001b[1mwandb\u001b[0m: \taug_translation_std: 0.03700274930751707\n",
      "\u001b[34m\u001b[1mwandb\u001b[0m: \tbatch_size: 32\n",
      "\u001b[34m\u001b[1mwandb\u001b[0m: \tdiversity_margin: 0.017392291892585433\n",
      "\u001b[34m\u001b[1mwandb\u001b[0m: \tdropout: 0.2\n",
      "\u001b[34m\u001b[1mwandb\u001b[0m: \tfingertip_weight: 1.255079489563434\n",
      "\u001b[34m\u001b[1mwandb\u001b[0m: \tloss_weight_contact: 0.3533773535587258\n",
      "\u001b[34m\u001b[1mwandb\u001b[0m: \tloss_weight_diversity: 0.01757853986681419\n",
      "\u001b[34m\u001b[1mwandb\u001b[0m: \tloss_weight_hand_coarse: 0.9076522081995224\n",
      "\u001b[34m\u001b[1mwandb\u001b[0m: \tloss_weight_hand_refined: 1.1789599094312615\n",
      "\u001b[34m\u001b[1mwandb\u001b[0m: \tloss_weight_object_position: 0.9767997624569592\n",
      "\u001b[34m\u001b[1mwandb\u001b[0m: \tloss_weight_object_rotation: 0.6618190385761621\n",
      "\u001b[34m\u001b[1mwandb\u001b[0m: \tloss_weight_physics: 0.06209158960194515\n",
      "\u001b[34m\u001b[1mwandb\u001b[0m: \tloss_weight_reprojection: 0.5816031732595934\n",
      "\u001b[34m\u001b[1mwandb\u001b[0m: \tper_joint_weighting: True\n",
      "\u001b[34m\u001b[1mwandb\u001b[0m: \tscheduler_type: exponential\n"
     ]
    },
    {
     "data": {
      "text/html": [
       "Tracking run with wandb version 0.19.11"
      ],
      "text/plain": [
       "<IPython.core.display.HTML object>"
      ]
     },
     "metadata": {},
     "output_type": "display_data"
    },
    {
     "data": {
      "text/html": [
       "Run data is saved locally in <code>/home/n231/231nProjectV2/Advanced_Manipulation_Transformer/notebooks/wandb/run-20250604_053245-12uzgf5n</code>"
      ],
      "text/plain": [
       "<IPython.core.display.HTML object>"
      ]
     },
     "metadata": {},
     "output_type": "display_data"
    },
    {
     "data": {
      "text/html": [
       "Syncing run <strong><a href='https://wandb.ai/bryandong24-stanford-university/amt-hyperparameter-sweep/runs/12uzgf5n' target=\"_blank\">whole-sweep-20</a></strong> to <a href='https://wandb.ai/bryandong24-stanford-university/amt-hyperparameter-sweep' target=\"_blank\">Weights & Biases</a> (<a href='https://wandb.me/developer-guide' target=\"_blank\">docs</a>)<br>Sweep page: <a href='https://wandb.ai/bryandong24-stanford-university/amt-hyperparameter-sweep/sweeps/c189gpt8' target=\"_blank\">https://wandb.ai/bryandong24-stanford-university/amt-hyperparameter-sweep/sweeps/c189gpt8</a>"
      ],
      "text/plain": [
       "<IPython.core.display.HTML object>"
      ]
     },
     "metadata": {},
     "output_type": "display_data"
    },
    {
     "data": {
      "text/html": [
       " View project at <a href='https://wandb.ai/bryandong24-stanford-university/amt-hyperparameter-sweep' target=\"_blank\">https://wandb.ai/bryandong24-stanford-university/amt-hyperparameter-sweep</a>"
      ],
      "text/plain": [
       "<IPython.core.display.HTML object>"
      ]
     },
     "metadata": {},
     "output_type": "display_data"
    },
    {
     "data": {
      "text/html": [
       " View sweep at <a href='https://wandb.ai/bryandong24-stanford-university/amt-hyperparameter-sweep/sweeps/c189gpt8' target=\"_blank\">https://wandb.ai/bryandong24-stanford-university/amt-hyperparameter-sweep/sweeps/c189gpt8</a>"
      ],
      "text/plain": [
       "<IPython.core.display.HTML object>"
      ]
     },
     "metadata": {},
     "output_type": "display_data"
    },
    {
     "data": {
      "text/html": [
       " View run at <a href='https://wandb.ai/bryandong24-stanford-university/amt-hyperparameter-sweep/runs/12uzgf5n' target=\"_blank\">https://wandb.ai/bryandong24-stanford-university/amt-hyperparameter-sweep/runs/12uzgf5n</a>"
      ],
      "text/plain": [
       "<IPython.core.display.HTML object>"
      ]
     },
     "metadata": {},
     "output_type": "display_data"
    },
    {
     "name": "stdout",
     "output_type": "stream",
     "text": [
      "Creating dataloaders with 20k train, 2k val samples, batch_size=32...\n",
      "Creating GPU-cached datasets...\n",
      "Target memory usage: 20.0 GB\n",
      "Estimated GPU memory usage: 20.0 GB\n",
      "Loading cached GPU dataset from ./gpu_cache_sweep/train_gpu_cache_20000.pt...\n",
      "Loading cache from ./gpu_cache_sweep/train_gpu_cache_20000.pt...\n",
      "✓ Loaded 20000 samples\n",
      "Estimated GPU memory usage: 2.0 GB\n",
      "Loading cached GPU dataset from ./gpu_cache_sweep/val_gpu_cache_2000.pt...\n",
      "Loading cache from ./gpu_cache_sweep/val_gpu_cache_2000.pt...\n",
      "✓ Loaded 2000 samples\n",
      "\n",
      "✓ GPU Datasets created:\n",
      "  Train: 20000 samples (6.7 GB)\n",
      "  Val: 2000 samples (6.7 GB)\n",
      "  Total GPU memory: 13.4 GB\n",
      "Dataloaders created: 625 train batches, 63 val batches\n",
      "Epoch 1/7: train_loss=0.6938, train_mpjpe=445.25mm, val_loss=0.4175, val_mpjpe=299.29mm\n",
      "Epoch 2/7: train_loss=0.4681, train_mpjpe=324.89mm, val_loss=0.3682, val_mpjpe=277.05mm\n",
      "Epoch 3/7: train_loss=0.4524, train_mpjpe=306.08mm, val_loss=0.3736, val_mpjpe=275.92mm\n",
      "Epoch 4/7: train_loss=0.4437, train_mpjpe=291.24mm, val_loss=0.3777, val_mpjpe=272.85mm\n",
      "Epoch 5/7: train_loss=0.4402, train_mpjpe=282.35mm, val_loss=0.3760, val_mpjpe=256.17mm\n",
      "Epoch 6/7: train_loss=0.4342, train_mpjpe=273.77mm, val_loss=0.4041, val_mpjpe=285.95mm\n",
      "Epoch 7/7: train_loss=0.4302, train_mpjpe=265.18mm, val_loss=0.3807, val_mpjpe=255.05mm\n"
     ]
    },
    {
     "data": {
      "text/html": [],
      "text/plain": [
       "<IPython.core.display.HTML object>"
      ]
     },
     "metadata": {},
     "output_type": "display_data"
    },
    {
     "data": {
      "text/html": [
       "<br>    <style><br>        .wandb-row {<br>            display: flex;<br>            flex-direction: row;<br>            flex-wrap: wrap;<br>            justify-content: flex-start;<br>            width: 100%;<br>        }<br>        .wandb-col {<br>            display: flex;<br>            flex-direction: column;<br>            flex-basis: 100%;<br>            flex: 1;<br>            padding: 10px;<br>        }<br>    </style><br><div class=\"wandb-row\"><div class=\"wandb-col\"><h3>Run history:</h3><br/><table class=\"wandb\"><tr><td>epoch</td><td>▁▂▃▅▆▇█</td></tr><tr><td>final/best_val_mpjpe</td><td>▁</td></tr><tr><td>final/epochs_trained</td><td>▁</td></tr><tr><td>system/gpu_memory_gb</td><td>▃▄▄▅▅█▅▂▄▆▅▁▅▃▃▅▃▃▄▄▆▄▄▂▅█▂▃▃▄▇▅▄▃▁▅▃▄▄▃</td></tr><tr><td>train/batch_loss</td><td>█▂▂▁▂▁▂▁▂▁▁▁▁▂▂▂▁▁▂▁▁▁▁▂▂▂▂▁▂▁▂▁▁▁▂▂▂▁▁▁</td></tr><tr><td>train/batch_mpjpe</td><td>█▂▂▂▂▂▂▂▂▂▁▂▂▂▁▁▂▁▁▁▁▁▂▁▁▂▂▁▁▁▂▂▁▁▂▁▁▁▁▁</td></tr><tr><td>train/hand_mpjpe</td><td>█▃▃▂▂▁▁</td></tr><tr><td>train/loss</td><td>█▂▂▁▁▁▁</td></tr><tr><td>train/lr</td><td>██████▇▇▇▅▅▅▅▅▅▄▄▄▄▄▄▄▄▄▃▃▃▃▃▃▃▂▂▁▁▁▁▁▁▁</td></tr><tr><td>val/best_mpjpe</td><td>█▄▄▄▁▁▁</td></tr><tr><td>val/hand_mpjpe</td><td>█▄▄▄▁▆▁</td></tr><tr><td>val/loss</td><td>█▁▂▂▂▆▃</td></tr></table><br/></div><div class=\"wandb-col\"><h3>Run summary:</h3><br/><table class=\"wandb\"><tr><td>epoch</td><td>6</td></tr><tr><td>final/best_val_mpjpe</td><td>255.05469</td></tr><tr><td>final/epochs_trained</td><td>7</td></tr><tr><td>system/gpu_memory_gb</td><td>11.11295</td></tr><tr><td>train/batch_loss</td><td>0.37359</td></tr><tr><td>train/batch_mpjpe</td><td>220.70312</td></tr><tr><td>train/hand_mpjpe</td><td>265.175</td></tr><tr><td>train/loss</td><td>0.43022</td></tr><tr><td>train/lr</td><td>1e-05</td></tr><tr><td>val/best_mpjpe</td><td>255.05469</td></tr><tr><td>val/hand_mpjpe</td><td>255.05469</td></tr><tr><td>val/loss</td><td>0.38068</td></tr></table><br/></div></div>"
      ],
      "text/plain": [
       "<IPython.core.display.HTML object>"
      ]
     },
     "metadata": {},
     "output_type": "display_data"
    },
    {
     "data": {
      "text/html": [
       " View run <strong style=\"color:#cdcd00\">whole-sweep-20</strong> at: <a href='https://wandb.ai/bryandong24-stanford-university/amt-hyperparameter-sweep/runs/12uzgf5n' target=\"_blank\">https://wandb.ai/bryandong24-stanford-university/amt-hyperparameter-sweep/runs/12uzgf5n</a><br> View project at: <a href='https://wandb.ai/bryandong24-stanford-university/amt-hyperparameter-sweep' target=\"_blank\">https://wandb.ai/bryandong24-stanford-university/amt-hyperparameter-sweep</a><br>Synced 5 W&B file(s), 0 media file(s), 0 artifact file(s) and 0 other file(s)"
      ],
      "text/plain": [
       "<IPython.core.display.HTML object>"
      ]
     },
     "metadata": {},
     "output_type": "display_data"
    },
    {
     "data": {
      "text/html": [
       "Find logs at: <code>./wandb/run-20250604_053245-12uzgf5n/logs</code>"
      ],
      "text/plain": [
       "<IPython.core.display.HTML object>"
      ]
     },
     "metadata": {},
     "output_type": "display_data"
    },
    {
     "name": "stderr",
     "output_type": "stream",
     "text": [
      "\u001b[34m\u001b[1mwandb\u001b[0m: Sweep Agent: Waiting for job.\n",
      "\u001b[34m\u001b[1mwandb\u001b[0m: Job received.\n",
      "\u001b[34m\u001b[1mwandb\u001b[0m: Agent Starting Run: qa1fuakp with config:\n",
      "\u001b[34m\u001b[1mwandb\u001b[0m: \taug_color_jitter: 0.23741924575121456\n",
      "\u001b[34m\u001b[1mwandb\u001b[0m: \taug_joint_noise_std: 0.0025371998389860035\n",
      "\u001b[34m\u001b[1mwandb\u001b[0m: \taug_rotation_range: 10.68439733662816\n",
      "\u001b[34m\u001b[1mwandb\u001b[0m: \taug_scale_max: 1.2996256207348131\n",
      "\u001b[34m\u001b[1mwandb\u001b[0m: \taug_scale_min: 0.7300339538330057\n",
      "\u001b[34m\u001b[1mwandb\u001b[0m: \taug_translation_std: 0.021318754265736404\n",
      "\u001b[34m\u001b[1mwandb\u001b[0m: \tbatch_size: 32\n",
      "\u001b[34m\u001b[1mwandb\u001b[0m: \tdiversity_margin: 0.00517412338179513\n",
      "\u001b[34m\u001b[1mwandb\u001b[0m: \tdropout: 0.15\n",
      "\u001b[34m\u001b[1mwandb\u001b[0m: \tfingertip_weight: 1.2204928178265348\n",
      "\u001b[34m\u001b[1mwandb\u001b[0m: \tloss_weight_contact: 0.33930153496837645\n",
      "\u001b[34m\u001b[1mwandb\u001b[0m: \tloss_weight_diversity: 0.008079244568075033\n",
      "\u001b[34m\u001b[1mwandb\u001b[0m: \tloss_weight_hand_coarse: 0.8331972487659227\n",
      "\u001b[34m\u001b[1mwandb\u001b[0m: \tloss_weight_hand_refined: 1.2009711016832536\n",
      "\u001b[34m\u001b[1mwandb\u001b[0m: \tloss_weight_object_position: 1.180005359284241\n",
      "\u001b[34m\u001b[1mwandb\u001b[0m: \tloss_weight_object_rotation: 0.3510135345790543\n",
      "\u001b[34m\u001b[1mwandb\u001b[0m: \tloss_weight_physics: 0.05348282125910096\n",
      "\u001b[34m\u001b[1mwandb\u001b[0m: \tloss_weight_reprojection: 0.4470374936561269\n",
      "\u001b[34m\u001b[1mwandb\u001b[0m: \tper_joint_weighting: True\n",
      "\u001b[34m\u001b[1mwandb\u001b[0m: \tscheduler_type: step\n"
     ]
    },
    {
     "data": {
      "text/html": [
       "Tracking run with wandb version 0.19.11"
      ],
      "text/plain": [
       "<IPython.core.display.HTML object>"
      ]
     },
     "metadata": {},
     "output_type": "display_data"
    },
    {
     "data": {
      "text/html": [
       "Run data is saved locally in <code>/home/n231/231nProjectV2/Advanced_Manipulation_Transformer/notebooks/wandb/run-20250604_054104-qa1fuakp</code>"
      ],
      "text/plain": [
       "<IPython.core.display.HTML object>"
      ]
     },
     "metadata": {},
     "output_type": "display_data"
    },
    {
     "data": {
      "text/html": [
       "Syncing run <strong><a href='https://wandb.ai/bryandong24-stanford-university/amt-hyperparameter-sweep/runs/qa1fuakp' target=\"_blank\">deep-sweep-21</a></strong> to <a href='https://wandb.ai/bryandong24-stanford-university/amt-hyperparameter-sweep' target=\"_blank\">Weights & Biases</a> (<a href='https://wandb.me/developer-guide' target=\"_blank\">docs</a>)<br>Sweep page: <a href='https://wandb.ai/bryandong24-stanford-university/amt-hyperparameter-sweep/sweeps/c189gpt8' target=\"_blank\">https://wandb.ai/bryandong24-stanford-university/amt-hyperparameter-sweep/sweeps/c189gpt8</a>"
      ],
      "text/plain": [
       "<IPython.core.display.HTML object>"
      ]
     },
     "metadata": {},
     "output_type": "display_data"
    },
    {
     "data": {
      "text/html": [
       " View project at <a href='https://wandb.ai/bryandong24-stanford-university/amt-hyperparameter-sweep' target=\"_blank\">https://wandb.ai/bryandong24-stanford-university/amt-hyperparameter-sweep</a>"
      ],
      "text/plain": [
       "<IPython.core.display.HTML object>"
      ]
     },
     "metadata": {},
     "output_type": "display_data"
    },
    {
     "data": {
      "text/html": [
       " View sweep at <a href='https://wandb.ai/bryandong24-stanford-university/amt-hyperparameter-sweep/sweeps/c189gpt8' target=\"_blank\">https://wandb.ai/bryandong24-stanford-university/amt-hyperparameter-sweep/sweeps/c189gpt8</a>"
      ],
      "text/plain": [
       "<IPython.core.display.HTML object>"
      ]
     },
     "metadata": {},
     "output_type": "display_data"
    },
    {
     "data": {
      "text/html": [
       " View run at <a href='https://wandb.ai/bryandong24-stanford-university/amt-hyperparameter-sweep/runs/qa1fuakp' target=\"_blank\">https://wandb.ai/bryandong24-stanford-university/amt-hyperparameter-sweep/runs/qa1fuakp</a>"
      ],
      "text/plain": [
       "<IPython.core.display.HTML object>"
      ]
     },
     "metadata": {},
     "output_type": "display_data"
    },
    {
     "name": "stdout",
     "output_type": "stream",
     "text": [
      "Creating dataloaders with 20k train, 2k val samples, batch_size=32...\n",
      "Creating GPU-cached datasets...\n",
      "Target memory usage: 20.0 GB\n",
      "Estimated GPU memory usage: 20.0 GB\n",
      "Loading cached GPU dataset from ./gpu_cache_sweep/train_gpu_cache_20000.pt...\n",
      "Loading cache from ./gpu_cache_sweep/train_gpu_cache_20000.pt...\n",
      "✓ Loaded 20000 samples\n",
      "Estimated GPU memory usage: 2.0 GB\n",
      "Loading cached GPU dataset from ./gpu_cache_sweep/val_gpu_cache_2000.pt...\n",
      "Loading cache from ./gpu_cache_sweep/val_gpu_cache_2000.pt...\n",
      "✓ Loaded 2000 samples\n",
      "\n",
      "✓ GPU Datasets created:\n",
      "  Train: 20000 samples (6.7 GB)\n",
      "  Val: 2000 samples (6.7 GB)\n",
      "  Total GPU memory: 13.4 GB\n",
      "Dataloaders created: 625 train batches, 63 val batches\n",
      "Epoch 1/7: train_loss=0.6485, train_mpjpe=424.47mm, val_loss=0.3502, val_mpjpe=288.90mm\n",
      "Epoch 2/7: train_loss=0.4539, train_mpjpe=327.11mm, val_loss=0.3545, val_mpjpe=288.89mm\n",
      "Epoch 3/7: train_loss=0.4437, train_mpjpe=312.28mm, val_loss=0.3579, val_mpjpe=265.12mm\n",
      "Epoch 4/7: train_loss=0.4307, train_mpjpe=293.20mm, val_loss=0.3626, val_mpjpe=257.67mm\n",
      "Epoch 5/7: train_loss=0.4311, train_mpjpe=286.22mm, val_loss=0.3721, val_mpjpe=269.65mm\n",
      "Epoch 6/7: train_loss=0.4324, train_mpjpe=278.41mm, val_loss=0.3837, val_mpjpe=270.14mm\n",
      "Epoch 7/7: train_loss=0.4308, train_mpjpe=265.51mm, val_loss=0.3894, val_mpjpe=263.00mm\n"
     ]
    },
    {
     "data": {
      "text/html": [],
      "text/plain": [
       "<IPython.core.display.HTML object>"
      ]
     },
     "metadata": {},
     "output_type": "display_data"
    },
    {
     "data": {
      "text/html": [
       "<br>    <style><br>        .wandb-row {<br>            display: flex;<br>            flex-direction: row;<br>            flex-wrap: wrap;<br>            justify-content: flex-start;<br>            width: 100%;<br>        }<br>        .wandb-col {<br>            display: flex;<br>            flex-direction: column;<br>            flex-basis: 100%;<br>            flex: 1;<br>            padding: 10px;<br>        }<br>    </style><br><div class=\"wandb-row\"><div class=\"wandb-col\"><h3>Run history:</h3><br/><table class=\"wandb\"><tr><td>epoch</td><td>▁▂▃▅▆▇█</td></tr><tr><td>final/best_val_mpjpe</td><td>▁</td></tr><tr><td>final/epochs_trained</td><td>▁</td></tr><tr><td>system/gpu_memory_gb</td><td>▄▃▅▅▅▄█▃▂▅▄▅▃▆▅▃▄▃▅▄▆▅▂▆▁▂▅▃▆▄▄▄▅▅▃▂▆▃▄▅</td></tr><tr><td>train/batch_loss</td><td>▇▄▄▄▂▂▃▄▅▂▃▄▁▃▂▁▁▁▅▂▁▃▃▃▃▂▄▂▁▃▂▁▂▂▁█▃▂▃▂</td></tr><tr><td>train/batch_mpjpe</td><td>█▂▂▂▂▂▁▁▂▁▂▁▁▂▁▁▂▂▁▁▁▁▂▂▂▁▁▁▂▁▂▂▁▁▁▁▁▁▁▁</td></tr><tr><td>train/hand_mpjpe</td><td>█▄▃▂▂▂▁</td></tr><tr><td>train/loss</td><td>█▂▁▁▁▁▁</td></tr><tr><td>train/lr</td><td>████████████████▃▃▃▃▃▃▃▃▃▃▃▃▃▃▃▃▃▃▃▁▁▁▁▁</td></tr><tr><td>val/best_mpjpe</td><td>██▃▁▁▁▁</td></tr><tr><td>val/hand_mpjpe</td><td>██▃▁▄▄▂</td></tr><tr><td>val/loss</td><td>▁▂▂▃▅▇█</td></tr></table><br/></div><div class=\"wandb-col\"><h3>Run summary:</h3><br/><table class=\"wandb\"><tr><td>epoch</td><td>6</td></tr><tr><td>final/best_val_mpjpe</td><td>257.66797</td></tr><tr><td>final/epochs_trained</td><td>7</td></tr><tr><td>system/gpu_memory_gb</td><td>11.11295</td></tr><tr><td>train/batch_loss</td><td>0.43416</td></tr><tr><td>train/batch_mpjpe</td><td>255.85938</td></tr><tr><td>train/hand_mpjpe</td><td>265.5125</td></tr><tr><td>train/loss</td><td>0.4308</td></tr><tr><td>train/lr</td><td>0.0</td></tr><tr><td>val/best_mpjpe</td><td>257.66797</td></tr><tr><td>val/hand_mpjpe</td><td>263.00391</td></tr><tr><td>val/loss</td><td>0.38936</td></tr></table><br/></div></div>"
      ],
      "text/plain": [
       "<IPython.core.display.HTML object>"
      ]
     },
     "metadata": {},
     "output_type": "display_data"
    },
    {
     "data": {
      "text/html": [
       " View run <strong style=\"color:#cdcd00\">deep-sweep-21</strong> at: <a href='https://wandb.ai/bryandong24-stanford-university/amt-hyperparameter-sweep/runs/qa1fuakp' target=\"_blank\">https://wandb.ai/bryandong24-stanford-university/amt-hyperparameter-sweep/runs/qa1fuakp</a><br> View project at: <a href='https://wandb.ai/bryandong24-stanford-university/amt-hyperparameter-sweep' target=\"_blank\">https://wandb.ai/bryandong24-stanford-university/amt-hyperparameter-sweep</a><br>Synced 5 W&B file(s), 0 media file(s), 0 artifact file(s) and 0 other file(s)"
      ],
      "text/plain": [
       "<IPython.core.display.HTML object>"
      ]
     },
     "metadata": {},
     "output_type": "display_data"
    },
    {
     "data": {
      "text/html": [
       "Find logs at: <code>./wandb/run-20250604_054104-qa1fuakp/logs</code>"
      ],
      "text/plain": [
       "<IPython.core.display.HTML object>"
      ]
     },
     "metadata": {},
     "output_type": "display_data"
    },
    {
     "name": "stderr",
     "output_type": "stream",
     "text": [
      "\u001b[34m\u001b[1mwandb\u001b[0m: Agent Starting Run: bp2tkmyv with config:\n",
      "\u001b[34m\u001b[1mwandb\u001b[0m: \taug_color_jitter: 0.2403524326787473\n",
      "\u001b[34m\u001b[1mwandb\u001b[0m: \taug_joint_noise_std: 0.005595120438020828\n",
      "\u001b[34m\u001b[1mwandb\u001b[0m: \taug_rotation_range: 10.291101865943329\n",
      "\u001b[34m\u001b[1mwandb\u001b[0m: \taug_scale_max: 1.219843974862869\n",
      "\u001b[34m\u001b[1mwandb\u001b[0m: \taug_scale_min: 0.7742318397028845\n",
      "\u001b[34m\u001b[1mwandb\u001b[0m: \taug_translation_std: 0.08641209077993553\n",
      "\u001b[34m\u001b[1mwandb\u001b[0m: \tbatch_size: 256\n",
      "\u001b[34m\u001b[1mwandb\u001b[0m: \tdiversity_margin: 0.01368127982009789\n",
      "\u001b[34m\u001b[1mwandb\u001b[0m: \tdropout: 0.1\n",
      "\u001b[34m\u001b[1mwandb\u001b[0m: \tfingertip_weight: 1.5975549051273528\n",
      "\u001b[34m\u001b[1mwandb\u001b[0m: \tloss_weight_contact: 0.2547335626561951\n",
      "\u001b[34m\u001b[1mwandb\u001b[0m: \tloss_weight_diversity: 0.025042369559691663\n",
      "\u001b[34m\u001b[1mwandb\u001b[0m: \tloss_weight_hand_coarse: 1.195629116049651\n",
      "\u001b[34m\u001b[1mwandb\u001b[0m: \tloss_weight_hand_refined: 1.018667134948572\n",
      "\u001b[34m\u001b[1mwandb\u001b[0m: \tloss_weight_object_position: 0.8641789746943428\n",
      "\u001b[34m\u001b[1mwandb\u001b[0m: \tloss_weight_object_rotation: 0.32067439636550377\n",
      "\u001b[34m\u001b[1mwandb\u001b[0m: \tloss_weight_physics: 0.1086510457503921\n",
      "\u001b[34m\u001b[1mwandb\u001b[0m: \tloss_weight_reprojection: 0.47731030230887006\n",
      "\u001b[34m\u001b[1mwandb\u001b[0m: \tper_joint_weighting: False\n",
      "\u001b[34m\u001b[1mwandb\u001b[0m: \tscheduler_type: cosine\n"
     ]
    },
    {
     "data": {
      "text/html": [
       "Tracking run with wandb version 0.19.11"
      ],
      "text/plain": [
       "<IPython.core.display.HTML object>"
      ]
     },
     "metadata": {},
     "output_type": "display_data"
    },
    {
     "data": {
      "text/html": [
       "Run data is saved locally in <code>/home/n231/231nProjectV2/Advanced_Manipulation_Transformer/notebooks/wandb/run-20250604_054849-bp2tkmyv</code>"
      ],
      "text/plain": [
       "<IPython.core.display.HTML object>"
      ]
     },
     "metadata": {},
     "output_type": "display_data"
    },
    {
     "data": {
      "text/html": [
       "Syncing run <strong><a href='https://wandb.ai/bryandong24-stanford-university/amt-hyperparameter-sweep/runs/bp2tkmyv' target=\"_blank\">genial-sweep-22</a></strong> to <a href='https://wandb.ai/bryandong24-stanford-university/amt-hyperparameter-sweep' target=\"_blank\">Weights & Biases</a> (<a href='https://wandb.me/developer-guide' target=\"_blank\">docs</a>)<br>Sweep page: <a href='https://wandb.ai/bryandong24-stanford-university/amt-hyperparameter-sweep/sweeps/c189gpt8' target=\"_blank\">https://wandb.ai/bryandong24-stanford-university/amt-hyperparameter-sweep/sweeps/c189gpt8</a>"
      ],
      "text/plain": [
       "<IPython.core.display.HTML object>"
      ]
     },
     "metadata": {},
     "output_type": "display_data"
    },
    {
     "data": {
      "text/html": [
       " View project at <a href='https://wandb.ai/bryandong24-stanford-university/amt-hyperparameter-sweep' target=\"_blank\">https://wandb.ai/bryandong24-stanford-university/amt-hyperparameter-sweep</a>"
      ],
      "text/plain": [
       "<IPython.core.display.HTML object>"
      ]
     },
     "metadata": {},
     "output_type": "display_data"
    },
    {
     "data": {
      "text/html": [
       " View sweep at <a href='https://wandb.ai/bryandong24-stanford-university/amt-hyperparameter-sweep/sweeps/c189gpt8' target=\"_blank\">https://wandb.ai/bryandong24-stanford-university/amt-hyperparameter-sweep/sweeps/c189gpt8</a>"
      ],
      "text/plain": [
       "<IPython.core.display.HTML object>"
      ]
     },
     "metadata": {},
     "output_type": "display_data"
    },
    {
     "data": {
      "text/html": [
       " View run at <a href='https://wandb.ai/bryandong24-stanford-university/amt-hyperparameter-sweep/runs/bp2tkmyv' target=\"_blank\">https://wandb.ai/bryandong24-stanford-university/amt-hyperparameter-sweep/runs/bp2tkmyv</a>"
      ],
      "text/plain": [
       "<IPython.core.display.HTML object>"
      ]
     },
     "metadata": {},
     "output_type": "display_data"
    },
    {
     "name": "stdout",
     "output_type": "stream",
     "text": [
      "Creating dataloaders with 20k train, 2k val samples, batch_size=256...\n",
      "Creating GPU-cached datasets...\n",
      "Target memory usage: 20.0 GB\n",
      "Estimated GPU memory usage: 20.0 GB\n",
      "Loading cached GPU dataset from ./gpu_cache_sweep/train_gpu_cache_20000.pt...\n",
      "Loading cache from ./gpu_cache_sweep/train_gpu_cache_20000.pt...\n",
      "✓ Loaded 20000 samples\n",
      "Estimated GPU memory usage: 2.0 GB\n",
      "Loading cached GPU dataset from ./gpu_cache_sweep/val_gpu_cache_2000.pt...\n",
      "Loading cache from ./gpu_cache_sweep/val_gpu_cache_2000.pt...\n",
      "✓ Loaded 2000 samples\n",
      "\n",
      "✓ GPU Datasets created:\n",
      "  Train: 20000 samples (6.7 GB)\n",
      "  Val: 2000 samples (6.7 GB)\n",
      "  Total GPU memory: 13.4 GB\n",
      "Dataloaders created: 78 train batches, 8 val batches\n",
      "Epoch 1/7: train_loss=1.3118, train_mpjpe=702.02mm, val_loss=0.7059, val_mpjpe=338.78mm\n",
      "Epoch 2/7: train_loss=0.7440, train_mpjpe=381.84mm, val_loss=0.5049, val_mpjpe=342.59mm\n",
      "Epoch 3/7: train_loss=0.6326, train_mpjpe=363.26mm, val_loss=0.4647, val_mpjpe=288.70mm\n",
      "Epoch 4/7: train_loss=0.5910, train_mpjpe=332.76mm, val_loss=0.4664, val_mpjpe=278.61mm\n",
      "Epoch 5/7: train_loss=0.5786, train_mpjpe=316.63mm, val_loss=0.4701, val_mpjpe=268.98mm\n",
      "Epoch 6/7: train_loss=0.5736, train_mpjpe=300.71mm, val_loss=0.4646, val_mpjpe=247.59mm\n",
      "Epoch 7/7: train_loss=0.5743, train_mpjpe=290.43mm, val_loss=0.4768, val_mpjpe=249.38mm\n"
     ]
    },
    {
     "data": {
      "text/html": [],
      "text/plain": [
       "<IPython.core.display.HTML object>"
      ]
     },
     "metadata": {},
     "output_type": "display_data"
    },
    {
     "data": {
      "text/html": [
       "<br>    <style><br>        .wandb-row {<br>            display: flex;<br>            flex-direction: row;<br>            flex-wrap: wrap;<br>            justify-content: flex-start;<br>            width: 100%;<br>        }<br>        .wandb-col {<br>            display: flex;<br>            flex-direction: column;<br>            flex-basis: 100%;<br>            flex: 1;<br>            padding: 10px;<br>        }<br>    </style><br><div class=\"wandb-row\"><div class=\"wandb-col\"><h3>Run history:</h3><br/><table class=\"wandb\"><tr><td>epoch</td><td>▁▂▃▅▆▇█</td></tr><tr><td>final/best_val_mpjpe</td><td>▁</td></tr><tr><td>final/epochs_trained</td><td>▁</td></tr><tr><td>system/gpu_memory_gb</td><td>▅█▇▅▅▅▃▆▅▄▄▃▆▃▂▂▁▄▅▁▄▄▃▁▅▄▃█</td></tr><tr><td>train/batch_loss</td><td>█▃▂▂▂▂▁▁▁▁▂▁▁▁▁▁▁▁▁▁▁▁▁▁▁▁▁▁</td></tr><tr><td>train/batch_mpjpe</td><td>█▂▂▂▁▁▁▁▁▁▂▁▁▁▁▁▁▁▁▁▁▁▁▁▁▁▁▁</td></tr><tr><td>train/hand_mpjpe</td><td>█▃▂▂▁▁▁</td></tr><tr><td>train/loss</td><td>█▃▂▁▁▁▁</td></tr><tr><td>train/lr</td><td>████████▇▇▇▇▅▅▅▅▃▃▃▃▂▂▂▂▁▁▁▁</td></tr><tr><td>val/best_mpjpe</td><td>██▄▃▃▁▁</td></tr><tr><td>val/hand_mpjpe</td><td>██▄▃▃▁▁</td></tr><tr><td>val/loss</td><td>█▂▁▁▁▁▁</td></tr></table><br/></div><div class=\"wandb-col\"><h3>Run summary:</h3><br/><table class=\"wandb\"><tr><td>epoch</td><td>6</td></tr><tr><td>final/best_val_mpjpe</td><td>247.58594</td></tr><tr><td>final/epochs_trained</td><td>7</td></tr><tr><td>system/gpu_memory_gb</td><td>11.89107</td></tr><tr><td>train/batch_loss</td><td>0.58688</td></tr><tr><td>train/batch_mpjpe</td><td>294.92188</td></tr><tr><td>train/hand_mpjpe</td><td>290.42718</td></tr><tr><td>train/loss</td><td>0.5743</td></tr><tr><td>train/lr</td><td>0.0</td></tr><tr><td>val/best_mpjpe</td><td>247.58594</td></tr><tr><td>val/hand_mpjpe</td><td>249.38281</td></tr><tr><td>val/loss</td><td>0.4768</td></tr></table><br/></div></div>"
      ],
      "text/plain": [
       "<IPython.core.display.HTML object>"
      ]
     },
     "metadata": {},
     "output_type": "display_data"
    },
    {
     "data": {
      "text/html": [
       " View run <strong style=\"color:#cdcd00\">genial-sweep-22</strong> at: <a href='https://wandb.ai/bryandong24-stanford-university/amt-hyperparameter-sweep/runs/bp2tkmyv' target=\"_blank\">https://wandb.ai/bryandong24-stanford-university/amt-hyperparameter-sweep/runs/bp2tkmyv</a><br> View project at: <a href='https://wandb.ai/bryandong24-stanford-university/amt-hyperparameter-sweep' target=\"_blank\">https://wandb.ai/bryandong24-stanford-university/amt-hyperparameter-sweep</a><br>Synced 5 W&B file(s), 0 media file(s), 0 artifact file(s) and 0 other file(s)"
      ],
      "text/plain": [
       "<IPython.core.display.HTML object>"
      ]
     },
     "metadata": {},
     "output_type": "display_data"
    },
    {
     "data": {
      "text/html": [
       "Find logs at: <code>./wandb/run-20250604_054849-bp2tkmyv/logs</code>"
      ],
      "text/plain": [
       "<IPython.core.display.HTML object>"
      ]
     },
     "metadata": {},
     "output_type": "display_data"
    },
    {
     "name": "stderr",
     "output_type": "stream",
     "text": [
      "\u001b[34m\u001b[1mwandb\u001b[0m: Agent Starting Run: m9xqowwn with config:\n",
      "\u001b[34m\u001b[1mwandb\u001b[0m: \taug_color_jitter: 0.29975073475317854\n",
      "\u001b[34m\u001b[1mwandb\u001b[0m: \taug_joint_noise_std: 0.009561562692923242\n",
      "\u001b[34m\u001b[1mwandb\u001b[0m: \taug_rotation_range: 5.596559512006339\n",
      "\u001b[34m\u001b[1mwandb\u001b[0m: \taug_scale_max: 1.1621285499766711\n",
      "\u001b[34m\u001b[1mwandb\u001b[0m: \taug_scale_min: 0.7885185787760369\n",
      "\u001b[34m\u001b[1mwandb\u001b[0m: \taug_translation_std: 0.0800060236999742\n",
      "\u001b[34m\u001b[1mwandb\u001b[0m: \tbatch_size: 32\n",
      "\u001b[34m\u001b[1mwandb\u001b[0m: \tdiversity_margin: 0.006457903726343424\n",
      "\u001b[34m\u001b[1mwandb\u001b[0m: \tdropout: 0.2\n",
      "\u001b[34m\u001b[1mwandb\u001b[0m: \tfingertip_weight: 1.5468455102372498\n",
      "\u001b[34m\u001b[1mwandb\u001b[0m: \tloss_weight_contact: 0.4280937249125931\n",
      "\u001b[34m\u001b[1mwandb\u001b[0m: \tloss_weight_diversity: 0.032875948320371426\n",
      "\u001b[34m\u001b[1mwandb\u001b[0m: \tloss_weight_hand_coarse: 0.9311437851860772\n",
      "\u001b[34m\u001b[1mwandb\u001b[0m: \tloss_weight_hand_refined: 1.4837575497477011\n",
      "\u001b[34m\u001b[1mwandb\u001b[0m: \tloss_weight_object_position: 1.1491188948232671\n",
      "\u001b[34m\u001b[1mwandb\u001b[0m: \tloss_weight_object_rotation: 0.4268814685599867\n",
      "\u001b[34m\u001b[1mwandb\u001b[0m: \tloss_weight_physics: 0.10116487338070485\n",
      "\u001b[34m\u001b[1mwandb\u001b[0m: \tloss_weight_reprojection: 0.3970266241084414\n",
      "\u001b[34m\u001b[1mwandb\u001b[0m: \tper_joint_weighting: True\n",
      "\u001b[34m\u001b[1mwandb\u001b[0m: \tscheduler_type: cosine_warmup\n"
     ]
    },
    {
     "data": {
      "text/html": [
       "Tracking run with wandb version 0.19.11"
      ],
      "text/plain": [
       "<IPython.core.display.HTML object>"
      ]
     },
     "metadata": {},
     "output_type": "display_data"
    },
    {
     "data": {
      "text/html": [
       "Run data is saved locally in <code>/home/n231/231nProjectV2/Advanced_Manipulation_Transformer/notebooks/wandb/run-20250604_055318-m9xqowwn</code>"
      ],
      "text/plain": [
       "<IPython.core.display.HTML object>"
      ]
     },
     "metadata": {},
     "output_type": "display_data"
    },
    {
     "data": {
      "text/html": [
       "Syncing run <strong><a href='https://wandb.ai/bryandong24-stanford-university/amt-hyperparameter-sweep/runs/m9xqowwn' target=\"_blank\">legendary-sweep-23</a></strong> to <a href='https://wandb.ai/bryandong24-stanford-university/amt-hyperparameter-sweep' target=\"_blank\">Weights & Biases</a> (<a href='https://wandb.me/developer-guide' target=\"_blank\">docs</a>)<br>Sweep page: <a href='https://wandb.ai/bryandong24-stanford-university/amt-hyperparameter-sweep/sweeps/c189gpt8' target=\"_blank\">https://wandb.ai/bryandong24-stanford-university/amt-hyperparameter-sweep/sweeps/c189gpt8</a>"
      ],
      "text/plain": [
       "<IPython.core.display.HTML object>"
      ]
     },
     "metadata": {},
     "output_type": "display_data"
    },
    {
     "data": {
      "text/html": [
       " View project at <a href='https://wandb.ai/bryandong24-stanford-university/amt-hyperparameter-sweep' target=\"_blank\">https://wandb.ai/bryandong24-stanford-university/amt-hyperparameter-sweep</a>"
      ],
      "text/plain": [
       "<IPython.core.display.HTML object>"
      ]
     },
     "metadata": {},
     "output_type": "display_data"
    },
    {
     "data": {
      "text/html": [
       " View sweep at <a href='https://wandb.ai/bryandong24-stanford-university/amt-hyperparameter-sweep/sweeps/c189gpt8' target=\"_blank\">https://wandb.ai/bryandong24-stanford-university/amt-hyperparameter-sweep/sweeps/c189gpt8</a>"
      ],
      "text/plain": [
       "<IPython.core.display.HTML object>"
      ]
     },
     "metadata": {},
     "output_type": "display_data"
    },
    {
     "data": {
      "text/html": [
       " View run at <a href='https://wandb.ai/bryandong24-stanford-university/amt-hyperparameter-sweep/runs/m9xqowwn' target=\"_blank\">https://wandb.ai/bryandong24-stanford-university/amt-hyperparameter-sweep/runs/m9xqowwn</a>"
      ],
      "text/plain": [
       "<IPython.core.display.HTML object>"
      ]
     },
     "metadata": {},
     "output_type": "display_data"
    },
    {
     "name": "stdout",
     "output_type": "stream",
     "text": [
      "Creating dataloaders with 20k train, 2k val samples, batch_size=32...\n",
      "Creating GPU-cached datasets...\n",
      "Target memory usage: 20.0 GB\n",
      "Estimated GPU memory usage: 20.0 GB\n",
      "Loading cached GPU dataset from ./gpu_cache_sweep/train_gpu_cache_20000.pt...\n",
      "Loading cache from ./gpu_cache_sweep/train_gpu_cache_20000.pt...\n",
      "✓ Loaded 20000 samples\n",
      "Estimated GPU memory usage: 2.0 GB\n",
      "Loading cached GPU dataset from ./gpu_cache_sweep/val_gpu_cache_2000.pt...\n",
      "Loading cache from ./gpu_cache_sweep/val_gpu_cache_2000.pt...\n",
      "✓ Loaded 2000 samples\n",
      "\n",
      "✓ GPU Datasets created:\n",
      "  Train: 20000 samples (6.7 GB)\n",
      "  Val: 2000 samples (6.7 GB)\n",
      "  Total GPU memory: 13.4 GB\n",
      "Dataloaders created: 625 train batches, 63 val batches\n",
      "Epoch 1/7: train_loss=0.7560, train_mpjpe=431.49mm, val_loss=0.4388, val_mpjpe=291.04mm\n",
      "Epoch 2/7: train_loss=0.5243, train_mpjpe=328.52mm, val_loss=0.4041, val_mpjpe=272.51mm\n",
      "Epoch 3/7: train_loss=0.5018, train_mpjpe=306.06mm, val_loss=0.4160, val_mpjpe=275.97mm\n",
      "Epoch 4/7: train_loss=0.4862, train_mpjpe=288.90mm, val_loss=0.4230, val_mpjpe=270.28mm\n",
      "Epoch 5/7: train_loss=0.4841, train_mpjpe=279.50mm, val_loss=0.4275, val_mpjpe=260.29mm\n",
      "Epoch 6/7: train_loss=0.4823, train_mpjpe=265.97mm, val_loss=0.4322, val_mpjpe=252.41mm\n",
      "Epoch 7/7: train_loss=0.4820, train_mpjpe=253.89mm, val_loss=0.4499, val_mpjpe=261.63mm\n"
     ]
    },
    {
     "data": {
      "text/html": [],
      "text/plain": [
       "<IPython.core.display.HTML object>"
      ]
     },
     "metadata": {},
     "output_type": "display_data"
    },
    {
     "data": {
      "text/html": [
       "<br>    <style><br>        .wandb-row {<br>            display: flex;<br>            flex-direction: row;<br>            flex-wrap: wrap;<br>            justify-content: flex-start;<br>            width: 100%;<br>        }<br>        .wandb-col {<br>            display: flex;<br>            flex-direction: column;<br>            flex-basis: 100%;<br>            flex: 1;<br>            padding: 10px;<br>        }<br>    </style><br><div class=\"wandb-row\"><div class=\"wandb-col\"><h3>Run history:</h3><br/><table class=\"wandb\"><tr><td>epoch</td><td>▁▂▃▅▆▇█</td></tr><tr><td>final/best_val_mpjpe</td><td>▁</td></tr><tr><td>final/epochs_trained</td><td>▁</td></tr><tr><td>system/gpu_memory_gb</td><td>▁▂▃█▅▇▅▆▁▅█▅▂▅██▆▄▆▄▇▆▁▂▃▆▃▅▆▅▆█▄▆▃▆▄▆▅▆</td></tr><tr><td>train/batch_loss</td><td>▄▆▄▄▃▅▅▃▅▅▃▂▃▂▄▄▂▅▄▃▄▃▇▅▂▃▆▃▃▁▁▃▄▅█▅▃▁▅▆</td></tr><tr><td>train/batch_mpjpe</td><td>▅▅▄▄▅▃▆▅█▄▄▂▆▅▃▃▄▂▃▂▄▃▃▇▄▃▂▁▆▁▁▁▃▂▅▄▁▄▂▅</td></tr><tr><td>train/hand_mpjpe</td><td>█▄▃▂▂▁▁</td></tr><tr><td>train/loss</td><td>█▂▂▁▁▁▁</td></tr><tr><td>train/lr</td><td>██████████▇▇▇▇▇▆▆▆▆▆▆▆▄▄▄▄▄▃▃▃▃▃▃▁▁▁▁▁▁▁</td></tr><tr><td>val/best_mpjpe</td><td>█▅▅▄▂▁▁</td></tr><tr><td>val/hand_mpjpe</td><td>█▅▅▄▂▁▃</td></tr><tr><td>val/loss</td><td>▆▁▃▄▅▅█</td></tr></table><br/></div><div class=\"wandb-col\"><h3>Run summary:</h3><br/><table class=\"wandb\"><tr><td>epoch</td><td>6</td></tr><tr><td>final/best_val_mpjpe</td><td>252.41406</td></tr><tr><td>final/epochs_trained</td><td>7</td></tr><tr><td>system/gpu_memory_gb</td><td>11.11184</td></tr><tr><td>train/batch_loss</td><td>0.45374</td></tr><tr><td>train/batch_mpjpe</td><td>225.58594</td></tr><tr><td>train/hand_mpjpe</td><td>253.88594</td></tr><tr><td>train/loss</td><td>0.48205</td></tr><tr><td>train/lr</td><td>0.0</td></tr><tr><td>val/best_mpjpe</td><td>252.41406</td></tr><tr><td>val/hand_mpjpe</td><td>261.62891</td></tr><tr><td>val/loss</td><td>0.44985</td></tr></table><br/></div></div>"
      ],
      "text/plain": [
       "<IPython.core.display.HTML object>"
      ]
     },
     "metadata": {},
     "output_type": "display_data"
    },
    {
     "data": {
      "text/html": [
       " View run <strong style=\"color:#cdcd00\">legendary-sweep-23</strong> at: <a href='https://wandb.ai/bryandong24-stanford-university/amt-hyperparameter-sweep/runs/m9xqowwn' target=\"_blank\">https://wandb.ai/bryandong24-stanford-university/amt-hyperparameter-sweep/runs/m9xqowwn</a><br> View project at: <a href='https://wandb.ai/bryandong24-stanford-university/amt-hyperparameter-sweep' target=\"_blank\">https://wandb.ai/bryandong24-stanford-university/amt-hyperparameter-sweep</a><br>Synced 5 W&B file(s), 0 media file(s), 0 artifact file(s) and 0 other file(s)"
      ],
      "text/plain": [
       "<IPython.core.display.HTML object>"
      ]
     },
     "metadata": {},
     "output_type": "display_data"
    },
    {
     "data": {
      "text/html": [
       "Find logs at: <code>./wandb/run-20250604_055318-m9xqowwn/logs</code>"
      ],
      "text/plain": [
       "<IPython.core.display.HTML object>"
      ]
     },
     "metadata": {},
     "output_type": "display_data"
    },
    {
     "name": "stderr",
     "output_type": "stream",
     "text": [
      "\u001b[34m\u001b[1mwandb\u001b[0m: Sweep Agent: Waiting for job.\n",
      "\u001b[34m\u001b[1mwandb\u001b[0m: Job received.\n",
      "\u001b[34m\u001b[1mwandb\u001b[0m: Agent Starting Run: wia7g8qa with config:\n",
      "\u001b[34m\u001b[1mwandb\u001b[0m: \taug_color_jitter: 0.13040525156276844\n",
      "\u001b[34m\u001b[1mwandb\u001b[0m: \taug_joint_noise_std: 0.007879087179512101\n",
      "\u001b[34m\u001b[1mwandb\u001b[0m: \taug_rotation_range: 10.980459334963903\n",
      "\u001b[34m\u001b[1mwandb\u001b[0m: \taug_scale_max: 1.215121066727749\n",
      "\u001b[34m\u001b[1mwandb\u001b[0m: \taug_scale_min: 0.7440990944791033\n",
      "\u001b[34m\u001b[1mwandb\u001b[0m: \taug_translation_std: 0.08445857884563505\n",
      "\u001b[34m\u001b[1mwandb\u001b[0m: \tbatch_size: 64\n",
      "\u001b[34m\u001b[1mwandb\u001b[0m: \tdiversity_margin: 0.010304474231861612\n",
      "\u001b[34m\u001b[1mwandb\u001b[0m: \tdropout: 0.3\n",
      "\u001b[34m\u001b[1mwandb\u001b[0m: \tfingertip_weight: 1.4984987791921447\n",
      "\u001b[34m\u001b[1mwandb\u001b[0m: \tloss_weight_contact: 0.20184267563965744\n",
      "\u001b[34m\u001b[1mwandb\u001b[0m: \tloss_weight_diversity: 0.01388848017458279\n",
      "\u001b[34m\u001b[1mwandb\u001b[0m: \tloss_weight_hand_coarse: 0.9481154845972928\n",
      "\u001b[34m\u001b[1mwandb\u001b[0m: \tloss_weight_hand_refined: 1.093672930505579\n",
      "\u001b[34m\u001b[1mwandb\u001b[0m: \tloss_weight_object_position: 0.951904529797262\n",
      "\u001b[34m\u001b[1mwandb\u001b[0m: \tloss_weight_object_rotation: 0.4742113668678342\n",
      "\u001b[34m\u001b[1mwandb\u001b[0m: \tloss_weight_physics: 0.1636480972285223\n",
      "\u001b[34m\u001b[1mwandb\u001b[0m: \tloss_weight_reprojection: 0.4408947851929974\n",
      "\u001b[34m\u001b[1mwandb\u001b[0m: \tper_joint_weighting: False\n",
      "\u001b[34m\u001b[1mwandb\u001b[0m: \tscheduler_type: cosine_warmup\n"
     ]
    },
    {
     "data": {
      "text/html": [
       "Tracking run with wandb version 0.19.11"
      ],
      "text/plain": [
       "<IPython.core.display.HTML object>"
      ]
     },
     "metadata": {},
     "output_type": "display_data"
    },
    {
     "data": {
      "text/html": [
       "Run data is saved locally in <code>/home/n231/231nProjectV2/Advanced_Manipulation_Transformer/notebooks/wandb/run-20250604_060112-wia7g8qa</code>"
      ],
      "text/plain": [
       "<IPython.core.display.HTML object>"
      ]
     },
     "metadata": {},
     "output_type": "display_data"
    },
    {
     "data": {
      "text/html": [
       "Syncing run <strong><a href='https://wandb.ai/bryandong24-stanford-university/amt-hyperparameter-sweep/runs/wia7g8qa' target=\"_blank\">expert-sweep-24</a></strong> to <a href='https://wandb.ai/bryandong24-stanford-university/amt-hyperparameter-sweep' target=\"_blank\">Weights & Biases</a> (<a href='https://wandb.me/developer-guide' target=\"_blank\">docs</a>)<br>Sweep page: <a href='https://wandb.ai/bryandong24-stanford-university/amt-hyperparameter-sweep/sweeps/c189gpt8' target=\"_blank\">https://wandb.ai/bryandong24-stanford-university/amt-hyperparameter-sweep/sweeps/c189gpt8</a>"
      ],
      "text/plain": [
       "<IPython.core.display.HTML object>"
      ]
     },
     "metadata": {},
     "output_type": "display_data"
    },
    {
     "data": {
      "text/html": [
       " View project at <a href='https://wandb.ai/bryandong24-stanford-university/amt-hyperparameter-sweep' target=\"_blank\">https://wandb.ai/bryandong24-stanford-university/amt-hyperparameter-sweep</a>"
      ],
      "text/plain": [
       "<IPython.core.display.HTML object>"
      ]
     },
     "metadata": {},
     "output_type": "display_data"
    },
    {
     "data": {
      "text/html": [
       " View sweep at <a href='https://wandb.ai/bryandong24-stanford-university/amt-hyperparameter-sweep/sweeps/c189gpt8' target=\"_blank\">https://wandb.ai/bryandong24-stanford-university/amt-hyperparameter-sweep/sweeps/c189gpt8</a>"
      ],
      "text/plain": [
       "<IPython.core.display.HTML object>"
      ]
     },
     "metadata": {},
     "output_type": "display_data"
    },
    {
     "data": {
      "text/html": [
       " View run at <a href='https://wandb.ai/bryandong24-stanford-university/amt-hyperparameter-sweep/runs/wia7g8qa' target=\"_blank\">https://wandb.ai/bryandong24-stanford-university/amt-hyperparameter-sweep/runs/wia7g8qa</a>"
      ],
      "text/plain": [
       "<IPython.core.display.HTML object>"
      ]
     },
     "metadata": {},
     "output_type": "display_data"
    },
    {
     "name": "stdout",
     "output_type": "stream",
     "text": [
      "Creating dataloaders with 20k train, 2k val samples, batch_size=64...\n",
      "Creating GPU-cached datasets...\n",
      "Target memory usage: 20.0 GB\n",
      "Estimated GPU memory usage: 20.0 GB\n",
      "Loading cached GPU dataset from ./gpu_cache_sweep/train_gpu_cache_20000.pt...\n",
      "Loading cache from ./gpu_cache_sweep/train_gpu_cache_20000.pt...\n",
      "✓ Loaded 20000 samples\n",
      "Estimated GPU memory usage: 2.0 GB\n",
      "Loading cached GPU dataset from ./gpu_cache_sweep/val_gpu_cache_2000.pt...\n",
      "Loading cache from ./gpu_cache_sweep/val_gpu_cache_2000.pt...\n",
      "✓ Loaded 2000 samples\n",
      "\n",
      "✓ GPU Datasets created:\n",
      "  Train: 20000 samples (6.7 GB)\n",
      "  Val: 2000 samples (6.7 GB)\n",
      "  Total GPU memory: 13.4 GB\n",
      "Dataloaders created: 312 train batches, 32 val batches\n",
      "Epoch 1/7: train_loss=0.8785, train_mpjpe=494.31mm, val_loss=0.5268, val_mpjpe=403.36mm\n",
      "Epoch 2/7: train_loss=0.5746, train_mpjpe=339.19mm, val_loss=0.5249, val_mpjpe=330.67mm\n",
      "Epoch 3/7: train_loss=0.5506, train_mpjpe=317.98mm, val_loss=0.4268, val_mpjpe=278.62mm\n",
      "Epoch 4/7: train_loss=0.5307, train_mpjpe=299.13mm, val_loss=0.4231, val_mpjpe=252.09mm\n",
      "Epoch 5/7: train_loss=0.5116, train_mpjpe=288.26mm, val_loss=0.4194, val_mpjpe=260.73mm\n",
      "Epoch 6/7: train_loss=0.5008, train_mpjpe=275.74mm, val_loss=0.4147, val_mpjpe=252.26mm\n",
      "Epoch 7/7: train_loss=0.4924, train_mpjpe=264.11mm, val_loss=0.4332, val_mpjpe=269.18mm\n"
     ]
    },
    {
     "data": {
      "text/html": [],
      "text/plain": [
       "<IPython.core.display.HTML object>"
      ]
     },
     "metadata": {},
     "output_type": "display_data"
    },
    {
     "data": {
      "text/html": [
       "<br>    <style><br>        .wandb-row {<br>            display: flex;<br>            flex-direction: row;<br>            flex-wrap: wrap;<br>            justify-content: flex-start;<br>            width: 100%;<br>        }<br>        .wandb-col {<br>            display: flex;<br>            flex-direction: column;<br>            flex-basis: 100%;<br>            flex: 1;<br>            padding: 10px;<br>        }<br>    </style><br><div class=\"wandb-row\"><div class=\"wandb-col\"><h3>Run history:</h3><br/><table class=\"wandb\"><tr><td>epoch</td><td>▁▂▃▅▆▇█</td></tr><tr><td>final/best_val_mpjpe</td><td>▁</td></tr><tr><td>final/epochs_trained</td><td>▁</td></tr><tr><td>system/gpu_memory_gb</td><td>▆▂▆▆▁▄▅▄█▁▅▆▆▄▃▅▇▄▂▃▄▇▃▄▄▅▄▃▅▇▅▄▃▅▃▃▅▄▄▄</td></tr><tr><td>train/batch_loss</td><td>█▃▂▂▂▁▁▁▁▁▂▁▂▂▁▁▂▁▂▁▁▁▂▂▁▁▁▁▁▂▁▁▁▁▁▁▁▁▁▁</td></tr><tr><td>train/batch_mpjpe</td><td>█▂▂▂▂▁▁▁▁▁▁▁▁▁▁▂▁▁▂▂▁▁▁▁▁▁▁▁▁▁▁▁▁▁▁▁▁▁▁▁</td></tr><tr><td>train/hand_mpjpe</td><td>█▃▃▂▂▁▁</td></tr><tr><td>train/loss</td><td>█▂▂▂▁▁▁</td></tr><tr><td>train/lr</td><td>█████████▇▇▇▇▆▆▆▆▆▆▆▆▄▄▄▄▄▄▄▄▃▃▃▃▃▃▁▁▁▁▁</td></tr><tr><td>val/best_mpjpe</td><td>█▅▂▁▁▁▁</td></tr><tr><td>val/hand_mpjpe</td><td>█▅▂▁▁▁▂</td></tr><tr><td>val/loss</td><td>██▂▂▁▁▂</td></tr></table><br/></div><div class=\"wandb-col\"><h3>Run summary:</h3><br/><table class=\"wandb\"><tr><td>epoch</td><td>6</td></tr><tr><td>final/best_val_mpjpe</td><td>252.09375</td></tr><tr><td>final/epochs_trained</td><td>7</td></tr><tr><td>system/gpu_memory_gb</td><td>11.22799</td></tr><tr><td>train/batch_loss</td><td>0.55785</td></tr><tr><td>train/batch_mpjpe</td><td>302.73438</td></tr><tr><td>train/hand_mpjpe</td><td>264.11008</td></tr><tr><td>train/loss</td><td>0.49238</td></tr><tr><td>train/lr</td><td>0.0</td></tr><tr><td>val/best_mpjpe</td><td>252.09375</td></tr><tr><td>val/hand_mpjpe</td><td>269.17969</td></tr><tr><td>val/loss</td><td>0.43325</td></tr></table><br/></div></div>"
      ],
      "text/plain": [
       "<IPython.core.display.HTML object>"
      ]
     },
     "metadata": {},
     "output_type": "display_data"
    },
    {
     "data": {
      "text/html": [
       " View run <strong style=\"color:#cdcd00\">expert-sweep-24</strong> at: <a href='https://wandb.ai/bryandong24-stanford-university/amt-hyperparameter-sweep/runs/wia7g8qa' target=\"_blank\">https://wandb.ai/bryandong24-stanford-university/amt-hyperparameter-sweep/runs/wia7g8qa</a><br> View project at: <a href='https://wandb.ai/bryandong24-stanford-university/amt-hyperparameter-sweep' target=\"_blank\">https://wandb.ai/bryandong24-stanford-university/amt-hyperparameter-sweep</a><br>Synced 5 W&B file(s), 0 media file(s), 0 artifact file(s) and 0 other file(s)"
      ],
      "text/plain": [
       "<IPython.core.display.HTML object>"
      ]
     },
     "metadata": {},
     "output_type": "display_data"
    },
    {
     "data": {
      "text/html": [
       "Find logs at: <code>./wandb/run-20250604_060112-wia7g8qa/logs</code>"
      ],
      "text/plain": [
       "<IPython.core.display.HTML object>"
      ]
     },
     "metadata": {},
     "output_type": "display_data"
    },
    {
     "name": "stderr",
     "output_type": "stream",
     "text": [
      "\u001b[34m\u001b[1mwandb\u001b[0m: Agent Starting Run: 63u37523 with config:\n",
      "\u001b[34m\u001b[1mwandb\u001b[0m: \taug_color_jitter: 0.17544277517195958\n",
      "\u001b[34m\u001b[1mwandb\u001b[0m: \taug_joint_noise_std: 0.008901427725122042\n",
      "\u001b[34m\u001b[1mwandb\u001b[0m: \taug_rotation_range: 9.54324299048942\n",
      "\u001b[34m\u001b[1mwandb\u001b[0m: \taug_scale_max: 1.225176387457625\n",
      "\u001b[34m\u001b[1mwandb\u001b[0m: \taug_scale_min: 0.7838961803166111\n",
      "\u001b[34m\u001b[1mwandb\u001b[0m: \taug_translation_std: 0.08475260968919188\n",
      "\u001b[34m\u001b[1mwandb\u001b[0m: \tbatch_size: 32\n",
      "\u001b[34m\u001b[1mwandb\u001b[0m: \tdiversity_margin: 0.0168070667908296\n",
      "\u001b[34m\u001b[1mwandb\u001b[0m: \tdropout: 0.15\n",
      "\u001b[34m\u001b[1mwandb\u001b[0m: \tfingertip_weight: 1.9371635201571584\n",
      "\u001b[34m\u001b[1mwandb\u001b[0m: \tloss_weight_contact: 0.22256794622180853\n",
      "\u001b[34m\u001b[1mwandb\u001b[0m: \tloss_weight_diversity: 0.01473120639602046\n",
      "\u001b[34m\u001b[1mwandb\u001b[0m: \tloss_weight_hand_coarse: 1.023412258912656\n",
      "\u001b[34m\u001b[1mwandb\u001b[0m: \tloss_weight_hand_refined: 1.4021903098088109\n",
      "\u001b[34m\u001b[1mwandb\u001b[0m: \tloss_weight_object_position: 0.8562170194545926\n",
      "\u001b[34m\u001b[1mwandb\u001b[0m: \tloss_weight_object_rotation: 0.3925437504052122\n",
      "\u001b[34m\u001b[1mwandb\u001b[0m: \tloss_weight_physics: 0.06361452912118724\n",
      "\u001b[34m\u001b[1mwandb\u001b[0m: \tloss_weight_reprojection: 0.4577109797954675\n",
      "\u001b[34m\u001b[1mwandb\u001b[0m: \tper_joint_weighting: True\n",
      "\u001b[34m\u001b[1mwandb\u001b[0m: \tscheduler_type: cosine_warmup\n"
     ]
    },
    {
     "data": {
      "text/html": [
       "Tracking run with wandb version 0.19.11"
      ],
      "text/plain": [
       "<IPython.core.display.HTML object>"
      ]
     },
     "metadata": {},
     "output_type": "display_data"
    },
    {
     "data": {
      "text/html": [
       "Run data is saved locally in <code>/home/n231/231nProjectV2/Advanced_Manipulation_Transformer/notebooks/wandb/run-20250604_060703-63u37523</code>"
      ],
      "text/plain": [
       "<IPython.core.display.HTML object>"
      ]
     },
     "metadata": {},
     "output_type": "display_data"
    },
    {
     "data": {
      "text/html": [
       "Syncing run <strong><a href='https://wandb.ai/bryandong24-stanford-university/amt-hyperparameter-sweep/runs/63u37523' target=\"_blank\">swift-sweep-25</a></strong> to <a href='https://wandb.ai/bryandong24-stanford-university/amt-hyperparameter-sweep' target=\"_blank\">Weights & Biases</a> (<a href='https://wandb.me/developer-guide' target=\"_blank\">docs</a>)<br>Sweep page: <a href='https://wandb.ai/bryandong24-stanford-university/amt-hyperparameter-sweep/sweeps/c189gpt8' target=\"_blank\">https://wandb.ai/bryandong24-stanford-university/amt-hyperparameter-sweep/sweeps/c189gpt8</a>"
      ],
      "text/plain": [
       "<IPython.core.display.HTML object>"
      ]
     },
     "metadata": {},
     "output_type": "display_data"
    },
    {
     "data": {
      "text/html": [
       " View project at <a href='https://wandb.ai/bryandong24-stanford-university/amt-hyperparameter-sweep' target=\"_blank\">https://wandb.ai/bryandong24-stanford-university/amt-hyperparameter-sweep</a>"
      ],
      "text/plain": [
       "<IPython.core.display.HTML object>"
      ]
     },
     "metadata": {},
     "output_type": "display_data"
    },
    {
     "data": {
      "text/html": [
       " View sweep at <a href='https://wandb.ai/bryandong24-stanford-university/amt-hyperparameter-sweep/sweeps/c189gpt8' target=\"_blank\">https://wandb.ai/bryandong24-stanford-university/amt-hyperparameter-sweep/sweeps/c189gpt8</a>"
      ],
      "text/plain": [
       "<IPython.core.display.HTML object>"
      ]
     },
     "metadata": {},
     "output_type": "display_data"
    },
    {
     "data": {
      "text/html": [
       " View run at <a href='https://wandb.ai/bryandong24-stanford-university/amt-hyperparameter-sweep/runs/63u37523' target=\"_blank\">https://wandb.ai/bryandong24-stanford-university/amt-hyperparameter-sweep/runs/63u37523</a>"
      ],
      "text/plain": [
       "<IPython.core.display.HTML object>"
      ]
     },
     "metadata": {},
     "output_type": "display_data"
    },
    {
     "name": "stdout",
     "output_type": "stream",
     "text": [
      "Creating dataloaders with 20k train, 2k val samples, batch_size=32...\n",
      "Creating GPU-cached datasets...\n",
      "Target memory usage: 20.0 GB\n",
      "Estimated GPU memory usage: 20.0 GB\n",
      "Loading cached GPU dataset from ./gpu_cache_sweep/train_gpu_cache_20000.pt...\n",
      "Loading cache from ./gpu_cache_sweep/train_gpu_cache_20000.pt...\n",
      "✓ Loaded 20000 samples\n",
      "Estimated GPU memory usage: 2.0 GB\n",
      "Loading cached GPU dataset from ./gpu_cache_sweep/val_gpu_cache_2000.pt...\n",
      "Loading cache from ./gpu_cache_sweep/val_gpu_cache_2000.pt...\n",
      "✓ Loaded 2000 samples\n",
      "\n",
      "✓ GPU Datasets created:\n",
      "  Train: 20000 samples (6.7 GB)\n",
      "  Val: 2000 samples (6.7 GB)\n",
      "  Total GPU memory: 13.4 GB\n",
      "Dataloaders created: 625 train batches, 63 val batches\n",
      "Epoch 1/7: train_loss=0.7424, train_mpjpe=417.25mm, val_loss=0.4660, val_mpjpe=304.23mm\n",
      "Epoch 2/7: train_loss=0.5399, train_mpjpe=330.63mm, val_loss=0.4365, val_mpjpe=270.56mm\n",
      "Epoch 3/7: train_loss=0.5207, train_mpjpe=307.93mm, val_loss=0.4450, val_mpjpe=282.94mm\n",
      "Epoch 4/7: train_loss=0.5100, train_mpjpe=292.75mm, val_loss=0.4373, val_mpjpe=258.87mm\n",
      "Epoch 5/7: train_loss=0.5040, train_mpjpe=279.14mm, val_loss=0.4620, val_mpjpe=281.46mm\n",
      "Epoch 6/7: train_loss=0.5021, train_mpjpe=266.59mm, val_loss=0.4506, val_mpjpe=259.20mm\n",
      "Epoch 7/7: train_loss=0.5042, train_mpjpe=256.88mm, val_loss=0.4562, val_mpjpe=251.50mm\n"
     ]
    },
    {
     "data": {
      "text/html": [],
      "text/plain": [
       "<IPython.core.display.HTML object>"
      ]
     },
     "metadata": {},
     "output_type": "display_data"
    },
    {
     "data": {
      "text/html": [
       "<br>    <style><br>        .wandb-row {<br>            display: flex;<br>            flex-direction: row;<br>            flex-wrap: wrap;<br>            justify-content: flex-start;<br>            width: 100%;<br>        }<br>        .wandb-col {<br>            display: flex;<br>            flex-direction: column;<br>            flex-basis: 100%;<br>            flex: 1;<br>            padding: 10px;<br>        }<br>    </style><br><div class=\"wandb-row\"><div class=\"wandb-col\"><h3>Run history:</h3><br/><table class=\"wandb\"><tr><td>epoch</td><td>▁▂▃▅▆▇█</td></tr><tr><td>final/best_val_mpjpe</td><td>▁</td></tr><tr><td>final/epochs_trained</td><td>▁</td></tr><tr><td>system/gpu_memory_gb</td><td>▅▅▅▆▂▄▄▄▄▃▅▆▂▃▇▄▅▂▃▅▃▅▅▅▅▇▁▄▅▅▇█▆▃▅▇▅▅▄▅</td></tr><tr><td>train/batch_loss</td><td>█▅▂▃▃▃▂▂▂▁▂▃▁▂▁▃▃▃▁▁▃▂▃▁▁▂▃▃▁▂▃▂▁▂▃▂▄▂▂▂</td></tr><tr><td>train/batch_mpjpe</td><td>█▅▃▅▆▄▆▄▅▇▂▅▇▄▅▆▄▂▄▅▂▃▄▅▃▂▃▁▁▃▁▅▂▄▄▃▅▄▂▃</td></tr><tr><td>train/hand_mpjpe</td><td>█▄▃▃▂▁▁</td></tr><tr><td>train/loss</td><td>█▂▂▁▁▁▁</td></tr><tr><td>train/lr</td><td>███████████▇▇▇▇▇▇▇▆▆▆▆▆▄▄▄▄▃▃▃▃▃▃▃▁▁▁▁▁▁</td></tr><tr><td>val/best_mpjpe</td><td>█▄▄▂▂▂▁</td></tr><tr><td>val/hand_mpjpe</td><td>█▄▅▂▅▂▁</td></tr><tr><td>val/loss</td><td>█▁▃▁▇▄▆</td></tr></table><br/></div><div class=\"wandb-col\"><h3>Run summary:</h3><br/><table class=\"wandb\"><tr><td>epoch</td><td>6</td></tr><tr><td>final/best_val_mpjpe</td><td>251.50391</td></tr><tr><td>final/epochs_trained</td><td>7</td></tr><tr><td>system/gpu_memory_gb</td><td>11.11138</td></tr><tr><td>train/batch_loss</td><td>0.43766</td></tr><tr><td>train/batch_mpjpe</td><td>207.03125</td></tr><tr><td>train/hand_mpjpe</td><td>256.88047</td></tr><tr><td>train/loss</td><td>0.50416</td></tr><tr><td>train/lr</td><td>0.0</td></tr><tr><td>val/best_mpjpe</td><td>251.50391</td></tr><tr><td>val/hand_mpjpe</td><td>251.50391</td></tr><tr><td>val/loss</td><td>0.45622</td></tr></table><br/></div></div>"
      ],
      "text/plain": [
       "<IPython.core.display.HTML object>"
      ]
     },
     "metadata": {},
     "output_type": "display_data"
    },
    {
     "data": {
      "text/html": [
       " View run <strong style=\"color:#cdcd00\">swift-sweep-25</strong> at: <a href='https://wandb.ai/bryandong24-stanford-university/amt-hyperparameter-sweep/runs/63u37523' target=\"_blank\">https://wandb.ai/bryandong24-stanford-university/amt-hyperparameter-sweep/runs/63u37523</a><br> View project at: <a href='https://wandb.ai/bryandong24-stanford-university/amt-hyperparameter-sweep' target=\"_blank\">https://wandb.ai/bryandong24-stanford-university/amt-hyperparameter-sweep</a><br>Synced 5 W&B file(s), 0 media file(s), 0 artifact file(s) and 0 other file(s)"
      ],
      "text/plain": [
       "<IPython.core.display.HTML object>"
      ]
     },
     "metadata": {},
     "output_type": "display_data"
    },
    {
     "data": {
      "text/html": [
       "Find logs at: <code>./wandb/run-20250604_060703-63u37523/logs</code>"
      ],
      "text/plain": [
       "<IPython.core.display.HTML object>"
      ]
     },
     "metadata": {},
     "output_type": "display_data"
    },
    {
     "name": "stderr",
     "output_type": "stream",
     "text": [
      "\u001b[34m\u001b[1mwandb\u001b[0m: Agent Starting Run: wbsng60y with config:\n",
      "\u001b[34m\u001b[1mwandb\u001b[0m: \taug_color_jitter: 0.18581954034603332\n",
      "\u001b[34m\u001b[1mwandb\u001b[0m: \taug_joint_noise_std: 0.009393089237703217\n",
      "\u001b[34m\u001b[1mwandb\u001b[0m: \taug_rotation_range: 9.202616420535252\n",
      "\u001b[34m\u001b[1mwandb\u001b[0m: \taug_scale_max: 1.133154341941707\n",
      "\u001b[34m\u001b[1mwandb\u001b[0m: \taug_scale_min: 0.8288241393032428\n",
      "\u001b[34m\u001b[1mwandb\u001b[0m: \taug_translation_std: 0.047967438579376825\n",
      "\u001b[34m\u001b[1mwandb\u001b[0m: \tbatch_size: 32\n",
      "\u001b[34m\u001b[1mwandb\u001b[0m: \tdiversity_margin: 0.01610026324656516\n",
      "\u001b[34m\u001b[1mwandb\u001b[0m: \tdropout: 0.1\n",
      "\u001b[34m\u001b[1mwandb\u001b[0m: \tfingertip_weight: 1.8136970436953836\n",
      "\u001b[34m\u001b[1mwandb\u001b[0m: \tloss_weight_contact: 0.3615862991753752\n",
      "\u001b[34m\u001b[1mwandb\u001b[0m: \tloss_weight_diversity: 0.006863907984263211\n",
      "\u001b[34m\u001b[1mwandb\u001b[0m: \tloss_weight_hand_coarse: 0.8423130027403174\n",
      "\u001b[34m\u001b[1mwandb\u001b[0m: \tloss_weight_hand_refined: 1.079549590946522\n",
      "\u001b[34m\u001b[1mwandb\u001b[0m: \tloss_weight_object_position: 1.0845927431662084\n",
      "\u001b[34m\u001b[1mwandb\u001b[0m: \tloss_weight_object_rotation: 0.4649159372831442\n",
      "\u001b[34m\u001b[1mwandb\u001b[0m: \tloss_weight_physics: 0.15125882435016763\n",
      "\u001b[34m\u001b[1mwandb\u001b[0m: \tloss_weight_reprojection: 0.32595091712848584\n",
      "\u001b[34m\u001b[1mwandb\u001b[0m: \tper_joint_weighting: True\n",
      "\u001b[34m\u001b[1mwandb\u001b[0m: \tscheduler_type: exponential\n"
     ]
    },
    {
     "data": {
      "text/html": [
       "Tracking run with wandb version 0.19.11"
      ],
      "text/plain": [
       "<IPython.core.display.HTML object>"
      ]
     },
     "metadata": {},
     "output_type": "display_data"
    },
    {
     "data": {
      "text/html": [
       "Run data is saved locally in <code>/home/n231/231nProjectV2/Advanced_Manipulation_Transformer/notebooks/wandb/run-20250604_061448-wbsng60y</code>"
      ],
      "text/plain": [
       "<IPython.core.display.HTML object>"
      ]
     },
     "metadata": {},
     "output_type": "display_data"
    },
    {
     "data": {
      "text/html": [
       "Syncing run <strong><a href='https://wandb.ai/bryandong24-stanford-university/amt-hyperparameter-sweep/runs/wbsng60y' target=\"_blank\">vague-sweep-26</a></strong> to <a href='https://wandb.ai/bryandong24-stanford-university/amt-hyperparameter-sweep' target=\"_blank\">Weights & Biases</a> (<a href='https://wandb.me/developer-guide' target=\"_blank\">docs</a>)<br>Sweep page: <a href='https://wandb.ai/bryandong24-stanford-university/amt-hyperparameter-sweep/sweeps/c189gpt8' target=\"_blank\">https://wandb.ai/bryandong24-stanford-university/amt-hyperparameter-sweep/sweeps/c189gpt8</a>"
      ],
      "text/plain": [
       "<IPython.core.display.HTML object>"
      ]
     },
     "metadata": {},
     "output_type": "display_data"
    },
    {
     "data": {
      "text/html": [
       " View project at <a href='https://wandb.ai/bryandong24-stanford-university/amt-hyperparameter-sweep' target=\"_blank\">https://wandb.ai/bryandong24-stanford-university/amt-hyperparameter-sweep</a>"
      ],
      "text/plain": [
       "<IPython.core.display.HTML object>"
      ]
     },
     "metadata": {},
     "output_type": "display_data"
    },
    {
     "data": {
      "text/html": [
       " View sweep at <a href='https://wandb.ai/bryandong24-stanford-university/amt-hyperparameter-sweep/sweeps/c189gpt8' target=\"_blank\">https://wandb.ai/bryandong24-stanford-university/amt-hyperparameter-sweep/sweeps/c189gpt8</a>"
      ],
      "text/plain": [
       "<IPython.core.display.HTML object>"
      ]
     },
     "metadata": {},
     "output_type": "display_data"
    },
    {
     "data": {
      "text/html": [
       " View run at <a href='https://wandb.ai/bryandong24-stanford-university/amt-hyperparameter-sweep/runs/wbsng60y' target=\"_blank\">https://wandb.ai/bryandong24-stanford-university/amt-hyperparameter-sweep/runs/wbsng60y</a>"
      ],
      "text/plain": [
       "<IPython.core.display.HTML object>"
      ]
     },
     "metadata": {},
     "output_type": "display_data"
    },
    {
     "name": "stdout",
     "output_type": "stream",
     "text": [
      "Creating dataloaders with 20k train, 2k val samples, batch_size=32...\n",
      "Creating GPU-cached datasets...\n",
      "Target memory usage: 20.0 GB\n",
      "Estimated GPU memory usage: 20.0 GB\n",
      "Loading cached GPU dataset from ./gpu_cache_sweep/train_gpu_cache_20000.pt...\n",
      "Loading cache from ./gpu_cache_sweep/train_gpu_cache_20000.pt...\n",
      "✓ Loaded 20000 samples\n",
      "Estimated GPU memory usage: 2.0 GB\n",
      "Loading cached GPU dataset from ./gpu_cache_sweep/val_gpu_cache_2000.pt...\n",
      "Loading cache from ./gpu_cache_sweep/val_gpu_cache_2000.pt...\n",
      "✓ Loaded 2000 samples\n",
      "\n",
      "✓ GPU Datasets created:\n",
      "  Train: 20000 samples (6.7 GB)\n",
      "  Val: 2000 samples (6.7 GB)\n",
      "  Total GPU memory: 13.4 GB\n",
      "Dataloaders created: 625 train batches, 63 val batches\n",
      "Epoch 1/7: train_loss=0.5924, train_mpjpe=433.90mm, val_loss=0.3420, val_mpjpe=302.45mm\n",
      "Epoch 2/7: train_loss=0.4210, train_mpjpe=321.19mm, val_loss=0.3343, val_mpjpe=265.84mm\n",
      "Epoch 3/7: train_loss=0.4131, train_mpjpe=300.69mm, val_loss=0.3368, val_mpjpe=243.32mm\n",
      "Epoch 4/7: train_loss=0.4090, train_mpjpe=285.25mm, val_loss=0.3411, val_mpjpe=246.97mm\n",
      "Epoch 5/7: train_loss=0.4052, train_mpjpe=269.92mm, val_loss=0.3491, val_mpjpe=248.57mm\n",
      "Epoch 6/7: train_loss=0.4037, train_mpjpe=265.44mm, val_loss=0.3375, val_mpjpe=236.07mm\n",
      "Epoch 7/7: train_loss=0.3976, train_mpjpe=255.02mm, val_loss=0.3499, val_mpjpe=253.22mm\n"
     ]
    },
    {
     "data": {
      "text/html": [],
      "text/plain": [
       "<IPython.core.display.HTML object>"
      ]
     },
     "metadata": {},
     "output_type": "display_data"
    },
    {
     "data": {
      "text/html": [
       "<br>    <style><br>        .wandb-row {<br>            display: flex;<br>            flex-direction: row;<br>            flex-wrap: wrap;<br>            justify-content: flex-start;<br>            width: 100%;<br>        }<br>        .wandb-col {<br>            display: flex;<br>            flex-direction: column;<br>            flex-basis: 100%;<br>            flex: 1;<br>            padding: 10px;<br>        }<br>    </style><br><div class=\"wandb-row\"><div class=\"wandb-col\"><h3>Run history:</h3><br/><table class=\"wandb\"><tr><td>epoch</td><td>▁▂▃▅▆▇█</td></tr><tr><td>final/best_val_mpjpe</td><td>▁</td></tr><tr><td>final/epochs_trained</td><td>▁</td></tr><tr><td>system/gpu_memory_gb</td><td>▄▃▅▃▆▆▃▃▄▆▅▃▂▆▄▄▅▆▇▃▆▃▅▆▇▇▃▁▆▄▅▁▅▇█▃▃▃▅▅</td></tr><tr><td>train/batch_loss</td><td>█▃▄▄▃▃▂▂▄▂▁▁▄▂▂▄▃▂▃▂▃▂▁▁▃▂▁▆▃▂▅▁▂▃▄▂▄▃▃▁</td></tr><tr><td>train/batch_mpjpe</td><td>█▂▃▂▂▂▂▂▂▂▂▁▁▁▂▂▂▂▂▁▁▂▁▁▁▁▂▁▂▁▁▂▂▁▁▁▁▁▁▁</td></tr><tr><td>train/hand_mpjpe</td><td>█▄▃▂▂▁▁</td></tr><tr><td>train/loss</td><td>█▂▂▁▁▁▁</td></tr><tr><td>train/lr</td><td>███████▇▇▇▇▅▅▅▅▅▅▄▄▄▄▄▄▄▄▃▃▃▂▂▁▁▁▁▁▁▁▁▁▁</td></tr><tr><td>val/best_mpjpe</td><td>█▄▂▂▂▁▁</td></tr><tr><td>val/hand_mpjpe</td><td>█▄▂▂▂▁▃</td></tr><tr><td>val/loss</td><td>▄▁▂▄█▂█</td></tr></table><br/></div><div class=\"wandb-col\"><h3>Run summary:</h3><br/><table class=\"wandb\"><tr><td>epoch</td><td>6</td></tr><tr><td>final/best_val_mpjpe</td><td>236.07422</td></tr><tr><td>final/epochs_trained</td><td>7</td></tr><tr><td>system/gpu_memory_gb</td><td>11.11139</td></tr><tr><td>train/batch_loss</td><td>0.46397</td></tr><tr><td>train/batch_mpjpe</td><td>298.82812</td></tr><tr><td>train/hand_mpjpe</td><td>255.01562</td></tr><tr><td>train/loss</td><td>0.39762</td></tr><tr><td>train/lr</td><td>1e-05</td></tr><tr><td>val/best_mpjpe</td><td>236.07422</td></tr><tr><td>val/hand_mpjpe</td><td>253.21875</td></tr><tr><td>val/loss</td><td>0.34994</td></tr></table><br/></div></div>"
      ],
      "text/plain": [
       "<IPython.core.display.HTML object>"
      ]
     },
     "metadata": {},
     "output_type": "display_data"
    },
    {
     "data": {
      "text/html": [
       " View run <strong style=\"color:#cdcd00\">vague-sweep-26</strong> at: <a href='https://wandb.ai/bryandong24-stanford-university/amt-hyperparameter-sweep/runs/wbsng60y' target=\"_blank\">https://wandb.ai/bryandong24-stanford-university/amt-hyperparameter-sweep/runs/wbsng60y</a><br> View project at: <a href='https://wandb.ai/bryandong24-stanford-university/amt-hyperparameter-sweep' target=\"_blank\">https://wandb.ai/bryandong24-stanford-university/amt-hyperparameter-sweep</a><br>Synced 5 W&B file(s), 0 media file(s), 0 artifact file(s) and 0 other file(s)"
      ],
      "text/plain": [
       "<IPython.core.display.HTML object>"
      ]
     },
     "metadata": {},
     "output_type": "display_data"
    },
    {
     "data": {
      "text/html": [
       "Find logs at: <code>./wandb/run-20250604_061448-wbsng60y/logs</code>"
      ],
      "text/plain": [
       "<IPython.core.display.HTML object>"
      ]
     },
     "metadata": {},
     "output_type": "display_data"
    },
    {
     "name": "stderr",
     "output_type": "stream",
     "text": [
      "\u001b[34m\u001b[1mwandb\u001b[0m: Sweep Agent: Waiting for job.\n",
      "\u001b[34m\u001b[1mwandb\u001b[0m: Job received.\n",
      "\u001b[34m\u001b[1mwandb\u001b[0m: Agent Starting Run: mv2vjace with config:\n",
      "\u001b[34m\u001b[1mwandb\u001b[0m: \taug_color_jitter: 0.2819099318088629\n",
      "\u001b[34m\u001b[1mwandb\u001b[0m: \taug_joint_noise_std: 0.0031771306653864805\n",
      "\u001b[34m\u001b[1mwandb\u001b[0m: \taug_rotation_range: 11.634493333174625\n",
      "\u001b[34m\u001b[1mwandb\u001b[0m: \taug_scale_max: 1.1438781605668722\n",
      "\u001b[34m\u001b[1mwandb\u001b[0m: \taug_scale_min: 0.7393216251014889\n",
      "\u001b[34m\u001b[1mwandb\u001b[0m: \taug_translation_std: 0.07725373312542694\n",
      "\u001b[34m\u001b[1mwandb\u001b[0m: \tbatch_size: 256\n",
      "\u001b[34m\u001b[1mwandb\u001b[0m: \tdiversity_margin: 0.01250515381976098\n",
      "\u001b[34m\u001b[1mwandb\u001b[0m: \tdropout: 0.25\n",
      "\u001b[34m\u001b[1mwandb\u001b[0m: \tfingertip_weight: 1.6925361140982702\n",
      "\u001b[34m\u001b[1mwandb\u001b[0m: \tloss_weight_contact: 0.4219063151668758\n",
      "\u001b[34m\u001b[1mwandb\u001b[0m: \tloss_weight_diversity: 0.005275453667342303\n",
      "\u001b[34m\u001b[1mwandb\u001b[0m: \tloss_weight_hand_coarse: 0.9406857289868484\n",
      "\u001b[34m\u001b[1mwandb\u001b[0m: \tloss_weight_hand_refined: 1.2727904574284077\n",
      "\u001b[34m\u001b[1mwandb\u001b[0m: \tloss_weight_object_position: 0.8841540818375416\n",
      "\u001b[34m\u001b[1mwandb\u001b[0m: \tloss_weight_object_rotation: 0.5561457368385831\n",
      "\u001b[34m\u001b[1mwandb\u001b[0m: \tloss_weight_physics: 0.12837855813364585\n",
      "\u001b[34m\u001b[1mwandb\u001b[0m: \tloss_weight_reprojection: 0.4820135305418606\n",
      "\u001b[34m\u001b[1mwandb\u001b[0m: \tper_joint_weighting: True\n",
      "\u001b[34m\u001b[1mwandb\u001b[0m: \tscheduler_type: step\n"
     ]
    },
    {
     "data": {
      "text/html": [
       "Tracking run with wandb version 0.19.11"
      ],
      "text/plain": [
       "<IPython.core.display.HTML object>"
      ]
     },
     "metadata": {},
     "output_type": "display_data"
    },
    {
     "data": {
      "text/html": [
       "Run data is saved locally in <code>/home/n231/231nProjectV2/Advanced_Manipulation_Transformer/notebooks/wandb/run-20250604_062238-mv2vjace</code>"
      ],
      "text/plain": [
       "<IPython.core.display.HTML object>"
      ]
     },
     "metadata": {},
     "output_type": "display_data"
    },
    {
     "data": {
      "text/html": [
       "Syncing run <strong><a href='https://wandb.ai/bryandong24-stanford-university/amt-hyperparameter-sweep/runs/mv2vjace' target=\"_blank\">electric-sweep-27</a></strong> to <a href='https://wandb.ai/bryandong24-stanford-university/amt-hyperparameter-sweep' target=\"_blank\">Weights & Biases</a> (<a href='https://wandb.me/developer-guide' target=\"_blank\">docs</a>)<br>Sweep page: <a href='https://wandb.ai/bryandong24-stanford-university/amt-hyperparameter-sweep/sweeps/c189gpt8' target=\"_blank\">https://wandb.ai/bryandong24-stanford-university/amt-hyperparameter-sweep/sweeps/c189gpt8</a>"
      ],
      "text/plain": [
       "<IPython.core.display.HTML object>"
      ]
     },
     "metadata": {},
     "output_type": "display_data"
    },
    {
     "data": {
      "text/html": [
       " View project at <a href='https://wandb.ai/bryandong24-stanford-university/amt-hyperparameter-sweep' target=\"_blank\">https://wandb.ai/bryandong24-stanford-university/amt-hyperparameter-sweep</a>"
      ],
      "text/plain": [
       "<IPython.core.display.HTML object>"
      ]
     },
     "metadata": {},
     "output_type": "display_data"
    },
    {
     "data": {
      "text/html": [
       " View sweep at <a href='https://wandb.ai/bryandong24-stanford-university/amt-hyperparameter-sweep/sweeps/c189gpt8' target=\"_blank\">https://wandb.ai/bryandong24-stanford-university/amt-hyperparameter-sweep/sweeps/c189gpt8</a>"
      ],
      "text/plain": [
       "<IPython.core.display.HTML object>"
      ]
     },
     "metadata": {},
     "output_type": "display_data"
    },
    {
     "data": {
      "text/html": [
       " View run at <a href='https://wandb.ai/bryandong24-stanford-university/amt-hyperparameter-sweep/runs/mv2vjace' target=\"_blank\">https://wandb.ai/bryandong24-stanford-university/amt-hyperparameter-sweep/runs/mv2vjace</a>"
      ],
      "text/plain": [
       "<IPython.core.display.HTML object>"
      ]
     },
     "metadata": {},
     "output_type": "display_data"
    },
    {
     "name": "stdout",
     "output_type": "stream",
     "text": [
      "Creating dataloaders with 20k train, 2k val samples, batch_size=256...\n",
      "Creating GPU-cached datasets...\n",
      "Target memory usage: 20.0 GB\n",
      "Estimated GPU memory usage: 20.0 GB\n",
      "Loading cached GPU dataset from ./gpu_cache_sweep/train_gpu_cache_20000.pt...\n",
      "Loading cache from ./gpu_cache_sweep/train_gpu_cache_20000.pt...\n",
      "✓ Loaded 20000 samples\n",
      "Estimated GPU memory usage: 2.0 GB\n",
      "Loading cached GPU dataset from ./gpu_cache_sweep/val_gpu_cache_2000.pt...\n",
      "Loading cache from ./gpu_cache_sweep/val_gpu_cache_2000.pt...\n",
      "✓ Loaded 2000 samples\n",
      "\n",
      "✓ GPU Datasets created:\n",
      "  Train: 20000 samples (6.7 GB)\n",
      "  Val: 2000 samples (6.7 GB)\n",
      "  Total GPU memory: 13.4 GB\n",
      "Dataloaders created: 78 train batches, 8 val batches\n",
      "Epoch 1/7: train_loss=1.3782, train_mpjpe=631.01mm, val_loss=0.9772, val_mpjpe=522.88mm\n",
      "Epoch 2/7: train_loss=0.8246, train_mpjpe=397.06mm, val_loss=0.5080, val_mpjpe=305.88mm\n",
      "Epoch 3/7: train_loss=0.6362, train_mpjpe=354.64mm, val_loss=0.4589, val_mpjpe=293.38mm\n",
      "Epoch 4/7: train_loss=0.5966, train_mpjpe=331.81mm, val_loss=0.4831, val_mpjpe=292.45mm\n",
      "Epoch 5/7: train_loss=0.5939, train_mpjpe=327.07mm, val_loss=0.4663, val_mpjpe=287.36mm\n",
      "Epoch 6/7: train_loss=0.5978, train_mpjpe=319.04mm, val_loss=0.4629, val_mpjpe=288.63mm\n",
      "Epoch 7/7: train_loss=0.5941, train_mpjpe=305.48mm, val_loss=0.4726, val_mpjpe=255.67mm\n"
     ]
    },
    {
     "data": {
      "text/html": [],
      "text/plain": [
       "<IPython.core.display.HTML object>"
      ]
     },
     "metadata": {},
     "output_type": "display_data"
    },
    {
     "data": {
      "text/html": [
       "<br>    <style><br>        .wandb-row {<br>            display: flex;<br>            flex-direction: row;<br>            flex-wrap: wrap;<br>            justify-content: flex-start;<br>            width: 100%;<br>        }<br>        .wandb-col {<br>            display: flex;<br>            flex-direction: column;<br>            flex-basis: 100%;<br>            flex: 1;<br>            padding: 10px;<br>        }<br>    </style><br><div class=\"wandb-row\"><div class=\"wandb-col\"><h3>Run history:</h3><br/><table class=\"wandb\"><tr><td>epoch</td><td>▁▂▃▅▆▇█</td></tr><tr><td>final/best_val_mpjpe</td><td>▁</td></tr><tr><td>final/epochs_trained</td><td>▁</td></tr><tr><td>system/gpu_memory_gb</td><td>███▆█▆▅▆▄▅▅▃▅▅▁▇▆▅▄▄▅▆▆▄▆▃▅▃</td></tr><tr><td>train/batch_loss</td><td>█▃▂▂▃▂▂▂▁▁▁▁▁▁▁▁▁▁▁▁▁▁▁▁▁▁▁▁</td></tr><tr><td>train/batch_mpjpe</td><td>█▂▁▂▂▁▁▂▁▁▁▁▁▁▁▁▁▁▁▁▁▁▁▁▁▁▁▁</td></tr><tr><td>train/hand_mpjpe</td><td>█▃▂▂▁▁▁</td></tr><tr><td>train/loss</td><td>█▃▁▁▁▁▁</td></tr><tr><td>train/lr</td><td>████████████▃▃▃▃▃▃▃▃▃▃▃▃▁▁▁▁</td></tr><tr><td>val/best_mpjpe</td><td>█▂▂▂▂▂▁</td></tr><tr><td>val/hand_mpjpe</td><td>█▂▂▂▂▂▁</td></tr><tr><td>val/loss</td><td>█▂▁▁▁▁▁</td></tr></table><br/></div><div class=\"wandb-col\"><h3>Run summary:</h3><br/><table class=\"wandb\"><tr><td>epoch</td><td>6</td></tr><tr><td>final/best_val_mpjpe</td><td>255.67188</td></tr><tr><td>final/epochs_trained</td><td>7</td></tr><tr><td>system/gpu_memory_gb</td><td>11.87497</td></tr><tr><td>train/batch_loss</td><td>0.59795</td></tr><tr><td>train/batch_mpjpe</td><td>292.96875</td></tr><tr><td>train/hand_mpjpe</td><td>305.47626</td></tr><tr><td>train/loss</td><td>0.5941</td></tr><tr><td>train/lr</td><td>0.0</td></tr><tr><td>val/best_mpjpe</td><td>255.67188</td></tr><tr><td>val/hand_mpjpe</td><td>255.67188</td></tr><tr><td>val/loss</td><td>0.47256</td></tr></table><br/></div></div>"
      ],
      "text/plain": [
       "<IPython.core.display.HTML object>"
      ]
     },
     "metadata": {},
     "output_type": "display_data"
    },
    {
     "data": {
      "text/html": [
       " View run <strong style=\"color:#cdcd00\">electric-sweep-27</strong> at: <a href='https://wandb.ai/bryandong24-stanford-university/amt-hyperparameter-sweep/runs/mv2vjace' target=\"_blank\">https://wandb.ai/bryandong24-stanford-university/amt-hyperparameter-sweep/runs/mv2vjace</a><br> View project at: <a href='https://wandb.ai/bryandong24-stanford-university/amt-hyperparameter-sweep' target=\"_blank\">https://wandb.ai/bryandong24-stanford-university/amt-hyperparameter-sweep</a><br>Synced 5 W&B file(s), 0 media file(s), 0 artifact file(s) and 0 other file(s)"
      ],
      "text/plain": [
       "<IPython.core.display.HTML object>"
      ]
     },
     "metadata": {},
     "output_type": "display_data"
    },
    {
     "data": {
      "text/html": [
       "Find logs at: <code>./wandb/run-20250604_062238-mv2vjace/logs</code>"
      ],
      "text/plain": [
       "<IPython.core.display.HTML object>"
      ]
     },
     "metadata": {},
     "output_type": "display_data"
    },
    {
     "name": "stderr",
     "output_type": "stream",
     "text": [
      "\u001b[34m\u001b[1mwandb\u001b[0m: Agent Starting Run: hzzuqz29 with config:\n",
      "\u001b[34m\u001b[1mwandb\u001b[0m: \taug_color_jitter: 0.24167821167805872\n",
      "\u001b[34m\u001b[1mwandb\u001b[0m: \taug_joint_noise_std: 0.004747718578555754\n",
      "\u001b[34m\u001b[1mwandb\u001b[0m: \taug_rotation_range: 11.52586738209753\n",
      "\u001b[34m\u001b[1mwandb\u001b[0m: \taug_scale_max: 1.167233491917626\n",
      "\u001b[34m\u001b[1mwandb\u001b[0m: \taug_scale_min: 0.7660066716220025\n",
      "\u001b[34m\u001b[1mwandb\u001b[0m: \taug_translation_std: 0.02707315934571476\n",
      "\u001b[34m\u001b[1mwandb\u001b[0m: \tbatch_size: 256\n",
      "\u001b[34m\u001b[1mwandb\u001b[0m: \tdiversity_margin: 0.01867680441651341\n",
      "\u001b[34m\u001b[1mwandb\u001b[0m: \tdropout: 0.2\n",
      "\u001b[34m\u001b[1mwandb\u001b[0m: \tfingertip_weight: 1.8492949815456907\n",
      "\u001b[34m\u001b[1mwandb\u001b[0m: \tloss_weight_contact: 0.485605587154058\n",
      "\u001b[34m\u001b[1mwandb\u001b[0m: \tloss_weight_diversity: 0.01899006501531278\n",
      "\u001b[34m\u001b[1mwandb\u001b[0m: \tloss_weight_hand_coarse: 1.1871423363770963\n",
      "\u001b[34m\u001b[1mwandb\u001b[0m: \tloss_weight_hand_refined: 1.039581134380604\n",
      "\u001b[34m\u001b[1mwandb\u001b[0m: \tloss_weight_object_position: 0.9840380907526958\n",
      "\u001b[34m\u001b[1mwandb\u001b[0m: \tloss_weight_object_rotation: 0.49646233301544296\n",
      "\u001b[34m\u001b[1mwandb\u001b[0m: \tloss_weight_physics: 0.16126343010402694\n",
      "\u001b[34m\u001b[1mwandb\u001b[0m: \tloss_weight_reprojection: 0.4180774301316975\n",
      "\u001b[34m\u001b[1mwandb\u001b[0m: \tper_joint_weighting: True\n",
      "\u001b[34m\u001b[1mwandb\u001b[0m: \tscheduler_type: exponential\n"
     ]
    },
    {
     "data": {
      "text/html": [
       "Tracking run with wandb version 0.19.11"
      ],
      "text/plain": [
       "<IPython.core.display.HTML object>"
      ]
     },
     "metadata": {},
     "output_type": "display_data"
    },
    {
     "data": {
      "text/html": [
       "Run data is saved locally in <code>/home/n231/231nProjectV2/Advanced_Manipulation_Transformer/notebooks/wandb/run-20250604_062701-hzzuqz29</code>"
      ],
      "text/plain": [
       "<IPython.core.display.HTML object>"
      ]
     },
     "metadata": {},
     "output_type": "display_data"
    },
    {
     "data": {
      "text/html": [
       "Syncing run <strong><a href='https://wandb.ai/bryandong24-stanford-university/amt-hyperparameter-sweep/runs/hzzuqz29' target=\"_blank\">visionary-sweep-28</a></strong> to <a href='https://wandb.ai/bryandong24-stanford-university/amt-hyperparameter-sweep' target=\"_blank\">Weights & Biases</a> (<a href='https://wandb.me/developer-guide' target=\"_blank\">docs</a>)<br>Sweep page: <a href='https://wandb.ai/bryandong24-stanford-university/amt-hyperparameter-sweep/sweeps/c189gpt8' target=\"_blank\">https://wandb.ai/bryandong24-stanford-university/amt-hyperparameter-sweep/sweeps/c189gpt8</a>"
      ],
      "text/plain": [
       "<IPython.core.display.HTML object>"
      ]
     },
     "metadata": {},
     "output_type": "display_data"
    },
    {
     "data": {
      "text/html": [
       " View project at <a href='https://wandb.ai/bryandong24-stanford-university/amt-hyperparameter-sweep' target=\"_blank\">https://wandb.ai/bryandong24-stanford-university/amt-hyperparameter-sweep</a>"
      ],
      "text/plain": [
       "<IPython.core.display.HTML object>"
      ]
     },
     "metadata": {},
     "output_type": "display_data"
    },
    {
     "data": {
      "text/html": [
       " View sweep at <a href='https://wandb.ai/bryandong24-stanford-university/amt-hyperparameter-sweep/sweeps/c189gpt8' target=\"_blank\">https://wandb.ai/bryandong24-stanford-university/amt-hyperparameter-sweep/sweeps/c189gpt8</a>"
      ],
      "text/plain": [
       "<IPython.core.display.HTML object>"
      ]
     },
     "metadata": {},
     "output_type": "display_data"
    },
    {
     "data": {
      "text/html": [
       " View run at <a href='https://wandb.ai/bryandong24-stanford-university/amt-hyperparameter-sweep/runs/hzzuqz29' target=\"_blank\">https://wandb.ai/bryandong24-stanford-university/amt-hyperparameter-sweep/runs/hzzuqz29</a>"
      ],
      "text/plain": [
       "<IPython.core.display.HTML object>"
      ]
     },
     "metadata": {},
     "output_type": "display_data"
    },
    {
     "name": "stdout",
     "output_type": "stream",
     "text": [
      "Creating dataloaders with 20k train, 2k val samples, batch_size=256...\n",
      "Creating GPU-cached datasets...\n",
      "Target memory usage: 20.0 GB\n",
      "Estimated GPU memory usage: 20.0 GB\n",
      "Loading cached GPU dataset from ./gpu_cache_sweep/train_gpu_cache_20000.pt...\n",
      "Loading cache from ./gpu_cache_sweep/train_gpu_cache_20000.pt...\n",
      "✓ Loaded 20000 samples\n",
      "Estimated GPU memory usage: 2.0 GB\n",
      "Loading cached GPU dataset from ./gpu_cache_sweep/val_gpu_cache_2000.pt...\n",
      "Loading cache from ./gpu_cache_sweep/val_gpu_cache_2000.pt...\n",
      "✓ Loaded 2000 samples\n",
      "\n",
      "✓ GPU Datasets created:\n",
      "  Train: 20000 samples (6.7 GB)\n",
      "  Val: 2000 samples (6.7 GB)\n",
      "  Total GPU memory: 13.4 GB\n",
      "Dataloaders created: 78 train batches, 8 val batches\n",
      "Epoch 1/7: train_loss=1.5981, train_mpjpe=702.27mm, val_loss=0.8083, val_mpjpe=338.14mm\n",
      "Epoch 2/7: train_loss=0.8057, train_mpjpe=386.99mm, val_loss=0.5989, val_mpjpe=294.56mm\n",
      "Epoch 3/7: train_loss=0.6623, train_mpjpe=351.04mm, val_loss=0.5091, val_mpjpe=286.79mm\n",
      "Epoch 4/7: train_loss=0.6514, train_mpjpe=371.82mm, val_loss=0.4692, val_mpjpe=284.29mm\n",
      "Epoch 5/7: train_loss=0.6190, train_mpjpe=335.86mm, val_loss=0.4897, val_mpjpe=281.39mm\n",
      "Epoch 6/7: train_loss=0.6100, train_mpjpe=322.39mm, val_loss=0.5454, val_mpjpe=280.53mm\n",
      "Epoch 7/7: train_loss=0.6112, train_mpjpe=312.25mm, val_loss=0.4699, val_mpjpe=255.23mm\n"
     ]
    },
    {
     "data": {
      "text/html": [],
      "text/plain": [
       "<IPython.core.display.HTML object>"
      ]
     },
     "metadata": {},
     "output_type": "display_data"
    },
    {
     "data": {
      "text/html": [
       "<br>    <style><br>        .wandb-row {<br>            display: flex;<br>            flex-direction: row;<br>            flex-wrap: wrap;<br>            justify-content: flex-start;<br>            width: 100%;<br>        }<br>        .wandb-col {<br>            display: flex;<br>            flex-direction: column;<br>            flex-basis: 100%;<br>            flex: 1;<br>            padding: 10px;<br>        }<br>    </style><br><div class=\"wandb-row\"><div class=\"wandb-col\"><h3>Run history:</h3><br/><table class=\"wandb\"><tr><td>epoch</td><td>▁▂▃▅▆▇█</td></tr><tr><td>final/best_val_mpjpe</td><td>▁</td></tr><tr><td>final/epochs_trained</td><td>▁</td></tr><tr><td>system/gpu_memory_gb</td><td>▄▇▇█▅▅▃▂▃▄▃▃▁▃▄▄▂▄▆▃▃▃▄▂▃▃▃▃</td></tr><tr><td>train/batch_loss</td><td>█▄▂▂▂▂▂▁▂▁▁▁▁▁▁▁▁▁▁▁▁▁▁▁▁▁▁▁</td></tr><tr><td>train/batch_mpjpe</td><td>█▂▂▂▁▁▁▁▁▁▁▁▁▁▁▁▁▁▁▁▁▁▁▁▁▁▁▁</td></tr><tr><td>train/hand_mpjpe</td><td>█▂▂▂▁▁▁</td></tr><tr><td>train/loss</td><td>█▂▁▁▁▁▁</td></tr><tr><td>train/lr</td><td>████▇▇▇▇▅▅▅▅▄▄▄▄▃▃▃▃▂▂▂▂▁▁▁▁</td></tr><tr><td>val/best_mpjpe</td><td>█▄▄▃▃▃▁</td></tr><tr><td>val/hand_mpjpe</td><td>█▄▄▃▃▃▁</td></tr><tr><td>val/loss</td><td>█▄▂▁▁▃▁</td></tr></table><br/></div><div class=\"wandb-col\"><h3>Run summary:</h3><br/><table class=\"wandb\"><tr><td>epoch</td><td>6</td></tr><tr><td>final/best_val_mpjpe</td><td>255.23438</td></tr><tr><td>final/epochs_trained</td><td>7</td></tr><tr><td>system/gpu_memory_gb</td><td>11.8847</td></tr><tr><td>train/batch_loss</td><td>0.57341</td></tr><tr><td>train/batch_mpjpe</td><td>298.82812</td></tr><tr><td>train/hand_mpjpe</td><td>312.2496</td></tr><tr><td>train/loss</td><td>0.61116</td></tr><tr><td>train/lr</td><td>1e-05</td></tr><tr><td>val/best_mpjpe</td><td>255.23438</td></tr><tr><td>val/hand_mpjpe</td><td>255.23438</td></tr><tr><td>val/loss</td><td>0.46992</td></tr></table><br/></div></div>"
      ],
      "text/plain": [
       "<IPython.core.display.HTML object>"
      ]
     },
     "metadata": {},
     "output_type": "display_data"
    },
    {
     "data": {
      "text/html": [
       " View run <strong style=\"color:#cdcd00\">visionary-sweep-28</strong> at: <a href='https://wandb.ai/bryandong24-stanford-university/amt-hyperparameter-sweep/runs/hzzuqz29' target=\"_blank\">https://wandb.ai/bryandong24-stanford-university/amt-hyperparameter-sweep/runs/hzzuqz29</a><br> View project at: <a href='https://wandb.ai/bryandong24-stanford-university/amt-hyperparameter-sweep' target=\"_blank\">https://wandb.ai/bryandong24-stanford-university/amt-hyperparameter-sweep</a><br>Synced 5 W&B file(s), 0 media file(s), 0 artifact file(s) and 0 other file(s)"
      ],
      "text/plain": [
       "<IPython.core.display.HTML object>"
      ]
     },
     "metadata": {},
     "output_type": "display_data"
    },
    {
     "data": {
      "text/html": [
       "Find logs at: <code>./wandb/run-20250604_062701-hzzuqz29/logs</code>"
      ],
      "text/plain": [
       "<IPython.core.display.HTML object>"
      ]
     },
     "metadata": {},
     "output_type": "display_data"
    },
    {
     "name": "stderr",
     "output_type": "stream",
     "text": [
      "\u001b[34m\u001b[1mwandb\u001b[0m: Agent Starting Run: ro9pvdoj with config:\n",
      "\u001b[34m\u001b[1mwandb\u001b[0m: \taug_color_jitter: 0.13585055303032167\n",
      "\u001b[34m\u001b[1mwandb\u001b[0m: \taug_joint_noise_std: 0.008743246626471756\n",
      "\u001b[34m\u001b[1mwandb\u001b[0m: \taug_rotation_range: 14.535744931705713\n",
      "\u001b[34m\u001b[1mwandb\u001b[0m: \taug_scale_max: 1.2716806831974288\n",
      "\u001b[34m\u001b[1mwandb\u001b[0m: \taug_scale_min: 0.8085198914753625\n",
      "\u001b[34m\u001b[1mwandb\u001b[0m: \taug_translation_std: 0.08640130808734015\n",
      "\u001b[34m\u001b[1mwandb\u001b[0m: \tbatch_size: 32\n",
      "\u001b[34m\u001b[1mwandb\u001b[0m: \tdiversity_margin: 0.006746799433188545\n",
      "\u001b[34m\u001b[1mwandb\u001b[0m: \tdropout: 0.25\n",
      "\u001b[34m\u001b[1mwandb\u001b[0m: \tfingertip_weight: 1.77208285137177\n",
      "\u001b[34m\u001b[1mwandb\u001b[0m: \tloss_weight_contact: 0.3637188305337163\n",
      "\u001b[34m\u001b[1mwandb\u001b[0m: \tloss_weight_diversity: 0.04019351506038136\n",
      "\u001b[34m\u001b[1mwandb\u001b[0m: \tloss_weight_hand_coarse: 1.0047888825393416\n",
      "\u001b[34m\u001b[1mwandb\u001b[0m: \tloss_weight_hand_refined: 1.0763517559030449\n",
      "\u001b[34m\u001b[1mwandb\u001b[0m: \tloss_weight_object_position: 1.1847358663756555\n",
      "\u001b[34m\u001b[1mwandb\u001b[0m: \tloss_weight_object_rotation: 0.6246546677261312\n",
      "\u001b[34m\u001b[1mwandb\u001b[0m: \tloss_weight_physics: 0.171133509148567\n",
      "\u001b[34m\u001b[1mwandb\u001b[0m: \tloss_weight_reprojection: 0.5133443485013152\n",
      "\u001b[34m\u001b[1mwandb\u001b[0m: \tper_joint_weighting: False\n",
      "\u001b[34m\u001b[1mwandb\u001b[0m: \tscheduler_type: cosine_warmup\n"
     ]
    },
    {
     "data": {
      "text/html": [
       "Tracking run with wandb version 0.19.11"
      ],
      "text/plain": [
       "<IPython.core.display.HTML object>"
      ]
     },
     "metadata": {},
     "output_type": "display_data"
    },
    {
     "data": {
      "text/html": [
       "Run data is saved locally in <code>/home/n231/231nProjectV2/Advanced_Manipulation_Transformer/notebooks/wandb/run-20250604_063125-ro9pvdoj</code>"
      ],
      "text/plain": [
       "<IPython.core.display.HTML object>"
      ]
     },
     "metadata": {},
     "output_type": "display_data"
    },
    {
     "data": {
      "text/html": [
       "Syncing run <strong><a href='https://wandb.ai/bryandong24-stanford-university/amt-hyperparameter-sweep/runs/ro9pvdoj' target=\"_blank\">devoted-sweep-29</a></strong> to <a href='https://wandb.ai/bryandong24-stanford-university/amt-hyperparameter-sweep' target=\"_blank\">Weights & Biases</a> (<a href='https://wandb.me/developer-guide' target=\"_blank\">docs</a>)<br>Sweep page: <a href='https://wandb.ai/bryandong24-stanford-university/amt-hyperparameter-sweep/sweeps/c189gpt8' target=\"_blank\">https://wandb.ai/bryandong24-stanford-university/amt-hyperparameter-sweep/sweeps/c189gpt8</a>"
      ],
      "text/plain": [
       "<IPython.core.display.HTML object>"
      ]
     },
     "metadata": {},
     "output_type": "display_data"
    },
    {
     "data": {
      "text/html": [
       " View project at <a href='https://wandb.ai/bryandong24-stanford-university/amt-hyperparameter-sweep' target=\"_blank\">https://wandb.ai/bryandong24-stanford-university/amt-hyperparameter-sweep</a>"
      ],
      "text/plain": [
       "<IPython.core.display.HTML object>"
      ]
     },
     "metadata": {},
     "output_type": "display_data"
    },
    {
     "data": {
      "text/html": [
       " View sweep at <a href='https://wandb.ai/bryandong24-stanford-university/amt-hyperparameter-sweep/sweeps/c189gpt8' target=\"_blank\">https://wandb.ai/bryandong24-stanford-university/amt-hyperparameter-sweep/sweeps/c189gpt8</a>"
      ],
      "text/plain": [
       "<IPython.core.display.HTML object>"
      ]
     },
     "metadata": {},
     "output_type": "display_data"
    },
    {
     "data": {
      "text/html": [
       " View run at <a href='https://wandb.ai/bryandong24-stanford-university/amt-hyperparameter-sweep/runs/ro9pvdoj' target=\"_blank\">https://wandb.ai/bryandong24-stanford-university/amt-hyperparameter-sweep/runs/ro9pvdoj</a>"
      ],
      "text/plain": [
       "<IPython.core.display.HTML object>"
      ]
     },
     "metadata": {},
     "output_type": "display_data"
    },
    {
     "name": "stdout",
     "output_type": "stream",
     "text": [
      "Creating dataloaders with 20k train, 2k val samples, batch_size=32...\n",
      "Creating GPU-cached datasets...\n",
      "Target memory usage: 20.0 GB\n",
      "Estimated GPU memory usage: 20.0 GB\n",
      "Loading cached GPU dataset from ./gpu_cache_sweep/train_gpu_cache_20000.pt...\n",
      "Loading cache from ./gpu_cache_sweep/train_gpu_cache_20000.pt...\n",
      "✓ Loaded 20000 samples\n",
      "Estimated GPU memory usage: 2.0 GB\n",
      "Loading cached GPU dataset from ./gpu_cache_sweep/val_gpu_cache_2000.pt...\n",
      "Loading cache from ./gpu_cache_sweep/val_gpu_cache_2000.pt...\n",
      "✓ Loaded 2000 samples\n",
      "\n",
      "✓ GPU Datasets created:\n",
      "  Train: 20000 samples (6.7 GB)\n",
      "  Val: 2000 samples (6.7 GB)\n",
      "  Total GPU memory: 13.4 GB\n",
      "Dataloaders created: 625 train batches, 63 val batches\n",
      "Epoch 1/7: train_loss=0.7613, train_mpjpe=434.52mm, val_loss=0.4432, val_mpjpe=298.69mm\n",
      "Epoch 2/7: train_loss=0.5405, train_mpjpe=332.36mm, val_loss=0.4000, val_mpjpe=266.59mm\n",
      "Epoch 3/7: train_loss=0.4915, train_mpjpe=307.31mm, val_loss=0.4068, val_mpjpe=267.97mm\n",
      "Epoch 4/7: train_loss=0.4630, train_mpjpe=293.63mm, val_loss=0.3994, val_mpjpe=256.49mm\n",
      "Epoch 5/7: train_loss=0.4557, train_mpjpe=281.29mm, val_loss=0.4128, val_mpjpe=271.93mm\n",
      "Epoch 6/7: train_loss=0.4566, train_mpjpe=270.39mm, val_loss=0.4125, val_mpjpe=266.55mm\n",
      "Epoch 7/7: train_loss=0.4601, train_mpjpe=261.38mm, val_loss=0.4247, val_mpjpe=263.38mm\n"
     ]
    },
    {
     "data": {
      "text/html": [],
      "text/plain": [
       "<IPython.core.display.HTML object>"
      ]
     },
     "metadata": {},
     "output_type": "display_data"
    },
    {
     "data": {
      "text/html": [
       "<br>    <style><br>        .wandb-row {<br>            display: flex;<br>            flex-direction: row;<br>            flex-wrap: wrap;<br>            justify-content: flex-start;<br>            width: 100%;<br>        }<br>        .wandb-col {<br>            display: flex;<br>            flex-direction: column;<br>            flex-basis: 100%;<br>            flex: 1;<br>            padding: 10px;<br>        }<br>    </style><br><div class=\"wandb-row\"><div class=\"wandb-col\"><h3>Run history:</h3><br/><table class=\"wandb\"><tr><td>epoch</td><td>▁▂▃▅▆▇█</td></tr><tr><td>final/best_val_mpjpe</td><td>▁</td></tr><tr><td>final/epochs_trained</td><td>▁</td></tr><tr><td>system/gpu_memory_gb</td><td>▅▁▂▂▄▇▃▇▄▂▅▁▄█▅▄▅▃▃▃▄▂▅▅▅▄▇▄▄▁▅▃▅▇▄▄▂▄▄▁</td></tr><tr><td>train/batch_loss</td><td>█▂▂▁▂▁▂▂▂▂▁▁▁▁▁▂▁▁▁▂▂▂▁▂▁▁▁▂▁▂▂▂▂▂▂▁▁▂▁▂</td></tr><tr><td>train/batch_mpjpe</td><td>▆▅█▃▂▄▂▃▂▃▄▂▁▄▁▂▄▂▂▂▂▁▂▃▂▂▂▂▂▂▁▂▁▁▃▃▂▁▂▂</td></tr><tr><td>train/hand_mpjpe</td><td>█▄▃▂▂▁▁</td></tr><tr><td>train/loss</td><td>█▃▂▁▁▁▁</td></tr><tr><td>train/lr</td><td>████████████████▇▇▆▆▆▆▆▆▆▆▆▆▄▄▄▄▄▃▃▁▁▁▁▁</td></tr><tr><td>val/best_mpjpe</td><td>█▃▃▁▁▁▁</td></tr><tr><td>val/hand_mpjpe</td><td>█▃▃▁▄▃▂</td></tr><tr><td>val/loss</td><td>█▁▂▁▃▃▅</td></tr></table><br/></div><div class=\"wandb-col\"><h3>Run summary:</h3><br/><table class=\"wandb\"><tr><td>epoch</td><td>6</td></tr><tr><td>final/best_val_mpjpe</td><td>256.49219</td></tr><tr><td>final/epochs_trained</td><td>7</td></tr><tr><td>system/gpu_memory_gb</td><td>11.10914</td></tr><tr><td>train/batch_loss</td><td>0.8892</td></tr><tr><td>train/batch_mpjpe</td><td>542.96875</td></tr><tr><td>train/hand_mpjpe</td><td>261.38359</td></tr><tr><td>train/loss</td><td>0.4601</td></tr><tr><td>train/lr</td><td>0.0</td></tr><tr><td>val/best_mpjpe</td><td>256.49219</td></tr><tr><td>val/hand_mpjpe</td><td>263.37891</td></tr><tr><td>val/loss</td><td>0.42465</td></tr></table><br/></div></div>"
      ],
      "text/plain": [
       "<IPython.core.display.HTML object>"
      ]
     },
     "metadata": {},
     "output_type": "display_data"
    },
    {
     "data": {
      "text/html": [
       " View run <strong style=\"color:#cdcd00\">devoted-sweep-29</strong> at: <a href='https://wandb.ai/bryandong24-stanford-university/amt-hyperparameter-sweep/runs/ro9pvdoj' target=\"_blank\">https://wandb.ai/bryandong24-stanford-university/amt-hyperparameter-sweep/runs/ro9pvdoj</a><br> View project at: <a href='https://wandb.ai/bryandong24-stanford-university/amt-hyperparameter-sweep' target=\"_blank\">https://wandb.ai/bryandong24-stanford-university/amt-hyperparameter-sweep</a><br>Synced 5 W&B file(s), 0 media file(s), 0 artifact file(s) and 0 other file(s)"
      ],
      "text/plain": [
       "<IPython.core.display.HTML object>"
      ]
     },
     "metadata": {},
     "output_type": "display_data"
    },
    {
     "data": {
      "text/html": [
       "Find logs at: <code>./wandb/run-20250604_063125-ro9pvdoj/logs</code>"
      ],
      "text/plain": [
       "<IPython.core.display.HTML object>"
      ]
     },
     "metadata": {},
     "output_type": "display_data"
    },
    {
     "name": "stderr",
     "output_type": "stream",
     "text": [
      "\u001b[34m\u001b[1mwandb\u001b[0m: Sweep Agent: Waiting for job.\n",
      "\u001b[34m\u001b[1mwandb\u001b[0m: Job received.\n",
      "\u001b[34m\u001b[1mwandb\u001b[0m: Agent Starting Run: 3nsms5if with config:\n",
      "\u001b[34m\u001b[1mwandb\u001b[0m: \taug_color_jitter: 0.2116481635743213\n",
      "\u001b[34m\u001b[1mwandb\u001b[0m: \taug_joint_noise_std: 0.008005308957281472\n",
      "\u001b[34m\u001b[1mwandb\u001b[0m: \taug_rotation_range: 7.215117594158471\n",
      "\u001b[34m\u001b[1mwandb\u001b[0m: \taug_scale_max: 1.100725979649311\n",
      "\u001b[34m\u001b[1mwandb\u001b[0m: \taug_scale_min: 0.8028080761140979\n",
      "\u001b[34m\u001b[1mwandb\u001b[0m: \taug_translation_std: 0.05762551206461333\n",
      "\u001b[34m\u001b[1mwandb\u001b[0m: \tbatch_size: 32\n",
      "\u001b[34m\u001b[1mwandb\u001b[0m: \tdiversity_margin: 0.018879419057484068\n",
      "\u001b[34m\u001b[1mwandb\u001b[0m: \tdropout: 0.2\n",
      "\u001b[34m\u001b[1mwandb\u001b[0m: \tfingertip_weight: 1.4363620751671502\n",
      "\u001b[34m\u001b[1mwandb\u001b[0m: \tloss_weight_contact: 0.466327801733891\n",
      "\u001b[34m\u001b[1mwandb\u001b[0m: \tloss_weight_diversity: 0.020366215351413645\n",
      "\u001b[34m\u001b[1mwandb\u001b[0m: \tloss_weight_hand_coarse: 1.1293602596311332\n",
      "\u001b[34m\u001b[1mwandb\u001b[0m: \tloss_weight_hand_refined: 1.168767285419501\n",
      "\u001b[34m\u001b[1mwandb\u001b[0m: \tloss_weight_object_position: 0.9333127646058514\n",
      "\u001b[34m\u001b[1mwandb\u001b[0m: \tloss_weight_object_rotation: 0.6718733332102049\n",
      "\u001b[34m\u001b[1mwandb\u001b[0m: \tloss_weight_physics: 0.17872623840912277\n",
      "\u001b[34m\u001b[1mwandb\u001b[0m: \tloss_weight_reprojection: 0.3474821911449712\n",
      "\u001b[34m\u001b[1mwandb\u001b[0m: \tper_joint_weighting: True\n",
      "\u001b[34m\u001b[1mwandb\u001b[0m: \tscheduler_type: exponential\n"
     ]
    },
    {
     "data": {
      "text/html": [
       "Tracking run with wandb version 0.19.11"
      ],
      "text/plain": [
       "<IPython.core.display.HTML object>"
      ]
     },
     "metadata": {},
     "output_type": "display_data"
    },
    {
     "data": {
      "text/html": [
       "Run data is saved locally in <code>/home/n231/231nProjectV2/Advanced_Manipulation_Transformer/notebooks/wandb/run-20250604_063925-3nsms5if</code>"
      ],
      "text/plain": [
       "<IPython.core.display.HTML object>"
      ]
     },
     "metadata": {},
     "output_type": "display_data"
    },
    {
     "data": {
      "text/html": [
       "Syncing run <strong><a href='https://wandb.ai/bryandong24-stanford-university/amt-hyperparameter-sweep/runs/3nsms5if' target=\"_blank\">deft-sweep-30</a></strong> to <a href='https://wandb.ai/bryandong24-stanford-university/amt-hyperparameter-sweep' target=\"_blank\">Weights & Biases</a> (<a href='https://wandb.me/developer-guide' target=\"_blank\">docs</a>)<br>Sweep page: <a href='https://wandb.ai/bryandong24-stanford-university/amt-hyperparameter-sweep/sweeps/c189gpt8' target=\"_blank\">https://wandb.ai/bryandong24-stanford-university/amt-hyperparameter-sweep/sweeps/c189gpt8</a>"
      ],
      "text/plain": [
       "<IPython.core.display.HTML object>"
      ]
     },
     "metadata": {},
     "output_type": "display_data"
    },
    {
     "data": {
      "text/html": [
       " View project at <a href='https://wandb.ai/bryandong24-stanford-university/amt-hyperparameter-sweep' target=\"_blank\">https://wandb.ai/bryandong24-stanford-university/amt-hyperparameter-sweep</a>"
      ],
      "text/plain": [
       "<IPython.core.display.HTML object>"
      ]
     },
     "metadata": {},
     "output_type": "display_data"
    },
    {
     "data": {
      "text/html": [
       " View sweep at <a href='https://wandb.ai/bryandong24-stanford-university/amt-hyperparameter-sweep/sweeps/c189gpt8' target=\"_blank\">https://wandb.ai/bryandong24-stanford-university/amt-hyperparameter-sweep/sweeps/c189gpt8</a>"
      ],
      "text/plain": [
       "<IPython.core.display.HTML object>"
      ]
     },
     "metadata": {},
     "output_type": "display_data"
    },
    {
     "data": {
      "text/html": [
       " View run at <a href='https://wandb.ai/bryandong24-stanford-university/amt-hyperparameter-sweep/runs/3nsms5if' target=\"_blank\">https://wandb.ai/bryandong24-stanford-university/amt-hyperparameter-sweep/runs/3nsms5if</a>"
      ],
      "text/plain": [
       "<IPython.core.display.HTML object>"
      ]
     },
     "metadata": {},
     "output_type": "display_data"
    },
    {
     "name": "stdout",
     "output_type": "stream",
     "text": [
      "Creating dataloaders with 20k train, 2k val samples, batch_size=32...\n",
      "Creating GPU-cached datasets...\n",
      "Target memory usage: 20.0 GB\n",
      "Estimated GPU memory usage: 20.0 GB\n",
      "Loading cached GPU dataset from ./gpu_cache_sweep/train_gpu_cache_20000.pt...\n",
      "Loading cache from ./gpu_cache_sweep/train_gpu_cache_20000.pt...\n",
      "✓ Loaded 20000 samples\n",
      "Estimated GPU memory usage: 2.0 GB\n",
      "Loading cached GPU dataset from ./gpu_cache_sweep/val_gpu_cache_2000.pt...\n",
      "Loading cache from ./gpu_cache_sweep/val_gpu_cache_2000.pt...\n",
      "✓ Loaded 2000 samples\n",
      "\n",
      "✓ GPU Datasets created:\n",
      "  Train: 20000 samples (6.7 GB)\n",
      "  Val: 2000 samples (6.7 GB)\n",
      "  Total GPU memory: 13.4 GB\n",
      "Dataloaders created: 625 train batches, 63 val batches\n",
      "Epoch 1/7: train_loss=0.7901, train_mpjpe=429.28mm, val_loss=0.4450, val_mpjpe=306.90mm\n",
      "Epoch 2/7: train_loss=0.5625, train_mpjpe=324.51mm, val_loss=0.4448, val_mpjpe=284.67mm\n",
      "Epoch 3/7: train_loss=0.5345, train_mpjpe=306.16mm, val_loss=0.4345, val_mpjpe=257.57mm\n",
      "Epoch 4/7: train_loss=0.5178, train_mpjpe=294.74mm, val_loss=0.4423, val_mpjpe=262.26mm\n",
      "Epoch 5/7: train_loss=0.5070, train_mpjpe=280.60mm, val_loss=0.4411, val_mpjpe=254.91mm\n",
      "Epoch 6/7: train_loss=0.5042, train_mpjpe=270.19mm, val_loss=0.4544, val_mpjpe=256.33mm\n",
      "Epoch 7/7: train_loss=0.5048, train_mpjpe=262.66mm, val_loss=0.4520, val_mpjpe=252.73mm\n"
     ]
    },
    {
     "data": {
      "text/html": [],
      "text/plain": [
       "<IPython.core.display.HTML object>"
      ]
     },
     "metadata": {},
     "output_type": "display_data"
    },
    {
     "data": {
      "text/html": [
       "<br>    <style><br>        .wandb-row {<br>            display: flex;<br>            flex-direction: row;<br>            flex-wrap: wrap;<br>            justify-content: flex-start;<br>            width: 100%;<br>        }<br>        .wandb-col {<br>            display: flex;<br>            flex-direction: column;<br>            flex-basis: 100%;<br>            flex: 1;<br>            padding: 10px;<br>        }<br>    </style><br><div class=\"wandb-row\"><div class=\"wandb-col\"><h3>Run history:</h3><br/><table class=\"wandb\"><tr><td>epoch</td><td>▁▂▃▅▆▇█</td></tr><tr><td>final/best_val_mpjpe</td><td>▁</td></tr><tr><td>final/epochs_trained</td><td>▁</td></tr><tr><td>system/gpu_memory_gb</td><td>▄▄▄▄▅▄▃▅▃▁▃▄▅▅▅█▇▄▄▅▅▂▇▅▅▃▄▄█▅▃▄▄▅▃▅▅▅▅▆</td></tr><tr><td>train/batch_loss</td><td>█▂▂▂▂▁▁▁▁▁▁▂▁▂▁▁▂▁▁▁▁▁▁▂▁▁▁▁▁▁▁▁▁▁▂▂▁▁▁▁</td></tr><tr><td>train/batch_mpjpe</td><td>█▅▄▄▅▃▃▅▄▆▅▃▃▃▂▃▃▂▂▃▃▄▂▃▄▃▂▁▁▄▂▃▁▃▂▁▂▂▁▂</td></tr><tr><td>train/hand_mpjpe</td><td>█▄▃▂▂▁▁</td></tr><tr><td>train/loss</td><td>█▂▂▁▁▁▁</td></tr><tr><td>train/lr</td><td>█████████▇▇▇▅▅▅▅▄▄▄▄▃▃▃▃▃▂▂▂▂▂▂▂▂▁▁▁▁▁▁▁</td></tr><tr><td>val/best_mpjpe</td><td>█▅▂▂▁▁▁</td></tr><tr><td>val/hand_mpjpe</td><td>█▅▂▂▁▁▁</td></tr><tr><td>val/loss</td><td>▅▅▁▄▃█▇</td></tr></table><br/></div><div class=\"wandb-col\"><h3>Run summary:</h3><br/><table class=\"wandb\"><tr><td>epoch</td><td>6</td></tr><tr><td>final/best_val_mpjpe</td><td>252.73242</td></tr><tr><td>final/epochs_trained</td><td>7</td></tr><tr><td>system/gpu_memory_gb</td><td>11.10914</td></tr><tr><td>train/batch_loss</td><td>0.44377</td></tr><tr><td>train/batch_mpjpe</td><td>216.79688</td></tr><tr><td>train/hand_mpjpe</td><td>262.66094</td></tr><tr><td>train/loss</td><td>0.50481</td></tr><tr><td>train/lr</td><td>1e-05</td></tr><tr><td>val/best_mpjpe</td><td>252.73242</td></tr><tr><td>val/hand_mpjpe</td><td>252.73242</td></tr><tr><td>val/loss</td><td>0.45196</td></tr></table><br/></div></div>"
      ],
      "text/plain": [
       "<IPython.core.display.HTML object>"
      ]
     },
     "metadata": {},
     "output_type": "display_data"
    },
    {
     "data": {
      "text/html": [
       " View run <strong style=\"color:#cdcd00\">deft-sweep-30</strong> at: <a href='https://wandb.ai/bryandong24-stanford-university/amt-hyperparameter-sweep/runs/3nsms5if' target=\"_blank\">https://wandb.ai/bryandong24-stanford-university/amt-hyperparameter-sweep/runs/3nsms5if</a><br> View project at: <a href='https://wandb.ai/bryandong24-stanford-university/amt-hyperparameter-sweep' target=\"_blank\">https://wandb.ai/bryandong24-stanford-university/amt-hyperparameter-sweep</a><br>Synced 5 W&B file(s), 0 media file(s), 0 artifact file(s) and 0 other file(s)"
      ],
      "text/plain": [
       "<IPython.core.display.HTML object>"
      ]
     },
     "metadata": {},
     "output_type": "display_data"
    },
    {
     "data": {
      "text/html": [
       "Find logs at: <code>./wandb/run-20250604_063925-3nsms5if/logs</code>"
      ],
      "text/plain": [
       "<IPython.core.display.HTML object>"
      ]
     },
     "metadata": {},
     "output_type": "display_data"
    },
    {
     "name": "stderr",
     "output_type": "stream",
     "text": [
      "\u001b[34m\u001b[1mwandb\u001b[0m: Agent Starting Run: 24icqup2 with config:\n",
      "\u001b[34m\u001b[1mwandb\u001b[0m: \taug_color_jitter: 0.15362997811017162\n",
      "\u001b[34m\u001b[1mwandb\u001b[0m: \taug_joint_noise_std: 0.005329342285962643\n",
      "\u001b[34m\u001b[1mwandb\u001b[0m: \taug_rotation_range: 5.069891583412593\n",
      "\u001b[34m\u001b[1mwandb\u001b[0m: \taug_scale_max: 1.1537318439275392\n",
      "\u001b[34m\u001b[1mwandb\u001b[0m: \taug_scale_min: 0.7411049110138025\n",
      "\u001b[34m\u001b[1mwandb\u001b[0m: \taug_translation_std: 0.08132772871444512\n",
      "\u001b[34m\u001b[1mwandb\u001b[0m: \tbatch_size: 64\n",
      "\u001b[34m\u001b[1mwandb\u001b[0m: \tdiversity_margin: 0.01381714008630484\n",
      "\u001b[34m\u001b[1mwandb\u001b[0m: \tdropout: 0.25\n",
      "\u001b[34m\u001b[1mwandb\u001b[0m: \tfingertip_weight: 1.2286698695967946\n",
      "\u001b[34m\u001b[1mwandb\u001b[0m: \tloss_weight_contact: 0.4073082979002376\n",
      "\u001b[34m\u001b[1mwandb\u001b[0m: \tloss_weight_diversity: 0.020172512446057795\n",
      "\u001b[34m\u001b[1mwandb\u001b[0m: \tloss_weight_hand_coarse: 0.9817804343268122\n",
      "\u001b[34m\u001b[1mwandb\u001b[0m: \tloss_weight_hand_refined: 1.272841589370095\n",
      "\u001b[34m\u001b[1mwandb\u001b[0m: \tloss_weight_object_position: 0.9149156993091098\n",
      "\u001b[34m\u001b[1mwandb\u001b[0m: \tloss_weight_object_rotation: 0.5328876198026988\n",
      "\u001b[34m\u001b[1mwandb\u001b[0m: \tloss_weight_physics: 0.08164111540866725\n",
      "\u001b[34m\u001b[1mwandb\u001b[0m: \tloss_weight_reprojection: 0.5269144519726685\n",
      "\u001b[34m\u001b[1mwandb\u001b[0m: \tper_joint_weighting: True\n",
      "\u001b[34m\u001b[1mwandb\u001b[0m: \tscheduler_type: cosine\n"
     ]
    },
    {
     "data": {
      "text/html": [
       "Tracking run with wandb version 0.19.11"
      ],
      "text/plain": [
       "<IPython.core.display.HTML object>"
      ]
     },
     "metadata": {},
     "output_type": "display_data"
    },
    {
     "data": {
      "text/html": [
       "Run data is saved locally in <code>/home/n231/231nProjectV2/Advanced_Manipulation_Transformer/notebooks/wandb/run-20250604_064721-24icqup2</code>"
      ],
      "text/plain": [
       "<IPython.core.display.HTML object>"
      ]
     },
     "metadata": {},
     "output_type": "display_data"
    },
    {
     "data": {
      "text/html": [
       "Syncing run <strong><a href='https://wandb.ai/bryandong24-stanford-university/amt-hyperparameter-sweep/runs/24icqup2' target=\"_blank\">sleek-sweep-31</a></strong> to <a href='https://wandb.ai/bryandong24-stanford-university/amt-hyperparameter-sweep' target=\"_blank\">Weights & Biases</a> (<a href='https://wandb.me/developer-guide' target=\"_blank\">docs</a>)<br>Sweep page: <a href='https://wandb.ai/bryandong24-stanford-university/amt-hyperparameter-sweep/sweeps/c189gpt8' target=\"_blank\">https://wandb.ai/bryandong24-stanford-university/amt-hyperparameter-sweep/sweeps/c189gpt8</a>"
      ],
      "text/plain": [
       "<IPython.core.display.HTML object>"
      ]
     },
     "metadata": {},
     "output_type": "display_data"
    },
    {
     "data": {
      "text/html": [
       " View project at <a href='https://wandb.ai/bryandong24-stanford-university/amt-hyperparameter-sweep' target=\"_blank\">https://wandb.ai/bryandong24-stanford-university/amt-hyperparameter-sweep</a>"
      ],
      "text/plain": [
       "<IPython.core.display.HTML object>"
      ]
     },
     "metadata": {},
     "output_type": "display_data"
    },
    {
     "data": {
      "text/html": [
       " View sweep at <a href='https://wandb.ai/bryandong24-stanford-university/amt-hyperparameter-sweep/sweeps/c189gpt8' target=\"_blank\">https://wandb.ai/bryandong24-stanford-university/amt-hyperparameter-sweep/sweeps/c189gpt8</a>"
      ],
      "text/plain": [
       "<IPython.core.display.HTML object>"
      ]
     },
     "metadata": {},
     "output_type": "display_data"
    },
    {
     "data": {
      "text/html": [
       " View run at <a href='https://wandb.ai/bryandong24-stanford-university/amt-hyperparameter-sweep/runs/24icqup2' target=\"_blank\">https://wandb.ai/bryandong24-stanford-university/amt-hyperparameter-sweep/runs/24icqup2</a>"
      ],
      "text/plain": [
       "<IPython.core.display.HTML object>"
      ]
     },
     "metadata": {},
     "output_type": "display_data"
    },
    {
     "name": "stdout",
     "output_type": "stream",
     "text": [
      "Creating dataloaders with 20k train, 2k val samples, batch_size=64...\n",
      "Creating GPU-cached datasets...\n",
      "Target memory usage: 20.0 GB\n",
      "Estimated GPU memory usage: 20.0 GB\n",
      "Loading cached GPU dataset from ./gpu_cache_sweep/train_gpu_cache_20000.pt...\n",
      "Loading cache from ./gpu_cache_sweep/train_gpu_cache_20000.pt...\n",
      "✓ Loaded 20000 samples\n",
      "Estimated GPU memory usage: 2.0 GB\n",
      "Loading cached GPU dataset from ./gpu_cache_sweep/val_gpu_cache_2000.pt...\n",
      "Loading cache from ./gpu_cache_sweep/val_gpu_cache_2000.pt...\n",
      "✓ Loaded 2000 samples\n",
      "\n",
      "✓ GPU Datasets created:\n",
      "  Train: 20000 samples (6.7 GB)\n",
      "  Val: 2000 samples (6.7 GB)\n",
      "  Total GPU memory: 13.4 GB\n",
      "Dataloaders created: 312 train batches, 32 val batches\n",
      "Epoch 1/7: train_loss=0.9415, train_mpjpe=496.23mm, val_loss=0.5000, val_mpjpe=300.75mm\n",
      "Epoch 2/7: train_loss=0.5613, train_mpjpe=331.85mm, val_loss=0.4121, val_mpjpe=275.72mm\n",
      "Epoch 3/7: train_loss=0.5350, train_mpjpe=307.38mm, val_loss=0.4199, val_mpjpe=261.97mm\n",
      "Epoch 4/7: train_loss=0.5207, train_mpjpe=287.18mm, val_loss=0.4199, val_mpjpe=254.42mm\n",
      "Epoch 5/7: train_loss=0.5092, train_mpjpe=268.05mm, val_loss=0.4231, val_mpjpe=242.12mm\n",
      "Epoch 6/7: train_loss=0.5042, train_mpjpe=253.62mm, val_loss=0.4323, val_mpjpe=242.15mm\n",
      "Epoch 7/7: train_loss=0.5026, train_mpjpe=239.38mm, val_loss=0.4364, val_mpjpe=242.08mm\n"
     ]
    },
    {
     "data": {
      "text/html": [],
      "text/plain": [
       "<IPython.core.display.HTML object>"
      ]
     },
     "metadata": {},
     "output_type": "display_data"
    },
    {
     "data": {
      "text/html": [
       "<br>    <style><br>        .wandb-row {<br>            display: flex;<br>            flex-direction: row;<br>            flex-wrap: wrap;<br>            justify-content: flex-start;<br>            width: 100%;<br>        }<br>        .wandb-col {<br>            display: flex;<br>            flex-direction: column;<br>            flex-basis: 100%;<br>            flex: 1;<br>            padding: 10px;<br>        }<br>    </style><br><div class=\"wandb-row\"><div class=\"wandb-col\"><h3>Run history:</h3><br/><table class=\"wandb\"><tr><td>epoch</td><td>▁▂▃▅▆▇█</td></tr><tr><td>final/best_val_mpjpe</td><td>▁</td></tr><tr><td>final/epochs_trained</td><td>▁</td></tr><tr><td>system/gpu_memory_gb</td><td>▄▁▅▆▄▂▃▃▅▂▃▄▂▃▇█▅▂▄▂▃▃▆█▅▅▅▃▄▁▄▅▄▄▄▅▁▇▄▃</td></tr><tr><td>train/batch_loss</td><td>█▇▆▄▃▃▂▃▂▂▂▂▂▂▂▂▁▂▃▂▃▁▂▁▃▂▁▂▁▃▂▂▁▁▃▂▂▂▂▁</td></tr><tr><td>train/batch_mpjpe</td><td>█▅▃▃▂▃▄▂▃▃▄▂▂▂▂▂▂▁▂▃▂▃▂▂▁▁▁▂▄▁▂▂▃▂▂▂▂▁▂▁</td></tr><tr><td>train/hand_mpjpe</td><td>█▄▃▂▂▁▁</td></tr><tr><td>train/loss</td><td>█▂▂▁▁▁▁</td></tr><tr><td>train/lr</td><td>██████████▇▇▇▇▇▇▇▅▅▅▅▅▅▃▃▃▃▃▃▂▂▂▂▂▂▁▁▁▁▁</td></tr><tr><td>val/best_mpjpe</td><td>█▅▃▂▁▁▁</td></tr><tr><td>val/hand_mpjpe</td><td>█▅▃▂▁▁▁</td></tr><tr><td>val/loss</td><td>█▁▂▂▂▃▃</td></tr></table><br/></div><div class=\"wandb-col\"><h3>Run summary:</h3><br/><table class=\"wandb\"><tr><td>epoch</td><td>6</td></tr><tr><td>final/best_val_mpjpe</td><td>242.07812</td></tr><tr><td>final/epochs_trained</td><td>7</td></tr><tr><td>system/gpu_memory_gb</td><td>11.22589</td></tr><tr><td>train/batch_loss</td><td>0.42354</td></tr><tr><td>train/batch_mpjpe</td><td>192.38281</td></tr><tr><td>train/hand_mpjpe</td><td>239.38145</td></tr><tr><td>train/loss</td><td>0.50255</td></tr><tr><td>train/lr</td><td>0.0</td></tr><tr><td>val/best_mpjpe</td><td>242.07812</td></tr><tr><td>val/hand_mpjpe</td><td>242.07812</td></tr><tr><td>val/loss</td><td>0.43641</td></tr></table><br/></div></div>"
      ],
      "text/plain": [
       "<IPython.core.display.HTML object>"
      ]
     },
     "metadata": {},
     "output_type": "display_data"
    },
    {
     "data": {
      "text/html": [
       " View run <strong style=\"color:#cdcd00\">sleek-sweep-31</strong> at: <a href='https://wandb.ai/bryandong24-stanford-university/amt-hyperparameter-sweep/runs/24icqup2' target=\"_blank\">https://wandb.ai/bryandong24-stanford-university/amt-hyperparameter-sweep/runs/24icqup2</a><br> View project at: <a href='https://wandb.ai/bryandong24-stanford-university/amt-hyperparameter-sweep' target=\"_blank\">https://wandb.ai/bryandong24-stanford-university/amt-hyperparameter-sweep</a><br>Synced 5 W&B file(s), 0 media file(s), 0 artifact file(s) and 0 other file(s)"
      ],
      "text/plain": [
       "<IPython.core.display.HTML object>"
      ]
     },
     "metadata": {},
     "output_type": "display_data"
    },
    {
     "data": {
      "text/html": [
       "Find logs at: <code>./wandb/run-20250604_064721-24icqup2/logs</code>"
      ],
      "text/plain": [
       "<IPython.core.display.HTML object>"
      ]
     },
     "metadata": {},
     "output_type": "display_data"
    },
    {
     "name": "stderr",
     "output_type": "stream",
     "text": [
      "\u001b[34m\u001b[1mwandb\u001b[0m: Agent Starting Run: 77kiph0c with config:\n",
      "\u001b[34m\u001b[1mwandb\u001b[0m: \taug_color_jitter: 0.18231762497298423\n",
      "\u001b[34m\u001b[1mwandb\u001b[0m: \taug_joint_noise_std: 0.007913717397097625\n",
      "\u001b[34m\u001b[1mwandb\u001b[0m: \taug_rotation_range: 9.544964469638312\n",
      "\u001b[34m\u001b[1mwandb\u001b[0m: \taug_scale_max: 1.1109926842667088\n",
      "\u001b[34m\u001b[1mwandb\u001b[0m: \taug_scale_min: 0.8385284235662711\n",
      "\u001b[34m\u001b[1mwandb\u001b[0m: \taug_translation_std: 0.04430026272603364\n",
      "\u001b[34m\u001b[1mwandb\u001b[0m: \tbatch_size: 32\n",
      "\u001b[34m\u001b[1mwandb\u001b[0m: \tdiversity_margin: 0.008436109555736046\n",
      "\u001b[34m\u001b[1mwandb\u001b[0m: \tdropout: 0.1\n",
      "\u001b[34m\u001b[1mwandb\u001b[0m: \tfingertip_weight: 1.2957757214744765\n",
      "\u001b[34m\u001b[1mwandb\u001b[0m: \tloss_weight_contact: 0.37909486176245766\n",
      "\u001b[34m\u001b[1mwandb\u001b[0m: \tloss_weight_diversity: 0.017219351182588886\n",
      "\u001b[34m\u001b[1mwandb\u001b[0m: \tloss_weight_hand_coarse: 1.192892721282202\n",
      "\u001b[34m\u001b[1mwandb\u001b[0m: \tloss_weight_hand_refined: 1.1732895839426034\n",
      "\u001b[34m\u001b[1mwandb\u001b[0m: \tloss_weight_object_position: 1.0236081789330145\n",
      "\u001b[34m\u001b[1mwandb\u001b[0m: \tloss_weight_object_rotation: 0.6271191664508989\n",
      "\u001b[34m\u001b[1mwandb\u001b[0m: \tloss_weight_physics: 0.08421417364557492\n",
      "\u001b[34m\u001b[1mwandb\u001b[0m: \tloss_weight_reprojection: 0.456259096790874\n",
      "\u001b[34m\u001b[1mwandb\u001b[0m: \tper_joint_weighting: True\n",
      "\u001b[34m\u001b[1mwandb\u001b[0m: \tscheduler_type: cosine\n"
     ]
    },
    {
     "data": {
      "text/html": [
       "Tracking run with wandb version 0.19.11"
      ],
      "text/plain": [
       "<IPython.core.display.HTML object>"
      ]
     },
     "metadata": {},
     "output_type": "display_data"
    },
    {
     "data": {
      "text/html": [
       "Run data is saved locally in <code>/home/n231/231nProjectV2/Advanced_Manipulation_Transformer/notebooks/wandb/run-20250604_065314-77kiph0c</code>"
      ],
      "text/plain": [
       "<IPython.core.display.HTML object>"
      ]
     },
     "metadata": {},
     "output_type": "display_data"
    },
    {
     "data": {
      "text/html": [
       "Syncing run <strong><a href='https://wandb.ai/bryandong24-stanford-university/amt-hyperparameter-sweep/runs/77kiph0c' target=\"_blank\">celestial-sweep-32</a></strong> to <a href='https://wandb.ai/bryandong24-stanford-university/amt-hyperparameter-sweep' target=\"_blank\">Weights & Biases</a> (<a href='https://wandb.me/developer-guide' target=\"_blank\">docs</a>)<br>Sweep page: <a href='https://wandb.ai/bryandong24-stanford-university/amt-hyperparameter-sweep/sweeps/c189gpt8' target=\"_blank\">https://wandb.ai/bryandong24-stanford-university/amt-hyperparameter-sweep/sweeps/c189gpt8</a>"
      ],
      "text/plain": [
       "<IPython.core.display.HTML object>"
      ]
     },
     "metadata": {},
     "output_type": "display_data"
    },
    {
     "data": {
      "text/html": [
       " View project at <a href='https://wandb.ai/bryandong24-stanford-university/amt-hyperparameter-sweep' target=\"_blank\">https://wandb.ai/bryandong24-stanford-university/amt-hyperparameter-sweep</a>"
      ],
      "text/plain": [
       "<IPython.core.display.HTML object>"
      ]
     },
     "metadata": {},
     "output_type": "display_data"
    },
    {
     "data": {
      "text/html": [
       " View sweep at <a href='https://wandb.ai/bryandong24-stanford-university/amt-hyperparameter-sweep/sweeps/c189gpt8' target=\"_blank\">https://wandb.ai/bryandong24-stanford-university/amt-hyperparameter-sweep/sweeps/c189gpt8</a>"
      ],
      "text/plain": [
       "<IPython.core.display.HTML object>"
      ]
     },
     "metadata": {},
     "output_type": "display_data"
    },
    {
     "data": {
      "text/html": [
       " View run at <a href='https://wandb.ai/bryandong24-stanford-university/amt-hyperparameter-sweep/runs/77kiph0c' target=\"_blank\">https://wandb.ai/bryandong24-stanford-university/amt-hyperparameter-sweep/runs/77kiph0c</a>"
      ],
      "text/plain": [
       "<IPython.core.display.HTML object>"
      ]
     },
     "metadata": {},
     "output_type": "display_data"
    },
    {
     "name": "stdout",
     "output_type": "stream",
     "text": [
      "Creating dataloaders with 20k train, 2k val samples, batch_size=32...\n",
      "Creating GPU-cached datasets...\n",
      "Target memory usage: 20.0 GB\n",
      "Estimated GPU memory usage: 20.0 GB\n",
      "Loading cached GPU dataset from ./gpu_cache_sweep/train_gpu_cache_20000.pt...\n",
      "Loading cache from ./gpu_cache_sweep/train_gpu_cache_20000.pt...\n",
      "✓ Loaded 20000 samples\n",
      "Estimated GPU memory usage: 2.0 GB\n",
      "Loading cached GPU dataset from ./gpu_cache_sweep/val_gpu_cache_2000.pt...\n",
      "Loading cache from ./gpu_cache_sweep/val_gpu_cache_2000.pt...\n",
      "✓ Loaded 2000 samples\n",
      "\n",
      "✓ GPU Datasets created:\n",
      "  Train: 20000 samples (6.7 GB)\n",
      "  Val: 2000 samples (6.7 GB)\n",
      "  Total GPU memory: 13.4 GB\n",
      "Dataloaders created: 625 train batches, 63 val batches\n",
      "Epoch 1/7: train_loss=0.7923, train_mpjpe=440.23mm, val_loss=0.4728, val_mpjpe=325.56mm\n",
      "Epoch 2/7: train_loss=0.5581, train_mpjpe=326.30mm, val_loss=0.4582, val_mpjpe=267.96mm\n",
      "Epoch 3/7: train_loss=0.5422, train_mpjpe=303.53mm, val_loss=0.4612, val_mpjpe=271.55mm\n",
      "Epoch 4/7: train_loss=0.5355, train_mpjpe=284.94mm, val_loss=0.4579, val_mpjpe=260.57mm\n",
      "Epoch 5/7: train_loss=0.5305, train_mpjpe=269.48mm, val_loss=0.4628, val_mpjpe=258.46mm\n",
      "Epoch 6/7: train_loss=0.5270, train_mpjpe=254.06mm, val_loss=0.4722, val_mpjpe=259.91mm\n",
      "Epoch 7/7: train_loss=0.5254, train_mpjpe=243.18mm, val_loss=0.4856, val_mpjpe=258.59mm\n"
     ]
    },
    {
     "data": {
      "text/html": [],
      "text/plain": [
       "<IPython.core.display.HTML object>"
      ]
     },
     "metadata": {},
     "output_type": "display_data"
    },
    {
     "data": {
      "text/html": [
       "<br>    <style><br>        .wandb-row {<br>            display: flex;<br>            flex-direction: row;<br>            flex-wrap: wrap;<br>            justify-content: flex-start;<br>            width: 100%;<br>        }<br>        .wandb-col {<br>            display: flex;<br>            flex-direction: column;<br>            flex-basis: 100%;<br>            flex: 1;<br>            padding: 10px;<br>        }<br>    </style><br><div class=\"wandb-row\"><div class=\"wandb-col\"><h3>Run history:</h3><br/><table class=\"wandb\"><tr><td>epoch</td><td>▁▂▃▅▆▇█</td></tr><tr><td>final/best_val_mpjpe</td><td>▁</td></tr><tr><td>final/epochs_trained</td><td>▁</td></tr><tr><td>system/gpu_memory_gb</td><td>▁▅▄▄▅▄▇▅▅▂▁▄▆▇▅█▇▂▅▄▄▂▄▂▇▅▆▂▄▅▅▅▅▄▇▆▂▅▅▂</td></tr><tr><td>train/batch_loss</td><td>█▇▅▄▃▃▂▂▃▂▃▁▃▂▃▂▂▂▃▂▂▂▂▁▃▁▂▁▂▂▁▁▂▁▁▃▂▂▃▁</td></tr><tr><td>train/batch_mpjpe</td><td>█▂▄▃▃▄▄▃▃▄▃▂▂▂▂▂▂▃▁▂▄▁▃▃▂▃▄▂▃▂▃▂▂▂▁▂▃▃▁▃</td></tr><tr><td>train/hand_mpjpe</td><td>█▄▃▂▂▁▁</td></tr><tr><td>train/loss</td><td>█▂▁▁▁▁▁</td></tr><tr><td>train/lr</td><td>█████████████▇▇▇▇▇▇▇▇▅▅▅▅▅▃▃▃▃▃▃▃▂▂▂▁▁▁▁</td></tr><tr><td>val/best_mpjpe</td><td>█▂▂▁▁▁▁</td></tr><tr><td>val/hand_mpjpe</td><td>█▂▂▁▁▁▁</td></tr><tr><td>val/loss</td><td>▅▁▂▁▂▅█</td></tr></table><br/></div><div class=\"wandb-col\"><h3>Run summary:</h3><br/><table class=\"wandb\"><tr><td>epoch</td><td>6</td></tr><tr><td>final/best_val_mpjpe</td><td>258.46484</td></tr><tr><td>final/epochs_trained</td><td>7</td></tr><tr><td>system/gpu_memory_gb</td><td>11.10914</td></tr><tr><td>train/batch_loss</td><td>0.68907</td></tr><tr><td>train/batch_mpjpe</td><td>339.84375</td></tr><tr><td>train/hand_mpjpe</td><td>243.17578</td></tr><tr><td>train/loss</td><td>0.52544</td></tr><tr><td>train/lr</td><td>0.0</td></tr><tr><td>val/best_mpjpe</td><td>258.46484</td></tr><tr><td>val/hand_mpjpe</td><td>258.58984</td></tr><tr><td>val/loss</td><td>0.48557</td></tr></table><br/></div></div>"
      ],
      "text/plain": [
       "<IPython.core.display.HTML object>"
      ]
     },
     "metadata": {},
     "output_type": "display_data"
    },
    {
     "data": {
      "text/html": [
       " View run <strong style=\"color:#cdcd00\">celestial-sweep-32</strong> at: <a href='https://wandb.ai/bryandong24-stanford-university/amt-hyperparameter-sweep/runs/77kiph0c' target=\"_blank\">https://wandb.ai/bryandong24-stanford-university/amt-hyperparameter-sweep/runs/77kiph0c</a><br> View project at: <a href='https://wandb.ai/bryandong24-stanford-university/amt-hyperparameter-sweep' target=\"_blank\">https://wandb.ai/bryandong24-stanford-university/amt-hyperparameter-sweep</a><br>Synced 5 W&B file(s), 0 media file(s), 0 artifact file(s) and 0 other file(s)"
      ],
      "text/plain": [
       "<IPython.core.display.HTML object>"
      ]
     },
     "metadata": {},
     "output_type": "display_data"
    },
    {
     "data": {
      "text/html": [
       "Find logs at: <code>./wandb/run-20250604_065314-77kiph0c/logs</code>"
      ],
      "text/plain": [
       "<IPython.core.display.HTML object>"
      ]
     },
     "metadata": {},
     "output_type": "display_data"
    },
    {
     "name": "stderr",
     "output_type": "stream",
     "text": [
      "\u001b[34m\u001b[1mwandb\u001b[0m: Agent Starting Run: umkttl75 with config:\n",
      "\u001b[34m\u001b[1mwandb\u001b[0m: \taug_color_jitter: 0.22384433137540713\n",
      "\u001b[34m\u001b[1mwandb\u001b[0m: \taug_joint_noise_std: 0.005897813175343497\n",
      "\u001b[34m\u001b[1mwandb\u001b[0m: \taug_rotation_range: 6.836212948117382\n",
      "\u001b[34m\u001b[1mwandb\u001b[0m: \taug_scale_max: 1.1422271542257496\n",
      "\u001b[34m\u001b[1mwandb\u001b[0m: \taug_scale_min: 0.8228679466506434\n",
      "\u001b[34m\u001b[1mwandb\u001b[0m: \taug_translation_std: 0.06181893274658028\n",
      "\u001b[34m\u001b[1mwandb\u001b[0m: \tbatch_size: 64\n",
      "\u001b[34m\u001b[1mwandb\u001b[0m: \tdiversity_margin: 0.019033155445368957\n",
      "\u001b[34m\u001b[1mwandb\u001b[0m: \tdropout: 0.25\n",
      "\u001b[34m\u001b[1mwandb\u001b[0m: \tfingertip_weight: 1.3381775208119644\n",
      "\u001b[34m\u001b[1mwandb\u001b[0m: \tloss_weight_contact: 0.4755362226563341\n",
      "\u001b[34m\u001b[1mwandb\u001b[0m: \tloss_weight_diversity: 0.030907206024274506\n",
      "\u001b[34m\u001b[1mwandb\u001b[0m: \tloss_weight_hand_coarse: 0.9974046508682618\n",
      "\u001b[34m\u001b[1mwandb\u001b[0m: \tloss_weight_hand_refined: 1.468737061390781\n",
      "\u001b[34m\u001b[1mwandb\u001b[0m: \tloss_weight_object_position: 0.844062017517747\n",
      "\u001b[34m\u001b[1mwandb\u001b[0m: \tloss_weight_object_rotation: 0.5802287017870976\n",
      "\u001b[34m\u001b[1mwandb\u001b[0m: \tloss_weight_physics: 0.11947452956057644\n",
      "\u001b[34m\u001b[1mwandb\u001b[0m: \tloss_weight_reprojection: 0.3553407833769421\n",
      "\u001b[34m\u001b[1mwandb\u001b[0m: \tper_joint_weighting: False\n",
      "\u001b[34m\u001b[1mwandb\u001b[0m: \tscheduler_type: cosine\n"
     ]
    },
    {
     "data": {
      "text/html": [
       "Tracking run with wandb version 0.19.11"
      ],
      "text/plain": [
       "<IPython.core.display.HTML object>"
      ]
     },
     "metadata": {},
     "output_type": "display_data"
    },
    {
     "data": {
      "text/html": [
       "Run data is saved locally in <code>/home/n231/231nProjectV2/Advanced_Manipulation_Transformer/notebooks/wandb/run-20250604_070105-umkttl75</code>"
      ],
      "text/plain": [
       "<IPython.core.display.HTML object>"
      ]
     },
     "metadata": {},
     "output_type": "display_data"
    },
    {
     "data": {
      "text/html": [
       "Syncing run <strong><a href='https://wandb.ai/bryandong24-stanford-university/amt-hyperparameter-sweep/runs/umkttl75' target=\"_blank\">jolly-sweep-33</a></strong> to <a href='https://wandb.ai/bryandong24-stanford-university/amt-hyperparameter-sweep' target=\"_blank\">Weights & Biases</a> (<a href='https://wandb.me/developer-guide' target=\"_blank\">docs</a>)<br>Sweep page: <a href='https://wandb.ai/bryandong24-stanford-university/amt-hyperparameter-sweep/sweeps/c189gpt8' target=\"_blank\">https://wandb.ai/bryandong24-stanford-university/amt-hyperparameter-sweep/sweeps/c189gpt8</a>"
      ],
      "text/plain": [
       "<IPython.core.display.HTML object>"
      ]
     },
     "metadata": {},
     "output_type": "display_data"
    },
    {
     "data": {
      "text/html": [
       " View project at <a href='https://wandb.ai/bryandong24-stanford-university/amt-hyperparameter-sweep' target=\"_blank\">https://wandb.ai/bryandong24-stanford-university/amt-hyperparameter-sweep</a>"
      ],
      "text/plain": [
       "<IPython.core.display.HTML object>"
      ]
     },
     "metadata": {},
     "output_type": "display_data"
    },
    {
     "data": {
      "text/html": [
       " View sweep at <a href='https://wandb.ai/bryandong24-stanford-university/amt-hyperparameter-sweep/sweeps/c189gpt8' target=\"_blank\">https://wandb.ai/bryandong24-stanford-university/amt-hyperparameter-sweep/sweeps/c189gpt8</a>"
      ],
      "text/plain": [
       "<IPython.core.display.HTML object>"
      ]
     },
     "metadata": {},
     "output_type": "display_data"
    },
    {
     "data": {
      "text/html": [
       " View run at <a href='https://wandb.ai/bryandong24-stanford-university/amt-hyperparameter-sweep/runs/umkttl75' target=\"_blank\">https://wandb.ai/bryandong24-stanford-university/amt-hyperparameter-sweep/runs/umkttl75</a>"
      ],
      "text/plain": [
       "<IPython.core.display.HTML object>"
      ]
     },
     "metadata": {},
     "output_type": "display_data"
    },
    {
     "name": "stdout",
     "output_type": "stream",
     "text": [
      "Creating dataloaders with 20k train, 2k val samples, batch_size=64...\n",
      "Creating GPU-cached datasets...\n",
      "Target memory usage: 20.0 GB\n",
      "Estimated GPU memory usage: 20.0 GB\n",
      "Loading cached GPU dataset from ./gpu_cache_sweep/train_gpu_cache_20000.pt...\n",
      "Loading cache from ./gpu_cache_sweep/train_gpu_cache_20000.pt...\n",
      "✓ Loaded 20000 samples\n",
      "Estimated GPU memory usage: 2.0 GB\n",
      "Loading cached GPU dataset from ./gpu_cache_sweep/val_gpu_cache_2000.pt...\n",
      "Loading cache from ./gpu_cache_sweep/val_gpu_cache_2000.pt...\n",
      "✓ Loaded 2000 samples\n",
      "\n",
      "✓ GPU Datasets created:\n",
      "  Train: 20000 samples (6.7 GB)\n",
      "  Val: 2000 samples (6.7 GB)\n",
      "  Total GPU memory: 13.4 GB\n",
      "Dataloaders created: 312 train batches, 32 val batches\n",
      "Epoch 1/7: train_loss=0.9131, train_mpjpe=462.75mm, val_loss=0.5177, val_mpjpe=355.53mm\n",
      "Epoch 2/7: train_loss=0.5998, train_mpjpe=337.03mm, val_loss=0.4275, val_mpjpe=273.81mm\n",
      "Epoch 3/7: train_loss=nan, train_mpjpe=nanmm, val_loss=nan, val_mpjpe=nanmm\n",
      "Epoch 4/7: train_loss=nan, train_mpjpe=nanmm, val_loss=nan, val_mpjpe=nanmm\n",
      "Epoch 5/7: train_loss=nan, train_mpjpe=nanmm, val_loss=nan, val_mpjpe=nanmm\n",
      "Epoch 6/7: train_loss=nan, train_mpjpe=nanmm, val_loss=nan, val_mpjpe=nanmm\n",
      "Epoch 7/7: train_loss=nan, train_mpjpe=nanmm, val_loss=nan, val_mpjpe=nanmm\n"
     ]
    },
    {
     "data": {
      "text/html": [],
      "text/plain": [
       "<IPython.core.display.HTML object>"
      ]
     },
     "metadata": {},
     "output_type": "display_data"
    },
    {
     "data": {
      "text/html": [
       "<br>    <style><br>        .wandb-row {<br>            display: flex;<br>            flex-direction: row;<br>            flex-wrap: wrap;<br>            justify-content: flex-start;<br>            width: 100%;<br>        }<br>        .wandb-col {<br>            display: flex;<br>            flex-direction: column;<br>            flex-basis: 100%;<br>            flex: 1;<br>            padding: 10px;<br>        }<br>    </style><br><div class=\"wandb-row\"><div class=\"wandb-col\"><h3>Run history:</h3><br/><table class=\"wandb\"><tr><td>epoch</td><td>▁▂▃▅▆▇█</td></tr><tr><td>final/best_val_mpjpe</td><td>▁</td></tr><tr><td>final/epochs_trained</td><td>▁</td></tr><tr><td>system/gpu_memory_gb</td><td>▁▅▂▇▄▂▄▃▃▄▁▁▄▄▃▅▄▄▆█▄▃▃█▆▅▃▅▅▅▁▆▅▁▅▅▁▆▃▃</td></tr><tr><td>train/batch_loss</td><td>█▂▁▁▁▁▁▂▁▁▁▁                            </td></tr><tr><td>train/batch_mpjpe</td><td>█▄▅▂▃▂▁▂▂▄▂▂▂▁▁▁                        </td></tr><tr><td>train/hand_mpjpe</td><td>█▁     </td></tr><tr><td>train/loss</td><td>█▁     </td></tr><tr><td>train/lr</td><td>████████████▇▇▇▇▇▅▅▅▅▅▃▃▃▃▃▃▃▂▂▂▂▂▁▁▁▁▁▁</td></tr><tr><td>val/best_mpjpe</td><td>█▁▁▁▁▁▁</td></tr><tr><td>val/hand_mpjpe</td><td>█▁     </td></tr><tr><td>val/loss</td><td>█▁     </td></tr></table><br/></div><div class=\"wandb-col\"><h3>Run summary:</h3><br/><table class=\"wandb\"><tr><td>epoch</td><td>6</td></tr><tr><td>final/best_val_mpjpe</td><td>273.8125</td></tr><tr><td>final/epochs_trained</td><td>7</td></tr><tr><td>system/gpu_memory_gb</td><td>11.22589</td></tr><tr><td>train/batch_loss</td><td>nan</td></tr><tr><td>train/batch_mpjpe</td><td>nan</td></tr><tr><td>train/hand_mpjpe</td><td>nan</td></tr><tr><td>train/loss</td><td>nan</td></tr><tr><td>train/lr</td><td>0.0</td></tr><tr><td>val/best_mpjpe</td><td>273.8125</td></tr><tr><td>val/hand_mpjpe</td><td>nan</td></tr><tr><td>val/loss</td><td>nan</td></tr></table><br/></div></div>"
      ],
      "text/plain": [
       "<IPython.core.display.HTML object>"
      ]
     },
     "metadata": {},
     "output_type": "display_data"
    },
    {
     "data": {
      "text/html": [
       " View run <strong style=\"color:#cdcd00\">jolly-sweep-33</strong> at: <a href='https://wandb.ai/bryandong24-stanford-university/amt-hyperparameter-sweep/runs/umkttl75' target=\"_blank\">https://wandb.ai/bryandong24-stanford-university/amt-hyperparameter-sweep/runs/umkttl75</a><br> View project at: <a href='https://wandb.ai/bryandong24-stanford-university/amt-hyperparameter-sweep' target=\"_blank\">https://wandb.ai/bryandong24-stanford-university/amt-hyperparameter-sweep</a><br>Synced 5 W&B file(s), 0 media file(s), 0 artifact file(s) and 0 other file(s)"
      ],
      "text/plain": [
       "<IPython.core.display.HTML object>"
      ]
     },
     "metadata": {},
     "output_type": "display_data"
    },
    {
     "data": {
      "text/html": [
       "Find logs at: <code>./wandb/run-20250604_070105-umkttl75/logs</code>"
      ],
      "text/plain": [
       "<IPython.core.display.HTML object>"
      ]
     },
     "metadata": {},
     "output_type": "display_data"
    },
    {
     "name": "stderr",
     "output_type": "stream",
     "text": [
      "\u001b[34m\u001b[1mwandb\u001b[0m: Agent Starting Run: lgcgblzo with config:\n",
      "\u001b[34m\u001b[1mwandb\u001b[0m: \taug_color_jitter: 0.2264945466886833\n",
      "\u001b[34m\u001b[1mwandb\u001b[0m: \taug_joint_noise_std: 0.003005131740427982\n",
      "\u001b[34m\u001b[1mwandb\u001b[0m: \taug_rotation_range: 5.092937488443682\n",
      "\u001b[34m\u001b[1mwandb\u001b[0m: \taug_scale_max: 1.1326809115984473\n",
      "\u001b[34m\u001b[1mwandb\u001b[0m: \taug_scale_min: 0.8171869105612753\n",
      "\u001b[34m\u001b[1mwandb\u001b[0m: \taug_translation_std: 0.05667720756186119\n",
      "\u001b[34m\u001b[1mwandb\u001b[0m: \tbatch_size: 256\n",
      "\u001b[34m\u001b[1mwandb\u001b[0m: \tdiversity_margin: 0.01892549900333293\n",
      "\u001b[34m\u001b[1mwandb\u001b[0m: \tdropout: 0.2\n",
      "\u001b[34m\u001b[1mwandb\u001b[0m: \tfingertip_weight: 1.9738458055227217\n",
      "\u001b[34m\u001b[1mwandb\u001b[0m: \tloss_weight_contact: 0.22931461385757756\n",
      "\u001b[34m\u001b[1mwandb\u001b[0m: \tloss_weight_diversity: 0.016553674479351802\n",
      "\u001b[34m\u001b[1mwandb\u001b[0m: \tloss_weight_hand_coarse: 1.0331330991989836\n",
      "\u001b[34m\u001b[1mwandb\u001b[0m: \tloss_weight_hand_refined: 1.119132866461604\n",
      "\u001b[34m\u001b[1mwandb\u001b[0m: \tloss_weight_object_position: 0.8406492524397875\n",
      "\u001b[34m\u001b[1mwandb\u001b[0m: \tloss_weight_object_rotation: 0.4534232149483549\n",
      "\u001b[34m\u001b[1mwandb\u001b[0m: \tloss_weight_physics: 0.19910248527773533\n",
      "\u001b[34m\u001b[1mwandb\u001b[0m: \tloss_weight_reprojection: 0.3369894816135392\n",
      "\u001b[34m\u001b[1mwandb\u001b[0m: \tper_joint_weighting: False\n",
      "\u001b[34m\u001b[1mwandb\u001b[0m: \tscheduler_type: step\n"
     ]
    },
    {
     "data": {
      "text/html": [
       "Tracking run with wandb version 0.19.11"
      ],
      "text/plain": [
       "<IPython.core.display.HTML object>"
      ]
     },
     "metadata": {},
     "output_type": "display_data"
    },
    {
     "data": {
      "text/html": [
       "Run data is saved locally in <code>/home/n231/231nProjectV2/Advanced_Manipulation_Transformer/notebooks/wandb/run-20250604_070654-lgcgblzo</code>"
      ],
      "text/plain": [
       "<IPython.core.display.HTML object>"
      ]
     },
     "metadata": {},
     "output_type": "display_data"
    },
    {
     "data": {
      "text/html": [
       "Syncing run <strong><a href='https://wandb.ai/bryandong24-stanford-university/amt-hyperparameter-sweep/runs/lgcgblzo' target=\"_blank\">snowy-sweep-34</a></strong> to <a href='https://wandb.ai/bryandong24-stanford-university/amt-hyperparameter-sweep' target=\"_blank\">Weights & Biases</a> (<a href='https://wandb.me/developer-guide' target=\"_blank\">docs</a>)<br>Sweep page: <a href='https://wandb.ai/bryandong24-stanford-university/amt-hyperparameter-sweep/sweeps/c189gpt8' target=\"_blank\">https://wandb.ai/bryandong24-stanford-university/amt-hyperparameter-sweep/sweeps/c189gpt8</a>"
      ],
      "text/plain": [
       "<IPython.core.display.HTML object>"
      ]
     },
     "metadata": {},
     "output_type": "display_data"
    },
    {
     "data": {
      "text/html": [
       " View project at <a href='https://wandb.ai/bryandong24-stanford-university/amt-hyperparameter-sweep' target=\"_blank\">https://wandb.ai/bryandong24-stanford-university/amt-hyperparameter-sweep</a>"
      ],
      "text/plain": [
       "<IPython.core.display.HTML object>"
      ]
     },
     "metadata": {},
     "output_type": "display_data"
    },
    {
     "data": {
      "text/html": [
       " View sweep at <a href='https://wandb.ai/bryandong24-stanford-university/amt-hyperparameter-sweep/sweeps/c189gpt8' target=\"_blank\">https://wandb.ai/bryandong24-stanford-university/amt-hyperparameter-sweep/sweeps/c189gpt8</a>"
      ],
      "text/plain": [
       "<IPython.core.display.HTML object>"
      ]
     },
     "metadata": {},
     "output_type": "display_data"
    },
    {
     "data": {
      "text/html": [
       " View run at <a href='https://wandb.ai/bryandong24-stanford-university/amt-hyperparameter-sweep/runs/lgcgblzo' target=\"_blank\">https://wandb.ai/bryandong24-stanford-university/amt-hyperparameter-sweep/runs/lgcgblzo</a>"
      ],
      "text/plain": [
       "<IPython.core.display.HTML object>"
      ]
     },
     "metadata": {},
     "output_type": "display_data"
    },
    {
     "name": "stdout",
     "output_type": "stream",
     "text": [
      "Creating dataloaders with 20k train, 2k val samples, batch_size=256...\n",
      "Creating GPU-cached datasets...\n",
      "Target memory usage: 20.0 GB\n",
      "Estimated GPU memory usage: 20.0 GB\n",
      "Loading cached GPU dataset from ./gpu_cache_sweep/train_gpu_cache_20000.pt...\n",
      "Loading cache from ./gpu_cache_sweep/train_gpu_cache_20000.pt...\n",
      "✓ Loaded 20000 samples\n",
      "Estimated GPU memory usage: 2.0 GB\n",
      "Loading cached GPU dataset from ./gpu_cache_sweep/val_gpu_cache_2000.pt...\n",
      "Loading cache from ./gpu_cache_sweep/val_gpu_cache_2000.pt...\n",
      "✓ Loaded 2000 samples\n",
      "\n",
      "✓ GPU Datasets created:\n",
      "  Train: 20000 samples (6.7 GB)\n",
      "  Val: 2000 samples (6.7 GB)\n",
      "  Total GPU memory: 13.4 GB\n",
      "Dataloaders created: 78 train batches, 8 val batches\n",
      "Epoch 1/7: train_loss=1.3343, train_mpjpe=579.03mm, val_loss=0.8838, val_mpjpe=551.50mm\n",
      "Epoch 2/7: train_loss=0.7965, train_mpjpe=396.71mm, val_loss=0.5481, val_mpjpe=303.04mm\n",
      "Epoch 3/7: train_loss=0.6358, train_mpjpe=378.03mm, val_loss=0.4576, val_mpjpe=292.11mm\n",
      "Epoch 4/7: train_loss=0.5842, train_mpjpe=341.30mm, val_loss=0.4831, val_mpjpe=301.49mm\n",
      "Epoch 5/7: train_loss=0.5784, train_mpjpe=328.30mm, val_loss=0.4439, val_mpjpe=283.12mm\n",
      "Epoch 6/7: train_loss=0.5820, train_mpjpe=320.06mm, val_loss=0.4570, val_mpjpe=269.75mm\n",
      "Epoch 7/7: train_loss=0.5776, train_mpjpe=304.66mm, val_loss=0.4425, val_mpjpe=262.07mm\n"
     ]
    },
    {
     "data": {
      "text/html": [],
      "text/plain": [
       "<IPython.core.display.HTML object>"
      ]
     },
     "metadata": {},
     "output_type": "display_data"
    },
    {
     "data": {
      "text/html": [
       "<br>    <style><br>        .wandb-row {<br>            display: flex;<br>            flex-direction: row;<br>            flex-wrap: wrap;<br>            justify-content: flex-start;<br>            width: 100%;<br>        }<br>        .wandb-col {<br>            display: flex;<br>            flex-direction: column;<br>            flex-basis: 100%;<br>            flex: 1;<br>            padding: 10px;<br>        }<br>    </style><br><div class=\"wandb-row\"><div class=\"wandb-col\"><h3>Run history:</h3><br/><table class=\"wandb\"><tr><td>epoch</td><td>▁▂▃▅▆▇█</td></tr><tr><td>final/best_val_mpjpe</td><td>▁</td></tr><tr><td>final/epochs_trained</td><td>▁</td></tr><tr><td>system/gpu_memory_gb</td><td>▅▆▆▆▄▃▂▄▄▃▆█▃▆▂▂▃▁▃▃▄▄▇▆▅▄▄▄</td></tr><tr><td>train/batch_loss</td><td>█▃▂▂▂▂▂▂▁▁▁▁▁▁▁▁▁▁▁▁▁▁▁▁▁▁▁▁</td></tr><tr><td>train/batch_mpjpe</td><td>█▂▁▂▂▁▁▁▁▁▁▁▁▁▁▁▁▁▁▁▁▁▁▁▁▁▁▁</td></tr><tr><td>train/hand_mpjpe</td><td>█▃▃▂▂▁▁</td></tr><tr><td>train/loss</td><td>█▃▂▁▁▁▁</td></tr><tr><td>train/lr</td><td>████████████▃▃▃▃▃▃▃▃▃▃▃▃▁▁▁▁</td></tr><tr><td>val/best_mpjpe</td><td>█▂▂▂▂▁▁</td></tr><tr><td>val/hand_mpjpe</td><td>█▂▂▂▂▁▁</td></tr><tr><td>val/loss</td><td>█▃▁▂▁▁▁</td></tr></table><br/></div><div class=\"wandb-col\"><h3>Run summary:</h3><br/><table class=\"wandb\"><tr><td>epoch</td><td>6</td></tr><tr><td>final/best_val_mpjpe</td><td>262.07031</td></tr><tr><td>final/epochs_trained</td><td>7</td></tr><tr><td>system/gpu_memory_gb</td><td>11.88385</td></tr><tr><td>train/batch_loss</td><td>0.64551</td></tr><tr><td>train/batch_mpjpe</td><td>351.5625</td></tr><tr><td>train/hand_mpjpe</td><td>304.66246</td></tr><tr><td>train/loss</td><td>0.57762</td></tr><tr><td>train/lr</td><td>0.0</td></tr><tr><td>val/best_mpjpe</td><td>262.07031</td></tr><tr><td>val/hand_mpjpe</td><td>262.07031</td></tr><tr><td>val/loss</td><td>0.44253</td></tr></table><br/></div></div>"
      ],
      "text/plain": [
       "<IPython.core.display.HTML object>"
      ]
     },
     "metadata": {},
     "output_type": "display_data"
    },
    {
     "data": {
      "text/html": [
       " View run <strong style=\"color:#cdcd00\">snowy-sweep-34</strong> at: <a href='https://wandb.ai/bryandong24-stanford-university/amt-hyperparameter-sweep/runs/lgcgblzo' target=\"_blank\">https://wandb.ai/bryandong24-stanford-university/amt-hyperparameter-sweep/runs/lgcgblzo</a><br> View project at: <a href='https://wandb.ai/bryandong24-stanford-university/amt-hyperparameter-sweep' target=\"_blank\">https://wandb.ai/bryandong24-stanford-university/amt-hyperparameter-sweep</a><br>Synced 5 W&B file(s), 0 media file(s), 0 artifact file(s) and 0 other file(s)"
      ],
      "text/plain": [
       "<IPython.core.display.HTML object>"
      ]
     },
     "metadata": {},
     "output_type": "display_data"
    },
    {
     "data": {
      "text/html": [
       "Find logs at: <code>./wandb/run-20250604_070654-lgcgblzo/logs</code>"
      ],
      "text/plain": [
       "<IPython.core.display.HTML object>"
      ]
     },
     "metadata": {},
     "output_type": "display_data"
    },
    {
     "name": "stderr",
     "output_type": "stream",
     "text": [
      "\u001b[34m\u001b[1mwandb\u001b[0m: Agent Starting Run: i9avwps8 with config:\n",
      "\u001b[34m\u001b[1mwandb\u001b[0m: \taug_color_jitter: 0.13616840298161334\n",
      "\u001b[34m\u001b[1mwandb\u001b[0m: \taug_joint_noise_std: 0.007215701657755268\n",
      "\u001b[34m\u001b[1mwandb\u001b[0m: \taug_rotation_range: 12.557771779325767\n",
      "\u001b[34m\u001b[1mwandb\u001b[0m: \taug_scale_max: 1.2025578550215197\n",
      "\u001b[34m\u001b[1mwandb\u001b[0m: \taug_scale_min: 0.7754813903565432\n",
      "\u001b[34m\u001b[1mwandb\u001b[0m: \taug_translation_std: 0.02771389913626888\n",
      "\u001b[34m\u001b[1mwandb\u001b[0m: \tbatch_size: 64\n",
      "\u001b[34m\u001b[1mwandb\u001b[0m: \tdiversity_margin: 0.015002013725673708\n",
      "\u001b[34m\u001b[1mwandb\u001b[0m: \tdropout: 0.1\n",
      "\u001b[34m\u001b[1mwandb\u001b[0m: \tfingertip_weight: 1.4953128390777142\n",
      "\u001b[34m\u001b[1mwandb\u001b[0m: \tloss_weight_contact: 0.25719379364432177\n",
      "\u001b[34m\u001b[1mwandb\u001b[0m: \tloss_weight_diversity: 0.03250758624683255\n",
      "\u001b[34m\u001b[1mwandb\u001b[0m: \tloss_weight_hand_coarse: 1.0093316289125225\n",
      "\u001b[34m\u001b[1mwandb\u001b[0m: \tloss_weight_hand_refined: 1.2266216007164503\n",
      "\u001b[34m\u001b[1mwandb\u001b[0m: \tloss_weight_object_position: 0.8987160452737082\n",
      "\u001b[34m\u001b[1mwandb\u001b[0m: \tloss_weight_object_rotation: 0.3324823248480639\n",
      "\u001b[34m\u001b[1mwandb\u001b[0m: \tloss_weight_physics: 0.17832901624880626\n",
      "\u001b[34m\u001b[1mwandb\u001b[0m: \tloss_weight_reprojection: 0.5626229723113901\n",
      "\u001b[34m\u001b[1mwandb\u001b[0m: \tper_joint_weighting: True\n",
      "\u001b[34m\u001b[1mwandb\u001b[0m: \tscheduler_type: cosine\n"
     ]
    },
    {
     "data": {
      "text/html": [
       "Tracking run with wandb version 0.19.11"
      ],
      "text/plain": [
       "<IPython.core.display.HTML object>"
      ]
     },
     "metadata": {},
     "output_type": "display_data"
    },
    {
     "data": {
      "text/html": [
       "Run data is saved locally in <code>/home/n231/231nProjectV2/Advanced_Manipulation_Transformer/notebooks/wandb/run-20250604_071117-i9avwps8</code>"
      ],
      "text/plain": [
       "<IPython.core.display.HTML object>"
      ]
     },
     "metadata": {},
     "output_type": "display_data"
    },
    {
     "data": {
      "text/html": [
       "Syncing run <strong><a href='https://wandb.ai/bryandong24-stanford-university/amt-hyperparameter-sweep/runs/i9avwps8' target=\"_blank\">swept-sweep-35</a></strong> to <a href='https://wandb.ai/bryandong24-stanford-university/amt-hyperparameter-sweep' target=\"_blank\">Weights & Biases</a> (<a href='https://wandb.me/developer-guide' target=\"_blank\">docs</a>)<br>Sweep page: <a href='https://wandb.ai/bryandong24-stanford-university/amt-hyperparameter-sweep/sweeps/c189gpt8' target=\"_blank\">https://wandb.ai/bryandong24-stanford-university/amt-hyperparameter-sweep/sweeps/c189gpt8</a>"
      ],
      "text/plain": [
       "<IPython.core.display.HTML object>"
      ]
     },
     "metadata": {},
     "output_type": "display_data"
    },
    {
     "data": {
      "text/html": [
       " View project at <a href='https://wandb.ai/bryandong24-stanford-university/amt-hyperparameter-sweep' target=\"_blank\">https://wandb.ai/bryandong24-stanford-university/amt-hyperparameter-sweep</a>"
      ],
      "text/plain": [
       "<IPython.core.display.HTML object>"
      ]
     },
     "metadata": {},
     "output_type": "display_data"
    },
    {
     "data": {
      "text/html": [
       " View sweep at <a href='https://wandb.ai/bryandong24-stanford-university/amt-hyperparameter-sweep/sweeps/c189gpt8' target=\"_blank\">https://wandb.ai/bryandong24-stanford-university/amt-hyperparameter-sweep/sweeps/c189gpt8</a>"
      ],
      "text/plain": [
       "<IPython.core.display.HTML object>"
      ]
     },
     "metadata": {},
     "output_type": "display_data"
    },
    {
     "data": {
      "text/html": [
       " View run at <a href='https://wandb.ai/bryandong24-stanford-university/amt-hyperparameter-sweep/runs/i9avwps8' target=\"_blank\">https://wandb.ai/bryandong24-stanford-university/amt-hyperparameter-sweep/runs/i9avwps8</a>"
      ],
      "text/plain": [
       "<IPython.core.display.HTML object>"
      ]
     },
     "metadata": {},
     "output_type": "display_data"
    },
    {
     "name": "stdout",
     "output_type": "stream",
     "text": [
      "Creating dataloaders with 20k train, 2k val samples, batch_size=64...\n",
      "Creating GPU-cached datasets...\n",
      "Target memory usage: 20.0 GB\n",
      "Estimated GPU memory usage: 20.0 GB\n",
      "Loading cached GPU dataset from ./gpu_cache_sweep/train_gpu_cache_20000.pt...\n",
      "Loading cache from ./gpu_cache_sweep/train_gpu_cache_20000.pt...\n",
      "✓ Loaded 20000 samples\n",
      "Estimated GPU memory usage: 2.0 GB\n",
      "Loading cached GPU dataset from ./gpu_cache_sweep/val_gpu_cache_2000.pt...\n",
      "Loading cache from ./gpu_cache_sweep/val_gpu_cache_2000.pt...\n",
      "✓ Loaded 2000 samples\n",
      "\n",
      "✓ GPU Datasets created:\n",
      "  Train: 20000 samples (6.7 GB)\n",
      "  Val: 2000 samples (6.7 GB)\n",
      "  Total GPU memory: 13.4 GB\n",
      "Dataloaders created: 312 train batches, 32 val batches\n",
      "Epoch 1/7: train_loss=0.9490, train_mpjpe=535.97mm, val_loss=0.4048, val_mpjpe=287.57mm\n",
      "Epoch 2/7: train_loss=0.5188, train_mpjpe=340.82mm, val_loss=0.3997, val_mpjpe=272.73mm\n",
      "Epoch 3/7: train_loss=0.5088, train_mpjpe=317.26mm, val_loss=0.4188, val_mpjpe=260.27mm\n",
      "Epoch 4/7: train_loss=0.5050, train_mpjpe=298.92mm, val_loss=0.4133, val_mpjpe=260.63mm\n",
      "Epoch 5/7: train_loss=0.5038, train_mpjpe=283.39mm, val_loss=0.4264, val_mpjpe=272.74mm\n",
      "Epoch 6/7: train_loss=0.5033, train_mpjpe=268.56mm, val_loss=0.4243, val_mpjpe=244.16mm\n",
      "Epoch 7/7: train_loss=0.5053, train_mpjpe=256.31mm, val_loss=0.4301, val_mpjpe=239.60mm\n"
     ]
    },
    {
     "data": {
      "text/html": [],
      "text/plain": [
       "<IPython.core.display.HTML object>"
      ]
     },
     "metadata": {},
     "output_type": "display_data"
    },
    {
     "data": {
      "text/html": [
       "<br>    <style><br>        .wandb-row {<br>            display: flex;<br>            flex-direction: row;<br>            flex-wrap: wrap;<br>            justify-content: flex-start;<br>            width: 100%;<br>        }<br>        .wandb-col {<br>            display: flex;<br>            flex-direction: column;<br>            flex-basis: 100%;<br>            flex: 1;<br>            padding: 10px;<br>        }<br>    </style><br><div class=\"wandb-row\"><div class=\"wandb-col\"><h3>Run history:</h3><br/><table class=\"wandb\"><tr><td>epoch</td><td>▁▂▃▅▆▇█</td></tr><tr><td>final/best_val_mpjpe</td><td>▁</td></tr><tr><td>final/epochs_trained</td><td>▁</td></tr><tr><td>system/gpu_memory_gb</td><td>▅▃▃▂▁▇█▅▃▅▅▄▃▅▂▂▂▂▂▃▃▂▂▂▂▅▁▂▂▂▆▅▄▆▄▅▅▄▅▅</td></tr><tr><td>train/batch_loss</td><td>█▅▃▂▂▂▂▁▂▁▁▁▁▂▁▂▁▁▁▁▂▁▂▁▂▁▁▁▁▂▁▁▁▁▁▁▂▁▁▁</td></tr><tr><td>train/batch_mpjpe</td><td>██▆▇▄▆▆▅▄▆▄▄▃▄▄▃▅▄▃▄▄▅▄▁▃▄▄▄▃▄▃▂▆▃▃▂▂▂▃▂</td></tr><tr><td>train/hand_mpjpe</td><td>█▃▃▂▂▁▁</td></tr><tr><td>train/loss</td><td>█▁▁▁▁▁▁</td></tr><tr><td>train/lr</td><td>██████████▇▇▇▇▇▇▅▅▅▅▅▃▃▃▃▃▃▃▃▃▂▂▂▂▂▂▁▁▁▁</td></tr><tr><td>val/best_mpjpe</td><td>█▆▄▄▄▂▁</td></tr><tr><td>val/hand_mpjpe</td><td>█▆▄▄▆▂▁</td></tr><tr><td>val/loss</td><td>▂▁▅▄▇▇█</td></tr></table><br/></div><div class=\"wandb-col\"><h3>Run summary:</h3><br/><table class=\"wandb\"><tr><td>epoch</td><td>6</td></tr><tr><td>final/best_val_mpjpe</td><td>239.60156</td></tr><tr><td>final/epochs_trained</td><td>7</td></tr><tr><td>system/gpu_memory_gb</td><td>11.231</td></tr><tr><td>train/batch_loss</td><td>0.49372</td></tr><tr><td>train/batch_mpjpe</td><td>241.21094</td></tr><tr><td>train/hand_mpjpe</td><td>256.30697</td></tr><tr><td>train/loss</td><td>0.50526</td></tr><tr><td>train/lr</td><td>0.0</td></tr><tr><td>val/best_mpjpe</td><td>239.60156</td></tr><tr><td>val/hand_mpjpe</td><td>239.60156</td></tr><tr><td>val/loss</td><td>0.43005</td></tr></table><br/></div></div>"
      ],
      "text/plain": [
       "<IPython.core.display.HTML object>"
      ]
     },
     "metadata": {},
     "output_type": "display_data"
    },
    {
     "data": {
      "text/html": [
       " View run <strong style=\"color:#cdcd00\">swept-sweep-35</strong> at: <a href='https://wandb.ai/bryandong24-stanford-university/amt-hyperparameter-sweep/runs/i9avwps8' target=\"_blank\">https://wandb.ai/bryandong24-stanford-university/amt-hyperparameter-sweep/runs/i9avwps8</a><br> View project at: <a href='https://wandb.ai/bryandong24-stanford-university/amt-hyperparameter-sweep' target=\"_blank\">https://wandb.ai/bryandong24-stanford-university/amt-hyperparameter-sweep</a><br>Synced 5 W&B file(s), 0 media file(s), 0 artifact file(s) and 0 other file(s)"
      ],
      "text/plain": [
       "<IPython.core.display.HTML object>"
      ]
     },
     "metadata": {},
     "output_type": "display_data"
    },
    {
     "data": {
      "text/html": [
       "Find logs at: <code>./wandb/run-20250604_071117-i9avwps8/logs</code>"
      ],
      "text/plain": [
       "<IPython.core.display.HTML object>"
      ]
     },
     "metadata": {},
     "output_type": "display_data"
    },
    {
     "name": "stderr",
     "output_type": "stream",
     "text": [
      "\u001b[34m\u001b[1mwandb\u001b[0m: Agent Starting Run: riyk6upa with config:\n",
      "\u001b[34m\u001b[1mwandb\u001b[0m: \taug_color_jitter: 0.2184364025990175\n",
      "\u001b[34m\u001b[1mwandb\u001b[0m: \taug_joint_noise_std: 0.00962811375501646\n",
      "\u001b[34m\u001b[1mwandb\u001b[0m: \taug_rotation_range: 13.603650964700162\n",
      "\u001b[34m\u001b[1mwandb\u001b[0m: \taug_scale_max: 1.1671320368191298\n",
      "\u001b[34m\u001b[1mwandb\u001b[0m: \taug_scale_min: 0.8444967019263695\n",
      "\u001b[34m\u001b[1mwandb\u001b[0m: \taug_translation_std: 0.025464490743080985\n",
      "\u001b[34m\u001b[1mwandb\u001b[0m: \tbatch_size: 256\n",
      "\u001b[34m\u001b[1mwandb\u001b[0m: \tdiversity_margin: 0.010713958550302357\n",
      "\u001b[34m\u001b[1mwandb\u001b[0m: \tdropout: 0.3\n",
      "\u001b[34m\u001b[1mwandb\u001b[0m: \tfingertip_weight: 1.2629174645050627\n",
      "\u001b[34m\u001b[1mwandb\u001b[0m: \tloss_weight_contact: 0.3891939852444235\n",
      "\u001b[34m\u001b[1mwandb\u001b[0m: \tloss_weight_diversity: 0.03183747069760243\n",
      "\u001b[34m\u001b[1mwandb\u001b[0m: \tloss_weight_hand_coarse: 1.1038950153435334\n",
      "\u001b[34m\u001b[1mwandb\u001b[0m: \tloss_weight_hand_refined: 1.423683469188514\n",
      "\u001b[34m\u001b[1mwandb\u001b[0m: \tloss_weight_object_position: 1.1201606136496849\n",
      "\u001b[34m\u001b[1mwandb\u001b[0m: \tloss_weight_object_rotation: 0.6836847811801692\n",
      "\u001b[34m\u001b[1mwandb\u001b[0m: \tloss_weight_physics: 0.06244408968476594\n",
      "\u001b[34m\u001b[1mwandb\u001b[0m: \tloss_weight_reprojection: 0.5019078198607174\n",
      "\u001b[34m\u001b[1mwandb\u001b[0m: \tper_joint_weighting: True\n",
      "\u001b[34m\u001b[1mwandb\u001b[0m: \tscheduler_type: exponential\n"
     ]
    },
    {
     "data": {
      "text/html": [
       "Tracking run with wandb version 0.19.11"
      ],
      "text/plain": [
       "<IPython.core.display.HTML object>"
      ]
     },
     "metadata": {},
     "output_type": "display_data"
    },
    {
     "data": {
      "text/html": [
       "Run data is saved locally in <code>/home/n231/231nProjectV2/Advanced_Manipulation_Transformer/notebooks/wandb/run-20250604_071711-riyk6upa</code>"
      ],
      "text/plain": [
       "<IPython.core.display.HTML object>"
      ]
     },
     "metadata": {},
     "output_type": "display_data"
    },
    {
     "data": {
      "text/html": [
       "Syncing run <strong><a href='https://wandb.ai/bryandong24-stanford-university/amt-hyperparameter-sweep/runs/riyk6upa' target=\"_blank\">stilted-sweep-36</a></strong> to <a href='https://wandb.ai/bryandong24-stanford-university/amt-hyperparameter-sweep' target=\"_blank\">Weights & Biases</a> (<a href='https://wandb.me/developer-guide' target=\"_blank\">docs</a>)<br>Sweep page: <a href='https://wandb.ai/bryandong24-stanford-university/amt-hyperparameter-sweep/sweeps/c189gpt8' target=\"_blank\">https://wandb.ai/bryandong24-stanford-university/amt-hyperparameter-sweep/sweeps/c189gpt8</a>"
      ],
      "text/plain": [
       "<IPython.core.display.HTML object>"
      ]
     },
     "metadata": {},
     "output_type": "display_data"
    },
    {
     "data": {
      "text/html": [
       " View project at <a href='https://wandb.ai/bryandong24-stanford-university/amt-hyperparameter-sweep' target=\"_blank\">https://wandb.ai/bryandong24-stanford-university/amt-hyperparameter-sweep</a>"
      ],
      "text/plain": [
       "<IPython.core.display.HTML object>"
      ]
     },
     "metadata": {},
     "output_type": "display_data"
    },
    {
     "data": {
      "text/html": [
       " View sweep at <a href='https://wandb.ai/bryandong24-stanford-university/amt-hyperparameter-sweep/sweeps/c189gpt8' target=\"_blank\">https://wandb.ai/bryandong24-stanford-university/amt-hyperparameter-sweep/sweeps/c189gpt8</a>"
      ],
      "text/plain": [
       "<IPython.core.display.HTML object>"
      ]
     },
     "metadata": {},
     "output_type": "display_data"
    },
    {
     "data": {
      "text/html": [
       " View run at <a href='https://wandb.ai/bryandong24-stanford-university/amt-hyperparameter-sweep/runs/riyk6upa' target=\"_blank\">https://wandb.ai/bryandong24-stanford-university/amt-hyperparameter-sweep/runs/riyk6upa</a>"
      ],
      "text/plain": [
       "<IPython.core.display.HTML object>"
      ]
     },
     "metadata": {},
     "output_type": "display_data"
    },
    {
     "name": "stdout",
     "output_type": "stream",
     "text": [
      "Creating dataloaders with 20k train, 2k val samples, batch_size=256...\n",
      "Creating GPU-cached datasets...\n",
      "Target memory usage: 20.0 GB\n",
      "Estimated GPU memory usage: 20.0 GB\n",
      "Loading cached GPU dataset from ./gpu_cache_sweep/train_gpu_cache_20000.pt...\n",
      "Loading cache from ./gpu_cache_sweep/train_gpu_cache_20000.pt...\n",
      "✓ Loaded 20000 samples\n",
      "Estimated GPU memory usage: 2.0 GB\n",
      "Loading cached GPU dataset from ./gpu_cache_sweep/val_gpu_cache_2000.pt...\n",
      "Loading cache from ./gpu_cache_sweep/val_gpu_cache_2000.pt...\n",
      "✓ Loaded 2000 samples\n",
      "\n",
      "✓ GPU Datasets created:\n",
      "  Train: 20000 samples (6.7 GB)\n",
      "  Val: 2000 samples (6.7 GB)\n",
      "  Total GPU memory: 13.4 GB\n",
      "Dataloaders created: 78 train batches, 8 val batches\n",
      "Epoch 1/7: train_loss=1.6563, train_mpjpe=657.53mm, val_loss=0.9447, val_mpjpe=366.20mm\n",
      "Epoch 2/7: train_loss=0.8967, train_mpjpe=387.34mm, val_loss=0.6908, val_mpjpe=308.28mm\n",
      "Epoch 3/7: train_loss=0.7467, train_mpjpe=359.78mm, val_loss=0.6102, val_mpjpe=297.45mm\n",
      "Epoch 4/7: train_loss=0.7275, train_mpjpe=353.77mm, val_loss=0.5944, val_mpjpe=301.66mm\n",
      "Epoch 5/7: train_loss=0.7150, train_mpjpe=338.47mm, val_loss=0.5926, val_mpjpe=289.90mm\n",
      "Epoch 6/7: train_loss=0.7096, train_mpjpe=324.24mm, val_loss=0.5306, val_mpjpe=275.63mm\n",
      "Epoch 7/7: train_loss=0.7039, train_mpjpe=308.17mm, val_loss=0.5565, val_mpjpe=258.33mm\n"
     ]
    },
    {
     "data": {
      "text/html": [],
      "text/plain": [
       "<IPython.core.display.HTML object>"
      ]
     },
     "metadata": {},
     "output_type": "display_data"
    },
    {
     "data": {
      "text/html": [
       "<br>    <style><br>        .wandb-row {<br>            display: flex;<br>            flex-direction: row;<br>            flex-wrap: wrap;<br>            justify-content: flex-start;<br>            width: 100%;<br>        }<br>        .wandb-col {<br>            display: flex;<br>            flex-direction: column;<br>            flex-basis: 100%;<br>            flex: 1;<br>            padding: 10px;<br>        }<br>    </style><br><div class=\"wandb-row\"><div class=\"wandb-col\"><h3>Run history:</h3><br/><table class=\"wandb\"><tr><td>epoch</td><td>▁▂▃▅▆▇█</td></tr><tr><td>final/best_val_mpjpe</td><td>▁</td></tr><tr><td>final/epochs_trained</td><td>▁</td></tr><tr><td>system/gpu_memory_gb</td><td>▆██▇▅▁▆▃▇▃▇▅▅▅▁▅▆▇▅▃▇▃▇▅▅▅▁▅</td></tr><tr><td>train/batch_loss</td><td>█▃▂▂▂▂▁▁▁▁▁▁▁▁▁▁▁▁▁▁▁▁▁▁▁▁▁▁</td></tr><tr><td>train/batch_mpjpe</td><td>█▂▂▁▁▁▁▁▁▁▁▁▁▁▁▁▁▁▁▁▁▁▁▁▁▁▁▁</td></tr><tr><td>train/hand_mpjpe</td><td>█▃▂▂▂▁▁</td></tr><tr><td>train/loss</td><td>█▂▁▁▁▁▁</td></tr><tr><td>train/lr</td><td>████▇▇▇▇▅▅▅▅▄▄▄▄▃▃▃▃▂▂▂▂▁▁▁▁</td></tr><tr><td>val/best_mpjpe</td><td>█▄▄▄▃▂▁</td></tr><tr><td>val/hand_mpjpe</td><td>█▄▄▄▃▂▁</td></tr><tr><td>val/loss</td><td>█▄▂▂▂▁▁</td></tr></table><br/></div><div class=\"wandb-col\"><h3>Run summary:</h3><br/><table class=\"wandb\"><tr><td>epoch</td><td>6</td></tr><tr><td>final/best_val_mpjpe</td><td>258.32812</td></tr><tr><td>final/epochs_trained</td><td>7</td></tr><tr><td>system/gpu_memory_gb</td><td>11.88374</td></tr><tr><td>train/batch_loss</td><td>0.67909</td></tr><tr><td>train/batch_mpjpe</td><td>296.875</td></tr><tr><td>train/hand_mpjpe</td><td>308.16807</td></tr><tr><td>train/loss</td><td>0.7039</td></tr><tr><td>train/lr</td><td>1e-05</td></tr><tr><td>val/best_mpjpe</td><td>258.32812</td></tr><tr><td>val/hand_mpjpe</td><td>258.32812</td></tr><tr><td>val/loss</td><td>0.5565</td></tr></table><br/></div></div>"
      ],
      "text/plain": [
       "<IPython.core.display.HTML object>"
      ]
     },
     "metadata": {},
     "output_type": "display_data"
    },
    {
     "data": {
      "text/html": [
       " View run <strong style=\"color:#cdcd00\">stilted-sweep-36</strong> at: <a href='https://wandb.ai/bryandong24-stanford-university/amt-hyperparameter-sweep/runs/riyk6upa' target=\"_blank\">https://wandb.ai/bryandong24-stanford-university/amt-hyperparameter-sweep/runs/riyk6upa</a><br> View project at: <a href='https://wandb.ai/bryandong24-stanford-university/amt-hyperparameter-sweep' target=\"_blank\">https://wandb.ai/bryandong24-stanford-university/amt-hyperparameter-sweep</a><br>Synced 5 W&B file(s), 0 media file(s), 0 artifact file(s) and 0 other file(s)"
      ],
      "text/plain": [
       "<IPython.core.display.HTML object>"
      ]
     },
     "metadata": {},
     "output_type": "display_data"
    },
    {
     "data": {
      "text/html": [
       "Find logs at: <code>./wandb/run-20250604_071711-riyk6upa/logs</code>"
      ],
      "text/plain": [
       "<IPython.core.display.HTML object>"
      ]
     },
     "metadata": {},
     "output_type": "display_data"
    },
    {
     "name": "stderr",
     "output_type": "stream",
     "text": [
      "\u001b[34m\u001b[1mwandb\u001b[0m: Agent Starting Run: h3fg2ipy with config:\n",
      "\u001b[34m\u001b[1mwandb\u001b[0m: \taug_color_jitter: 0.10017867292044004\n",
      "\u001b[34m\u001b[1mwandb\u001b[0m: \taug_joint_noise_std: 0.0021670811449247085\n",
      "\u001b[34m\u001b[1mwandb\u001b[0m: \taug_rotation_range: 7.211314834640801\n",
      "\u001b[34m\u001b[1mwandb\u001b[0m: \taug_scale_max: 1.1711063804546198\n",
      "\u001b[34m\u001b[1mwandb\u001b[0m: \taug_scale_min: 0.7171154960259501\n",
      "\u001b[34m\u001b[1mwandb\u001b[0m: \taug_translation_std: 0.03983857741282842\n",
      "\u001b[34m\u001b[1mwandb\u001b[0m: \tbatch_size: 256\n",
      "\u001b[34m\u001b[1mwandb\u001b[0m: \tdiversity_margin: 0.012909311270121432\n",
      "\u001b[34m\u001b[1mwandb\u001b[0m: \tdropout: 0.2\n",
      "\u001b[34m\u001b[1mwandb\u001b[0m: \tfingertip_weight: 1.9392174490048348\n",
      "\u001b[34m\u001b[1mwandb\u001b[0m: \tloss_weight_contact: 0.3688049855669856\n",
      "\u001b[34m\u001b[1mwandb\u001b[0m: \tloss_weight_diversity: 0.015780185334671137\n",
      "\u001b[34m\u001b[1mwandb\u001b[0m: \tloss_weight_hand_coarse: 1.1824315671822476\n",
      "\u001b[34m\u001b[1mwandb\u001b[0m: \tloss_weight_hand_refined: 1.464451233375572\n",
      "\u001b[34m\u001b[1mwandb\u001b[0m: \tloss_weight_object_position: 1.0653668971047463\n",
      "\u001b[34m\u001b[1mwandb\u001b[0m: \tloss_weight_object_rotation: 0.4993741457565801\n",
      "\u001b[34m\u001b[1mwandb\u001b[0m: \tloss_weight_physics: 0.15671376065548592\n",
      "\u001b[34m\u001b[1mwandb\u001b[0m: \tloss_weight_reprojection: 0.5894952138915297\n",
      "\u001b[34m\u001b[1mwandb\u001b[0m: \tper_joint_weighting: True\n",
      "\u001b[34m\u001b[1mwandb\u001b[0m: \tscheduler_type: step\n"
     ]
    },
    {
     "data": {
      "text/html": [
       "Tracking run with wandb version 0.19.11"
      ],
      "text/plain": [
       "<IPython.core.display.HTML object>"
      ]
     },
     "metadata": {},
     "output_type": "display_data"
    },
    {
     "data": {
      "text/html": [
       "Run data is saved locally in <code>/home/n231/231nProjectV2/Advanced_Manipulation_Transformer/notebooks/wandb/run-20250604_072134-h3fg2ipy</code>"
      ],
      "text/plain": [
       "<IPython.core.display.HTML object>"
      ]
     },
     "metadata": {},
     "output_type": "display_data"
    },
    {
     "data": {
      "text/html": [
       "Syncing run <strong><a href='https://wandb.ai/bryandong24-stanford-university/amt-hyperparameter-sweep/runs/h3fg2ipy' target=\"_blank\">earthy-sweep-37</a></strong> to <a href='https://wandb.ai/bryandong24-stanford-university/amt-hyperparameter-sweep' target=\"_blank\">Weights & Biases</a> (<a href='https://wandb.me/developer-guide' target=\"_blank\">docs</a>)<br>Sweep page: <a href='https://wandb.ai/bryandong24-stanford-university/amt-hyperparameter-sweep/sweeps/c189gpt8' target=\"_blank\">https://wandb.ai/bryandong24-stanford-university/amt-hyperparameter-sweep/sweeps/c189gpt8</a>"
      ],
      "text/plain": [
       "<IPython.core.display.HTML object>"
      ]
     },
     "metadata": {},
     "output_type": "display_data"
    },
    {
     "data": {
      "text/html": [
       " View project at <a href='https://wandb.ai/bryandong24-stanford-university/amt-hyperparameter-sweep' target=\"_blank\">https://wandb.ai/bryandong24-stanford-university/amt-hyperparameter-sweep</a>"
      ],
      "text/plain": [
       "<IPython.core.display.HTML object>"
      ]
     },
     "metadata": {},
     "output_type": "display_data"
    },
    {
     "data": {
      "text/html": [
       " View sweep at <a href='https://wandb.ai/bryandong24-stanford-university/amt-hyperparameter-sweep/sweeps/c189gpt8' target=\"_blank\">https://wandb.ai/bryandong24-stanford-university/amt-hyperparameter-sweep/sweeps/c189gpt8</a>"
      ],
      "text/plain": [
       "<IPython.core.display.HTML object>"
      ]
     },
     "metadata": {},
     "output_type": "display_data"
    },
    {
     "data": {
      "text/html": [
       " View run at <a href='https://wandb.ai/bryandong24-stanford-university/amt-hyperparameter-sweep/runs/h3fg2ipy' target=\"_blank\">https://wandb.ai/bryandong24-stanford-university/amt-hyperparameter-sweep/runs/h3fg2ipy</a>"
      ],
      "text/plain": [
       "<IPython.core.display.HTML object>"
      ]
     },
     "metadata": {},
     "output_type": "display_data"
    },
    {
     "name": "stdout",
     "output_type": "stream",
     "text": [
      "Creating dataloaders with 20k train, 2k val samples, batch_size=256...\n",
      "Creating GPU-cached datasets...\n",
      "Target memory usage: 20.0 GB\n",
      "Estimated GPU memory usage: 20.0 GB\n",
      "Loading cached GPU dataset from ./gpu_cache_sweep/train_gpu_cache_20000.pt...\n",
      "Loading cache from ./gpu_cache_sweep/train_gpu_cache_20000.pt...\n",
      "✓ Loaded 20000 samples\n",
      "Estimated GPU memory usage: 2.0 GB\n",
      "Loading cached GPU dataset from ./gpu_cache_sweep/val_gpu_cache_2000.pt...\n",
      "Loading cache from ./gpu_cache_sweep/val_gpu_cache_2000.pt...\n",
      "✓ Loaded 2000 samples\n",
      "\n",
      "✓ GPU Datasets created:\n",
      "  Train: 20000 samples (6.7 GB)\n",
      "  Val: 2000 samples (6.7 GB)\n",
      "  Total GPU memory: 13.4 GB\n",
      "Dataloaders created: 78 train batches, 8 val batches\n",
      "Epoch 1/7: train_loss=1.5073, train_mpjpe=673.93mm, val_loss=0.8090, val_mpjpe=313.88mm\n",
      "Epoch 2/7: train_loss=0.8294, train_mpjpe=380.21mm, val_loss=0.6149, val_mpjpe=311.31mm\n",
      "Epoch 3/7: train_loss=0.7246, train_mpjpe=358.30mm, val_loss=0.5245, val_mpjpe=304.23mm\n",
      "Epoch 4/7: train_loss=0.6818, train_mpjpe=339.77mm, val_loss=0.5243, val_mpjpe=302.81mm\n",
      "Epoch 5/7: train_loss=0.6812, train_mpjpe=329.75mm, val_loss=0.5313, val_mpjpe=270.27mm\n",
      "Epoch 6/7: train_loss=0.6807, train_mpjpe=321.04mm, val_loss=0.5629, val_mpjpe=298.95mm\n",
      "Epoch 7/7: train_loss=0.6819, train_mpjpe=311.06mm, val_loss=0.5533, val_mpjpe=268.35mm\n"
     ]
    },
    {
     "data": {
      "text/html": [],
      "text/plain": [
       "<IPython.core.display.HTML object>"
      ]
     },
     "metadata": {},
     "output_type": "display_data"
    },
    {
     "data": {
      "text/html": [
       "<br>    <style><br>        .wandb-row {<br>            display: flex;<br>            flex-direction: row;<br>            flex-wrap: wrap;<br>            justify-content: flex-start;<br>            width: 100%;<br>        }<br>        .wandb-col {<br>            display: flex;<br>            flex-direction: column;<br>            flex-basis: 100%;<br>            flex: 1;<br>            padding: 10px;<br>        }<br>    </style><br><div class=\"wandb-row\"><div class=\"wandb-col\"><h3>Run history:</h3><br/><table class=\"wandb\"><tr><td>epoch</td><td>▁▂▃▅▆▇█</td></tr><tr><td>final/best_val_mpjpe</td><td>▁</td></tr><tr><td>final/epochs_trained</td><td>▁</td></tr><tr><td>system/gpu_memory_gb</td><td>▆█▅▃▆▃▃▂▃▃▃▃▅▅▃▃▂▄▆▁▂▄▃▅▄▅▃▄</td></tr><tr><td>train/batch_loss</td><td>█▃▂▂▂▂▁▁▁▁▁▁▁▁▁▁▁▁▁▁▁▁▁▁▁▁▁▁</td></tr><tr><td>train/batch_mpjpe</td><td>█▂▂▁▁▂▁▁▁▁▁▁▁▁▁▁▁▁▁▁▁▁▁▁▁▁▁▁</td></tr><tr><td>train/hand_mpjpe</td><td>█▂▂▂▁▁▁</td></tr><tr><td>train/loss</td><td>█▂▁▁▁▁▁</td></tr><tr><td>train/lr</td><td>████████████▃▃▃▃▃▃▃▃▃▃▃▃▁▁▁▁</td></tr><tr><td>val/best_mpjpe</td><td>██▇▆▁▁▁</td></tr><tr><td>val/hand_mpjpe</td><td>██▇▆▁▆▁</td></tr><tr><td>val/loss</td><td>█▃▁▁▁▂▂</td></tr></table><br/></div><div class=\"wandb-col\"><h3>Run summary:</h3><br/><table class=\"wandb\"><tr><td>epoch</td><td>6</td></tr><tr><td>final/best_val_mpjpe</td><td>268.35156</td></tr><tr><td>final/epochs_trained</td><td>7</td></tr><tr><td>system/gpu_memory_gb</td><td>11.88015</td></tr><tr><td>train/batch_loss</td><td>0.72663</td></tr><tr><td>train/batch_mpjpe</td><td>330.07812</td></tr><tr><td>train/hand_mpjpe</td><td>311.0602</td></tr><tr><td>train/loss</td><td>0.68186</td></tr><tr><td>train/lr</td><td>0.0</td></tr><tr><td>val/best_mpjpe</td><td>268.35156</td></tr><tr><td>val/hand_mpjpe</td><td>268.35156</td></tr><tr><td>val/loss</td><td>0.55332</td></tr></table><br/></div></div>"
      ],
      "text/plain": [
       "<IPython.core.display.HTML object>"
      ]
     },
     "metadata": {},
     "output_type": "display_data"
    },
    {
     "data": {
      "text/html": [
       " View run <strong style=\"color:#cdcd00\">earthy-sweep-37</strong> at: <a href='https://wandb.ai/bryandong24-stanford-university/amt-hyperparameter-sweep/runs/h3fg2ipy' target=\"_blank\">https://wandb.ai/bryandong24-stanford-university/amt-hyperparameter-sweep/runs/h3fg2ipy</a><br> View project at: <a href='https://wandb.ai/bryandong24-stanford-university/amt-hyperparameter-sweep' target=\"_blank\">https://wandb.ai/bryandong24-stanford-university/amt-hyperparameter-sweep</a><br>Synced 5 W&B file(s), 0 media file(s), 0 artifact file(s) and 0 other file(s)"
      ],
      "text/plain": [
       "<IPython.core.display.HTML object>"
      ]
     },
     "metadata": {},
     "output_type": "display_data"
    },
    {
     "data": {
      "text/html": [
       "Find logs at: <code>./wandb/run-20250604_072134-h3fg2ipy/logs</code>"
      ],
      "text/plain": [
       "<IPython.core.display.HTML object>"
      ]
     },
     "metadata": {},
     "output_type": "display_data"
    },
    {
     "name": "stderr",
     "output_type": "stream",
     "text": [
      "\u001b[34m\u001b[1mwandb\u001b[0m: Agent Starting Run: rrp73kpu with config:\n",
      "\u001b[34m\u001b[1mwandb\u001b[0m: \taug_color_jitter: 0.17350611984939174\n",
      "\u001b[34m\u001b[1mwandb\u001b[0m: \taug_joint_noise_std: 0.00509441971694709\n",
      "\u001b[34m\u001b[1mwandb\u001b[0m: \taug_rotation_range: 6.294369600614664\n",
      "\u001b[34m\u001b[1mwandb\u001b[0m: \taug_scale_max: 1.1481577658636353\n",
      "\u001b[34m\u001b[1mwandb\u001b[0m: \taug_scale_min: 0.8350449388391443\n",
      "\u001b[34m\u001b[1mwandb\u001b[0m: \taug_translation_std: 0.0925905990581446\n",
      "\u001b[34m\u001b[1mwandb\u001b[0m: \tbatch_size: 128\n",
      "\u001b[34m\u001b[1mwandb\u001b[0m: \tdiversity_margin: 0.01958510408550662\n",
      "\u001b[34m\u001b[1mwandb\u001b[0m: \tdropout: 0.2\n",
      "\u001b[34m\u001b[1mwandb\u001b[0m: \tfingertip_weight: 1.2479733539433384\n",
      "\u001b[34m\u001b[1mwandb\u001b[0m: \tloss_weight_contact: 0.44369876715720663\n",
      "\u001b[34m\u001b[1mwandb\u001b[0m: \tloss_weight_diversity: 0.037820904600142695\n",
      "\u001b[34m\u001b[1mwandb\u001b[0m: \tloss_weight_hand_coarse: 1.1149956102811711\n",
      "\u001b[34m\u001b[1mwandb\u001b[0m: \tloss_weight_hand_refined: 1.4514335760586594\n",
      "\u001b[34m\u001b[1mwandb\u001b[0m: \tloss_weight_object_position: 1.12459755027582\n",
      "\u001b[34m\u001b[1mwandb\u001b[0m: \tloss_weight_object_rotation: 0.4571547011028176\n",
      "\u001b[34m\u001b[1mwandb\u001b[0m: \tloss_weight_physics: 0.1210337898642117\n",
      "\u001b[34m\u001b[1mwandb\u001b[0m: \tloss_weight_reprojection: 0.6451688409882932\n",
      "\u001b[34m\u001b[1mwandb\u001b[0m: \tper_joint_weighting: False\n",
      "\u001b[34m\u001b[1mwandb\u001b[0m: \tscheduler_type: step\n"
     ]
    },
    {
     "data": {
      "text/html": [
       "Tracking run with wandb version 0.19.11"
      ],
      "text/plain": [
       "<IPython.core.display.HTML object>"
      ]
     },
     "metadata": {},
     "output_type": "display_data"
    },
    {
     "data": {
      "text/html": [
       "Run data is saved locally in <code>/home/n231/231nProjectV2/Advanced_Manipulation_Transformer/notebooks/wandb/run-20250604_072556-rrp73kpu</code>"
      ],
      "text/plain": [
       "<IPython.core.display.HTML object>"
      ]
     },
     "metadata": {},
     "output_type": "display_data"
    },
    {
     "data": {
      "text/html": [
       "Syncing run <strong><a href='https://wandb.ai/bryandong24-stanford-university/amt-hyperparameter-sweep/runs/rrp73kpu' target=\"_blank\">revived-sweep-38</a></strong> to <a href='https://wandb.ai/bryandong24-stanford-university/amt-hyperparameter-sweep' target=\"_blank\">Weights & Biases</a> (<a href='https://wandb.me/developer-guide' target=\"_blank\">docs</a>)<br>Sweep page: <a href='https://wandb.ai/bryandong24-stanford-university/amt-hyperparameter-sweep/sweeps/c189gpt8' target=\"_blank\">https://wandb.ai/bryandong24-stanford-university/amt-hyperparameter-sweep/sweeps/c189gpt8</a>"
      ],
      "text/plain": [
       "<IPython.core.display.HTML object>"
      ]
     },
     "metadata": {},
     "output_type": "display_data"
    },
    {
     "data": {
      "text/html": [
       " View project at <a href='https://wandb.ai/bryandong24-stanford-university/amt-hyperparameter-sweep' target=\"_blank\">https://wandb.ai/bryandong24-stanford-university/amt-hyperparameter-sweep</a>"
      ],
      "text/plain": [
       "<IPython.core.display.HTML object>"
      ]
     },
     "metadata": {},
     "output_type": "display_data"
    },
    {
     "data": {
      "text/html": [
       " View sweep at <a href='https://wandb.ai/bryandong24-stanford-university/amt-hyperparameter-sweep/sweeps/c189gpt8' target=\"_blank\">https://wandb.ai/bryandong24-stanford-university/amt-hyperparameter-sweep/sweeps/c189gpt8</a>"
      ],
      "text/plain": [
       "<IPython.core.display.HTML object>"
      ]
     },
     "metadata": {},
     "output_type": "display_data"
    },
    {
     "data": {
      "text/html": [
       " View run at <a href='https://wandb.ai/bryandong24-stanford-university/amt-hyperparameter-sweep/runs/rrp73kpu' target=\"_blank\">https://wandb.ai/bryandong24-stanford-university/amt-hyperparameter-sweep/runs/rrp73kpu</a>"
      ],
      "text/plain": [
       "<IPython.core.display.HTML object>"
      ]
     },
     "metadata": {},
     "output_type": "display_data"
    },
    {
     "name": "stdout",
     "output_type": "stream",
     "text": [
      "Creating dataloaders with 20k train, 2k val samples, batch_size=128...\n",
      "Creating GPU-cached datasets...\n",
      "Target memory usage: 20.0 GB\n",
      "Estimated GPU memory usage: 20.0 GB\n",
      "Loading cached GPU dataset from ./gpu_cache_sweep/train_gpu_cache_20000.pt...\n",
      "Loading cache from ./gpu_cache_sweep/train_gpu_cache_20000.pt...\n",
      "✓ Loaded 20000 samples\n",
      "Estimated GPU memory usage: 2.0 GB\n",
      "Loading cached GPU dataset from ./gpu_cache_sweep/val_gpu_cache_2000.pt...\n",
      "Loading cache from ./gpu_cache_sweep/val_gpu_cache_2000.pt...\n",
      "✓ Loaded 2000 samples\n",
      "\n",
      "✓ GPU Datasets created:\n",
      "  Train: 20000 samples (6.7 GB)\n",
      "  Val: 2000 samples (6.7 GB)\n",
      "  Total GPU memory: 13.4 GB\n",
      "Dataloaders created: 156 train batches, 16 val batches\n",
      "Epoch 1/7: train_loss=1.1484, train_mpjpe=526.98mm, val_loss=0.5336, val_mpjpe=340.44mm\n",
      "Epoch 2/7: train_loss=0.6653, train_mpjpe=357.21mm, val_loss=0.4976, val_mpjpe=305.66mm\n",
      "Epoch 3/7: train_loss=0.6215, train_mpjpe=329.65mm, val_loss=0.4816, val_mpjpe=272.46mm\n",
      "Epoch 4/7: train_loss=0.6011, train_mpjpe=297.88mm, val_loss=0.4721, val_mpjpe=260.88mm\n",
      "Epoch 5/7: train_loss=0.5991, train_mpjpe=280.99mm, val_loss=0.4810, val_mpjpe=249.26mm\n",
      "Epoch 6/7: train_loss=0.5974, train_mpjpe=267.35mm, val_loss=0.4894, val_mpjpe=267.96mm\n",
      "Epoch 7/7: train_loss=0.5947, train_mpjpe=252.30mm, val_loss=0.4951, val_mpjpe=251.50mm\n"
     ]
    },
    {
     "data": {
      "text/html": [],
      "text/plain": [
       "<IPython.core.display.HTML object>"
      ]
     },
     "metadata": {},
     "output_type": "display_data"
    },
    {
     "data": {
      "text/html": [
       "<br>    <style><br>        .wandb-row {<br>            display: flex;<br>            flex-direction: row;<br>            flex-wrap: wrap;<br>            justify-content: flex-start;<br>            width: 100%;<br>        }<br>        .wandb-col {<br>            display: flex;<br>            flex-direction: column;<br>            flex-basis: 100%;<br>            flex: 1;<br>            padding: 10px;<br>        }<br>    </style><br><div class=\"wandb-row\"><div class=\"wandb-col\"><h3>Run history:</h3><br/><table class=\"wandb\"><tr><td>epoch</td><td>▁▂▃▅▆▇█</td></tr><tr><td>final/best_val_mpjpe</td><td>▁</td></tr><tr><td>final/epochs_trained</td><td>▁</td></tr><tr><td>system/gpu_memory_gb</td><td>▃▅▂▅▅█▇▄▃▄▅▂▄▄▂▆▅▅▅▄▆▄▄▃▃▆▆▇▄▆▄▆▅▅▃▄▁▂▅▁</td></tr><tr><td>train/batch_loss</td><td>█▃▃▂▂▂▂▂▁▁▁▂▂▂▁▁▁▁▁▁▂▁▁▁▁▂▁▁▁▂▁▁▂▁▁▁▁▁▂▁</td></tr><tr><td>train/batch_mpjpe</td><td>█▂▂▂▂▂▁▂▁▂▂▂▂▂▂▁▂▂▁▁▁▁▁▂▁▁▁▁▁▁▁▁▁▂▁▁▁▁▁▁</td></tr><tr><td>train/hand_mpjpe</td><td>█▄▃▂▂▁▁</td></tr><tr><td>train/loss</td><td>█▂▁▁▁▁▁</td></tr><tr><td>train/lr</td><td>████████████████████▃▃▃▃▃▃▃▃▃▃▃▃▃▃▃▁▁▁▁▁</td></tr><tr><td>val/best_mpjpe</td><td>█▅▃▂▁▁▁</td></tr><tr><td>val/hand_mpjpe</td><td>█▅▃▂▁▂▁</td></tr><tr><td>val/loss</td><td>█▄▂▁▂▃▄</td></tr></table><br/></div><div class=\"wandb-col\"><h3>Run summary:</h3><br/><table class=\"wandb\"><tr><td>epoch</td><td>6</td></tr><tr><td>final/best_val_mpjpe</td><td>249.25781</td></tr><tr><td>final/epochs_trained</td><td>7</td></tr><tr><td>system/gpu_memory_gb</td><td>11.45166</td></tr><tr><td>train/batch_loss</td><td>0.63246</td></tr><tr><td>train/batch_mpjpe</td><td>265.625</td></tr><tr><td>train/hand_mpjpe</td><td>252.30369</td></tr><tr><td>train/loss</td><td>0.59468</td></tr><tr><td>train/lr</td><td>0.0</td></tr><tr><td>val/best_mpjpe</td><td>249.25781</td></tr><tr><td>val/hand_mpjpe</td><td>251.5</td></tr><tr><td>val/loss</td><td>0.49512</td></tr></table><br/></div></div>"
      ],
      "text/plain": [
       "<IPython.core.display.HTML object>"
      ]
     },
     "metadata": {},
     "output_type": "display_data"
    },
    {
     "data": {
      "text/html": [
       " View run <strong style=\"color:#cdcd00\">revived-sweep-38</strong> at: <a href='https://wandb.ai/bryandong24-stanford-university/amt-hyperparameter-sweep/runs/rrp73kpu' target=\"_blank\">https://wandb.ai/bryandong24-stanford-university/amt-hyperparameter-sweep/runs/rrp73kpu</a><br> View project at: <a href='https://wandb.ai/bryandong24-stanford-university/amt-hyperparameter-sweep' target=\"_blank\">https://wandb.ai/bryandong24-stanford-university/amt-hyperparameter-sweep</a><br>Synced 5 W&B file(s), 0 media file(s), 0 artifact file(s) and 0 other file(s)"
      ],
      "text/plain": [
       "<IPython.core.display.HTML object>"
      ]
     },
     "metadata": {},
     "output_type": "display_data"
    },
    {
     "data": {
      "text/html": [
       "Find logs at: <code>./wandb/run-20250604_072556-rrp73kpu/logs</code>"
      ],
      "text/plain": [
       "<IPython.core.display.HTML object>"
      ]
     },
     "metadata": {},
     "output_type": "display_data"
    },
    {
     "name": "stderr",
     "output_type": "stream",
     "text": [
      "\u001b[34m\u001b[1mwandb\u001b[0m: Agent Starting Run: w4lflvmq with config:\n",
      "\u001b[34m\u001b[1mwandb\u001b[0m: \taug_color_jitter: 0.17327336051203274\n",
      "\u001b[34m\u001b[1mwandb\u001b[0m: \taug_joint_noise_std: 0.005381712114291982\n",
      "\u001b[34m\u001b[1mwandb\u001b[0m: \taug_rotation_range: 5.21046573854046\n",
      "\u001b[34m\u001b[1mwandb\u001b[0m: \taug_scale_max: 1.1756498952806866\n",
      "\u001b[34m\u001b[1mwandb\u001b[0m: \taug_scale_min: 0.7745673485232907\n",
      "\u001b[34m\u001b[1mwandb\u001b[0m: \taug_translation_std: 0.03064623729929984\n",
      "\u001b[34m\u001b[1mwandb\u001b[0m: \tbatch_size: 256\n",
      "\u001b[34m\u001b[1mwandb\u001b[0m: \tdiversity_margin: 0.017916918697543797\n",
      "\u001b[34m\u001b[1mwandb\u001b[0m: \tdropout: 0.15\n",
      "\u001b[34m\u001b[1mwandb\u001b[0m: \tfingertip_weight: 1.7373921127090066\n",
      "\u001b[34m\u001b[1mwandb\u001b[0m: \tloss_weight_contact: 0.2871489316126529\n",
      "\u001b[34m\u001b[1mwandb\u001b[0m: \tloss_weight_diversity: 0.021786555631526924\n",
      "\u001b[34m\u001b[1mwandb\u001b[0m: \tloss_weight_hand_coarse: 0.9409990211142404\n",
      "\u001b[34m\u001b[1mwandb\u001b[0m: \tloss_weight_hand_refined: 1.1134149159983395\n",
      "\u001b[34m\u001b[1mwandb\u001b[0m: \tloss_weight_object_position: 1.1105207585599453\n",
      "\u001b[34m\u001b[1mwandb\u001b[0m: \tloss_weight_object_rotation: 0.6014301818934432\n",
      "\u001b[34m\u001b[1mwandb\u001b[0m: \tloss_weight_physics: 0.10004245846438305\n",
      "\u001b[34m\u001b[1mwandb\u001b[0m: \tloss_weight_reprojection: 0.5353611131002873\n",
      "\u001b[34m\u001b[1mwandb\u001b[0m: \tper_joint_weighting: False\n",
      "\u001b[34m\u001b[1mwandb\u001b[0m: \tscheduler_type: exponential\n"
     ]
    },
    {
     "data": {
      "text/html": [
       "Tracking run with wandb version 0.19.11"
      ],
      "text/plain": [
       "<IPython.core.display.HTML object>"
      ]
     },
     "metadata": {},
     "output_type": "display_data"
    },
    {
     "data": {
      "text/html": [
       "Run data is saved locally in <code>/home/n231/231nProjectV2/Advanced_Manipulation_Transformer/notebooks/wandb/run-20250604_073051-w4lflvmq</code>"
      ],
      "text/plain": [
       "<IPython.core.display.HTML object>"
      ]
     },
     "metadata": {},
     "output_type": "display_data"
    },
    {
     "data": {
      "text/html": [
       "Syncing run <strong><a href='https://wandb.ai/bryandong24-stanford-university/amt-hyperparameter-sweep/runs/w4lflvmq' target=\"_blank\">unique-sweep-39</a></strong> to <a href='https://wandb.ai/bryandong24-stanford-university/amt-hyperparameter-sweep' target=\"_blank\">Weights & Biases</a> (<a href='https://wandb.me/developer-guide' target=\"_blank\">docs</a>)<br>Sweep page: <a href='https://wandb.ai/bryandong24-stanford-university/amt-hyperparameter-sweep/sweeps/c189gpt8' target=\"_blank\">https://wandb.ai/bryandong24-stanford-university/amt-hyperparameter-sweep/sweeps/c189gpt8</a>"
      ],
      "text/plain": [
       "<IPython.core.display.HTML object>"
      ]
     },
     "metadata": {},
     "output_type": "display_data"
    },
    {
     "data": {
      "text/html": [
       " View project at <a href='https://wandb.ai/bryandong24-stanford-university/amt-hyperparameter-sweep' target=\"_blank\">https://wandb.ai/bryandong24-stanford-university/amt-hyperparameter-sweep</a>"
      ],
      "text/plain": [
       "<IPython.core.display.HTML object>"
      ]
     },
     "metadata": {},
     "output_type": "display_data"
    },
    {
     "data": {
      "text/html": [
       " View sweep at <a href='https://wandb.ai/bryandong24-stanford-university/amt-hyperparameter-sweep/sweeps/c189gpt8' target=\"_blank\">https://wandb.ai/bryandong24-stanford-university/amt-hyperparameter-sweep/sweeps/c189gpt8</a>"
      ],
      "text/plain": [
       "<IPython.core.display.HTML object>"
      ]
     },
     "metadata": {},
     "output_type": "display_data"
    },
    {
     "data": {
      "text/html": [
       " View run at <a href='https://wandb.ai/bryandong24-stanford-university/amt-hyperparameter-sweep/runs/w4lflvmq' target=\"_blank\">https://wandb.ai/bryandong24-stanford-university/amt-hyperparameter-sweep/runs/w4lflvmq</a>"
      ],
      "text/plain": [
       "<IPython.core.display.HTML object>"
      ]
     },
     "metadata": {},
     "output_type": "display_data"
    },
    {
     "name": "stdout",
     "output_type": "stream",
     "text": [
      "Creating dataloaders with 20k train, 2k val samples, batch_size=256...\n",
      "Creating GPU-cached datasets...\n",
      "Target memory usage: 20.0 GB\n",
      "Estimated GPU memory usage: 20.0 GB\n",
      "Loading cached GPU dataset from ./gpu_cache_sweep/train_gpu_cache_20000.pt...\n",
      "Loading cache from ./gpu_cache_sweep/train_gpu_cache_20000.pt...\n",
      "✓ Loaded 20000 samples\n",
      "Estimated GPU memory usage: 2.0 GB\n",
      "Loading cached GPU dataset from ./gpu_cache_sweep/val_gpu_cache_2000.pt...\n",
      "Loading cache from ./gpu_cache_sweep/val_gpu_cache_2000.pt...\n",
      "✓ Loaded 2000 samples\n",
      "\n",
      "✓ GPU Datasets created:\n",
      "  Train: 20000 samples (6.7 GB)\n",
      "  Val: 2000 samples (6.7 GB)\n",
      "  Total GPU memory: 13.4 GB\n",
      "Dataloaders created: 78 train batches, 8 val batches\n",
      "Epoch 1/7: train_loss=1.2016, train_mpjpe=610.30mm, val_loss=0.7855, val_mpjpe=323.05mm\n",
      "Epoch 2/7: train_loss=0.7027, train_mpjpe=392.73mm, val_loss=0.4355, val_mpjpe=317.66mm\n",
      "Epoch 3/7: train_loss=0.5581, train_mpjpe=355.37mm, val_loss=0.4036, val_mpjpe=288.44mm\n",
      "Epoch 4/7: train_loss=0.5309, train_mpjpe=334.23mm, val_loss=0.4255, val_mpjpe=281.70mm\n",
      "Epoch 5/7: train_loss=0.5262, train_mpjpe=319.56mm, val_loss=0.4294, val_mpjpe=265.58mm\n",
      "Epoch 6/7: train_loss=0.5251, train_mpjpe=306.11mm, val_loss=0.4090, val_mpjpe=260.45mm\n",
      "Epoch 7/7: train_loss=0.5252, train_mpjpe=294.87mm, val_loss=0.4419, val_mpjpe=265.25mm\n"
     ]
    },
    {
     "data": {
      "text/html": [],
      "text/plain": [
       "<IPython.core.display.HTML object>"
      ]
     },
     "metadata": {},
     "output_type": "display_data"
    },
    {
     "data": {
      "text/html": [
       "<br>    <style><br>        .wandb-row {<br>            display: flex;<br>            flex-direction: row;<br>            flex-wrap: wrap;<br>            justify-content: flex-start;<br>            width: 100%;<br>        }<br>        .wandb-col {<br>            display: flex;<br>            flex-direction: column;<br>            flex-basis: 100%;<br>            flex: 1;<br>            padding: 10px;<br>        }<br>    </style><br><div class=\"wandb-row\"><div class=\"wandb-col\"><h3>Run history:</h3><br/><table class=\"wandb\"><tr><td>epoch</td><td>▁▂▃▅▆▇█</td></tr><tr><td>final/best_val_mpjpe</td><td>▁</td></tr><tr><td>final/epochs_trained</td><td>▁</td></tr><tr><td>system/gpu_memory_gb</td><td>▅█▄▇█▆▂▃▆▆▁▃█▃▃▅▅▂▃▁▅▁▄▂▅▇▂▅</td></tr><tr><td>train/batch_loss</td><td>█▃▃▂▂▂▂▁▂▁▁▁▁▁▁▁▁▁▁▁▁▁▁▁▁▁▁▁</td></tr><tr><td>train/batch_mpjpe</td><td>█▂▂▁▁▂▁▁▁▁▁▁▁▁▁▁▁▁▁▁▁▁▁▁▁▁▁▁</td></tr><tr><td>train/hand_mpjpe</td><td>█▃▂▂▂▁▁</td></tr><tr><td>train/loss</td><td>█▃▁▁▁▁▁</td></tr><tr><td>train/lr</td><td>████▇▇▇▇▅▅▅▅▄▄▄▄▃▃▃▃▂▂▂▂▁▁▁▁</td></tr><tr><td>val/best_mpjpe</td><td>█▇▄▃▂▁▁</td></tr><tr><td>val/hand_mpjpe</td><td>█▇▄▃▂▁▂</td></tr><tr><td>val/loss</td><td>█▂▁▁▁▁▂</td></tr></table><br/></div><div class=\"wandb-col\"><h3>Run summary:</h3><br/><table class=\"wandb\"><tr><td>epoch</td><td>6</td></tr><tr><td>final/best_val_mpjpe</td><td>260.44531</td></tr><tr><td>final/epochs_trained</td><td>7</td></tr><tr><td>system/gpu_memory_gb</td><td>11.88548</td></tr><tr><td>train/batch_loss</td><td>0.52338</td></tr><tr><td>train/batch_mpjpe</td><td>289.0625</td></tr><tr><td>train/hand_mpjpe</td><td>294.87179</td></tr><tr><td>train/loss</td><td>0.52518</td></tr><tr><td>train/lr</td><td>1e-05</td></tr><tr><td>val/best_mpjpe</td><td>260.44531</td></tr><tr><td>val/hand_mpjpe</td><td>265.25</td></tr><tr><td>val/loss</td><td>0.44192</td></tr></table><br/></div></div>"
      ],
      "text/plain": [
       "<IPython.core.display.HTML object>"
      ]
     },
     "metadata": {},
     "output_type": "display_data"
    },
    {
     "data": {
      "text/html": [
       " View run <strong style=\"color:#cdcd00\">unique-sweep-39</strong> at: <a href='https://wandb.ai/bryandong24-stanford-university/amt-hyperparameter-sweep/runs/w4lflvmq' target=\"_blank\">https://wandb.ai/bryandong24-stanford-university/amt-hyperparameter-sweep/runs/w4lflvmq</a><br> View project at: <a href='https://wandb.ai/bryandong24-stanford-university/amt-hyperparameter-sweep' target=\"_blank\">https://wandb.ai/bryandong24-stanford-university/amt-hyperparameter-sweep</a><br>Synced 5 W&B file(s), 0 media file(s), 0 artifact file(s) and 0 other file(s)"
      ],
      "text/plain": [
       "<IPython.core.display.HTML object>"
      ]
     },
     "metadata": {},
     "output_type": "display_data"
    },
    {
     "data": {
      "text/html": [
       "Find logs at: <code>./wandb/run-20250604_073051-w4lflvmq/logs</code>"
      ],
      "text/plain": [
       "<IPython.core.display.HTML object>"
      ]
     },
     "metadata": {},
     "output_type": "display_data"
    },
    {
     "name": "stderr",
     "output_type": "stream",
     "text": [
      "\u001b[34m\u001b[1mwandb\u001b[0m: Agent Starting Run: 122bsqtl with config:\n",
      "\u001b[34m\u001b[1mwandb\u001b[0m: \taug_color_jitter: 0.2109690912322944\n",
      "\u001b[34m\u001b[1mwandb\u001b[0m: \taug_joint_noise_std: 0.007933774554847076\n",
      "\u001b[34m\u001b[1mwandb\u001b[0m: \taug_rotation_range: 10.983209800162792\n",
      "\u001b[34m\u001b[1mwandb\u001b[0m: \taug_scale_max: 1.1261695192745598\n",
      "\u001b[34m\u001b[1mwandb\u001b[0m: \taug_scale_min: 0.8108249361922895\n",
      "\u001b[34m\u001b[1mwandb\u001b[0m: \taug_translation_std: 0.03119889710953822\n",
      "\u001b[34m\u001b[1mwandb\u001b[0m: \tbatch_size: 128\n",
      "\u001b[34m\u001b[1mwandb\u001b[0m: \tdiversity_margin: 0.017879132673067462\n",
      "\u001b[34m\u001b[1mwandb\u001b[0m: \tdropout: 0.1\n",
      "\u001b[34m\u001b[1mwandb\u001b[0m: \tfingertip_weight: 1.484475146926524\n",
      "\u001b[34m\u001b[1mwandb\u001b[0m: \tloss_weight_contact: 0.2992892621217441\n",
      "\u001b[34m\u001b[1mwandb\u001b[0m: \tloss_weight_diversity: 0.02900203071817509\n",
      "\u001b[34m\u001b[1mwandb\u001b[0m: \tloss_weight_hand_coarse: 1.074450211610649\n",
      "\u001b[34m\u001b[1mwandb\u001b[0m: \tloss_weight_hand_refined: 1.2437318336734646\n",
      "\u001b[34m\u001b[1mwandb\u001b[0m: \tloss_weight_object_position: 0.8835015838592691\n",
      "\u001b[34m\u001b[1mwandb\u001b[0m: \tloss_weight_object_rotation: 0.36899971083103034\n",
      "\u001b[34m\u001b[1mwandb\u001b[0m: \tloss_weight_physics: 0.17610519831903426\n",
      "\u001b[34m\u001b[1mwandb\u001b[0m: \tloss_weight_reprojection: 0.4459874073671162\n",
      "\u001b[34m\u001b[1mwandb\u001b[0m: \tper_joint_weighting: False\n",
      "\u001b[34m\u001b[1mwandb\u001b[0m: \tscheduler_type: cosine\n"
     ]
    },
    {
     "data": {
      "text/html": [
       "Tracking run with wandb version 0.19.11"
      ],
      "text/plain": [
       "<IPython.core.display.HTML object>"
      ]
     },
     "metadata": {},
     "output_type": "display_data"
    },
    {
     "data": {
      "text/html": [
       "Run data is saved locally in <code>/home/n231/231nProjectV2/Advanced_Manipulation_Transformer/notebooks/wandb/run-20250604_073513-122bsqtl</code>"
      ],
      "text/plain": [
       "<IPython.core.display.HTML object>"
      ]
     },
     "metadata": {},
     "output_type": "display_data"
    },
    {
     "data": {
      "text/html": [
       "Syncing run <strong><a href='https://wandb.ai/bryandong24-stanford-university/amt-hyperparameter-sweep/runs/122bsqtl' target=\"_blank\">smooth-sweep-40</a></strong> to <a href='https://wandb.ai/bryandong24-stanford-university/amt-hyperparameter-sweep' target=\"_blank\">Weights & Biases</a> (<a href='https://wandb.me/developer-guide' target=\"_blank\">docs</a>)<br>Sweep page: <a href='https://wandb.ai/bryandong24-stanford-university/amt-hyperparameter-sweep/sweeps/c189gpt8' target=\"_blank\">https://wandb.ai/bryandong24-stanford-university/amt-hyperparameter-sweep/sweeps/c189gpt8</a>"
      ],
      "text/plain": [
       "<IPython.core.display.HTML object>"
      ]
     },
     "metadata": {},
     "output_type": "display_data"
    },
    {
     "data": {
      "text/html": [
       " View project at <a href='https://wandb.ai/bryandong24-stanford-university/amt-hyperparameter-sweep' target=\"_blank\">https://wandb.ai/bryandong24-stanford-university/amt-hyperparameter-sweep</a>"
      ],
      "text/plain": [
       "<IPython.core.display.HTML object>"
      ]
     },
     "metadata": {},
     "output_type": "display_data"
    },
    {
     "data": {
      "text/html": [
       " View sweep at <a href='https://wandb.ai/bryandong24-stanford-university/amt-hyperparameter-sweep/sweeps/c189gpt8' target=\"_blank\">https://wandb.ai/bryandong24-stanford-university/amt-hyperparameter-sweep/sweeps/c189gpt8</a>"
      ],
      "text/plain": [
       "<IPython.core.display.HTML object>"
      ]
     },
     "metadata": {},
     "output_type": "display_data"
    },
    {
     "data": {
      "text/html": [
       " View run at <a href='https://wandb.ai/bryandong24-stanford-university/amt-hyperparameter-sweep/runs/122bsqtl' target=\"_blank\">https://wandb.ai/bryandong24-stanford-university/amt-hyperparameter-sweep/runs/122bsqtl</a>"
      ],
      "text/plain": [
       "<IPython.core.display.HTML object>"
      ]
     },
     "metadata": {},
     "output_type": "display_data"
    },
    {
     "name": "stdout",
     "output_type": "stream",
     "text": [
      "Creating dataloaders with 20k train, 2k val samples, batch_size=128...\n",
      "Creating GPU-cached datasets...\n",
      "Target memory usage: 20.0 GB\n",
      "Estimated GPU memory usage: 20.0 GB\n",
      "Loading cached GPU dataset from ./gpu_cache_sweep/train_gpu_cache_20000.pt...\n",
      "Loading cache from ./gpu_cache_sweep/train_gpu_cache_20000.pt...\n",
      "✓ Loaded 20000 samples\n",
      "Estimated GPU memory usage: 2.0 GB\n",
      "Loading cached GPU dataset from ./gpu_cache_sweep/val_gpu_cache_2000.pt...\n",
      "Loading cache from ./gpu_cache_sweep/val_gpu_cache_2000.pt...\n",
      "✓ Loaded 2000 samples\n",
      "\n",
      "✓ GPU Datasets created:\n",
      "  Train: 20000 samples (6.7 GB)\n",
      "  Val: 2000 samples (6.7 GB)\n",
      "  Total GPU memory: 13.4 GB\n",
      "Dataloaders created: 156 train batches, 16 val batches\n",
      "Epoch 1/7: train_loss=1.0953, train_mpjpe=517.75mm, val_loss=0.5799, val_mpjpe=323.97mm\n",
      "Epoch 2/7: train_loss=0.5912, train_mpjpe=355.68mm, val_loss=0.4666, val_mpjpe=309.55mm\n",
      "Epoch 3/7: train_loss=0.5574, train_mpjpe=330.62mm, val_loss=0.4377, val_mpjpe=278.83mm\n",
      "Epoch 4/7: train_loss=0.5500, train_mpjpe=305.80mm, val_loss=0.4321, val_mpjpe=260.16mm\n",
      "Epoch 5/7: train_loss=0.5432, train_mpjpe=282.58mm, val_loss=0.4712, val_mpjpe=258.73mm\n",
      "Epoch 6/7: train_loss=0.5393, train_mpjpe=264.09mm, val_loss=0.4534, val_mpjpe=246.16mm\n",
      "Epoch 7/7: train_loss=0.5390, train_mpjpe=250.39mm, val_loss=0.4702, val_mpjpe=246.76mm\n"
     ]
    },
    {
     "data": {
      "text/html": [],
      "text/plain": [
       "<IPython.core.display.HTML object>"
      ]
     },
     "metadata": {},
     "output_type": "display_data"
    },
    {
     "data": {
      "text/html": [
       "<br>    <style><br>        .wandb-row {<br>            display: flex;<br>            flex-direction: row;<br>            flex-wrap: wrap;<br>            justify-content: flex-start;<br>            width: 100%;<br>        }<br>        .wandb-col {<br>            display: flex;<br>            flex-direction: column;<br>            flex-basis: 100%;<br>            flex: 1;<br>            padding: 10px;<br>        }<br>    </style><br><div class=\"wandb-row\"><div class=\"wandb-col\"><h3>Run history:</h3><br/><table class=\"wandb\"><tr><td>epoch</td><td>▁▂▃▅▆▇█</td></tr><tr><td>final/best_val_mpjpe</td><td>▁</td></tr><tr><td>final/epochs_trained</td><td>▁</td></tr><tr><td>system/gpu_memory_gb</td><td>▄▃▄▅▃▃▆▆▅▄▂▅█▄▃▂▅▆▁▆▆▇▄▆▅▅▃▆▃▆▆▇▅▇▇▇▃▅▃▃</td></tr><tr><td>train/batch_loss</td><td>█▃▃▂▂▂▂▁▁▁▁▁▁▁▁▁▁▁▁▁▁▁▁▁▁▁▁▁▁▁▂▁▁▁▁▁▁▁▁▁</td></tr><tr><td>train/batch_mpjpe</td><td>█▅▅▄▅▅▄▅▅▅▅▄▅▃▃▄▃▄▄▄▄▄▄▁▃▃▃▂▂▅▂▃▁▂▂▂▂▂▁▁</td></tr><tr><td>train/hand_mpjpe</td><td>█▄▃▂▂▁▁</td></tr><tr><td>train/loss</td><td>█▂▁▁▁▁▁</td></tr><tr><td>train/lr</td><td>████████████▇▇▇▇▇▇▅▅▅▅▃▃▃▃▃▂▂▂▂▂▂▂▁▁▁▁▁▁</td></tr><tr><td>val/best_mpjpe</td><td>█▇▄▂▂▁▁</td></tr><tr><td>val/hand_mpjpe</td><td>█▇▄▂▂▁▁</td></tr><tr><td>val/loss</td><td>█▃▁▁▃▂▃</td></tr></table><br/></div><div class=\"wandb-col\"><h3>Run summary:</h3><br/><table class=\"wandb\"><tr><td>epoch</td><td>6</td></tr><tr><td>final/best_val_mpjpe</td><td>246.16406</td></tr><tr><td>final/epochs_trained</td><td>7</td></tr><tr><td>system/gpu_memory_gb</td><td>11.45296</td></tr><tr><td>train/batch_loss</td><td>0.48007</td></tr><tr><td>train/batch_mpjpe</td><td>216.79688</td></tr><tr><td>train/hand_mpjpe</td><td>250.39438</td></tr><tr><td>train/loss</td><td>0.53901</td></tr><tr><td>train/lr</td><td>0.0</td></tr><tr><td>val/best_mpjpe</td><td>246.16406</td></tr><tr><td>val/hand_mpjpe</td><td>246.75781</td></tr><tr><td>val/loss</td><td>0.47023</td></tr></table><br/></div></div>"
      ],
      "text/plain": [
       "<IPython.core.display.HTML object>"
      ]
     },
     "metadata": {},
     "output_type": "display_data"
    },
    {
     "data": {
      "text/html": [
       " View run <strong style=\"color:#cdcd00\">smooth-sweep-40</strong> at: <a href='https://wandb.ai/bryandong24-stanford-university/amt-hyperparameter-sweep/runs/122bsqtl' target=\"_blank\">https://wandb.ai/bryandong24-stanford-university/amt-hyperparameter-sweep/runs/122bsqtl</a><br> View project at: <a href='https://wandb.ai/bryandong24-stanford-university/amt-hyperparameter-sweep' target=\"_blank\">https://wandb.ai/bryandong24-stanford-university/amt-hyperparameter-sweep</a><br>Synced 5 W&B file(s), 0 media file(s), 0 artifact file(s) and 0 other file(s)"
      ],
      "text/plain": [
       "<IPython.core.display.HTML object>"
      ]
     },
     "metadata": {},
     "output_type": "display_data"
    },
    {
     "data": {
      "text/html": [
       "Find logs at: <code>./wandb/run-20250604_073513-122bsqtl/logs</code>"
      ],
      "text/plain": [
       "<IPython.core.display.HTML object>"
      ]
     },
     "metadata": {},
     "output_type": "display_data"
    },
    {
     "name": "stderr",
     "output_type": "stream",
     "text": [
      "\u001b[34m\u001b[1mwandb\u001b[0m: Agent Starting Run: uknkrerc with config:\n",
      "\u001b[34m\u001b[1mwandb\u001b[0m: \taug_color_jitter: 0.15821678462446614\n",
      "\u001b[34m\u001b[1mwandb\u001b[0m: \taug_joint_noise_std: 0.005184458914697496\n",
      "\u001b[34m\u001b[1mwandb\u001b[0m: \taug_rotation_range: 10.981201642569149\n",
      "\u001b[34m\u001b[1mwandb\u001b[0m: \taug_scale_max: 1.150491120141652\n",
      "\u001b[34m\u001b[1mwandb\u001b[0m: \taug_scale_min: 0.811219901259411\n",
      "\u001b[34m\u001b[1mwandb\u001b[0m: \taug_translation_std: 0.057908239866384936\n",
      "\u001b[34m\u001b[1mwandb\u001b[0m: \tbatch_size: 32\n",
      "\u001b[34m\u001b[1mwandb\u001b[0m: \tdiversity_margin: 0.019043208025791063\n",
      "\u001b[34m\u001b[1mwandb\u001b[0m: \tdropout: 0.25\n",
      "\u001b[34m\u001b[1mwandb\u001b[0m: \tfingertip_weight: 1.2140457775884883\n",
      "\u001b[34m\u001b[1mwandb\u001b[0m: \tloss_weight_contact: 0.42437293822461986\n",
      "\u001b[34m\u001b[1mwandb\u001b[0m: \tloss_weight_diversity: 0.018276993213881737\n",
      "\u001b[34m\u001b[1mwandb\u001b[0m: \tloss_weight_hand_coarse: 0.948812525328656\n",
      "\u001b[34m\u001b[1mwandb\u001b[0m: \tloss_weight_hand_refined: 1.015557612232345\n",
      "\u001b[34m\u001b[1mwandb\u001b[0m: \tloss_weight_object_position: 0.8480554525983992\n",
      "\u001b[34m\u001b[1mwandb\u001b[0m: \tloss_weight_object_rotation: 0.46980433036257174\n",
      "\u001b[34m\u001b[1mwandb\u001b[0m: \tloss_weight_physics: 0.07801855016510321\n",
      "\u001b[34m\u001b[1mwandb\u001b[0m: \tloss_weight_reprojection: 0.4632224287029423\n",
      "\u001b[34m\u001b[1mwandb\u001b[0m: \tper_joint_weighting: False\n",
      "\u001b[34m\u001b[1mwandb\u001b[0m: \tscheduler_type: exponential\n"
     ]
    },
    {
     "data": {
      "text/html": [
       "Tracking run with wandb version 0.19.11"
      ],
      "text/plain": [
       "<IPython.core.display.HTML object>"
      ]
     },
     "metadata": {},
     "output_type": "display_data"
    },
    {
     "data": {
      "text/html": [
       "Run data is saved locally in <code>/home/n231/231nProjectV2/Advanced_Manipulation_Transformer/notebooks/wandb/run-20250604_074007-uknkrerc</code>"
      ],
      "text/plain": [
       "<IPython.core.display.HTML object>"
      ]
     },
     "metadata": {},
     "output_type": "display_data"
    },
    {
     "data": {
      "text/html": [
       "Syncing run <strong><a href='https://wandb.ai/bryandong24-stanford-university/amt-hyperparameter-sweep/runs/uknkrerc' target=\"_blank\">fine-sweep-41</a></strong> to <a href='https://wandb.ai/bryandong24-stanford-university/amt-hyperparameter-sweep' target=\"_blank\">Weights & Biases</a> (<a href='https://wandb.me/developer-guide' target=\"_blank\">docs</a>)<br>Sweep page: <a href='https://wandb.ai/bryandong24-stanford-university/amt-hyperparameter-sweep/sweeps/c189gpt8' target=\"_blank\">https://wandb.ai/bryandong24-stanford-university/amt-hyperparameter-sweep/sweeps/c189gpt8</a>"
      ],
      "text/plain": [
       "<IPython.core.display.HTML object>"
      ]
     },
     "metadata": {},
     "output_type": "display_data"
    },
    {
     "data": {
      "text/html": [
       " View project at <a href='https://wandb.ai/bryandong24-stanford-university/amt-hyperparameter-sweep' target=\"_blank\">https://wandb.ai/bryandong24-stanford-university/amt-hyperparameter-sweep</a>"
      ],
      "text/plain": [
       "<IPython.core.display.HTML object>"
      ]
     },
     "metadata": {},
     "output_type": "display_data"
    },
    {
     "data": {
      "text/html": [
       " View sweep at <a href='https://wandb.ai/bryandong24-stanford-university/amt-hyperparameter-sweep/sweeps/c189gpt8' target=\"_blank\">https://wandb.ai/bryandong24-stanford-university/amt-hyperparameter-sweep/sweeps/c189gpt8</a>"
      ],
      "text/plain": [
       "<IPython.core.display.HTML object>"
      ]
     },
     "metadata": {},
     "output_type": "display_data"
    },
    {
     "data": {
      "text/html": [
       " View run at <a href='https://wandb.ai/bryandong24-stanford-university/amt-hyperparameter-sweep/runs/uknkrerc' target=\"_blank\">https://wandb.ai/bryandong24-stanford-university/amt-hyperparameter-sweep/runs/uknkrerc</a>"
      ],
      "text/plain": [
       "<IPython.core.display.HTML object>"
      ]
     },
     "metadata": {},
     "output_type": "display_data"
    },
    {
     "name": "stdout",
     "output_type": "stream",
     "text": [
      "Creating dataloaders with 20k train, 2k val samples, batch_size=32...\n",
      "Creating GPU-cached datasets...\n",
      "Target memory usage: 20.0 GB\n",
      "Estimated GPU memory usage: 20.0 GB\n",
      "Loading cached GPU dataset from ./gpu_cache_sweep/train_gpu_cache_20000.pt...\n",
      "Loading cache from ./gpu_cache_sweep/train_gpu_cache_20000.pt...\n",
      "✓ Loaded 20000 samples\n",
      "Estimated GPU memory usage: 2.0 GB\n",
      "Loading cached GPU dataset from ./gpu_cache_sweep/val_gpu_cache_2000.pt...\n",
      "Loading cache from ./gpu_cache_sweep/val_gpu_cache_2000.pt...\n",
      "✓ Loaded 2000 samples\n",
      "\n",
      "✓ GPU Datasets created:\n",
      "  Train: 20000 samples (6.7 GB)\n",
      "  Val: 2000 samples (6.7 GB)\n",
      "  Total GPU memory: 13.4 GB\n",
      "Dataloaders created: 625 train batches, 63 val batches\n",
      "Epoch 1/7: train_loss=0.6754, train_mpjpe=428.69mm, val_loss=0.4250, val_mpjpe=320.84mm\n",
      "Epoch 2/7: train_loss=0.4828, train_mpjpe=331.05mm, val_loss=0.3710, val_mpjpe=270.27mm\n",
      "Epoch 3/7: train_loss=0.4543, train_mpjpe=314.45mm, val_loss=0.3868, val_mpjpe=273.86mm\n",
      "Epoch 4/7: train_loss=0.4401, train_mpjpe=304.76mm, val_loss=0.3735, val_mpjpe=270.97mm\n",
      "Epoch 5/7: train_loss=0.4381, train_mpjpe=295.22mm, val_loss=0.3808, val_mpjpe=259.77mm\n",
      "Epoch 6/7: train_loss=0.4381, train_mpjpe=285.50mm, val_loss=0.3806, val_mpjpe=251.08mm\n",
      "Epoch 7/7: train_loss=0.4450, train_mpjpe=283.57mm, val_loss=0.3825, val_mpjpe=246.33mm\n"
     ]
    },
    {
     "data": {
      "text/html": [],
      "text/plain": [
       "<IPython.core.display.HTML object>"
      ]
     },
     "metadata": {},
     "output_type": "display_data"
    },
    {
     "data": {
      "text/html": [
       "<br>    <style><br>        .wandb-row {<br>            display: flex;<br>            flex-direction: row;<br>            flex-wrap: wrap;<br>            justify-content: flex-start;<br>            width: 100%;<br>        }<br>        .wandb-col {<br>            display: flex;<br>            flex-direction: column;<br>            flex-basis: 100%;<br>            flex: 1;<br>            padding: 10px;<br>        }<br>    </style><br><div class=\"wandb-row\"><div class=\"wandb-col\"><h3>Run history:</h3><br/><table class=\"wandb\"><tr><td>epoch</td><td>▁▂▃▅▆▇█</td></tr><tr><td>final/best_val_mpjpe</td><td>▁</td></tr><tr><td>final/epochs_trained</td><td>▁</td></tr><tr><td>system/gpu_memory_gb</td><td>▆▅▄▄▅▅▁▇▄▄▆▃▅▆▄▃▃▅▆█▇▅▆▂▄▇▆▆▂▇▂▄▃▇▇▄▂▅▇▅</td></tr><tr><td>train/batch_loss</td><td>▅▅▃▆▃▄▃▂▅▇▄▄▄▂▃▂▅▄█▁▁▃▃▃▁▄▂▁▆▅█▆▄▂▃▄▃▃▂▅</td></tr><tr><td>train/batch_mpjpe</td><td>▄▄▅▁▆▃▂▆▂▃▆▂▁▃▂▃▃▂▂▃▃▃▂▁▂▂▂▆▄▃█▂▆▃▁▄▆▅▁▃</td></tr><tr><td>train/hand_mpjpe</td><td>█▃▂▂▂▁▁</td></tr><tr><td>train/loss</td><td>█▂▁▁▁▁▁</td></tr><tr><td>train/lr</td><td>████▇▇▇▇▇▇▅▅▅▅▅▄▄▄▄▄▄▄▃▃▃▃▃▃▃▃▂▂▂▂▂▂▂▂▁▁</td></tr><tr><td>val/best_mpjpe</td><td>█▃▃▃▂▁▁</td></tr><tr><td>val/hand_mpjpe</td><td>█▃▄▃▂▁▁</td></tr><tr><td>val/loss</td><td>█▁▃▁▂▂▂</td></tr></table><br/></div><div class=\"wandb-col\"><h3>Run summary:</h3><br/><table class=\"wandb\"><tr><td>epoch</td><td>6</td></tr><tr><td>final/best_val_mpjpe</td><td>246.33203</td></tr><tr><td>final/epochs_trained</td><td>7</td></tr><tr><td>system/gpu_memory_gb</td><td>11.11576</td></tr><tr><td>train/batch_loss</td><td>0.47165</td></tr><tr><td>train/batch_mpjpe</td><td>302.73438</td></tr><tr><td>train/hand_mpjpe</td><td>283.57344</td></tr><tr><td>train/loss</td><td>0.44503</td></tr><tr><td>train/lr</td><td>1e-05</td></tr><tr><td>val/best_mpjpe</td><td>246.33203</td></tr><tr><td>val/hand_mpjpe</td><td>246.33203</td></tr><tr><td>val/loss</td><td>0.38247</td></tr></table><br/></div></div>"
      ],
      "text/plain": [
       "<IPython.core.display.HTML object>"
      ]
     },
     "metadata": {},
     "output_type": "display_data"
    },
    {
     "data": {
      "text/html": [
       " View run <strong style=\"color:#cdcd00\">fine-sweep-41</strong> at: <a href='https://wandb.ai/bryandong24-stanford-university/amt-hyperparameter-sweep/runs/uknkrerc' target=\"_blank\">https://wandb.ai/bryandong24-stanford-university/amt-hyperparameter-sweep/runs/uknkrerc</a><br> View project at: <a href='https://wandb.ai/bryandong24-stanford-university/amt-hyperparameter-sweep' target=\"_blank\">https://wandb.ai/bryandong24-stanford-university/amt-hyperparameter-sweep</a><br>Synced 5 W&B file(s), 0 media file(s), 0 artifact file(s) and 0 other file(s)"
      ],
      "text/plain": [
       "<IPython.core.display.HTML object>"
      ]
     },
     "metadata": {},
     "output_type": "display_data"
    },
    {
     "data": {
      "text/html": [
       "Find logs at: <code>./wandb/run-20250604_074007-uknkrerc/logs</code>"
      ],
      "text/plain": [
       "<IPython.core.display.HTML object>"
      ]
     },
     "metadata": {},
     "output_type": "display_data"
    },
    {
     "name": "stderr",
     "output_type": "stream",
     "text": [
      "\u001b[34m\u001b[1mwandb\u001b[0m: Agent Starting Run: rd54w06m with config:\n",
      "\u001b[34m\u001b[1mwandb\u001b[0m: \taug_color_jitter: 0.2765633470687693\n",
      "\u001b[34m\u001b[1mwandb\u001b[0m: \taug_joint_noise_std: 0.00635425917464922\n",
      "\u001b[34m\u001b[1mwandb\u001b[0m: \taug_rotation_range: 7.450030736038836\n",
      "\u001b[34m\u001b[1mwandb\u001b[0m: \taug_scale_max: 1.1083695733317172\n",
      "\u001b[34m\u001b[1mwandb\u001b[0m: \taug_scale_min: 0.786467931613351\n",
      "\u001b[34m\u001b[1mwandb\u001b[0m: \taug_translation_std: 0.04418687724228906\n",
      "\u001b[34m\u001b[1mwandb\u001b[0m: \tbatch_size: 64\n",
      "\u001b[34m\u001b[1mwandb\u001b[0m: \tdiversity_margin: 0.01331276399571113\n",
      "\u001b[34m\u001b[1mwandb\u001b[0m: \tdropout: 0.15\n",
      "\u001b[34m\u001b[1mwandb\u001b[0m: \tfingertip_weight: 1.4380368364379197\n",
      "\u001b[34m\u001b[1mwandb\u001b[0m: \tloss_weight_contact: 0.43094404508009265\n",
      "\u001b[34m\u001b[1mwandb\u001b[0m: \tloss_weight_diversity: 0.010354185932938194\n",
      "\u001b[34m\u001b[1mwandb\u001b[0m: \tloss_weight_hand_coarse: 1.0188666911679929\n",
      "\u001b[34m\u001b[1mwandb\u001b[0m: \tloss_weight_hand_refined: 1.179018552044109\n",
      "\u001b[34m\u001b[1mwandb\u001b[0m: \tloss_weight_object_position: 0.8438527933026008\n",
      "\u001b[34m\u001b[1mwandb\u001b[0m: \tloss_weight_object_rotation: 0.3902157758395981\n",
      "\u001b[34m\u001b[1mwandb\u001b[0m: \tloss_weight_physics: 0.07996763942722465\n",
      "\u001b[34m\u001b[1mwandb\u001b[0m: \tloss_weight_reprojection: 0.3696629362561717\n",
      "\u001b[34m\u001b[1mwandb\u001b[0m: \tper_joint_weighting: True\n",
      "\u001b[34m\u001b[1mwandb\u001b[0m: \tscheduler_type: cosine_warmup\n"
     ]
    },
    {
     "data": {
      "text/html": [
       "Tracking run with wandb version 0.19.11"
      ],
      "text/plain": [
       "<IPython.core.display.HTML object>"
      ]
     },
     "metadata": {},
     "output_type": "display_data"
    },
    {
     "data": {
      "text/html": [
       "Run data is saved locally in <code>/home/n231/231nProjectV2/Advanced_Manipulation_Transformer/notebooks/wandb/run-20250604_074802-rd54w06m</code>"
      ],
      "text/plain": [
       "<IPython.core.display.HTML object>"
      ]
     },
     "metadata": {},
     "output_type": "display_data"
    },
    {
     "data": {
      "text/html": [
       "Syncing run <strong><a href='https://wandb.ai/bryandong24-stanford-university/amt-hyperparameter-sweep/runs/rd54w06m' target=\"_blank\">daily-sweep-42</a></strong> to <a href='https://wandb.ai/bryandong24-stanford-university/amt-hyperparameter-sweep' target=\"_blank\">Weights & Biases</a> (<a href='https://wandb.me/developer-guide' target=\"_blank\">docs</a>)<br>Sweep page: <a href='https://wandb.ai/bryandong24-stanford-university/amt-hyperparameter-sweep/sweeps/c189gpt8' target=\"_blank\">https://wandb.ai/bryandong24-stanford-university/amt-hyperparameter-sweep/sweeps/c189gpt8</a>"
      ],
      "text/plain": [
       "<IPython.core.display.HTML object>"
      ]
     },
     "metadata": {},
     "output_type": "display_data"
    },
    {
     "data": {
      "text/html": [
       " View project at <a href='https://wandb.ai/bryandong24-stanford-university/amt-hyperparameter-sweep' target=\"_blank\">https://wandb.ai/bryandong24-stanford-university/amt-hyperparameter-sweep</a>"
      ],
      "text/plain": [
       "<IPython.core.display.HTML object>"
      ]
     },
     "metadata": {},
     "output_type": "display_data"
    },
    {
     "data": {
      "text/html": [
       " View sweep at <a href='https://wandb.ai/bryandong24-stanford-university/amt-hyperparameter-sweep/sweeps/c189gpt8' target=\"_blank\">https://wandb.ai/bryandong24-stanford-university/amt-hyperparameter-sweep/sweeps/c189gpt8</a>"
      ],
      "text/plain": [
       "<IPython.core.display.HTML object>"
      ]
     },
     "metadata": {},
     "output_type": "display_data"
    },
    {
     "data": {
      "text/html": [
       " View run at <a href='https://wandb.ai/bryandong24-stanford-university/amt-hyperparameter-sweep/runs/rd54w06m' target=\"_blank\">https://wandb.ai/bryandong24-stanford-university/amt-hyperparameter-sweep/runs/rd54w06m</a>"
      ],
      "text/plain": [
       "<IPython.core.display.HTML object>"
      ]
     },
     "metadata": {},
     "output_type": "display_data"
    },
    {
     "name": "stdout",
     "output_type": "stream",
     "text": [
      "Creating dataloaders with 20k train, 2k val samples, batch_size=64...\n",
      "Creating GPU-cached datasets...\n",
      "Target memory usage: 20.0 GB\n",
      "Estimated GPU memory usage: 20.0 GB\n",
      "Loading cached GPU dataset from ./gpu_cache_sweep/train_gpu_cache_20000.pt...\n",
      "Loading cache from ./gpu_cache_sweep/train_gpu_cache_20000.pt...\n",
      "✓ Loaded 20000 samples\n",
      "Estimated GPU memory usage: 2.0 GB\n",
      "Loading cached GPU dataset from ./gpu_cache_sweep/val_gpu_cache_2000.pt...\n",
      "Loading cache from ./gpu_cache_sweep/val_gpu_cache_2000.pt...\n",
      "✓ Loaded 2000 samples\n",
      "\n",
      "✓ GPU Datasets created:\n",
      "  Train: 20000 samples (6.7 GB)\n",
      "  Val: 2000 samples (6.7 GB)\n",
      "  Total GPU memory: 13.4 GB\n",
      "Dataloaders created: 312 train batches, 32 val batches\n",
      "Epoch 1/7: train_loss=0.8279, train_mpjpe=459.46mm, val_loss=0.3993, val_mpjpe=291.71mm\n",
      "Epoch 2/7: train_loss=0.5323, train_mpjpe=329.30mm, val_loss=0.3890, val_mpjpe=252.59mm\n",
      "Epoch 3/7: train_loss=0.5110, train_mpjpe=293.98mm, val_loss=0.4107, val_mpjpe=271.48mm\n",
      "Epoch 4/7: train_loss=0.5035, train_mpjpe=278.52mm, val_loss=0.4105, val_mpjpe=251.17mm\n",
      "Epoch 5/7: train_loss=0.4970, train_mpjpe=266.67mm, val_loss=0.4116, val_mpjpe=235.18mm\n",
      "Epoch 6/7: train_loss=0.4915, train_mpjpe=253.61mm, val_loss=0.4311, val_mpjpe=230.47mm\n",
      "Epoch 7/7: train_loss=0.4886, train_mpjpe=242.88mm, val_loss=0.4240, val_mpjpe=239.10mm\n"
     ]
    },
    {
     "data": {
      "text/html": [],
      "text/plain": [
       "<IPython.core.display.HTML object>"
      ]
     },
     "metadata": {},
     "output_type": "display_data"
    },
    {
     "data": {
      "text/html": [
       "<br>    <style><br>        .wandb-row {<br>            display: flex;<br>            flex-direction: row;<br>            flex-wrap: wrap;<br>            justify-content: flex-start;<br>            width: 100%;<br>        }<br>        .wandb-col {<br>            display: flex;<br>            flex-direction: column;<br>            flex-basis: 100%;<br>            flex: 1;<br>            padding: 10px;<br>        }<br>    </style><br><div class=\"wandb-row\"><div class=\"wandb-col\"><h3>Run history:</h3><br/><table class=\"wandb\"><tr><td>epoch</td><td>▁▂▃▅▆▇█</td></tr><tr><td>final/best_val_mpjpe</td><td>▁</td></tr><tr><td>final/epochs_trained</td><td>▁</td></tr><tr><td>system/gpu_memory_gb</td><td>▁▄▃▄▄▆▁▃▃▄▆▆▃▃▇▆▆▅▅▃▄█▇▆▆▅▅▃▃▅▆▅▅▃▃▆▆▇▅▃</td></tr><tr><td>train/batch_loss</td><td>█▃▂▂▂▂▁▁▂▁▁▂▁▂▁▁▂▁▁▁▂▂▁▁▁▁▁▁▁▁▂▁▂▁▁▁▂▁▁▁</td></tr><tr><td>train/batch_mpjpe</td><td>▇▆▅█▇▄▄▃▃▃▃▃▃▂▅▃▃▃▃▂▃▃▃▃▆▄▂▄▄▂▂▂▂▁▃▄▄▂▁▂</td></tr><tr><td>train/hand_mpjpe</td><td>█▄▃▂▂▁▁</td></tr><tr><td>train/loss</td><td>█▂▁▁▁▁▁</td></tr><tr><td>train/lr</td><td>████████████▇▇▇▇▇▇▆▆▆▆▆▄▄▄▄▃▃▃▃▃▁▁▁▁▁▁▁▁</td></tr><tr><td>val/best_mpjpe</td><td>█▄▄▃▂▁▁</td></tr><tr><td>val/hand_mpjpe</td><td>█▄▆▃▂▁▂</td></tr><tr><td>val/loss</td><td>▃▁▅▅▅█▇</td></tr></table><br/></div><div class=\"wandb-col\"><h3>Run summary:</h3><br/><table class=\"wandb\"><tr><td>epoch</td><td>6</td></tr><tr><td>final/best_val_mpjpe</td><td>230.46875</td></tr><tr><td>final/epochs_trained</td><td>7</td></tr><tr><td>system/gpu_memory_gb</td><td>11.22838</td></tr><tr><td>train/batch_loss</td><td>0.4678</td></tr><tr><td>train/batch_mpjpe</td><td>213.86719</td></tr><tr><td>train/hand_mpjpe</td><td>242.88236</td></tr><tr><td>train/loss</td><td>0.48863</td></tr><tr><td>train/lr</td><td>0.0</td></tr><tr><td>val/best_mpjpe</td><td>230.46875</td></tr><tr><td>val/hand_mpjpe</td><td>239.09766</td></tr><tr><td>val/loss</td><td>0.42398</td></tr></table><br/></div></div>"
      ],
      "text/plain": [
       "<IPython.core.display.HTML object>"
      ]
     },
     "metadata": {},
     "output_type": "display_data"
    },
    {
     "data": {
      "text/html": [
       " View run <strong style=\"color:#cdcd00\">daily-sweep-42</strong> at: <a href='https://wandb.ai/bryandong24-stanford-university/amt-hyperparameter-sweep/runs/rd54w06m' target=\"_blank\">https://wandb.ai/bryandong24-stanford-university/amt-hyperparameter-sweep/runs/rd54w06m</a><br> View project at: <a href='https://wandb.ai/bryandong24-stanford-university/amt-hyperparameter-sweep' target=\"_blank\">https://wandb.ai/bryandong24-stanford-university/amt-hyperparameter-sweep</a><br>Synced 5 W&B file(s), 0 media file(s), 0 artifact file(s) and 0 other file(s)"
      ],
      "text/plain": [
       "<IPython.core.display.HTML object>"
      ]
     },
     "metadata": {},
     "output_type": "display_data"
    },
    {
     "data": {
      "text/html": [
       "Find logs at: <code>./wandb/run-20250604_074802-rd54w06m/logs</code>"
      ],
      "text/plain": [
       "<IPython.core.display.HTML object>"
      ]
     },
     "metadata": {},
     "output_type": "display_data"
    },
    {
     "name": "stderr",
     "output_type": "stream",
     "text": [
      "\u001b[34m\u001b[1mwandb\u001b[0m: Agent Starting Run: pkkxufo2 with config:\n",
      "\u001b[34m\u001b[1mwandb\u001b[0m: \taug_color_jitter: 0.28177524355076256\n",
      "\u001b[34m\u001b[1mwandb\u001b[0m: \taug_joint_noise_std: 0.00652745556743669\n",
      "\u001b[34m\u001b[1mwandb\u001b[0m: \taug_rotation_range: 12.410395685412851\n",
      "\u001b[34m\u001b[1mwandb\u001b[0m: \taug_scale_max: 1.156470208694709\n",
      "\u001b[34m\u001b[1mwandb\u001b[0m: \taug_scale_min: 0.709790553743271\n",
      "\u001b[34m\u001b[1mwandb\u001b[0m: \taug_translation_std: 0.028781306193796024\n",
      "\u001b[34m\u001b[1mwandb\u001b[0m: \tbatch_size: 64\n",
      "\u001b[34m\u001b[1mwandb\u001b[0m: \tdiversity_margin: 0.013180870015555578\n",
      "\u001b[34m\u001b[1mwandb\u001b[0m: \tdropout: 0.15\n",
      "\u001b[34m\u001b[1mwandb\u001b[0m: \tfingertip_weight: 1.6701652207347202\n",
      "\u001b[34m\u001b[1mwandb\u001b[0m: \tloss_weight_contact: 0.4722260154539179\n",
      "\u001b[34m\u001b[1mwandb\u001b[0m: \tloss_weight_diversity: 0.013001320010747865\n",
      "\u001b[34m\u001b[1mwandb\u001b[0m: \tloss_weight_hand_coarse: 1.1355465423334796\n",
      "\u001b[34m\u001b[1mwandb\u001b[0m: \tloss_weight_hand_refined: 1.1694884622918655\n",
      "\u001b[34m\u001b[1mwandb\u001b[0m: \tloss_weight_object_position: 0.9788077527627044\n",
      "\u001b[34m\u001b[1mwandb\u001b[0m: \tloss_weight_object_rotation: 0.39420636372704654\n",
      "\u001b[34m\u001b[1mwandb\u001b[0m: \tloss_weight_physics: 0.05881395285980773\n",
      "\u001b[34m\u001b[1mwandb\u001b[0m: \tloss_weight_reprojection: 0.35310095356405363\n",
      "\u001b[34m\u001b[1mwandb\u001b[0m: \tper_joint_weighting: False\n",
      "\u001b[34m\u001b[1mwandb\u001b[0m: \tscheduler_type: step\n"
     ]
    },
    {
     "data": {
      "text/html": [
       "Tracking run with wandb version 0.19.11"
      ],
      "text/plain": [
       "<IPython.core.display.HTML object>"
      ]
     },
     "metadata": {},
     "output_type": "display_data"
    },
    {
     "data": {
      "text/html": [
       "Run data is saved locally in <code>/home/n231/231nProjectV2/Advanced_Manipulation_Transformer/notebooks/wandb/run-20250604_075352-pkkxufo2</code>"
      ],
      "text/plain": [
       "<IPython.core.display.HTML object>"
      ]
     },
     "metadata": {},
     "output_type": "display_data"
    },
    {
     "data": {
      "text/html": [
       "Syncing run <strong><a href='https://wandb.ai/bryandong24-stanford-university/amt-hyperparameter-sweep/runs/pkkxufo2' target=\"_blank\">rose-sweep-43</a></strong> to <a href='https://wandb.ai/bryandong24-stanford-university/amt-hyperparameter-sweep' target=\"_blank\">Weights & Biases</a> (<a href='https://wandb.me/developer-guide' target=\"_blank\">docs</a>)<br>Sweep page: <a href='https://wandb.ai/bryandong24-stanford-university/amt-hyperparameter-sweep/sweeps/c189gpt8' target=\"_blank\">https://wandb.ai/bryandong24-stanford-university/amt-hyperparameter-sweep/sweeps/c189gpt8</a>"
      ],
      "text/plain": [
       "<IPython.core.display.HTML object>"
      ]
     },
     "metadata": {},
     "output_type": "display_data"
    },
    {
     "data": {
      "text/html": [
       " View project at <a href='https://wandb.ai/bryandong24-stanford-university/amt-hyperparameter-sweep' target=\"_blank\">https://wandb.ai/bryandong24-stanford-university/amt-hyperparameter-sweep</a>"
      ],
      "text/plain": [
       "<IPython.core.display.HTML object>"
      ]
     },
     "metadata": {},
     "output_type": "display_data"
    },
    {
     "data": {
      "text/html": [
       " View sweep at <a href='https://wandb.ai/bryandong24-stanford-university/amt-hyperparameter-sweep/sweeps/c189gpt8' target=\"_blank\">https://wandb.ai/bryandong24-stanford-university/amt-hyperparameter-sweep/sweeps/c189gpt8</a>"
      ],
      "text/plain": [
       "<IPython.core.display.HTML object>"
      ]
     },
     "metadata": {},
     "output_type": "display_data"
    },
    {
     "data": {
      "text/html": [
       " View run at <a href='https://wandb.ai/bryandong24-stanford-university/amt-hyperparameter-sweep/runs/pkkxufo2' target=\"_blank\">https://wandb.ai/bryandong24-stanford-university/amt-hyperparameter-sweep/runs/pkkxufo2</a>"
      ],
      "text/plain": [
       "<IPython.core.display.HTML object>"
      ]
     },
     "metadata": {},
     "output_type": "display_data"
    },
    {
     "name": "stdout",
     "output_type": "stream",
     "text": [
      "Creating dataloaders with 20k train, 2k val samples, batch_size=64...\n",
      "Creating GPU-cached datasets...\n",
      "Target memory usage: 20.0 GB\n",
      "Estimated GPU memory usage: 20.0 GB\n",
      "Loading cached GPU dataset from ./gpu_cache_sweep/train_gpu_cache_20000.pt...\n",
      "Loading cache from ./gpu_cache_sweep/train_gpu_cache_20000.pt...\n",
      "✓ Loaded 20000 samples\n",
      "Estimated GPU memory usage: 2.0 GB\n",
      "Loading cached GPU dataset from ./gpu_cache_sweep/val_gpu_cache_2000.pt...\n",
      "Loading cache from ./gpu_cache_sweep/val_gpu_cache_2000.pt...\n",
      "✓ Loaded 2000 samples\n",
      "\n",
      "✓ GPU Datasets created:\n",
      "  Train: 20000 samples (6.7 GB)\n",
      "  Val: 2000 samples (6.7 GB)\n",
      "  Total GPU memory: 13.4 GB\n",
      "Dataloaders created: 312 train batches, 32 val batches\n",
      "Epoch 1/7: train_loss=0.8836, train_mpjpe=478.57mm, val_loss=0.4527, val_mpjpe=297.33mm\n",
      "Epoch 2/7: train_loss=0.5671, train_mpjpe=339.30mm, val_loss=0.4369, val_mpjpe=269.80mm\n",
      "Epoch 3/7: train_loss=0.5481, train_mpjpe=316.21mm, val_loss=0.4378, val_mpjpe=274.22mm\n",
      "Epoch 4/7: train_loss=0.5352, train_mpjpe=288.65mm, val_loss=0.4411, val_mpjpe=252.86mm\n",
      "Epoch 5/7: train_loss=0.5341, train_mpjpe=279.28mm, val_loss=0.4561, val_mpjpe=258.76mm\n",
      "Epoch 6/7: train_loss=0.5355, train_mpjpe=271.03mm, val_loss=0.4566, val_mpjpe=256.73mm\n",
      "Epoch 7/7: train_loss=0.5305, train_mpjpe=256.02mm, val_loss=0.4446, val_mpjpe=230.05mm\n"
     ]
    },
    {
     "data": {
      "text/html": [],
      "text/plain": [
       "<IPython.core.display.HTML object>"
      ]
     },
     "metadata": {},
     "output_type": "display_data"
    },
    {
     "data": {
      "text/html": [
       "<br>    <style><br>        .wandb-row {<br>            display: flex;<br>            flex-direction: row;<br>            flex-wrap: wrap;<br>            justify-content: flex-start;<br>            width: 100%;<br>        }<br>        .wandb-col {<br>            display: flex;<br>            flex-direction: column;<br>            flex-basis: 100%;<br>            flex: 1;<br>            padding: 10px;<br>        }<br>    </style><br><div class=\"wandb-row\"><div class=\"wandb-col\"><h3>Run history:</h3><br/><table class=\"wandb\"><tr><td>epoch</td><td>▁▂▃▅▆▇█</td></tr><tr><td>final/best_val_mpjpe</td><td>▁</td></tr><tr><td>final/epochs_trained</td><td>▁</td></tr><tr><td>system/gpu_memory_gb</td><td>▄▆▃▄▂▇▃▃█▅▃▂▁▄▅▄▄▁▄▃▄▄▅▅▁▄▄▄▁▄▄▃▅▂▁▄▄▃▁▅</td></tr><tr><td>train/batch_loss</td><td>█▅▂▃▂▃▁▂▂▂▂▁▁▁▂▂▁▃▁▂▂▂▁▂▁▂▁▂▁▂▁▁▁▂▁▂▁▁▁▂</td></tr><tr><td>train/batch_mpjpe</td><td>█▄▃▄▃▃▂▃▂▃▂▂▂▂▂▂▄▂▂▂▂▂▂▃▂▁▂▂▁▂▁▃▂▂▂▂▁▁▂▂</td></tr><tr><td>train/hand_mpjpe</td><td>█▄▃▂▂▁▁</td></tr><tr><td>train/loss</td><td>█▂▁▁▁▁▁</td></tr><tr><td>train/lr</td><td>███████████████████▃▃▃▃▃▃▃▃▃▃▃▃▃▃▃▃▁▁▁▁▁</td></tr><tr><td>val/best_mpjpe</td><td>█▅▅▃▃▃▁</td></tr><tr><td>val/hand_mpjpe</td><td>█▅▆▃▄▄▁</td></tr><tr><td>val/loss</td><td>▇▁▁▃██▄</td></tr></table><br/></div><div class=\"wandb-col\"><h3>Run summary:</h3><br/><table class=\"wandb\"><tr><td>epoch</td><td>6</td></tr><tr><td>final/best_val_mpjpe</td><td>230.04688</td></tr><tr><td>final/epochs_trained</td><td>7</td></tr><tr><td>system/gpu_memory_gb</td><td>11.22615</td></tr><tr><td>train/batch_loss</td><td>0.56285</td></tr><tr><td>train/batch_mpjpe</td><td>283.20312</td></tr><tr><td>train/hand_mpjpe</td><td>256.01901</td></tr><tr><td>train/loss</td><td>0.53052</td></tr><tr><td>train/lr</td><td>0.0</td></tr><tr><td>val/best_mpjpe</td><td>230.04688</td></tr><tr><td>val/hand_mpjpe</td><td>230.04688</td></tr><tr><td>val/loss</td><td>0.44457</td></tr></table><br/></div></div>"
      ],
      "text/plain": [
       "<IPython.core.display.HTML object>"
      ]
     },
     "metadata": {},
     "output_type": "display_data"
    },
    {
     "data": {
      "text/html": [
       " View run <strong style=\"color:#cdcd00\">rose-sweep-43</strong> at: <a href='https://wandb.ai/bryandong24-stanford-university/amt-hyperparameter-sweep/runs/pkkxufo2' target=\"_blank\">https://wandb.ai/bryandong24-stanford-university/amt-hyperparameter-sweep/runs/pkkxufo2</a><br> View project at: <a href='https://wandb.ai/bryandong24-stanford-university/amt-hyperparameter-sweep' target=\"_blank\">https://wandb.ai/bryandong24-stanford-university/amt-hyperparameter-sweep</a><br>Synced 5 W&B file(s), 0 media file(s), 0 artifact file(s) and 0 other file(s)"
      ],
      "text/plain": [
       "<IPython.core.display.HTML object>"
      ]
     },
     "metadata": {},
     "output_type": "display_data"
    },
    {
     "data": {
      "text/html": [
       "Find logs at: <code>./wandb/run-20250604_075352-pkkxufo2/logs</code>"
      ],
      "text/plain": [
       "<IPython.core.display.HTML object>"
      ]
     },
     "metadata": {},
     "output_type": "display_data"
    },
    {
     "name": "stderr",
     "output_type": "stream",
     "text": [
      "\u001b[34m\u001b[1mwandb\u001b[0m: Sweep Agent: Waiting for job.\n",
      "\u001b[34m\u001b[1mwandb\u001b[0m: Job received.\n",
      "\u001b[34m\u001b[1mwandb\u001b[0m: Agent Starting Run: iqizqmue with config:\n",
      "\u001b[34m\u001b[1mwandb\u001b[0m: \taug_color_jitter: 0.29727780697207484\n",
      "\u001b[34m\u001b[1mwandb\u001b[0m: \taug_joint_noise_std: 0.006725733951677856\n",
      "\u001b[34m\u001b[1mwandb\u001b[0m: \taug_rotation_range: 7.868839517247031\n",
      "\u001b[34m\u001b[1mwandb\u001b[0m: \taug_scale_max: 1.1119636117693752\n",
      "\u001b[34m\u001b[1mwandb\u001b[0m: \taug_scale_min: 0.7458907234477429\n",
      "\u001b[34m\u001b[1mwandb\u001b[0m: \taug_translation_std: 0.07858151653912086\n",
      "\u001b[34m\u001b[1mwandb\u001b[0m: \tbatch_size: 128\n",
      "\u001b[34m\u001b[1mwandb\u001b[0m: \tdiversity_margin: 0.016716352988542467\n",
      "\u001b[34m\u001b[1mwandb\u001b[0m: \tdropout: 0.1\n",
      "\u001b[34m\u001b[1mwandb\u001b[0m: \tfingertip_weight: 1.3262983171116045\n",
      "\u001b[34m\u001b[1mwandb\u001b[0m: \tloss_weight_contact: 0.4319666807848674\n",
      "\u001b[34m\u001b[1mwandb\u001b[0m: \tloss_weight_diversity: 0.016604470229178613\n",
      "\u001b[34m\u001b[1mwandb\u001b[0m: \tloss_weight_hand_coarse: 1.0022497512471604\n",
      "\u001b[34m\u001b[1mwandb\u001b[0m: \tloss_weight_hand_refined: 1.174748256229044\n",
      "\u001b[34m\u001b[1mwandb\u001b[0m: \tloss_weight_object_position: 0.971926855414774\n",
      "\u001b[34m\u001b[1mwandb\u001b[0m: \tloss_weight_object_rotation: 0.4446941752954179\n",
      "\u001b[34m\u001b[1mwandb\u001b[0m: \tloss_weight_physics: 0.06890008848185525\n",
      "\u001b[34m\u001b[1mwandb\u001b[0m: \tloss_weight_reprojection: 0.44008551856971856\n",
      "\u001b[34m\u001b[1mwandb\u001b[0m: \tper_joint_weighting: False\n",
      "\u001b[34m\u001b[1mwandb\u001b[0m: \tscheduler_type: step\n"
     ]
    },
    {
     "data": {
      "text/html": [
       "Tracking run with wandb version 0.19.11"
      ],
      "text/plain": [
       "<IPython.core.display.HTML object>"
      ]
     },
     "metadata": {},
     "output_type": "display_data"
    },
    {
     "data": {
      "text/html": [
       "Run data is saved locally in <code>/home/n231/231nProjectV2/Advanced_Manipulation_Transformer/notebooks/wandb/run-20250604_075951-iqizqmue</code>"
      ],
      "text/plain": [
       "<IPython.core.display.HTML object>"
      ]
     },
     "metadata": {},
     "output_type": "display_data"
    },
    {
     "data": {
      "text/html": [
       "Syncing run <strong><a href='https://wandb.ai/bryandong24-stanford-university/amt-hyperparameter-sweep/runs/iqizqmue' target=\"_blank\">dandy-sweep-44</a></strong> to <a href='https://wandb.ai/bryandong24-stanford-university/amt-hyperparameter-sweep' target=\"_blank\">Weights & Biases</a> (<a href='https://wandb.me/developer-guide' target=\"_blank\">docs</a>)<br>Sweep page: <a href='https://wandb.ai/bryandong24-stanford-university/amt-hyperparameter-sweep/sweeps/c189gpt8' target=\"_blank\">https://wandb.ai/bryandong24-stanford-university/amt-hyperparameter-sweep/sweeps/c189gpt8</a>"
      ],
      "text/plain": [
       "<IPython.core.display.HTML object>"
      ]
     },
     "metadata": {},
     "output_type": "display_data"
    },
    {
     "data": {
      "text/html": [
       " View project at <a href='https://wandb.ai/bryandong24-stanford-university/amt-hyperparameter-sweep' target=\"_blank\">https://wandb.ai/bryandong24-stanford-university/amt-hyperparameter-sweep</a>"
      ],
      "text/plain": [
       "<IPython.core.display.HTML object>"
      ]
     },
     "metadata": {},
     "output_type": "display_data"
    },
    {
     "data": {
      "text/html": [
       " View sweep at <a href='https://wandb.ai/bryandong24-stanford-university/amt-hyperparameter-sweep/sweeps/c189gpt8' target=\"_blank\">https://wandb.ai/bryandong24-stanford-university/amt-hyperparameter-sweep/sweeps/c189gpt8</a>"
      ],
      "text/plain": [
       "<IPython.core.display.HTML object>"
      ]
     },
     "metadata": {},
     "output_type": "display_data"
    },
    {
     "data": {
      "text/html": [
       " View run at <a href='https://wandb.ai/bryandong24-stanford-university/amt-hyperparameter-sweep/runs/iqizqmue' target=\"_blank\">https://wandb.ai/bryandong24-stanford-university/amt-hyperparameter-sweep/runs/iqizqmue</a>"
      ],
      "text/plain": [
       "<IPython.core.display.HTML object>"
      ]
     },
     "metadata": {},
     "output_type": "display_data"
    },
    {
     "name": "stdout",
     "output_type": "stream",
     "text": [
      "Creating dataloaders with 20k train, 2k val samples, batch_size=128...\n",
      "Creating GPU-cached datasets...\n",
      "Target memory usage: 20.0 GB\n",
      "Estimated GPU memory usage: 20.0 GB\n",
      "Loading cached GPU dataset from ./gpu_cache_sweep/train_gpu_cache_20000.pt...\n",
      "Loading cache from ./gpu_cache_sweep/train_gpu_cache_20000.pt...\n",
      "✓ Loaded 20000 samples\n",
      "Estimated GPU memory usage: 2.0 GB\n",
      "Loading cached GPU dataset from ./gpu_cache_sweep/val_gpu_cache_2000.pt...\n",
      "Loading cache from ./gpu_cache_sweep/val_gpu_cache_2000.pt...\n",
      "✓ Loaded 2000 samples\n",
      "\n",
      "✓ GPU Datasets created:\n",
      "  Train: 20000 samples (6.7 GB)\n",
      "  Val: 2000 samples (6.7 GB)\n",
      "  Total GPU memory: 13.4 GB\n",
      "Dataloaders created: 156 train batches, 16 val batches\n",
      "Epoch 1/7: train_loss=1.1553, train_mpjpe=556.79mm, val_loss=0.5193, val_mpjpe=345.12mm\n",
      "Epoch 2/7: train_loss=0.5735, train_mpjpe=366.36mm, val_loss=0.4463, val_mpjpe=317.67mm\n",
      "Epoch 3/7: train_loss=0.5225, train_mpjpe=338.99mm, val_loss=0.4216, val_mpjpe=293.11mm\n",
      "Epoch 4/7: train_loss=0.5043, train_mpjpe=306.70mm, val_loss=0.4367, val_mpjpe=267.70mm\n",
      "Epoch 5/7: train_loss=0.5050, train_mpjpe=293.34mm, val_loss=0.4167, val_mpjpe=249.16mm\n",
      "Epoch 6/7: train_loss=0.5065, train_mpjpe=283.36mm, val_loss=0.4226, val_mpjpe=251.03mm\n",
      "Epoch 7/7: train_loss=0.5021, train_mpjpe=263.85mm, val_loss=0.4343, val_mpjpe=254.00mm\n"
     ]
    },
    {
     "data": {
      "text/html": [],
      "text/plain": [
       "<IPython.core.display.HTML object>"
      ]
     },
     "metadata": {},
     "output_type": "display_data"
    },
    {
     "data": {
      "text/html": [
       "<br>    <style><br>        .wandb-row {<br>            display: flex;<br>            flex-direction: row;<br>            flex-wrap: wrap;<br>            justify-content: flex-start;<br>            width: 100%;<br>        }<br>        .wandb-col {<br>            display: flex;<br>            flex-direction: column;<br>            flex-basis: 100%;<br>            flex: 1;<br>            padding: 10px;<br>        }<br>    </style><br><div class=\"wandb-row\"><div class=\"wandb-col\"><h3>Run history:</h3><br/><table class=\"wandb\"><tr><td>epoch</td><td>▁▂▃▅▆▇█</td></tr><tr><td>final/best_val_mpjpe</td><td>▁</td></tr><tr><td>final/epochs_trained</td><td>▁</td></tr><tr><td>system/gpu_memory_gb</td><td>▅▅▇▆█▅▇▂▃▁▃▃▄▁▁▄▄▆▁▄▃▆▂▅▄▄▃▂▃▄▁▅▄▅▃▆▆▆▄▄</td></tr><tr><td>train/batch_loss</td><td>█▅▂▂▂▂▁▂▁▁▁▂▁▁▁▁▁▁▁▁▁▁▁▁▁▁▁▁▁▁▁▂▁▁▁▂▁▂▁▁</td></tr><tr><td>train/batch_mpjpe</td><td>█▄▃▃▄▃▄▃▃▂▂▃▄▂▂▂▃▃▂▃▂▂▂▄▁▁▂▂▂▁▃▂▃▂▂▂▃▂▃▂</td></tr><tr><td>train/hand_mpjpe</td><td>█▃▃▂▂▁▁</td></tr><tr><td>train/loss</td><td>█▂▁▁▁▁▁</td></tr><tr><td>train/lr</td><td>████████████████▃▃▃▃▃▃▃▃▃▃▃▃▃▃▃▃▃▃▁▁▁▁▁▁</td></tr><tr><td>val/best_mpjpe</td><td>█▆▄▂▁▁▁</td></tr><tr><td>val/hand_mpjpe</td><td>█▆▄▂▁▁▁</td></tr><tr><td>val/loss</td><td>█▃▁▂▁▁▂</td></tr></table><br/></div><div class=\"wandb-col\"><h3>Run summary:</h3><br/><table class=\"wandb\"><tr><td>epoch</td><td>6</td></tr><tr><td>final/best_val_mpjpe</td><td>249.16406</td></tr><tr><td>final/epochs_trained</td><td>7</td></tr><tr><td>system/gpu_memory_gb</td><td>11.45788</td></tr><tr><td>train/batch_loss</td><td>0.51311</td></tr><tr><td>train/batch_mpjpe</td><td>273.4375</td></tr><tr><td>train/hand_mpjpe</td><td>263.85342</td></tr><tr><td>train/loss</td><td>0.50215</td></tr><tr><td>train/lr</td><td>0.0</td></tr><tr><td>val/best_mpjpe</td><td>249.16406</td></tr><tr><td>val/hand_mpjpe</td><td>254</td></tr><tr><td>val/loss</td><td>0.43433</td></tr></table><br/></div></div>"
      ],
      "text/plain": [
       "<IPython.core.display.HTML object>"
      ]
     },
     "metadata": {},
     "output_type": "display_data"
    },
    {
     "data": {
      "text/html": [
       " View run <strong style=\"color:#cdcd00\">dandy-sweep-44</strong> at: <a href='https://wandb.ai/bryandong24-stanford-university/amt-hyperparameter-sweep/runs/iqizqmue' target=\"_blank\">https://wandb.ai/bryandong24-stanford-university/amt-hyperparameter-sweep/runs/iqizqmue</a><br> View project at: <a href='https://wandb.ai/bryandong24-stanford-university/amt-hyperparameter-sweep' target=\"_blank\">https://wandb.ai/bryandong24-stanford-university/amt-hyperparameter-sweep</a><br>Synced 5 W&B file(s), 0 media file(s), 0 artifact file(s) and 0 other file(s)"
      ],
      "text/plain": [
       "<IPython.core.display.HTML object>"
      ]
     },
     "metadata": {},
     "output_type": "display_data"
    },
    {
     "data": {
      "text/html": [
       "Find logs at: <code>./wandb/run-20250604_075951-iqizqmue/logs</code>"
      ],
      "text/plain": [
       "<IPython.core.display.HTML object>"
      ]
     },
     "metadata": {},
     "output_type": "display_data"
    },
    {
     "name": "stderr",
     "output_type": "stream",
     "text": [
      "\u001b[34m\u001b[1mwandb\u001b[0m: Agent Starting Run: b22u39xd with config:\n",
      "\u001b[34m\u001b[1mwandb\u001b[0m: \taug_color_jitter: 0.2481488792130281\n",
      "\u001b[34m\u001b[1mwandb\u001b[0m: \taug_joint_noise_std: 0.007186704297227765\n",
      "\u001b[34m\u001b[1mwandb\u001b[0m: \taug_rotation_range: 9.146102875015517\n",
      "\u001b[34m\u001b[1mwandb\u001b[0m: \taug_scale_max: 1.127283347621665\n",
      "\u001b[34m\u001b[1mwandb\u001b[0m: \taug_scale_min: 0.7363965027546746\n",
      "\u001b[34m\u001b[1mwandb\u001b[0m: \taug_translation_std: 0.05763511052072241\n",
      "\u001b[34m\u001b[1mwandb\u001b[0m: \tbatch_size: 32\n",
      "\u001b[34m\u001b[1mwandb\u001b[0m: \tdiversity_margin: 0.013462509827749877\n",
      "\u001b[34m\u001b[1mwandb\u001b[0m: \tdropout: 0.15\n",
      "\u001b[34m\u001b[1mwandb\u001b[0m: \tfingertip_weight: 1.664546641320347\n",
      "\u001b[34m\u001b[1mwandb\u001b[0m: \tloss_weight_contact: 0.42501301070511066\n",
      "\u001b[34m\u001b[1mwandb\u001b[0m: \tloss_weight_diversity: 0.016491990832415468\n",
      "\u001b[34m\u001b[1mwandb\u001b[0m: \tloss_weight_hand_coarse: 1.0719726946780317\n",
      "\u001b[34m\u001b[1mwandb\u001b[0m: \tloss_weight_hand_refined: 1.214857535893682\n",
      "\u001b[34m\u001b[1mwandb\u001b[0m: \tloss_weight_object_position: 0.9862662561629524\n",
      "\u001b[34m\u001b[1mwandb\u001b[0m: \tloss_weight_object_rotation: 0.31971213452405794\n",
      "\u001b[34m\u001b[1mwandb\u001b[0m: \tloss_weight_physics: 0.14321682625358045\n",
      "\u001b[34m\u001b[1mwandb\u001b[0m: \tloss_weight_reprojection: 0.5880716226980807\n",
      "\u001b[34m\u001b[1mwandb\u001b[0m: \tper_joint_weighting: True\n",
      "\u001b[34m\u001b[1mwandb\u001b[0m: \tscheduler_type: cosine\n"
     ]
    },
    {
     "data": {
      "text/html": [
       "Tracking run with wandb version 0.19.11"
      ],
      "text/plain": [
       "<IPython.core.display.HTML object>"
      ]
     },
     "metadata": {},
     "output_type": "display_data"
    },
    {
     "data": {
      "text/html": [
       "Run data is saved locally in <code>/home/n231/231nProjectV2/Advanced_Manipulation_Transformer/notebooks/wandb/run-20250604_080445-b22u39xd</code>"
      ],
      "text/plain": [
       "<IPython.core.display.HTML object>"
      ]
     },
     "metadata": {},
     "output_type": "display_data"
    },
    {
     "data": {
      "text/html": [
       "Syncing run <strong><a href='https://wandb.ai/bryandong24-stanford-university/amt-hyperparameter-sweep/runs/b22u39xd' target=\"_blank\">glad-sweep-45</a></strong> to <a href='https://wandb.ai/bryandong24-stanford-university/amt-hyperparameter-sweep' target=\"_blank\">Weights & Biases</a> (<a href='https://wandb.me/developer-guide' target=\"_blank\">docs</a>)<br>Sweep page: <a href='https://wandb.ai/bryandong24-stanford-university/amt-hyperparameter-sweep/sweeps/c189gpt8' target=\"_blank\">https://wandb.ai/bryandong24-stanford-university/amt-hyperparameter-sweep/sweeps/c189gpt8</a>"
      ],
      "text/plain": [
       "<IPython.core.display.HTML object>"
      ]
     },
     "metadata": {},
     "output_type": "display_data"
    },
    {
     "data": {
      "text/html": [
       " View project at <a href='https://wandb.ai/bryandong24-stanford-university/amt-hyperparameter-sweep' target=\"_blank\">https://wandb.ai/bryandong24-stanford-university/amt-hyperparameter-sweep</a>"
      ],
      "text/plain": [
       "<IPython.core.display.HTML object>"
      ]
     },
     "metadata": {},
     "output_type": "display_data"
    },
    {
     "data": {
      "text/html": [
       " View sweep at <a href='https://wandb.ai/bryandong24-stanford-university/amt-hyperparameter-sweep/sweeps/c189gpt8' target=\"_blank\">https://wandb.ai/bryandong24-stanford-university/amt-hyperparameter-sweep/sweeps/c189gpt8</a>"
      ],
      "text/plain": [
       "<IPython.core.display.HTML object>"
      ]
     },
     "metadata": {},
     "output_type": "display_data"
    },
    {
     "data": {
      "text/html": [
       " View run at <a href='https://wandb.ai/bryandong24-stanford-university/amt-hyperparameter-sweep/runs/b22u39xd' target=\"_blank\">https://wandb.ai/bryandong24-stanford-university/amt-hyperparameter-sweep/runs/b22u39xd</a>"
      ],
      "text/plain": [
       "<IPython.core.display.HTML object>"
      ]
     },
     "metadata": {},
     "output_type": "display_data"
    },
    {
     "name": "stdout",
     "output_type": "stream",
     "text": [
      "Creating dataloaders with 20k train, 2k val samples, batch_size=32...\n",
      "Creating GPU-cached datasets...\n",
      "Target memory usage: 20.0 GB\n",
      "Estimated GPU memory usage: 20.0 GB\n",
      "Loading cached GPU dataset from ./gpu_cache_sweep/train_gpu_cache_20000.pt...\n",
      "Loading cache from ./gpu_cache_sweep/train_gpu_cache_20000.pt...\n",
      "✓ Loaded 20000 samples\n",
      "Estimated GPU memory usage: 2.0 GB\n",
      "Loading cached GPU dataset from ./gpu_cache_sweep/val_gpu_cache_2000.pt...\n",
      "Loading cache from ./gpu_cache_sweep/val_gpu_cache_2000.pt...\n",
      "✓ Loaded 2000 samples\n",
      "\n",
      "✓ GPU Datasets created:\n",
      "  Train: 20000 samples (6.7 GB)\n",
      "  Val: 2000 samples (6.7 GB)\n",
      "  Total GPU memory: 13.4 GB\n",
      "Dataloaders created: 625 train batches, 63 val batches\n",
      "Epoch 1/7: train_loss=0.7091, train_mpjpe=419.83mm, val_loss=0.4189, val_mpjpe=291.51mm\n",
      "Epoch 2/7: train_loss=0.5339, train_mpjpe=322.18mm, val_loss=0.4134, val_mpjpe=265.13mm\n",
      "Epoch 3/7: train_loss=0.5137, train_mpjpe=300.63mm, val_loss=0.4211, val_mpjpe=255.84mm\n",
      "Epoch 4/7: train_loss=0.5001, train_mpjpe=280.46mm, val_loss=0.4229, val_mpjpe=253.14mm\n",
      "Epoch 5/7: train_loss=0.4919, train_mpjpe=263.20mm, val_loss=0.4367, val_mpjpe=253.52mm\n",
      "Epoch 6/7: train_loss=0.4871, train_mpjpe=247.49mm, val_loss=0.4369, val_mpjpe=245.82mm\n",
      "Epoch 7/7: train_loss=0.4861, train_mpjpe=235.72mm, val_loss=0.4425, val_mpjpe=240.78mm\n"
     ]
    },
    {
     "data": {
      "text/html": [],
      "text/plain": [
       "<IPython.core.display.HTML object>"
      ]
     },
     "metadata": {},
     "output_type": "display_data"
    },
    {
     "data": {
      "text/html": [
       "<br>    <style><br>        .wandb-row {<br>            display: flex;<br>            flex-direction: row;<br>            flex-wrap: wrap;<br>            justify-content: flex-start;<br>            width: 100%;<br>        }<br>        .wandb-col {<br>            display: flex;<br>            flex-direction: column;<br>            flex-basis: 100%;<br>            flex: 1;<br>            padding: 10px;<br>        }<br>    </style><br><div class=\"wandb-row\"><div class=\"wandb-col\"><h3>Run history:</h3><br/><table class=\"wandb\"><tr><td>epoch</td><td>▁▂▃▅▆▇█</td></tr><tr><td>final/best_val_mpjpe</td><td>▁</td></tr><tr><td>final/epochs_trained</td><td>▁</td></tr><tr><td>system/gpu_memory_gb</td><td>▅█▇▇▁▄▇▅▇▆█▇▁▄▇▄▄▄▆▂▃▃▆▄▅▆▆▂▁▄▅▁▆▄▄▃▅▅▆▂</td></tr><tr><td>train/batch_loss</td><td>▄▂▂▄▇▅▄▆▄▂▆▂▅█▅▂█▇▄▂▃▅▄▂▄▄▅▁▃▆▇▁▂▅▄▂▄▃▁▁</td></tr><tr><td>train/batch_mpjpe</td><td>█▂▂▂▁▁▁▁▁▁▂▁▁▂▁▁▁▁▁▁▁▂▁▂▁▁▁▁▁▁▁▁▁▁▁▁▁▁▁▁</td></tr><tr><td>train/hand_mpjpe</td><td>█▄▃▃▂▁▁</td></tr><tr><td>train/loss</td><td>█▂▂▁▁▁▁</td></tr><tr><td>train/lr</td><td>████████████▇▇▇▇▇▅▅▅▅▃▃▃▃▃▃▃▂▂▂▂▂▂▂▂▁▁▁▁</td></tr><tr><td>val/best_mpjpe</td><td>█▄▃▃▃▂▁</td></tr><tr><td>val/hand_mpjpe</td><td>█▄▃▃▃▂▁</td></tr><tr><td>val/loss</td><td>▂▁▃▃▇▇█</td></tr></table><br/></div><div class=\"wandb-col\"><h3>Run summary:</h3><br/><table class=\"wandb\"><tr><td>epoch</td><td>6</td></tr><tr><td>final/best_val_mpjpe</td><td>240.78125</td></tr><tr><td>final/epochs_trained</td><td>7</td></tr><tr><td>system/gpu_memory_gb</td><td>11.11137</td></tr><tr><td>train/batch_loss</td><td>0.53971</td></tr><tr><td>train/batch_mpjpe</td><td>257.8125</td></tr><tr><td>train/hand_mpjpe</td><td>235.71641</td></tr><tr><td>train/loss</td><td>0.48612</td></tr><tr><td>train/lr</td><td>0.0</td></tr><tr><td>val/best_mpjpe</td><td>240.78125</td></tr><tr><td>val/hand_mpjpe</td><td>240.78125</td></tr><tr><td>val/loss</td><td>0.44251</td></tr></table><br/></div></div>"
      ],
      "text/plain": [
       "<IPython.core.display.HTML object>"
      ]
     },
     "metadata": {},
     "output_type": "display_data"
    },
    {
     "data": {
      "text/html": [
       " View run <strong style=\"color:#cdcd00\">glad-sweep-45</strong> at: <a href='https://wandb.ai/bryandong24-stanford-university/amt-hyperparameter-sweep/runs/b22u39xd' target=\"_blank\">https://wandb.ai/bryandong24-stanford-university/amt-hyperparameter-sweep/runs/b22u39xd</a><br> View project at: <a href='https://wandb.ai/bryandong24-stanford-university/amt-hyperparameter-sweep' target=\"_blank\">https://wandb.ai/bryandong24-stanford-university/amt-hyperparameter-sweep</a><br>Synced 5 W&B file(s), 0 media file(s), 0 artifact file(s) and 0 other file(s)"
      ],
      "text/plain": [
       "<IPython.core.display.HTML object>"
      ]
     },
     "metadata": {},
     "output_type": "display_data"
    },
    {
     "data": {
      "text/html": [
       "Find logs at: <code>./wandb/run-20250604_080445-b22u39xd/logs</code>"
      ],
      "text/plain": [
       "<IPython.core.display.HTML object>"
      ]
     },
     "metadata": {},
     "output_type": "display_data"
    },
    {
     "name": "stderr",
     "output_type": "stream",
     "text": [
      "\u001b[34m\u001b[1mwandb\u001b[0m: Agent Starting Run: r987pa8d with config:\n",
      "\u001b[34m\u001b[1mwandb\u001b[0m: \taug_color_jitter: 0.24072873416332177\n",
      "\u001b[34m\u001b[1mwandb\u001b[0m: \taug_joint_noise_std: 0.009529937008253836\n",
      "\u001b[34m\u001b[1mwandb\u001b[0m: \taug_rotation_range: 11.850053961157272\n",
      "\u001b[34m\u001b[1mwandb\u001b[0m: \taug_scale_max: 1.1063540622408594\n",
      "\u001b[34m\u001b[1mwandb\u001b[0m: \taug_scale_min: 0.7644951292862868\n",
      "\u001b[34m\u001b[1mwandb\u001b[0m: \taug_translation_std: 0.026833922865553743\n",
      "\u001b[34m\u001b[1mwandb\u001b[0m: \tbatch_size: 128\n",
      "\u001b[34m\u001b[1mwandb\u001b[0m: \tdiversity_margin: 0.01342017526674946\n",
      "\u001b[34m\u001b[1mwandb\u001b[0m: \tdropout: 0.2\n",
      "\u001b[34m\u001b[1mwandb\u001b[0m: \tfingertip_weight: 1.6516583990615998\n",
      "\u001b[34m\u001b[1mwandb\u001b[0m: \tloss_weight_contact: 0.41876136879538794\n",
      "\u001b[34m\u001b[1mwandb\u001b[0m: \tloss_weight_diversity: 0.014198803759726849\n",
      "\u001b[34m\u001b[1mwandb\u001b[0m: \tloss_weight_hand_coarse: 1.101970213969357\n",
      "\u001b[34m\u001b[1mwandb\u001b[0m: \tloss_weight_hand_refined: 1.270577398987219\n",
      "\u001b[34m\u001b[1mwandb\u001b[0m: \tloss_weight_object_position: 1.1427668274894835\n",
      "\u001b[34m\u001b[1mwandb\u001b[0m: \tloss_weight_object_rotation: 0.4110253931919092\n",
      "\u001b[34m\u001b[1mwandb\u001b[0m: \tloss_weight_physics: 0.06265655917103757\n",
      "\u001b[34m\u001b[1mwandb\u001b[0m: \tloss_weight_reprojection: 0.38516036927387826\n",
      "\u001b[34m\u001b[1mwandb\u001b[0m: \tper_joint_weighting: False\n",
      "\u001b[34m\u001b[1mwandb\u001b[0m: \tscheduler_type: cosine\n"
     ]
    },
    {
     "data": {
      "text/html": [
       "Tracking run with wandb version 0.19.11"
      ],
      "text/plain": [
       "<IPython.core.display.HTML object>"
      ]
     },
     "metadata": {},
     "output_type": "display_data"
    },
    {
     "data": {
      "text/html": [
       "Run data is saved locally in <code>/home/n231/231nProjectV2/Advanced_Manipulation_Transformer/notebooks/wandb/run-20250604_081241-r987pa8d</code>"
      ],
      "text/plain": [
       "<IPython.core.display.HTML object>"
      ]
     },
     "metadata": {},
     "output_type": "display_data"
    },
    {
     "data": {
      "text/html": [
       "Syncing run <strong><a href='https://wandb.ai/bryandong24-stanford-university/amt-hyperparameter-sweep/runs/r987pa8d' target=\"_blank\">peach-sweep-46</a></strong> to <a href='https://wandb.ai/bryandong24-stanford-university/amt-hyperparameter-sweep' target=\"_blank\">Weights & Biases</a> (<a href='https://wandb.me/developer-guide' target=\"_blank\">docs</a>)<br>Sweep page: <a href='https://wandb.ai/bryandong24-stanford-university/amt-hyperparameter-sweep/sweeps/c189gpt8' target=\"_blank\">https://wandb.ai/bryandong24-stanford-university/amt-hyperparameter-sweep/sweeps/c189gpt8</a>"
      ],
      "text/plain": [
       "<IPython.core.display.HTML object>"
      ]
     },
     "metadata": {},
     "output_type": "display_data"
    },
    {
     "data": {
      "text/html": [
       " View project at <a href='https://wandb.ai/bryandong24-stanford-university/amt-hyperparameter-sweep' target=\"_blank\">https://wandb.ai/bryandong24-stanford-university/amt-hyperparameter-sweep</a>"
      ],
      "text/plain": [
       "<IPython.core.display.HTML object>"
      ]
     },
     "metadata": {},
     "output_type": "display_data"
    },
    {
     "data": {
      "text/html": [
       " View sweep at <a href='https://wandb.ai/bryandong24-stanford-university/amt-hyperparameter-sweep/sweeps/c189gpt8' target=\"_blank\">https://wandb.ai/bryandong24-stanford-university/amt-hyperparameter-sweep/sweeps/c189gpt8</a>"
      ],
      "text/plain": [
       "<IPython.core.display.HTML object>"
      ]
     },
     "metadata": {},
     "output_type": "display_data"
    },
    {
     "data": {
      "text/html": [
       " View run at <a href='https://wandb.ai/bryandong24-stanford-university/amt-hyperparameter-sweep/runs/r987pa8d' target=\"_blank\">https://wandb.ai/bryandong24-stanford-university/amt-hyperparameter-sweep/runs/r987pa8d</a>"
      ],
      "text/plain": [
       "<IPython.core.display.HTML object>"
      ]
     },
     "metadata": {},
     "output_type": "display_data"
    },
    {
     "name": "stdout",
     "output_type": "stream",
     "text": [
      "Creating dataloaders with 20k train, 2k val samples, batch_size=128...\n",
      "Creating GPU-cached datasets...\n",
      "Target memory usage: 20.0 GB\n",
      "Estimated GPU memory usage: 20.0 GB\n",
      "Loading cached GPU dataset from ./gpu_cache_sweep/train_gpu_cache_20000.pt...\n",
      "Loading cache from ./gpu_cache_sweep/train_gpu_cache_20000.pt...\n",
      "✓ Loaded 20000 samples\n",
      "Estimated GPU memory usage: 2.0 GB\n",
      "Loading cached GPU dataset from ./gpu_cache_sweep/val_gpu_cache_2000.pt...\n",
      "Loading cache from ./gpu_cache_sweep/val_gpu_cache_2000.pt...\n",
      "✓ Loaded 2000 samples\n",
      "\n",
      "✓ GPU Datasets created:\n",
      "  Train: 20000 samples (6.7 GB)\n",
      "  Val: 2000 samples (6.7 GB)\n",
      "  Total GPU memory: 13.4 GB\n",
      "Dataloaders created: 156 train batches, 16 val batches\n",
      "Epoch 1/7: train_loss=1.1704, train_mpjpe=507.14mm, val_loss=0.4948, val_mpjpe=320.44mm\n",
      "Epoch 2/7: train_loss=0.6296, train_mpjpe=361.12mm, val_loss=0.4552, val_mpjpe=310.72mm\n",
      "Epoch 3/7: train_loss=0.5933, train_mpjpe=334.78mm, val_loss=0.4549, val_mpjpe=283.98mm\n",
      "Epoch 4/7: train_loss=0.5804, train_mpjpe=311.95mm, val_loss=0.4793, val_mpjpe=261.84mm\n",
      "Epoch 5/7: train_loss=0.5751, train_mpjpe=294.07mm, val_loss=0.4786, val_mpjpe=261.81mm\n",
      "Epoch 6/7: train_loss=0.5755, train_mpjpe=280.39mm, val_loss=0.4644, val_mpjpe=254.39mm\n",
      "Epoch 7/7: train_loss=0.5771, train_mpjpe=267.24mm, val_loss=0.4825, val_mpjpe=248.86mm\n"
     ]
    },
    {
     "data": {
      "text/html": [],
      "text/plain": [
       "<IPython.core.display.HTML object>"
      ]
     },
     "metadata": {},
     "output_type": "display_data"
    },
    {
     "data": {
      "text/html": [
       "<br>    <style><br>        .wandb-row {<br>            display: flex;<br>            flex-direction: row;<br>            flex-wrap: wrap;<br>            justify-content: flex-start;<br>            width: 100%;<br>        }<br>        .wandb-col {<br>            display: flex;<br>            flex-direction: column;<br>            flex-basis: 100%;<br>            flex: 1;<br>            padding: 10px;<br>        }<br>    </style><br><div class=\"wandb-row\"><div class=\"wandb-col\"><h3>Run history:</h3><br/><table class=\"wandb\"><tr><td>epoch</td><td>▁▂▃▅▆▇█</td></tr><tr><td>final/best_val_mpjpe</td><td>▁</td></tr><tr><td>final/epochs_trained</td><td>▁</td></tr><tr><td>system/gpu_memory_gb</td><td>▃▅▇█▇▅▅▄▅▄▄▃▃▇▂▄▄▆▆▄▂▅▃▅▅▄▅▅▆▁▆▃▄▄▃▃▂▃▄▂</td></tr><tr><td>train/batch_loss</td><td>▇█▆▅▃▃▃▂▂▁▁▂▁▂▁▃▂▂▂▂▂▁▁▃▂▃▁▂▁▂▂▂▁▂▂▁▂▁▂▂</td></tr><tr><td>train/batch_mpjpe</td><td>█▂▂▁▂▂▂▁▁▁▁▂▂▁▁▁▂▁▁▂▂▁▁▁▁▂▁▁▂▁▁▁▁▁▁▁▁▁▁▁</td></tr><tr><td>train/hand_mpjpe</td><td>█▄▃▂▂▁▁</td></tr><tr><td>train/loss</td><td>█▂▁▁▁▁▁</td></tr><tr><td>train/lr</td><td>████████████▇▇▇▇▇▇▅▅▅▅▅▅▃▃▃▃▃▃▂▂▂▂▂▁▁▁▁▁</td></tr><tr><td>val/best_mpjpe</td><td>█▇▄▂▂▂▁</td></tr><tr><td>val/hand_mpjpe</td><td>█▇▄▂▂▂▁</td></tr><tr><td>val/loss</td><td>█▁▁▅▅▃▆</td></tr></table><br/></div><div class=\"wandb-col\"><h3>Run summary:</h3><br/><table class=\"wandb\"><tr><td>epoch</td><td>6</td></tr><tr><td>final/best_val_mpjpe</td><td>248.85938</td></tr><tr><td>final/epochs_trained</td><td>7</td></tr><tr><td>system/gpu_memory_gb</td><td>11.45326</td></tr><tr><td>train/batch_loss</td><td>0.5912</td></tr><tr><td>train/batch_mpjpe</td><td>271.48438</td></tr><tr><td>train/hand_mpjpe</td><td>267.24008</td></tr><tr><td>train/loss</td><td>0.57705</td></tr><tr><td>train/lr</td><td>0.0</td></tr><tr><td>val/best_mpjpe</td><td>248.85938</td></tr><tr><td>val/hand_mpjpe</td><td>248.85938</td></tr><tr><td>val/loss</td><td>0.48248</td></tr></table><br/></div></div>"
      ],
      "text/plain": [
       "<IPython.core.display.HTML object>"
      ]
     },
     "metadata": {},
     "output_type": "display_data"
    },
    {
     "data": {
      "text/html": [
       " View run <strong style=\"color:#cdcd00\">peach-sweep-46</strong> at: <a href='https://wandb.ai/bryandong24-stanford-university/amt-hyperparameter-sweep/runs/r987pa8d' target=\"_blank\">https://wandb.ai/bryandong24-stanford-university/amt-hyperparameter-sweep/runs/r987pa8d</a><br> View project at: <a href='https://wandb.ai/bryandong24-stanford-university/amt-hyperparameter-sweep' target=\"_blank\">https://wandb.ai/bryandong24-stanford-university/amt-hyperparameter-sweep</a><br>Synced 5 W&B file(s), 0 media file(s), 0 artifact file(s) and 0 other file(s)"
      ],
      "text/plain": [
       "<IPython.core.display.HTML object>"
      ]
     },
     "metadata": {},
     "output_type": "display_data"
    },
    {
     "data": {
      "text/html": [
       "Find logs at: <code>./wandb/run-20250604_081241-r987pa8d/logs</code>"
      ],
      "text/plain": [
       "<IPython.core.display.HTML object>"
      ]
     },
     "metadata": {},
     "output_type": "display_data"
    },
    {
     "name": "stderr",
     "output_type": "stream",
     "text": [
      "\u001b[34m\u001b[1mwandb\u001b[0m: Agent Starting Run: h3gxp1i2 with config:\n",
      "\u001b[34m\u001b[1mwandb\u001b[0m: \taug_color_jitter: 0.2743857168913155\n",
      "\u001b[34m\u001b[1mwandb\u001b[0m: \taug_joint_noise_std: 0.0032489948230901592\n",
      "\u001b[34m\u001b[1mwandb\u001b[0m: \taug_rotation_range: 11.971050784883072\n",
      "\u001b[34m\u001b[1mwandb\u001b[0m: \taug_scale_max: 1.1158150237033566\n",
      "\u001b[34m\u001b[1mwandb\u001b[0m: \taug_scale_min: 0.736468264532579\n",
      "\u001b[34m\u001b[1mwandb\u001b[0m: \taug_translation_std: 0.042009449531692875\n",
      "\u001b[34m\u001b[1mwandb\u001b[0m: \tbatch_size: 64\n",
      "\u001b[34m\u001b[1mwandb\u001b[0m: \tdiversity_margin: 0.014013305639104204\n",
      "\u001b[34m\u001b[1mwandb\u001b[0m: \tdropout: 0.1\n",
      "\u001b[34m\u001b[1mwandb\u001b[0m: \tfingertip_weight: 1.3386327923168555\n",
      "\u001b[34m\u001b[1mwandb\u001b[0m: \tloss_weight_contact: 0.4329875583278895\n",
      "\u001b[34m\u001b[1mwandb\u001b[0m: \tloss_weight_diversity: 0.021159972082077604\n",
      "\u001b[34m\u001b[1mwandb\u001b[0m: \tloss_weight_hand_coarse: 1.0712159598954352\n",
      "\u001b[34m\u001b[1mwandb\u001b[0m: \tloss_weight_hand_refined: 1.0812674392014805\n",
      "\u001b[34m\u001b[1mwandb\u001b[0m: \tloss_weight_object_position: 0.9567020926667896\n",
      "\u001b[34m\u001b[1mwandb\u001b[0m: \tloss_weight_object_rotation: 0.3912250876635532\n",
      "\u001b[34m\u001b[1mwandb\u001b[0m: \tloss_weight_physics: 0.1104244473356234\n",
      "\u001b[34m\u001b[1mwandb\u001b[0m: \tloss_weight_reprojection: 0.356085695920851\n",
      "\u001b[34m\u001b[1mwandb\u001b[0m: \tper_joint_weighting: False\n",
      "\u001b[34m\u001b[1mwandb\u001b[0m: \tscheduler_type: exponential\n"
     ]
    },
    {
     "data": {
      "text/html": [
       "Tracking run with wandb version 0.19.11"
      ],
      "text/plain": [
       "<IPython.core.display.HTML object>"
      ]
     },
     "metadata": {},
     "output_type": "display_data"
    },
    {
     "data": {
      "text/html": [
       "Run data is saved locally in <code>/home/n231/231nProjectV2/Advanced_Manipulation_Transformer/notebooks/wandb/run-20250604_081735-h3gxp1i2</code>"
      ],
      "text/plain": [
       "<IPython.core.display.HTML object>"
      ]
     },
     "metadata": {},
     "output_type": "display_data"
    },
    {
     "data": {
      "text/html": [
       "Syncing run <strong><a href='https://wandb.ai/bryandong24-stanford-university/amt-hyperparameter-sweep/runs/h3gxp1i2' target=\"_blank\">fine-sweep-47</a></strong> to <a href='https://wandb.ai/bryandong24-stanford-university/amt-hyperparameter-sweep' target=\"_blank\">Weights & Biases</a> (<a href='https://wandb.me/developer-guide' target=\"_blank\">docs</a>)<br>Sweep page: <a href='https://wandb.ai/bryandong24-stanford-university/amt-hyperparameter-sweep/sweeps/c189gpt8' target=\"_blank\">https://wandb.ai/bryandong24-stanford-university/amt-hyperparameter-sweep/sweeps/c189gpt8</a>"
      ],
      "text/plain": [
       "<IPython.core.display.HTML object>"
      ]
     },
     "metadata": {},
     "output_type": "display_data"
    },
    {
     "data": {
      "text/html": [
       " View project at <a href='https://wandb.ai/bryandong24-stanford-university/amt-hyperparameter-sweep' target=\"_blank\">https://wandb.ai/bryandong24-stanford-university/amt-hyperparameter-sweep</a>"
      ],
      "text/plain": [
       "<IPython.core.display.HTML object>"
      ]
     },
     "metadata": {},
     "output_type": "display_data"
    },
    {
     "data": {
      "text/html": [
       " View sweep at <a href='https://wandb.ai/bryandong24-stanford-university/amt-hyperparameter-sweep/sweeps/c189gpt8' target=\"_blank\">https://wandb.ai/bryandong24-stanford-university/amt-hyperparameter-sweep/sweeps/c189gpt8</a>"
      ],
      "text/plain": [
       "<IPython.core.display.HTML object>"
      ]
     },
     "metadata": {},
     "output_type": "display_data"
    },
    {
     "data": {
      "text/html": [
       " View run at <a href='https://wandb.ai/bryandong24-stanford-university/amt-hyperparameter-sweep/runs/h3gxp1i2' target=\"_blank\">https://wandb.ai/bryandong24-stanford-university/amt-hyperparameter-sweep/runs/h3gxp1i2</a>"
      ],
      "text/plain": [
       "<IPython.core.display.HTML object>"
      ]
     },
     "metadata": {},
     "output_type": "display_data"
    },
    {
     "name": "stdout",
     "output_type": "stream",
     "text": [
      "Creating dataloaders with 20k train, 2k val samples, batch_size=64...\n",
      "Creating GPU-cached datasets...\n",
      "Target memory usage: 20.0 GB\n",
      "Estimated GPU memory usage: 20.0 GB\n",
      "Loading cached GPU dataset from ./gpu_cache_sweep/train_gpu_cache_20000.pt...\n",
      "Loading cache from ./gpu_cache_sweep/train_gpu_cache_20000.pt...\n",
      "✓ Loaded 20000 samples\n",
      "Estimated GPU memory usage: 2.0 GB\n",
      "Loading cached GPU dataset from ./gpu_cache_sweep/val_gpu_cache_2000.pt...\n",
      "Loading cache from ./gpu_cache_sweep/val_gpu_cache_2000.pt...\n",
      "✓ Loaded 2000 samples\n",
      "\n",
      "✓ GPU Datasets created:\n",
      "  Train: 20000 samples (6.7 GB)\n",
      "  Val: 2000 samples (6.7 GB)\n",
      "  Total GPU memory: 13.4 GB\n",
      "Dataloaders created: 312 train batches, 32 val batches\n",
      "Epoch 1/7: train_loss=0.8461, train_mpjpe=507.22mm, val_loss=0.4210, val_mpjpe=323.34mm\n",
      "Epoch 2/7: train_loss=0.5312, train_mpjpe=350.38mm, val_loss=0.4095, val_mpjpe=279.55mm\n",
      "Epoch 3/7: train_loss=0.5151, train_mpjpe=318.89mm, val_loss=0.4113, val_mpjpe=270.87mm\n",
      "Epoch 4/7: train_loss=0.5080, train_mpjpe=299.32mm, val_loss=0.4176, val_mpjpe=269.87mm\n",
      "Epoch 5/7: train_loss=0.5026, train_mpjpe=283.29mm, val_loss=0.4145, val_mpjpe=254.56mm\n",
      "Epoch 6/7: train_loss=0.5026, train_mpjpe=274.44mm, val_loss=0.4366, val_mpjpe=258.95mm\n",
      "Epoch 7/7: train_loss=0.4995, train_mpjpe=263.91mm, val_loss=0.4353, val_mpjpe=267.50mm\n"
     ]
    },
    {
     "data": {
      "text/html": [],
      "text/plain": [
       "<IPython.core.display.HTML object>"
      ]
     },
     "metadata": {},
     "output_type": "display_data"
    },
    {
     "data": {
      "text/html": [
       "<br>    <style><br>        .wandb-row {<br>            display: flex;<br>            flex-direction: row;<br>            flex-wrap: wrap;<br>            justify-content: flex-start;<br>            width: 100%;<br>        }<br>        .wandb-col {<br>            display: flex;<br>            flex-direction: column;<br>            flex-basis: 100%;<br>            flex: 1;<br>            padding: 10px;<br>        }<br>    </style><br><div class=\"wandb-row\"><div class=\"wandb-col\"><h3>Run history:</h3><br/><table class=\"wandb\"><tr><td>epoch</td><td>▁▂▃▅▆▇█</td></tr><tr><td>final/best_val_mpjpe</td><td>▁</td></tr><tr><td>final/epochs_trained</td><td>▁</td></tr><tr><td>system/gpu_memory_gb</td><td>▁▆▅▃▃▁▆▆▆▄▅▇▂▁▂▂▅▅▁▃▄▂▂▃▅▆█▂▆▅▃▄▅▅▂▅▆▅▅▇</td></tr><tr><td>train/batch_loss</td><td>█▆▅▃▄▅▂▂▁▂▂▄▂▃▃▂▃▄▃▄▃▂▃▂▃▅▂▂▁▂▃▁▂▁▁▄▃▁▃▃</td></tr><tr><td>train/batch_mpjpe</td><td>█▃▂▂▂▁▂▁▂▁▂▁▁▁▂▁▂▂▂▁▁▁▁▁▁▁▁▁▁▁▁▁▁▁▁▁▁▁▁▁</td></tr><tr><td>train/hand_mpjpe</td><td>█▃▃▂▂▁▁</td></tr><tr><td>train/loss</td><td>█▂▁▁▁▁▁</td></tr><tr><td>train/lr</td><td>█████▇▇▇▇▇▅▅▅▅▅▄▄▄▄▄▄▄▃▃▃▃▃▃▃▂▂▂▂▂▂▁▁▁▁▁</td></tr><tr><td>val/best_mpjpe</td><td>█▄▃▃▁▁▁</td></tr><tr><td>val/hand_mpjpe</td><td>█▄▃▃▁▁▂</td></tr><tr><td>val/loss</td><td>▄▁▁▃▂██</td></tr></table><br/></div><div class=\"wandb-col\"><h3>Run summary:</h3><br/><table class=\"wandb\"><tr><td>epoch</td><td>6</td></tr><tr><td>final/best_val_mpjpe</td><td>254.5625</td></tr><tr><td>final/epochs_trained</td><td>7</td></tr><tr><td>system/gpu_memory_gb</td><td>11.231</td></tr><tr><td>train/batch_loss</td><td>0.51747</td></tr><tr><td>train/batch_mpjpe</td><td>269.53125</td></tr><tr><td>train/hand_mpjpe</td><td>263.91289</td></tr><tr><td>train/loss</td><td>0.49955</td></tr><tr><td>train/lr</td><td>1e-05</td></tr><tr><td>val/best_mpjpe</td><td>254.5625</td></tr><tr><td>val/hand_mpjpe</td><td>267.50391</td></tr><tr><td>val/loss</td><td>0.4353</td></tr></table><br/></div></div>"
      ],
      "text/plain": [
       "<IPython.core.display.HTML object>"
      ]
     },
     "metadata": {},
     "output_type": "display_data"
    },
    {
     "data": {
      "text/html": [
       " View run <strong style=\"color:#cdcd00\">fine-sweep-47</strong> at: <a href='https://wandb.ai/bryandong24-stanford-university/amt-hyperparameter-sweep/runs/h3gxp1i2' target=\"_blank\">https://wandb.ai/bryandong24-stanford-university/amt-hyperparameter-sweep/runs/h3gxp1i2</a><br> View project at: <a href='https://wandb.ai/bryandong24-stanford-university/amt-hyperparameter-sweep' target=\"_blank\">https://wandb.ai/bryandong24-stanford-university/amt-hyperparameter-sweep</a><br>Synced 5 W&B file(s), 0 media file(s), 0 artifact file(s) and 0 other file(s)"
      ],
      "text/plain": [
       "<IPython.core.display.HTML object>"
      ]
     },
     "metadata": {},
     "output_type": "display_data"
    },
    {
     "data": {
      "text/html": [
       "Find logs at: <code>./wandb/run-20250604_081735-h3gxp1i2/logs</code>"
      ],
      "text/plain": [
       "<IPython.core.display.HTML object>"
      ]
     },
     "metadata": {},
     "output_type": "display_data"
    },
    {
     "name": "stderr",
     "output_type": "stream",
     "text": [
      "\u001b[34m\u001b[1mwandb\u001b[0m: Agent Starting Run: qgi49eq1 with config:\n",
      "\u001b[34m\u001b[1mwandb\u001b[0m: \taug_color_jitter: 0.23186150120204496\n",
      "\u001b[34m\u001b[1mwandb\u001b[0m: \taug_joint_noise_std: 0.007918502500936512\n",
      "\u001b[34m\u001b[1mwandb\u001b[0m: \taug_rotation_range: 13.214604158017757\n",
      "\u001b[34m\u001b[1mwandb\u001b[0m: \taug_scale_max: 1.248837299898199\n",
      "\u001b[34m\u001b[1mwandb\u001b[0m: \taug_scale_min: 0.7185969948722546\n",
      "\u001b[34m\u001b[1mwandb\u001b[0m: \taug_translation_std: 0.038832299511971834\n",
      "\u001b[34m\u001b[1mwandb\u001b[0m: \tbatch_size: 32\n",
      "\u001b[34m\u001b[1mwandb\u001b[0m: \tdiversity_margin: 0.014075627652746428\n",
      "\u001b[34m\u001b[1mwandb\u001b[0m: \tdropout: 0.15\n",
      "\u001b[34m\u001b[1mwandb\u001b[0m: \tfingertip_weight: 1.8404015089661332\n",
      "\u001b[34m\u001b[1mwandb\u001b[0m: \tloss_weight_contact: 0.45560201646267495\n",
      "\u001b[34m\u001b[1mwandb\u001b[0m: \tloss_weight_diversity: 0.014490075069844486\n",
      "\u001b[34m\u001b[1mwandb\u001b[0m: \tloss_weight_hand_coarse: 1.030488395300874\n",
      "\u001b[34m\u001b[1mwandb\u001b[0m: \tloss_weight_hand_refined: 1.2294935707346637\n",
      "\u001b[34m\u001b[1mwandb\u001b[0m: \tloss_weight_object_position: 0.9586793546145886\n",
      "\u001b[34m\u001b[1mwandb\u001b[0m: \tloss_weight_object_rotation: 0.4931352203312678\n",
      "\u001b[34m\u001b[1mwandb\u001b[0m: \tloss_weight_physics: 0.12047048948621726\n",
      "\u001b[34m\u001b[1mwandb\u001b[0m: \tloss_weight_reprojection: 0.34776756899452393\n",
      "\u001b[34m\u001b[1mwandb\u001b[0m: \tper_joint_weighting: True\n",
      "\u001b[34m\u001b[1mwandb\u001b[0m: \tscheduler_type: cosine_warmup\n"
     ]
    },
    {
     "data": {
      "text/html": [
       "Tracking run with wandb version 0.19.11"
      ],
      "text/plain": [
       "<IPython.core.display.HTML object>"
      ]
     },
     "metadata": {},
     "output_type": "display_data"
    },
    {
     "data": {
      "text/html": [
       "Run data is saved locally in <code>/home/n231/231nProjectV2/Advanced_Manipulation_Transformer/notebooks/wandb/run-20250604_082324-qgi49eq1</code>"
      ],
      "text/plain": [
       "<IPython.core.display.HTML object>"
      ]
     },
     "metadata": {},
     "output_type": "display_data"
    },
    {
     "data": {
      "text/html": [
       "Syncing run <strong><a href='https://wandb.ai/bryandong24-stanford-university/amt-hyperparameter-sweep/runs/qgi49eq1' target=\"_blank\">crisp-sweep-48</a></strong> to <a href='https://wandb.ai/bryandong24-stanford-university/amt-hyperparameter-sweep' target=\"_blank\">Weights & Biases</a> (<a href='https://wandb.me/developer-guide' target=\"_blank\">docs</a>)<br>Sweep page: <a href='https://wandb.ai/bryandong24-stanford-university/amt-hyperparameter-sweep/sweeps/c189gpt8' target=\"_blank\">https://wandb.ai/bryandong24-stanford-university/amt-hyperparameter-sweep/sweeps/c189gpt8</a>"
      ],
      "text/plain": [
       "<IPython.core.display.HTML object>"
      ]
     },
     "metadata": {},
     "output_type": "display_data"
    },
    {
     "data": {
      "text/html": [
       " View project at <a href='https://wandb.ai/bryandong24-stanford-university/amt-hyperparameter-sweep' target=\"_blank\">https://wandb.ai/bryandong24-stanford-university/amt-hyperparameter-sweep</a>"
      ],
      "text/plain": [
       "<IPython.core.display.HTML object>"
      ]
     },
     "metadata": {},
     "output_type": "display_data"
    },
    {
     "data": {
      "text/html": [
       " View sweep at <a href='https://wandb.ai/bryandong24-stanford-university/amt-hyperparameter-sweep/sweeps/c189gpt8' target=\"_blank\">https://wandb.ai/bryandong24-stanford-university/amt-hyperparameter-sweep/sweeps/c189gpt8</a>"
      ],
      "text/plain": [
       "<IPython.core.display.HTML object>"
      ]
     },
     "metadata": {},
     "output_type": "display_data"
    },
    {
     "data": {
      "text/html": [
       " View run at <a href='https://wandb.ai/bryandong24-stanford-university/amt-hyperparameter-sweep/runs/qgi49eq1' target=\"_blank\">https://wandb.ai/bryandong24-stanford-university/amt-hyperparameter-sweep/runs/qgi49eq1</a>"
      ],
      "text/plain": [
       "<IPython.core.display.HTML object>"
      ]
     },
     "metadata": {},
     "output_type": "display_data"
    },
    {
     "name": "stdout",
     "output_type": "stream",
     "text": [
      "Creating dataloaders with 20k train, 2k val samples, batch_size=32...\n",
      "Creating GPU-cached datasets...\n",
      "Target memory usage: 20.0 GB\n",
      "Estimated GPU memory usage: 20.0 GB\n",
      "Loading cached GPU dataset from ./gpu_cache_sweep/train_gpu_cache_20000.pt...\n",
      "Loading cache from ./gpu_cache_sweep/train_gpu_cache_20000.pt...\n",
      "✓ Loaded 20000 samples\n",
      "Estimated GPU memory usage: 2.0 GB\n",
      "Loading cached GPU dataset from ./gpu_cache_sweep/val_gpu_cache_2000.pt...\n",
      "Loading cache from ./gpu_cache_sweep/val_gpu_cache_2000.pt...\n",
      "✓ Loaded 2000 samples\n",
      "\n",
      "✓ GPU Datasets created:\n",
      "  Train: 20000 samples (6.7 GB)\n",
      "  Val: 2000 samples (6.7 GB)\n",
      "  Total GPU memory: 13.4 GB\n",
      "Dataloaders created: 625 train batches, 63 val batches\n",
      "Epoch 1/7: train_loss=0.7150, train_mpjpe=429.85mm, val_loss=0.4169, val_mpjpe=311.47mm\n",
      "Epoch 2/7: train_loss=0.5078, train_mpjpe=323.08mm, val_loss=0.4293, val_mpjpe=269.44mm\n",
      "Epoch 3/7: train_loss=0.4933, train_mpjpe=304.52mm, val_loss=0.4022, val_mpjpe=266.09mm\n",
      "Epoch 4/7: train_loss=0.4814, train_mpjpe=289.09mm, val_loss=0.3818, val_mpjpe=243.77mm\n",
      "Epoch 5/7: train_loss=0.4679, train_mpjpe=275.69mm, val_loss=0.3919, val_mpjpe=249.01mm\n",
      "Epoch 6/7: train_loss=0.4565, train_mpjpe=264.85mm, val_loss=0.3949, val_mpjpe=243.52mm\n",
      "Epoch 7/7: train_loss=0.4515, train_mpjpe=254.89mm, val_loss=0.3947, val_mpjpe=241.27mm\n"
     ]
    },
    {
     "data": {
      "text/html": [],
      "text/plain": [
       "<IPython.core.display.HTML object>"
      ]
     },
     "metadata": {},
     "output_type": "display_data"
    },
    {
     "data": {
      "text/html": [
       "<br>    <style><br>        .wandb-row {<br>            display: flex;<br>            flex-direction: row;<br>            flex-wrap: wrap;<br>            justify-content: flex-start;<br>            width: 100%;<br>        }<br>        .wandb-col {<br>            display: flex;<br>            flex-direction: column;<br>            flex-basis: 100%;<br>            flex: 1;<br>            padding: 10px;<br>        }<br>    </style><br><div class=\"wandb-row\"><div class=\"wandb-col\"><h3>Run history:</h3><br/><table class=\"wandb\"><tr><td>epoch</td><td>▁▂▃▅▆▇█</td></tr><tr><td>final/best_val_mpjpe</td><td>▁</td></tr><tr><td>final/epochs_trained</td><td>▁</td></tr><tr><td>system/gpu_memory_gb</td><td>▁▃▅▄▂▅█▂█▄▆▄▅▃▅▆█▄▅▄▃▃▄▅▇▇▄▅▅▇▆▄▄▅▅▇▅▅▂▇</td></tr><tr><td>train/batch_loss</td><td>█▂▃▃▄▅▁▂▃▃▄▃▂▁▅▂▃▄▄▃▂▄▂▂▃▄▂▂▇▅▁▂▂▄▂▃▂▆▅▃</td></tr><tr><td>train/batch_mpjpe</td><td>█▆▄▃▄▂▄▃▄▄▂▃▃▃▄▂▄▄▂▄▂▃▃▂▂▂▁▁▅▂▁▃▃▂▂▁▁▃▂▁</td></tr><tr><td>train/hand_mpjpe</td><td>█▄▃▂▂▁▁</td></tr><tr><td>train/loss</td><td>█▂▂▂▁▁▁</td></tr><tr><td>train/lr</td><td>██████████▇▇▇▇▇▇▇▆▆▆▆▆▆▄▄▄▃▃▃▃▃▃▃▃▃▃▁▁▁▁</td></tr><tr><td>val/best_mpjpe</td><td>█▄▃▁▁▁▁</td></tr><tr><td>val/hand_mpjpe</td><td>█▄▃▁▂▁▁</td></tr><tr><td>val/loss</td><td>▆█▄▁▂▃▃</td></tr></table><br/></div><div class=\"wandb-col\"><h3>Run summary:</h3><br/><table class=\"wandb\"><tr><td>epoch</td><td>6</td></tr><tr><td>final/best_val_mpjpe</td><td>241.27344</td></tr><tr><td>final/epochs_trained</td><td>7</td></tr><tr><td>system/gpu_memory_gb</td><td>11.11282</td></tr><tr><td>train/batch_loss</td><td>0.59668</td></tr><tr><td>train/batch_mpjpe</td><td>345.70312</td></tr><tr><td>train/hand_mpjpe</td><td>254.88984</td></tr><tr><td>train/loss</td><td>0.45152</td></tr><tr><td>train/lr</td><td>0.0</td></tr><tr><td>val/best_mpjpe</td><td>241.27344</td></tr><tr><td>val/hand_mpjpe</td><td>241.27344</td></tr><tr><td>val/loss</td><td>0.39471</td></tr></table><br/></div></div>"
      ],
      "text/plain": [
       "<IPython.core.display.HTML object>"
      ]
     },
     "metadata": {},
     "output_type": "display_data"
    },
    {
     "data": {
      "text/html": [
       " View run <strong style=\"color:#cdcd00\">crisp-sweep-48</strong> at: <a href='https://wandb.ai/bryandong24-stanford-university/amt-hyperparameter-sweep/runs/qgi49eq1' target=\"_blank\">https://wandb.ai/bryandong24-stanford-university/amt-hyperparameter-sweep/runs/qgi49eq1</a><br> View project at: <a href='https://wandb.ai/bryandong24-stanford-university/amt-hyperparameter-sweep' target=\"_blank\">https://wandb.ai/bryandong24-stanford-university/amt-hyperparameter-sweep</a><br>Synced 5 W&B file(s), 0 media file(s), 0 artifact file(s) and 0 other file(s)"
      ],
      "text/plain": [
       "<IPython.core.display.HTML object>"
      ]
     },
     "metadata": {},
     "output_type": "display_data"
    },
    {
     "data": {
      "text/html": [
       "Find logs at: <code>./wandb/run-20250604_082324-qgi49eq1/logs</code>"
      ],
      "text/plain": [
       "<IPython.core.display.HTML object>"
      ]
     },
     "metadata": {},
     "output_type": "display_data"
    },
    {
     "name": "stderr",
     "output_type": "stream",
     "text": [
      "\u001b[34m\u001b[1mwandb\u001b[0m: Agent Starting Run: jnox2efz with config:\n",
      "\u001b[34m\u001b[1mwandb\u001b[0m: \taug_color_jitter: 0.1680787753446761\n",
      "\u001b[34m\u001b[1mwandb\u001b[0m: \taug_joint_noise_std: 0.007606157930007194\n",
      "\u001b[34m\u001b[1mwandb\u001b[0m: \taug_rotation_range: 7.123497244822974\n",
      "\u001b[34m\u001b[1mwandb\u001b[0m: \taug_scale_max: 1.1417004615689508\n",
      "\u001b[34m\u001b[1mwandb\u001b[0m: \taug_scale_min: 0.758904864686229\n",
      "\u001b[34m\u001b[1mwandb\u001b[0m: \taug_translation_std: 0.036082238372322085\n",
      "\u001b[34m\u001b[1mwandb\u001b[0m: \tbatch_size: 32\n",
      "\u001b[34m\u001b[1mwandb\u001b[0m: \tdiversity_margin: 0.017923163535487664\n",
      "\u001b[34m\u001b[1mwandb\u001b[0m: \tdropout: 0.15\n",
      "\u001b[34m\u001b[1mwandb\u001b[0m: \tfingertip_weight: 1.3693630614169268\n",
      "\u001b[34m\u001b[1mwandb\u001b[0m: \tloss_weight_contact: 0.35933105625469663\n",
      "\u001b[34m\u001b[1mwandb\u001b[0m: \tloss_weight_diversity: 0.005984291555355641\n",
      "\u001b[34m\u001b[1mwandb\u001b[0m: \tloss_weight_hand_coarse: 1.1325970922650106\n",
      "\u001b[34m\u001b[1mwandb\u001b[0m: \tloss_weight_hand_refined: 1.18923514356987\n",
      "\u001b[34m\u001b[1mwandb\u001b[0m: \tloss_weight_object_position: 0.8218849761978071\n",
      "\u001b[34m\u001b[1mwandb\u001b[0m: \tloss_weight_object_rotation: 0.46322918880595465\n",
      "\u001b[34m\u001b[1mwandb\u001b[0m: \tloss_weight_physics: 0.08561881455729764\n",
      "\u001b[34m\u001b[1mwandb\u001b[0m: \tloss_weight_reprojection: 0.5528677623688192\n",
      "\u001b[34m\u001b[1mwandb\u001b[0m: \tper_joint_weighting: False\n",
      "\u001b[34m\u001b[1mwandb\u001b[0m: \tscheduler_type: step\n"
     ]
    },
    {
     "data": {
      "text/html": [
       "Tracking run with wandb version 0.19.11"
      ],
      "text/plain": [
       "<IPython.core.display.HTML object>"
      ]
     },
     "metadata": {},
     "output_type": "display_data"
    },
    {
     "data": {
      "text/html": [
       "Run data is saved locally in <code>/home/n231/231nProjectV2/Advanced_Manipulation_Transformer/notebooks/wandb/run-20250604_083120-jnox2efz</code>"
      ],
      "text/plain": [
       "<IPython.core.display.HTML object>"
      ]
     },
     "metadata": {},
     "output_type": "display_data"
    },
    {
     "data": {
      "text/html": [
       "Syncing run <strong><a href='https://wandb.ai/bryandong24-stanford-university/amt-hyperparameter-sweep/runs/jnox2efz' target=\"_blank\">colorful-sweep-49</a></strong> to <a href='https://wandb.ai/bryandong24-stanford-university/amt-hyperparameter-sweep' target=\"_blank\">Weights & Biases</a> (<a href='https://wandb.me/developer-guide' target=\"_blank\">docs</a>)<br>Sweep page: <a href='https://wandb.ai/bryandong24-stanford-university/amt-hyperparameter-sweep/sweeps/c189gpt8' target=\"_blank\">https://wandb.ai/bryandong24-stanford-university/amt-hyperparameter-sweep/sweeps/c189gpt8</a>"
      ],
      "text/plain": [
       "<IPython.core.display.HTML object>"
      ]
     },
     "metadata": {},
     "output_type": "display_data"
    },
    {
     "data": {
      "text/html": [
       " View project at <a href='https://wandb.ai/bryandong24-stanford-university/amt-hyperparameter-sweep' target=\"_blank\">https://wandb.ai/bryandong24-stanford-university/amt-hyperparameter-sweep</a>"
      ],
      "text/plain": [
       "<IPython.core.display.HTML object>"
      ]
     },
     "metadata": {},
     "output_type": "display_data"
    },
    {
     "data": {
      "text/html": [
       " View sweep at <a href='https://wandb.ai/bryandong24-stanford-university/amt-hyperparameter-sweep/sweeps/c189gpt8' target=\"_blank\">https://wandb.ai/bryandong24-stanford-university/amt-hyperparameter-sweep/sweeps/c189gpt8</a>"
      ],
      "text/plain": [
       "<IPython.core.display.HTML object>"
      ]
     },
     "metadata": {},
     "output_type": "display_data"
    },
    {
     "data": {
      "text/html": [
       " View run at <a href='https://wandb.ai/bryandong24-stanford-university/amt-hyperparameter-sweep/runs/jnox2efz' target=\"_blank\">https://wandb.ai/bryandong24-stanford-university/amt-hyperparameter-sweep/runs/jnox2efz</a>"
      ],
      "text/plain": [
       "<IPython.core.display.HTML object>"
      ]
     },
     "metadata": {},
     "output_type": "display_data"
    },
    {
     "name": "stdout",
     "output_type": "stream",
     "text": [
      "Creating dataloaders with 20k train, 2k val samples, batch_size=32...\n",
      "Creating GPU-cached datasets...\n",
      "Target memory usage: 20.0 GB\n",
      "Estimated GPU memory usage: 20.0 GB\n",
      "Loading cached GPU dataset from ./gpu_cache_sweep/train_gpu_cache_20000.pt...\n",
      "Loading cache from ./gpu_cache_sweep/train_gpu_cache_20000.pt...\n",
      "✓ Loaded 20000 samples\n",
      "Estimated GPU memory usage: 2.0 GB\n",
      "Loading cached GPU dataset from ./gpu_cache_sweep/val_gpu_cache_2000.pt...\n",
      "Loading cache from ./gpu_cache_sweep/val_gpu_cache_2000.pt...\n",
      "✓ Loaded 2000 samples\n",
      "\n",
      "✓ GPU Datasets created:\n",
      "  Train: 20000 samples (6.7 GB)\n",
      "  Val: 2000 samples (6.7 GB)\n",
      "  Total GPU memory: 13.4 GB\n",
      "Dataloaders created: 625 train batches, 63 val batches\n",
      "Epoch 1/7: train_loss=0.7266, train_mpjpe=410.06mm, val_loss=0.4490, val_mpjpe=287.21mm\n",
      "Epoch 2/7: train_loss=0.5471, train_mpjpe=324.83mm, val_loss=0.4488, val_mpjpe=259.53mm\n",
      "Epoch 3/7: train_loss=0.5299, train_mpjpe=303.71mm, val_loss=0.4326, val_mpjpe=257.85mm\n",
      "Epoch 4/7: train_loss=0.5134, train_mpjpe=278.88mm, val_loss=0.4427, val_mpjpe=244.91mm\n",
      "Epoch 5/7: train_loss=0.5124, train_mpjpe=270.47mm, val_loss=0.4298, val_mpjpe=234.69mm\n",
      "Epoch 6/7: train_loss=0.5117, train_mpjpe=263.56mm, val_loss=0.4358, val_mpjpe=232.65mm\n",
      "Epoch 7/7: train_loss=0.5062, train_mpjpe=250.58mm, val_loss=0.4404, val_mpjpe=225.18mm\n"
     ]
    },
    {
     "data": {
      "text/html": [],
      "text/plain": [
       "<IPython.core.display.HTML object>"
      ]
     },
     "metadata": {},
     "output_type": "display_data"
    },
    {
     "data": {
      "text/html": [
       "<br>    <style><br>        .wandb-row {<br>            display: flex;<br>            flex-direction: row;<br>            flex-wrap: wrap;<br>            justify-content: flex-start;<br>            width: 100%;<br>        }<br>        .wandb-col {<br>            display: flex;<br>            flex-direction: column;<br>            flex-basis: 100%;<br>            flex: 1;<br>            padding: 10px;<br>        }<br>    </style><br><div class=\"wandb-row\"><div class=\"wandb-col\"><h3>Run history:</h3><br/><table class=\"wandb\"><tr><td>epoch</td><td>▁▂▃▅▆▇█</td></tr><tr><td>final/best_val_mpjpe</td><td>▁</td></tr><tr><td>final/epochs_trained</td><td>▁</td></tr><tr><td>system/gpu_memory_gb</td><td>▃▄▆▅▅▇▇▄▄▃▄▂▅▃▅▆▆▃▄█▄▆▅▆▄▁▄▃▆▇▃▃▄█▄▆▁▄▄▂</td></tr><tr><td>train/batch_loss</td><td>▅▃█▅▅▄▂▃▃▁▃▂▃▆▅▄▄▃▅▄▅▁▅▃▄▁▆▄▇▁▅▃▂▇▅▂▄▅▆▂</td></tr><tr><td>train/batch_mpjpe</td><td>▇▆▃█▃▄▃▆▅▃▄▄▂▂▄▆▆▆▂▃▄▄▄▂▅▁▅▁▃▁▁▂▂▃▃▂▄▂▂▄</td></tr><tr><td>train/hand_mpjpe</td><td>█▄▃▂▂▂▁</td></tr><tr><td>train/loss</td><td>█▂▂▁▁▁▁</td></tr><tr><td>train/lr</td><td>█████████████████▃▃▃▃▃▃▃▃▃▃▃▃▃▃▃▃▁▁▁▁▁▁▁</td></tr><tr><td>val/best_mpjpe</td><td>█▅▅▃▂▂▁</td></tr><tr><td>val/hand_mpjpe</td><td>█▅▅▃▂▂▁</td></tr><tr><td>val/loss</td><td>██▂▆▁▃▅</td></tr></table><br/></div><div class=\"wandb-col\"><h3>Run summary:</h3><br/><table class=\"wandb\"><tr><td>epoch</td><td>6</td></tr><tr><td>final/best_val_mpjpe</td><td>225.17578</td></tr><tr><td>final/epochs_trained</td><td>7</td></tr><tr><td>system/gpu_memory_gb</td><td>11.10915</td></tr><tr><td>train/batch_loss</td><td>0.46204</td></tr><tr><td>train/batch_mpjpe</td><td>213.86719</td></tr><tr><td>train/hand_mpjpe</td><td>250.57656</td></tr><tr><td>train/loss</td><td>0.50619</td></tr><tr><td>train/lr</td><td>0.0</td></tr><tr><td>val/best_mpjpe</td><td>225.17578</td></tr><tr><td>val/hand_mpjpe</td><td>225.17578</td></tr><tr><td>val/loss</td><td>0.44039</td></tr></table><br/></div></div>"
      ],
      "text/plain": [
       "<IPython.core.display.HTML object>"
      ]
     },
     "metadata": {},
     "output_type": "display_data"
    },
    {
     "data": {
      "text/html": [
       " View run <strong style=\"color:#cdcd00\">colorful-sweep-49</strong> at: <a href='https://wandb.ai/bryandong24-stanford-university/amt-hyperparameter-sweep/runs/jnox2efz' target=\"_blank\">https://wandb.ai/bryandong24-stanford-university/amt-hyperparameter-sweep/runs/jnox2efz</a><br> View project at: <a href='https://wandb.ai/bryandong24-stanford-university/amt-hyperparameter-sweep' target=\"_blank\">https://wandb.ai/bryandong24-stanford-university/amt-hyperparameter-sweep</a><br>Synced 5 W&B file(s), 0 media file(s), 0 artifact file(s) and 0 other file(s)"
      ],
      "text/plain": [
       "<IPython.core.display.HTML object>"
      ]
     },
     "metadata": {},
     "output_type": "display_data"
    },
    {
     "data": {
      "text/html": [
       "Find logs at: <code>./wandb/run-20250604_083120-jnox2efz/logs</code>"
      ],
      "text/plain": [
       "<IPython.core.display.HTML object>"
      ]
     },
     "metadata": {},
     "output_type": "display_data"
    },
    {
     "name": "stderr",
     "output_type": "stream",
     "text": [
      "\u001b[34m\u001b[1mwandb\u001b[0m: Agent Starting Run: 2dxpd1ki with config:\n",
      "\u001b[34m\u001b[1mwandb\u001b[0m: \taug_color_jitter: 0.18272536550320745\n",
      "\u001b[34m\u001b[1mwandb\u001b[0m: \taug_joint_noise_std: 0.008944842777531867\n",
      "\u001b[34m\u001b[1mwandb\u001b[0m: \taug_rotation_range: 7.6188328272493315\n",
      "\u001b[34m\u001b[1mwandb\u001b[0m: \taug_scale_max: 1.2115000872294637\n",
      "\u001b[34m\u001b[1mwandb\u001b[0m: \taug_scale_min: 0.7271504315803151\n",
      "\u001b[34m\u001b[1mwandb\u001b[0m: \taug_translation_std: 0.03250613760391281\n",
      "\u001b[34m\u001b[1mwandb\u001b[0m: \tbatch_size: 64\n",
      "\u001b[34m\u001b[1mwandb\u001b[0m: \tdiversity_margin: 0.015647450030808592\n",
      "\u001b[34m\u001b[1mwandb\u001b[0m: \tdropout: 0.15\n",
      "\u001b[34m\u001b[1mwandb\u001b[0m: \tfingertip_weight: 1.3328270887721356\n",
      "\u001b[34m\u001b[1mwandb\u001b[0m: \tloss_weight_contact: 0.4607616595848366\n",
      "\u001b[34m\u001b[1mwandb\u001b[0m: \tloss_weight_diversity: 0.006782943004025081\n",
      "\u001b[34m\u001b[1mwandb\u001b[0m: \tloss_weight_hand_coarse: 1.1667574948560238\n",
      "\u001b[34m\u001b[1mwandb\u001b[0m: \tloss_weight_hand_refined: 1.079471987398663\n",
      "\u001b[34m\u001b[1mwandb\u001b[0m: \tloss_weight_object_position: 0.8314365575609373\n",
      "\u001b[34m\u001b[1mwandb\u001b[0m: \tloss_weight_object_rotation: 0.3960125487148205\n",
      "\u001b[34m\u001b[1mwandb\u001b[0m: \tloss_weight_physics: 0.0987483156108832\n",
      "\u001b[34m\u001b[1mwandb\u001b[0m: \tloss_weight_reprojection: 0.5929222857132368\n",
      "\u001b[34m\u001b[1mwandb\u001b[0m: \tper_joint_weighting: True\n",
      "\u001b[34m\u001b[1mwandb\u001b[0m: \tscheduler_type: exponential\n"
     ]
    },
    {
     "data": {
      "text/html": [
       "Tracking run with wandb version 0.19.11"
      ],
      "text/plain": [
       "<IPython.core.display.HTML object>"
      ]
     },
     "metadata": {},
     "output_type": "display_data"
    },
    {
     "data": {
      "text/html": [
       "Run data is saved locally in <code>/home/n231/231nProjectV2/Advanced_Manipulation_Transformer/notebooks/wandb/run-20250604_083915-2dxpd1ki</code>"
      ],
      "text/plain": [
       "<IPython.core.display.HTML object>"
      ]
     },
     "metadata": {},
     "output_type": "display_data"
    },
    {
     "data": {
      "text/html": [
       "Syncing run <strong><a href='https://wandb.ai/bryandong24-stanford-university/amt-hyperparameter-sweep/runs/2dxpd1ki' target=\"_blank\">toasty-sweep-50</a></strong> to <a href='https://wandb.ai/bryandong24-stanford-university/amt-hyperparameter-sweep' target=\"_blank\">Weights & Biases</a> (<a href='https://wandb.me/developer-guide' target=\"_blank\">docs</a>)<br>Sweep page: <a href='https://wandb.ai/bryandong24-stanford-university/amt-hyperparameter-sweep/sweeps/c189gpt8' target=\"_blank\">https://wandb.ai/bryandong24-stanford-university/amt-hyperparameter-sweep/sweeps/c189gpt8</a>"
      ],
      "text/plain": [
       "<IPython.core.display.HTML object>"
      ]
     },
     "metadata": {},
     "output_type": "display_data"
    },
    {
     "data": {
      "text/html": [
       " View project at <a href='https://wandb.ai/bryandong24-stanford-university/amt-hyperparameter-sweep' target=\"_blank\">https://wandb.ai/bryandong24-stanford-university/amt-hyperparameter-sweep</a>"
      ],
      "text/plain": [
       "<IPython.core.display.HTML object>"
      ]
     },
     "metadata": {},
     "output_type": "display_data"
    },
    {
     "data": {
      "text/html": [
       " View sweep at <a href='https://wandb.ai/bryandong24-stanford-university/amt-hyperparameter-sweep/sweeps/c189gpt8' target=\"_blank\">https://wandb.ai/bryandong24-stanford-university/amt-hyperparameter-sweep/sweeps/c189gpt8</a>"
      ],
      "text/plain": [
       "<IPython.core.display.HTML object>"
      ]
     },
     "metadata": {},
     "output_type": "display_data"
    },
    {
     "data": {
      "text/html": [
       " View run at <a href='https://wandb.ai/bryandong24-stanford-university/amt-hyperparameter-sweep/runs/2dxpd1ki' target=\"_blank\">https://wandb.ai/bryandong24-stanford-university/amt-hyperparameter-sweep/runs/2dxpd1ki</a>"
      ],
      "text/plain": [
       "<IPython.core.display.HTML object>"
      ]
     },
     "metadata": {},
     "output_type": "display_data"
    },
    {
     "name": "stdout",
     "output_type": "stream",
     "text": [
      "Creating dataloaders with 20k train, 2k val samples, batch_size=64...\n",
      "Creating GPU-cached datasets...\n",
      "Target memory usage: 20.0 GB\n",
      "Estimated GPU memory usage: 20.0 GB\n",
      "Loading cached GPU dataset from ./gpu_cache_sweep/train_gpu_cache_20000.pt...\n",
      "Loading cache from ./gpu_cache_sweep/train_gpu_cache_20000.pt...\n",
      "✓ Loaded 20000 samples\n",
      "Estimated GPU memory usage: 2.0 GB\n",
      "Loading cached GPU dataset from ./gpu_cache_sweep/val_gpu_cache_2000.pt...\n",
      "Loading cache from ./gpu_cache_sweep/val_gpu_cache_2000.pt...\n",
      "✓ Loaded 2000 samples\n",
      "\n",
      "✓ GPU Datasets created:\n",
      "  Train: 20000 samples (6.7 GB)\n",
      "  Val: 2000 samples (6.7 GB)\n",
      "  Total GPU memory: 13.4 GB\n",
      "Dataloaders created: 312 train batches, 32 val batches\n",
      "Epoch 1/7: train_loss=0.9267, train_mpjpe=484.26mm, val_loss=0.4903, val_mpjpe=303.69mm\n",
      "Epoch 2/7: train_loss=0.5676, train_mpjpe=327.76mm, val_loss=0.4387, val_mpjpe=264.98mm\n",
      "Epoch 3/7: train_loss=0.5414, train_mpjpe=298.07mm, val_loss=0.4380, val_mpjpe=253.14mm\n",
      "Epoch 4/7: train_loss=0.5343, train_mpjpe=283.75mm, val_loss=0.4778, val_mpjpe=268.09mm\n",
      "Epoch 5/7: train_loss=0.5295, train_mpjpe=270.34mm, val_loss=0.4394, val_mpjpe=248.20mm\n",
      "Epoch 6/7: train_loss=0.5230, train_mpjpe=262.16mm, val_loss=0.4492, val_mpjpe=240.88mm\n",
      "Epoch 7/7: train_loss=0.5186, train_mpjpe=255.87mm, val_loss=0.4418, val_mpjpe=239.73mm\n"
     ]
    },
    {
     "data": {
      "text/html": [],
      "text/plain": [
       "<IPython.core.display.HTML object>"
      ]
     },
     "metadata": {},
     "output_type": "display_data"
    },
    {
     "data": {
      "text/html": [
       "<br>    <style><br>        .wandb-row {<br>            display: flex;<br>            flex-direction: row;<br>            flex-wrap: wrap;<br>            justify-content: flex-start;<br>            width: 100%;<br>        }<br>        .wandb-col {<br>            display: flex;<br>            flex-direction: column;<br>            flex-basis: 100%;<br>            flex: 1;<br>            padding: 10px;<br>        }<br>    </style><br><div class=\"wandb-row\"><div class=\"wandb-col\"><h3>Run history:</h3><br/><table class=\"wandb\"><tr><td>epoch</td><td>▁▂▃▅▆▇█</td></tr><tr><td>final/best_val_mpjpe</td><td>▁</td></tr><tr><td>final/epochs_trained</td><td>▁</td></tr><tr><td>system/gpu_memory_gb</td><td>▄▅▄▅▆▅▃█▅▄▃▄▃▄▃▄▄▇▄▅▂▅▁▅▅▅▅▄▅▃▄▄▅▄▂▁▅▅▅▄</td></tr><tr><td>train/batch_loss</td><td>█▅▅▅▃▃▃▂▃▃▂▂▁▂▃▂▁▃▁▂▃▂▁▁▁▂▂▂▂▁▂▁▂▁▂▂▁▂▂▁</td></tr><tr><td>train/batch_mpjpe</td><td>█▆▄▅▆▅▄▃▆▆▆▃▄▃▁▄▅▁█▅▁▄▅▆▅▅▂▅▁▆▁▃▂▂▃▂▂▂▂▂</td></tr><tr><td>train/hand_mpjpe</td><td>█▃▂▂▁▁▁</td></tr><tr><td>train/loss</td><td>█▂▁▁▁▁▁</td></tr><tr><td>train/lr</td><td>█████▇▇▇▅▅▅▅▅▅▄▄▄▄▄▄▃▃▃▃▃▂▂▂▂▂▂▁▁▁▁▁▁▁▁▁</td></tr><tr><td>val/best_mpjpe</td><td>█▄▂▂▂▁▁</td></tr><tr><td>val/hand_mpjpe</td><td>█▄▂▄▂▁▁</td></tr><tr><td>val/loss</td><td>█▁▁▆▁▂▁</td></tr></table><br/></div><div class=\"wandb-col\"><h3>Run summary:</h3><br/><table class=\"wandb\"><tr><td>epoch</td><td>6</td></tr><tr><td>final/best_val_mpjpe</td><td>239.73438</td></tr><tr><td>final/epochs_trained</td><td>7</td></tr><tr><td>system/gpu_memory_gb</td><td>11.22897</td></tr><tr><td>train/batch_loss</td><td>0.53639</td></tr><tr><td>train/batch_mpjpe</td><td>269.53125</td></tr><tr><td>train/hand_mpjpe</td><td>255.86564</td></tr><tr><td>train/loss</td><td>0.51857</td></tr><tr><td>train/lr</td><td>1e-05</td></tr><tr><td>val/best_mpjpe</td><td>239.73438</td></tr><tr><td>val/hand_mpjpe</td><td>239.73438</td></tr><tr><td>val/loss</td><td>0.44176</td></tr></table><br/></div></div>"
      ],
      "text/plain": [
       "<IPython.core.display.HTML object>"
      ]
     },
     "metadata": {},
     "output_type": "display_data"
    },
    {
     "data": {
      "text/html": [
       " View run <strong style=\"color:#cdcd00\">toasty-sweep-50</strong> at: <a href='https://wandb.ai/bryandong24-stanford-university/amt-hyperparameter-sweep/runs/2dxpd1ki' target=\"_blank\">https://wandb.ai/bryandong24-stanford-university/amt-hyperparameter-sweep/runs/2dxpd1ki</a><br> View project at: <a href='https://wandb.ai/bryandong24-stanford-university/amt-hyperparameter-sweep' target=\"_blank\">https://wandb.ai/bryandong24-stanford-university/amt-hyperparameter-sweep</a><br>Synced 5 W&B file(s), 0 media file(s), 0 artifact file(s) and 0 other file(s)"
      ],
      "text/plain": [
       "<IPython.core.display.HTML object>"
      ]
     },
     "metadata": {},
     "output_type": "display_data"
    },
    {
     "data": {
      "text/html": [
       "Find logs at: <code>./wandb/run-20250604_083915-2dxpd1ki/logs</code>"
      ],
      "text/plain": [
       "<IPython.core.display.HTML object>"
      ]
     },
     "metadata": {},
     "output_type": "display_data"
    }
   ],
   "source": [
    "# Run sweep agent\n",
    "# You can adjust count to run more or fewer experiments\n",
    "sweep_count = 50  # Number of experiments to run\n",
    "\n",
    "print(f\"Starting sweep agent to run {sweep_count} experiments...\")\n",
    "print(\"Each experiment will run for 7 epochs with 20k training samples\")\n",
    "print(\"This will take approximately 10-15 minutes per experiment\")\n",
    "\n",
    "wandb.agent(sweep_id, function=train, count=sweep_count)"
   ]
  },
  {
   "cell_type": "markdown",
   "metadata": {},
   "source": [
    "## 5. Analyze Results"
   ]
  },
  {
   "cell_type": "code",
   "execution_count": 6,
   "metadata": {},
   "outputs": [
    {
     "name": "stderr",
     "output_type": "stream",
     "text": [
      "\u001b[34m\u001b[1mwandb\u001b[0m: Sorting runs by +summary_metrics.val/hand_mpjpe\n"
     ]
    },
    {
     "name": "stdout",
     "output_type": "stream",
     "text": [
      "Best run: colorful-sweep-49\n",
      "Best validation MPJPE: 225.18 mm\n",
      "\n",
      "Best hyperparameters:\n",
      "  dropout: 0.15\n",
      "  batch_size: 32\n",
      "  aug_scale_max: 1.1417004615689508\n",
      "  aug_scale_min: 0.758904864686229\n",
      "  scheduler_type: step\n",
      "  aug_color_jitter: 0.1680787753446761\n",
      "  diversity_margin: 0.017923163535487664\n",
      "  fingertip_weight: 1.3693630614169268\n",
      "  aug_rotation_range: 7.123497244822974\n",
      "  aug_joint_noise_std: 0.007606157930007194\n",
      "  aug_translation_std: 0.036082238372322085\n",
      "  loss_weight_contact: 0.35933105625469663\n",
      "  loss_weight_physics: 0.08561881455729764\n",
      "  per_joint_weighting: False\n",
      "  loss_weight_diversity: 0.005984291555355641\n",
      "  loss_weight_hand_coarse: 1.1325970922650106\n",
      "  loss_weight_hand_refined: 1.18923514356987\n",
      "  loss_weight_reprojection: 0.5528677623688192\n",
      "  loss_weight_object_position: 0.8218849761978071\n",
      "  loss_weight_object_rotation: 0.46322918880595465\n"
     ]
    }
   ],
   "source": [
    "# After sweep completes, analyze results\n",
    "api = wandb.Api()\n",
    "sweep = api.sweep(f\"{wandb.api.default_entity}/{project_name}/sweeps/{sweep_id}\")\n",
    "\n",
    "# Get best run\n",
    "best_run = sweep.best_run()\n",
    "print(f\"Best run: {best_run.name}\")\n",
    "print(f\"Best validation MPJPE: {best_run.summary['val/hand_mpjpe']:.2f} mm\")\n",
    "print(\"\\nBest hyperparameters:\")\n",
    "for param, value in best_run.config.items():\n",
    "    if param.startswith('_'):\n",
    "        continue\n",
    "    print(f\"  {param}: {value}\")"
   ]
  },
  {
   "cell_type": "code",
   "execution_count": 7,
   "metadata": {},
   "outputs": [
    {
     "ename": "TypeError",
     "evalue": "unsupported operand type(s) for +: 'float' and 'str'",
     "output_type": "error",
     "traceback": [
      "\u001b[31m---------------------------------------------------------------------------\u001b[39m",
      "\u001b[31mTypeError\u001b[39m                                 Traceback (most recent call last)",
      "\u001b[36mCell\u001b[39m\u001b[36m \u001b[39m\u001b[32mIn[7]\u001b[39m\u001b[32m, line 34\u001b[39m\n\u001b[32m     32\u001b[39m \u001b[38;5;28;01mfor\u001b[39;00m val \u001b[38;5;129;01min\u001b[39;00m param_values:\n\u001b[32m     33\u001b[39m     mpjpe_by_param.append(df[df[param] == val][\u001b[33m'\u001b[39m\u001b[33mval_mpjpe\u001b[39m\u001b[33m'\u001b[39m].values)\n\u001b[32m---> \u001b[39m\u001b[32m34\u001b[39m \u001b[43max\u001b[49m\u001b[43m.\u001b[49m\u001b[43mboxplot\u001b[49m\u001b[43m(\u001b[49m\u001b[43mmpjpe_by_param\u001b[49m\u001b[43m,\u001b[49m\u001b[43m \u001b[49m\u001b[43mlabels\u001b[49m\u001b[43m=\u001b[49m\u001b[43mparam_values\u001b[49m\u001b[43m)\u001b[49m\n\u001b[32m     35\u001b[39m ax.set_xlabel(param)\n\u001b[32m     36\u001b[39m ax.set_ylabel(\u001b[33m'\u001b[39m\u001b[33mValidation MPJPE (mm)\u001b[39m\u001b[33m'\u001b[39m)\n",
      "\u001b[36mFile \u001b[39m\u001b[32m~/miniconda3/envs/env2.0/lib/python3.12/site-packages/matplotlib/_api/deprecation.py:453\u001b[39m, in \u001b[36mmake_keyword_only.<locals>.wrapper\u001b[39m\u001b[34m(*args, **kwargs)\u001b[39m\n\u001b[32m    447\u001b[39m \u001b[38;5;28;01mif\u001b[39;00m \u001b[38;5;28mlen\u001b[39m(args) > name_idx:\n\u001b[32m    448\u001b[39m     warn_deprecated(\n\u001b[32m    449\u001b[39m         since, message=\u001b[33m\"\u001b[39m\u001b[33mPassing the \u001b[39m\u001b[38;5;132;01m%(name)s\u001b[39;00m\u001b[33m \u001b[39m\u001b[38;5;132;01m%(obj_type)s\u001b[39;00m\u001b[33m \u001b[39m\u001b[33m\"\u001b[39m\n\u001b[32m    450\u001b[39m         \u001b[33m\"\u001b[39m\u001b[33mpositionally is deprecated since Matplotlib \u001b[39m\u001b[38;5;132;01m%(since)s\u001b[39;00m\u001b[33m; the \u001b[39m\u001b[33m\"\u001b[39m\n\u001b[32m    451\u001b[39m         \u001b[33m\"\u001b[39m\u001b[33mparameter will become keyword-only in \u001b[39m\u001b[38;5;132;01m%(removal)s\u001b[39;00m\u001b[33m.\u001b[39m\u001b[33m\"\u001b[39m,\n\u001b[32m    452\u001b[39m         name=name, obj_type=\u001b[33mf\u001b[39m\u001b[33m\"\u001b[39m\u001b[33mparameter of \u001b[39m\u001b[38;5;132;01m{\u001b[39;00mfunc.\u001b[34m__name__\u001b[39m\u001b[38;5;132;01m}\u001b[39;00m\u001b[33m()\u001b[39m\u001b[33m\"\u001b[39m)\n\u001b[32m--> \u001b[39m\u001b[32m453\u001b[39m \u001b[38;5;28;01mreturn\u001b[39;00m \u001b[43mfunc\u001b[49m\u001b[43m(\u001b[49m\u001b[43m*\u001b[49m\u001b[43margs\u001b[49m\u001b[43m,\u001b[49m\u001b[43m \u001b[49m\u001b[43m*\u001b[49m\u001b[43m*\u001b[49m\u001b[43mkwargs\u001b[49m\u001b[43m)\u001b[49m\n",
      "\u001b[36mFile \u001b[39m\u001b[32m~/miniconda3/envs/env2.0/lib/python3.12/site-packages/matplotlib/__init__.py:1521\u001b[39m, in \u001b[36m_preprocess_data.<locals>.inner\u001b[39m\u001b[34m(ax, data, *args, **kwargs)\u001b[39m\n\u001b[32m   1518\u001b[39m \u001b[38;5;129m@functools\u001b[39m.wraps(func)\n\u001b[32m   1519\u001b[39m \u001b[38;5;28;01mdef\u001b[39;00m\u001b[38;5;250m \u001b[39m\u001b[34minner\u001b[39m(ax, *args, data=\u001b[38;5;28;01mNone\u001b[39;00m, **kwargs):\n\u001b[32m   1520\u001b[39m     \u001b[38;5;28;01mif\u001b[39;00m data \u001b[38;5;129;01mis\u001b[39;00m \u001b[38;5;28;01mNone\u001b[39;00m:\n\u001b[32m-> \u001b[39m\u001b[32m1521\u001b[39m         \u001b[38;5;28;01mreturn\u001b[39;00m \u001b[43mfunc\u001b[49m\u001b[43m(\u001b[49m\n\u001b[32m   1522\u001b[39m \u001b[43m            \u001b[49m\u001b[43max\u001b[49m\u001b[43m,\u001b[49m\n\u001b[32m   1523\u001b[39m \u001b[43m            \u001b[49m\u001b[43m*\u001b[49m\u001b[38;5;28;43mmap\u001b[39;49m\u001b[43m(\u001b[49m\u001b[43mcbook\u001b[49m\u001b[43m.\u001b[49m\u001b[43msanitize_sequence\u001b[49m\u001b[43m,\u001b[49m\u001b[43m \u001b[49m\u001b[43margs\u001b[49m\u001b[43m)\u001b[49m\u001b[43m,\u001b[49m\n\u001b[32m   1524\u001b[39m \u001b[43m            \u001b[49m\u001b[43m*\u001b[49m\u001b[43m*\u001b[49m\u001b[43m{\u001b[49m\u001b[43mk\u001b[49m\u001b[43m:\u001b[49m\u001b[43m \u001b[49m\u001b[43mcbook\u001b[49m\u001b[43m.\u001b[49m\u001b[43msanitize_sequence\u001b[49m\u001b[43m(\u001b[49m\u001b[43mv\u001b[49m\u001b[43m)\u001b[49m\u001b[43m \u001b[49m\u001b[38;5;28;43;01mfor\u001b[39;49;00m\u001b[43m \u001b[49m\u001b[43mk\u001b[49m\u001b[43m,\u001b[49m\u001b[43m \u001b[49m\u001b[43mv\u001b[49m\u001b[43m \u001b[49m\u001b[38;5;129;43;01min\u001b[39;49;00m\u001b[43m \u001b[49m\u001b[43mkwargs\u001b[49m\u001b[43m.\u001b[49m\u001b[43mitems\u001b[49m\u001b[43m(\u001b[49m\u001b[43m)\u001b[49m\u001b[43m}\u001b[49m\u001b[43m)\u001b[49m\n\u001b[32m   1526\u001b[39m     bound = new_sig.bind(ax, *args, **kwargs)\n\u001b[32m   1527\u001b[39m     auto_label = (bound.arguments.get(label_namer)\n\u001b[32m   1528\u001b[39m                   \u001b[38;5;129;01mor\u001b[39;00m bound.kwargs.get(label_namer))\n",
      "\u001b[36mFile \u001b[39m\u001b[32m~/miniconda3/envs/env2.0/lib/python3.12/site-packages/matplotlib/_api/deprecation.py:295\u001b[39m, in \u001b[36mrename_parameter.<locals>.wrapper\u001b[39m\u001b[34m(*args, **kwargs)\u001b[39m\n\u001b[32m    290\u001b[39m     warn_deprecated(\n\u001b[32m    291\u001b[39m         since, message=\u001b[33mf\u001b[39m\u001b[33m\"\u001b[39m\u001b[33mThe \u001b[39m\u001b[38;5;132;01m{\u001b[39;00mold\u001b[38;5;132;01m!r}\u001b[39;00m\u001b[33m parameter of \u001b[39m\u001b[38;5;132;01m{\u001b[39;00mfunc.\u001b[34m__name__\u001b[39m\u001b[38;5;132;01m}\u001b[39;00m\u001b[33m() \u001b[39m\u001b[33m\"\u001b[39m\n\u001b[32m    292\u001b[39m         \u001b[33mf\u001b[39m\u001b[33m\"\u001b[39m\u001b[33mhas been renamed \u001b[39m\u001b[38;5;132;01m{\u001b[39;00mnew\u001b[38;5;132;01m!r}\u001b[39;00m\u001b[33m since Matplotlib \u001b[39m\u001b[38;5;132;01m{\u001b[39;00msince\u001b[38;5;132;01m}\u001b[39;00m\u001b[33m; support \u001b[39m\u001b[33m\"\u001b[39m\n\u001b[32m    293\u001b[39m         \u001b[33mf\u001b[39m\u001b[33m\"\u001b[39m\u001b[33mfor the old name will be dropped in %(removal)s.\u001b[39m\u001b[33m\"\u001b[39m)\n\u001b[32m    294\u001b[39m     kwargs[new] = kwargs.pop(old)\n\u001b[32m--> \u001b[39m\u001b[32m295\u001b[39m \u001b[38;5;28;01mreturn\u001b[39;00m \u001b[43mfunc\u001b[49m\u001b[43m(\u001b[49m\u001b[43m*\u001b[49m\u001b[43margs\u001b[49m\u001b[43m,\u001b[49m\u001b[43m \u001b[49m\u001b[43m*\u001b[49m\u001b[43m*\u001b[49m\u001b[43mkwargs\u001b[49m\u001b[43m)\u001b[49m\n",
      "\u001b[36mFile \u001b[39m\u001b[32m~/miniconda3/envs/env2.0/lib/python3.12/site-packages/matplotlib/axes/_axes.py:4135\u001b[39m, in \u001b[36mAxes.boxplot\u001b[39m\u001b[34m(self, x, notch, sym, vert, orientation, whis, positions, widths, patch_artist, bootstrap, usermedians, conf_intervals, meanline, showmeans, showcaps, showbox, showfliers, boxprops, tick_labels, flierprops, medianprops, meanprops, capprops, whiskerprops, manage_ticks, autorange, zorder, capwidths, label)\u001b[39m\n\u001b[32m   4132\u001b[39m \u001b[38;5;28;01mif\u001b[39;00m bootstrap \u001b[38;5;129;01mis\u001b[39;00m \u001b[38;5;28;01mNone\u001b[39;00m:\n\u001b[32m   4133\u001b[39m     bootstrap = mpl.rcParams[\u001b[33m'\u001b[39m\u001b[33mboxplot.bootstrap\u001b[39m\u001b[33m'\u001b[39m]\n\u001b[32m-> \u001b[39m\u001b[32m4135\u001b[39m bxpstats = \u001b[43mcbook\u001b[49m\u001b[43m.\u001b[49m\u001b[43mboxplot_stats\u001b[49m\u001b[43m(\u001b[49m\u001b[43mx\u001b[49m\u001b[43m,\u001b[49m\u001b[43m \u001b[49m\u001b[43mwhis\u001b[49m\u001b[43m=\u001b[49m\u001b[43mwhis\u001b[49m\u001b[43m,\u001b[49m\u001b[43m \u001b[49m\u001b[43mbootstrap\u001b[49m\u001b[43m=\u001b[49m\u001b[43mbootstrap\u001b[49m\u001b[43m,\u001b[49m\n\u001b[32m   4136\u001b[39m \u001b[43m                               \u001b[49m\u001b[43mlabels\u001b[49m\u001b[43m=\u001b[49m\u001b[43mtick_labels\u001b[49m\u001b[43m,\u001b[49m\u001b[43m \u001b[49m\u001b[43mautorange\u001b[49m\u001b[43m=\u001b[49m\u001b[43mautorange\u001b[49m\u001b[43m)\u001b[49m\n\u001b[32m   4137\u001b[39m \u001b[38;5;28;01mif\u001b[39;00m notch \u001b[38;5;129;01mis\u001b[39;00m \u001b[38;5;28;01mNone\u001b[39;00m:\n\u001b[32m   4138\u001b[39m     notch = mpl.rcParams[\u001b[33m'\u001b[39m\u001b[33mboxplot.notch\u001b[39m\u001b[33m'\u001b[39m]\n",
      "\u001b[36mFile \u001b[39m\u001b[32m~/miniconda3/envs/env2.0/lib/python3.12/site-packages/matplotlib/cbook.py:1252\u001b[39m, in \u001b[36mboxplot_stats\u001b[39m\u001b[34m(X, whis, bootstrap, labels, autorange)\u001b[39m\n\u001b[32m   1249\u001b[39m x = x.data[~x.mask].ravel()\n\u001b[32m   1251\u001b[39m \u001b[38;5;66;03m# arithmetic mean\u001b[39;00m\n\u001b[32m-> \u001b[39m\u001b[32m1252\u001b[39m stats[\u001b[33m'\u001b[39m\u001b[33mmean\u001b[39m\u001b[33m'\u001b[39m] = \u001b[43mnp\u001b[49m\u001b[43m.\u001b[49m\u001b[43mmean\u001b[49m\u001b[43m(\u001b[49m\u001b[43mx\u001b[49m\u001b[43m)\u001b[49m\n\u001b[32m   1254\u001b[39m \u001b[38;5;66;03m# medians and quartiles\u001b[39;00m\n\u001b[32m   1255\u001b[39m q1, med, q3 = np.percentile(x, [\u001b[32m25\u001b[39m, \u001b[32m50\u001b[39m, \u001b[32m75\u001b[39m])\n",
      "\u001b[36mFile \u001b[39m\u001b[32m~/miniconda3/envs/env2.0/lib/python3.12/site-packages/numpy/_core/fromnumeric.py:3904\u001b[39m, in \u001b[36mmean\u001b[39m\u001b[34m(a, axis, dtype, out, keepdims, where)\u001b[39m\n\u001b[32m   3901\u001b[39m     \u001b[38;5;28;01melse\u001b[39;00m:\n\u001b[32m   3902\u001b[39m         \u001b[38;5;28;01mreturn\u001b[39;00m mean(axis=axis, dtype=dtype, out=out, **kwargs)\n\u001b[32m-> \u001b[39m\u001b[32m3904\u001b[39m \u001b[38;5;28;01mreturn\u001b[39;00m \u001b[43m_methods\u001b[49m\u001b[43m.\u001b[49m\u001b[43m_mean\u001b[49m\u001b[43m(\u001b[49m\u001b[43ma\u001b[49m\u001b[43m,\u001b[49m\u001b[43m \u001b[49m\u001b[43maxis\u001b[49m\u001b[43m=\u001b[49m\u001b[43maxis\u001b[49m\u001b[43m,\u001b[49m\u001b[43m \u001b[49m\u001b[43mdtype\u001b[49m\u001b[43m=\u001b[49m\u001b[43mdtype\u001b[49m\u001b[43m,\u001b[49m\n\u001b[32m   3905\u001b[39m \u001b[43m                      \u001b[49m\u001b[43mout\u001b[49m\u001b[43m=\u001b[49m\u001b[43mout\u001b[49m\u001b[43m,\u001b[49m\u001b[43m \u001b[49m\u001b[43m*\u001b[49m\u001b[43m*\u001b[49m\u001b[43mkwargs\u001b[49m\u001b[43m)\u001b[49m\n",
      "\u001b[36mFile \u001b[39m\u001b[32m~/miniconda3/envs/env2.0/lib/python3.12/site-packages/numpy/_core/_methods.py:136\u001b[39m, in \u001b[36m_mean\u001b[39m\u001b[34m(a, axis, dtype, out, keepdims, where)\u001b[39m\n\u001b[32m    133\u001b[39m         dtype = mu.dtype(\u001b[33m'\u001b[39m\u001b[33mf4\u001b[39m\u001b[33m'\u001b[39m)\n\u001b[32m    134\u001b[39m         is_float16_result = \u001b[38;5;28;01mTrue\u001b[39;00m\n\u001b[32m--> \u001b[39m\u001b[32m136\u001b[39m ret = \u001b[43mumr_sum\u001b[49m\u001b[43m(\u001b[49m\u001b[43marr\u001b[49m\u001b[43m,\u001b[49m\u001b[43m \u001b[49m\u001b[43maxis\u001b[49m\u001b[43m,\u001b[49m\u001b[43m \u001b[49m\u001b[43mdtype\u001b[49m\u001b[43m,\u001b[49m\u001b[43m \u001b[49m\u001b[43mout\u001b[49m\u001b[43m,\u001b[49m\u001b[43m \u001b[49m\u001b[43mkeepdims\u001b[49m\u001b[43m,\u001b[49m\u001b[43m \u001b[49m\u001b[43mwhere\u001b[49m\u001b[43m=\u001b[49m\u001b[43mwhere\u001b[49m\u001b[43m)\u001b[49m\n\u001b[32m    137\u001b[39m \u001b[38;5;28;01mif\u001b[39;00m \u001b[38;5;28misinstance\u001b[39m(ret, mu.ndarray):\n\u001b[32m    138\u001b[39m     \u001b[38;5;28;01mwith\u001b[39;00m _no_nep50_warning():\n",
      "\u001b[31mTypeError\u001b[39m: unsupported operand type(s) for +: 'float' and 'str'"
     ]
    },
    {
     "data": {
      "image/png": "[encoded data removed]",
      "text/plain": [
       "<Figure size 1500x1200 with 9 Axes>"
      ]
     },
     "metadata": {},
     "output_type": "display_data"
    },
    {
     "ename": "",
     "evalue": "",
     "output_type": "error",
     "traceback": [
      "\u001b[1;31mThe Kernel crashed while executing code in the current cell or a previous cell. \n",
      "\u001b[1;31mPlease review the code in the cell(s) to identify a possible cause of the failure. \n",
      "\u001b[1;31mClick <a href='https://aka.ms/vscodeJupyterKernelCrash'>here</a> for more info. \n",
      "\u001b[1;31mView Jupyter <a href='command:jupyter.viewOutput'>log</a> for further details."
     ]
    }
   ],
   "source": [
    "# Visualize parameter importance\n",
    "import matplotlib.pyplot as plt\n",
    "import pandas as pd\n",
    "\n",
    "# Get all runs\n",
    "runs = sweep.runs\n",
    "data = []\n",
    "\n",
    "for run in runs:\n",
    "    if 'val/hand_mpjpe' in run.summary:\n",
    "        config = dict(run.config)\n",
    "        config['val_mpjpe'] = run.summary['val/hand_mpjpe']\n",
    "        data.append(config)\n",
    "\n",
    "df = pd.DataFrame(data)\n",
    "\n",
    "# Plot correlation of key parameters with performance\n",
    "fig, axes = plt.subplots(3, 3, figsize=(15, 12))\n",
    "axes = axes.flatten()\n",
    "\n",
    "key_params = ['learning_rate', 'batch_size', 'dropout', 'loss_weight_diversity', \n",
    "              'aug_rotation_range', 'diversity_margin', 'fingertip_weight',\n",
    "              'scheduler_type', 'per_joint_weighting']\n",
    "\n",
    "for i, param in enumerate(key_params):\n",
    "    if param in df.columns:\n",
    "        ax = axes[i]\n",
    "        if param in ['scheduler_type', 'per_joint_weighting']:\n",
    "            # Categorical parameters\n",
    "            param_values = df[param].unique()\n",
    "            mpjpe_by_param = []\n",
    "            for val in param_values:\n",
    "                mpjpe_by_param.append(df[df[param] == val]['val_mpjpe'].values)\n",
    "            ax.boxplot(mpjpe_by_param, labels=param_values)\n",
    "            ax.set_xlabel(param)\n",
    "            ax.set_ylabel('Validation MPJPE (mm)')\n",
    "            ax.set_title(f'{param} vs Performance')\n",
    "        else:\n",
    "            # Continuous parameters\n",
    "            ax.scatter(df[param], df['val_mpjpe'], alpha=0.6)\n",
    "            ax.set_xlabel(param)\n",
    "            ax.set_ylabel('Validation MPJPE (mm)')\n",
    "            ax.set_title(f'{param} vs Performance')\n",
    "            ax.grid(True, alpha=0.3)\n",
    "\n",
    "plt.tight_layout()\n",
    "plt.suptitle('Hyperparameter Impact on Performance', y=1.02)\n",
    "plt.show()\n",
    "\n",
    "# Print summary statistics\n",
    "print(\"\\nSummary Statistics:\")\n",
    "print(f\"Total runs: {len(df)}\")\n",
    "print(f\"Best MPJPE: {df['val_mpjpe'].min():.2f} mm\")\n",
    "print(f\"Worst MPJPE: {df['val_mpjpe'].max():.2f} mm\")\n",
    "print(f\"Mean MPJPE: {df['val_mpjpe'].mean():.2f} mm\")\n",
    "print(f\"Std MPJPE: {df['val_mpjpe'].std():.2f} mm\")\n",
    "\n",
    "# Print best batch size analysis\n",
    "if 'batch_size' in df.columns:\n",
    "    print(\"\\nBatch Size Analysis:\")\n",
    "    batch_size_stats = df.groupby('batch_size')['val_mpjpe'].agg(['mean', 'std', 'min', 'count'])\n",
    "    print(batch_size_stats)"
   ]
  },
  {
   "cell_type": "markdown",
   "metadata": {},
   "source": [
    "## 6. Export Best Configuration"
   ]
  },
  {
   "cell_type": "code",
   "execution_count": null,
   "metadata": {},
   "outputs": [],
   "source": [
    "# Export best configuration for future use\n",
    "best_config = dict(best_run.config)\n",
    "\n",
    "# Create optimized configuration file\n",
    "optimized_config = OmegaConf.load('../configs/default_config.yaml')\n",
    "\n",
    "# Update with best parameters\n",
    "optimized_config.training.learning_rate = best_config['learning_rate']\n",
    "optimized_config.model.dropout = best_config['dropout']\n",
    "\n",
    "# Update augmentation\n",
    "optimized_config.data.augmentation.rotation_range = best_config['aug_rotation_range']\n",
    "optimized_config.data.augmentation.scale_range = [\n",
    "    best_config['aug_scale_min'],\n",
    "    best_config['aug_scale_max']\n",
    "]\n",
    "optimized_config.data.augmentation.translation_std = best_config['aug_translation_std']\n",
    "optimized_config.data.augmentation.color_jitter = best_config['aug_color_jitter']\n",
    "optimized_config.data.augmentation.joint_noise_std = best_config['aug_joint_noise_std']\n",
    "\n",
    "# Update loss weights\n",
    "for key in best_config:\n",
    "    if key.startswith('loss_weight_'):\n",
    "        loss_key = key.replace('loss_weight_', '')\n",
    "        optimized_config.loss.loss_weights[loss_key] = best_config[key]\n",
    "\n",
    "# Update other loss configs\n",
    "optimized_config.loss.diversity_margin = best_config['diversity_margin']\n",
    "optimized_config.loss.per_joint_weighting = best_config['per_joint_weighting']\n",
    "optimized_config.loss.fingertip_weight = best_config['fingertip_weight']\n",
    "\n",
    "# Save optimized configuration\n",
    "OmegaConf.save(optimized_config, '../configs/optimized_config.yaml')\n",
    "\n",
    "print(\"Optimized configuration saved to configs/optimized_config.yaml\")\n",
    "print(\"\\nYou can now use this configuration for training:\")\n",
    "print(\"python train_advanced.py --config configs/optimized_config.yaml\")"
   ]
  },
  {
   "cell_type": "markdown",
   "metadata": {},
   "source": [
    "## Summary\n",
    "\n",
    "This notebook implemented a comprehensive W&B sweep for hyperparameter optimization of the Advanced Manipulation Transformer, focusing on:\n",
    "\n",
    "1. **Augmentation parameters**: rotation, scale, translation, color jitter, joint noise\n",
    "2. **Model parameters**: dropout, learning rate\n",
    "3. **Scheduler options**: cosine, cosine with warmup, step, exponential\n",
    "4. **Loss weights**: all major loss components\n",
    "5. **Loss configuration**: diversity margin, per-joint weighting, fingertip weight\n",
    "\n",
    "The sweep was configured to run each experiment for:\n",
    "- 7 epochs\n",
    "- 20,000 training samples\n",
    "- 2,000 validation samples\n",
    "\n",
    "Results are automatically tracked in W&B, and the best configuration is exported for future use."
   ]
  }
 ],
 "metadata": {
  "kernelspec": {
   "display_name": "env2.0",
   "language": "python",
   "name": "python3"
  },
  "language_info": {
   "codemirror_mode": {
    "name": "ipython",
    "version": 3
   },
   "file_extension": ".py",
   "mimetype": "text/x-python",
   "name": "python",
   "nbconvert_exporter": "python",
   "pygments_lexer": "ipython3",
   "version": "3.12.9"
  }
 },
 "nbformat": 4,
 "nbformat_minor": 4
}
